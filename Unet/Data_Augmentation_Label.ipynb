{
 "cells": [
  {
   "cell_type": "code",
   "execution_count": 4,
   "metadata": {
    "collapsed": true
   },
   "outputs": [],
   "source": [
    "from tf_unet import unet, util, image_util\n",
    "import glob\n",
    "import cv2\n",
    "import matplotlib.pyplot as plt\n",
    "import numpy as np\n",
    "#import scipy\n",
    "from scipy import misc\n",
    "%matplotlib inline"
   ]
  },
  {
   "cell_type": "code",
   "execution_count": 5,
   "metadata": {},
   "outputs": [
    {
     "name": "stdout",
     "output_type": "stream",
     "text": [
      "Loading training dataset...\n",
      "\n"
     ]
    }
   ],
   "source": [
    "DATA_ROOT = \"/Users/cesare.chung/int/01_CODE_UNET/NEW2/\"\n",
    "#\n",
    "# Training\n",
    "#\n",
    "masks_dir = sorted(glob.glob(DATA_ROOT+\"/trainData_tftf/resize2/*_manual1_resized_mask.gif\"))\n",
    "imgs_dir  = sorted(glob.glob(DATA_ROOT+\"/trainData_tftf/resize2/*_training_resized_training.tif\"))\n",
    "\n",
    "# Import data\n",
    "print('Loading training dataset...\\n')\n",
    "\n",
    "X_data=[]\n",
    "for index,entry in enumerate(imgs_dir):\n",
    "    img = misc.imread(entry)\n",
    "    X_data.append(img)\n",
    "\n",
    "Y_data=[]\n",
    "for index,entry in enumerate(masks_dir):\n",
    "    img = misc.imread(entry)\n",
    "    Y_data.append(img)\n",
    "\n",
    "#\n",
    "X_data=np.array(X_data)\n",
    "Y_data=np.array(Y_data)\n",
    "#"
   ]
  },
  {
   "cell_type": "code",
   "execution_count": 6,
   "metadata": {},
   "outputs": [
    {
     "name": "stdout",
     "output_type": "stream",
     "text": [
      "Loading testing dataset...\n",
      "\n"
     ]
    }
   ],
   "source": [
    "#\n",
    "masks_Testing = sorted(glob.glob(DATA_ROOT+\"/testData_tftf/resize2/*_manual1_resized_mask.gif\"))\n",
    "imgs_Testing  = sorted(glob.glob(DATA_ROOT+\"/testData_tftf/resize2/*_test_resized_testing.tif\"))\n",
    "\n",
    "# Import data\n",
    "print('Loading testing dataset...\\n')\n",
    "\n",
    "X_test=[]\n",
    "for index,entry in enumerate(imgs_Testing):\n",
    "    img = misc.imread(entry)\n",
    "    X_test.append(img)\n",
    "\n",
    "Y_test=[]\n",
    "for index,entry in enumerate(masks_Testing):\n",
    "    img = misc.imread(entry)\n",
    "    Y_test.append(img)\n",
    "\n",
    "#\n",
    "X_test=np.array(X_test)\n",
    "Y_test=np.array(Y_test)\n",
    "#"
   ]
  },
  {
   "cell_type": "code",
   "execution_count": 7,
   "metadata": {},
   "outputs": [
    {
     "name": "stdout",
     "output_type": "stream",
     "text": [
      "TRAIN data  shape: (20, 460, 460, 3)\n",
      "TRAIN label shape: (20, 460, 460)\n",
      "TEST  data  shape: (20, 460, 460, 3)\n",
      "TEST  label shape: (20, 460, 460)\n"
     ]
    }
   ],
   "source": [
    "print(\"TRAIN data  shape:\", X_data.shape)\n",
    "print(\"TRAIN label shape:\", Y_data.shape)\n",
    "\n",
    "print(\"TEST  data  shape:\", X_test.shape)\n",
    "print(\"TEST  label shape:\", Y_test.shape)"
   ]
  },
  {
   "cell_type": "code",
   "execution_count": 8,
   "metadata": {
    "collapsed": true
   },
   "outputs": [],
   "source": [
    "#############################################\n",
    "# Label                                     #\n",
    "#############################################"
   ]
  },
  {
   "cell_type": "code",
   "execution_count": 9,
   "metadata": {},
   "outputs": [
    {
     "name": "stdout",
     "output_type": "stream",
     "text": [
      "TRAIN label shape: (20, 460, 460)\n",
      "TEST  label shape: (20, 460, 460)\n"
     ]
    }
   ],
   "source": [
    "print(\"TRAIN label shape:\", Y_data.shape)\n",
    "print(\"TEST  label shape:\", Y_test.shape)"
   ]
  },
  {
   "cell_type": "code",
   "execution_count": 10,
   "metadata": {
    "collapsed": true
   },
   "outputs": [],
   "source": [
    "X_data = X_data.reshape(X_data.shape[0], 3, 460, 460)\n",
    "X_test = X_test.reshape(X_test.shape[0], 3, 460, 460)"
   ]
  },
  {
   "cell_type": "code",
   "execution_count": 14,
   "metadata": {},
   "outputs": [
    {
     "name": "stderr",
     "output_type": "stream",
     "text": [
      "/anaconda/envs/py35/lib/python3.5/site-packages/keras/preprocessing/image.py:648: UserWarning: Expected input to be images (as Numpy array) following the data format convention \"channels_first\" (channels on axis 1), i.e. expected either 1, 3 or 4 channels on axis 1. However, it was passed an array with shape (20, 1, 460, 460) (1 channels).\n",
      "  ' (' + str(x.shape[self.channel_axis]) + ' channels).')\n"
     ]
    },
    {
     "data": {
      "image/png": "[encoded data removed]",
      "text/plain": [
       "<matplotlib.figure.Figure at 0x12fef7c18>"
      ]
     },
     "metadata": {},
     "output_type": "display_data"
    }
   ],
   "source": [
    "from keras.datasets import mnist\n",
    "from keras.preprocessing.image import ImageDataGenerator\n",
    "from matplotlib import pyplot\n",
    "from keras import backend as K\n",
    "K.set_image_dim_ordering('th')\n",
    "#\n",
    "# reshape to be [samples][pixels][width][height]\n",
    "Y_data = Y_data.reshape(Y_data.shape[0], 1, 460, 460)\n",
    "Y_test = Y_test.reshape(Y_test.shape[0], 1, 460, 460)\n",
    "#\n",
    "Y_data = Y_data.astype(np.bool)\n",
    "Y_test = Y_test.astype(np.bool)\n",
    "#\n",
    "# Standardize images across the dataset, mean=0, stdev=1\n",
    "datagen = ImageDataGenerator(featurewise_center=True, featurewise_std_normalization=True)\n",
    "#\n",
    "# Random Rotations\n",
    "datagen = ImageDataGenerator(rotation_range=90)\n",
    "#\n",
    "# Random Shifts\n",
    "shift = 0.9\n",
    "datagen = ImageDataGenerator(width_shift_range=shift, height_shift_range=shift)\n",
    "#\n",
    "# Random Flips\n",
    "#datagen = ImageDataGenerator(horizontal_flip=True, vertical_flip=True)\n",
    "#\n",
    "# fit parameters from data\n",
    "datagen.fit(Y_data)\n",
    "# configure batch size and retrieve one batch of images\n",
    "for X_batch, y_batch in datagen.flow(X_data, Y_data, batch_size=9):\n",
    "    # create a grid of 3x3 images\n",
    "    for i in range(0, 9):\n",
    "        pyplot.subplot(330 + 1 + i)\n",
    "        pyplot.imshow(y_batch[i].reshape(460,460), cmap=pyplot.get_cmap('gray'))\n",
    "    # show the plot\n",
    "    pyplot.show()\n",
    "    break"
   ]
  },
  {
   "cell_type": "code",
   "execution_count": 15,
   "metadata": {},
   "outputs": [
    {
     "name": "stdout",
     "output_type": "stream",
     "text": [
      "TRAIN data  shape: (20, 3, 460, 460)\n",
      "TRAIN label shape: (20, 1, 460, 460)\n",
      "TEST  data  shape: (20, 3, 460, 460)\n",
      "TEST  label shape: (20, 1, 460, 460)\n"
     ]
    }
   ],
   "source": [
    "print(\"TRAIN data  shape:\", X_data.shape)\n",
    "print(\"TRAIN label shape:\", Y_data.shape)\n",
    "print(\"TEST  data  shape:\", X_test.shape)\n",
    "print(\"TEST  label shape:\", Y_test.shape)"
   ]
  },
  {
   "cell_type": "code",
   "execution_count": null,
   "metadata": {
    "collapsed": true
   },
   "outputs": [],
   "source": []
  },
  {
   "cell_type": "code",
   "execution_count": null,
   "metadata": {
    "collapsed": true
   },
   "outputs": [],
   "source": []
  }
 ],
 "metadata": {
  "kernelspec": {
   "display_name": "Python 3",
   "language": "python",
   "name": "python3"
  },
  "language_info": {
   "codemirror_mode": {
    "name": "ipython",
    "version": 3
   },
   "file_extension": ".py",
   "mimetype": "text/x-python",
   "name": "python",
   "nbconvert_exporter": "python",
   "pygments_lexer": "ipython3",
   "version": "3.5.3"
  }
 },
 "nbformat": 4,
 "nbformat_minor": 2
}
