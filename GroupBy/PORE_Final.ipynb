{
 "cells": [
  {
   "cell_type": "code",
   "execution_count": 1,
   "metadata": {
    "collapsed": true
   },
   "outputs": [],
   "source": [
    "from pandas import DataFrame\n",
    "import pandas as pd\n",
    "import numpy as np"
   ]
  },
  {
   "cell_type": "code",
   "execution_count": 2,
   "metadata": {},
   "outputs": [
    {
     "name": "stdout",
     "output_type": "stream",
     "text": [
      "/Users/cesare.chung/Downloads/AR\n"
     ]
    }
   ],
   "source": [
    "import os;\n",
    "os.chdir(\"/Users/cesare.chung/Downloads/AR/\")\n",
    "\n",
    "print (os.getcwd());"
   ]
  },
  {
   "cell_type": "code",
   "execution_count": 3,
   "metadata": {
    "collapsed": true
   },
   "outputs": [],
   "source": [
    "int_data  = pd.read_csv(\"Temp.csv\")"
   ]
  },
  {
   "cell_type": "markdown",
   "metadata": {},
   "source": [
    "# Preprocess"
   ]
  },
  {
   "cell_type": "code",
   "execution_count": 4,
   "metadata": {},
   "outputs": [
    {
     "data": {
      "text/html": [
       "<div>\n",
       "<style>\n",
       "    .dataframe thead tr:only-child th {\n",
       "        text-align: right;\n",
       "    }\n",
       "\n",
       "    .dataframe thead th {\n",
       "        text-align: left;\n",
       "    }\n",
       "\n",
       "    .dataframe tbody tr th {\n",
       "        vertical-align: top;\n",
       "    }\n",
       "</style>\n",
       "<table border=\"1\" class=\"dataframe\">\n",
       "  <thead>\n",
       "    <tr style=\"text-align: right;\">\n",
       "      <th></th>\n",
       "      <th>Topics</th>\n",
       "      <th>Name</th>\n",
       "      <th>Score</th>\n",
       "      <th>Strategy</th>\n",
       "      <th>Innovation</th>\n",
       "      <th>Member</th>\n",
       "      <th>Resource</th>\n",
       "      <th>Complete</th>\n",
       "      <th>Report</th>\n",
       "      <th>Section</th>\n",
       "    </tr>\n",
       "  </thead>\n",
       "  <tbody>\n",
       "    <tr>\n",
       "      <th>0</th>\n",
       "      <td>背板製程開發</td>\n",
       "      <td>YT1</td>\n",
       "      <td>82.95</td>\n",
       "      <td>89.17</td>\n",
       "      <td>70.0</td>\n",
       "      <td>81.67</td>\n",
       "      <td>76.67</td>\n",
       "      <td>77.5</td>\n",
       "      <td>7.98</td>\n",
       "      <td>S</td>\n",
       "    </tr>\n",
       "  </tbody>\n",
       "</table>\n",
       "</div>"
      ],
      "text/plain": [
       "   Topics Name  Score  Strategy  Innovation  Member  Resource  Complete  \\\n",
       "0  背板製程開發  YT1  82.95     89.17        70.0   81.67     76.67      77.5   \n",
       "\n",
       "   Report Section  \n",
       "0    7.98       S  "
      ]
     },
     "execution_count": 4,
     "metadata": {},
     "output_type": "execute_result"
    }
   ],
   "source": [
    "int_data.head(1)"
   ]
  },
  {
   "cell_type": "code",
   "execution_count": 5,
   "metadata": {
    "collapsed": true
   },
   "outputs": [],
   "source": [
    "int_data.drop('Topics', axis=1, inplace=True)"
   ]
  },
  {
   "cell_type": "code",
   "execution_count": 6,
   "metadata": {
    "collapsed": true
   },
   "outputs": [],
   "source": [
    "int_data = int_data[[\"Name\",\"Score\",\"Strategy\",\"Innovation\",\"Member\",\"Resource\",\"Report\",\"Section\"]]"
   ]
  },
  {
   "cell_type": "code",
   "execution_count": 7,
   "metadata": {},
   "outputs": [
    {
     "data": {
      "text/html": [
       "<div>\n",
       "<style>\n",
       "    .dataframe thead tr:only-child th {\n",
       "        text-align: right;\n",
       "    }\n",
       "\n",
       "    .dataframe thead th {\n",
       "        text-align: left;\n",
       "    }\n",
       "\n",
       "    .dataframe tbody tr th {\n",
       "        vertical-align: top;\n",
       "    }\n",
       "</style>\n",
       "<table border=\"1\" class=\"dataframe\">\n",
       "  <thead>\n",
       "    <tr style=\"text-align: right;\">\n",
       "      <th></th>\n",
       "      <th>Name</th>\n",
       "      <th>Score</th>\n",
       "      <th>Strategy</th>\n",
       "      <th>Innovation</th>\n",
       "      <th>Member</th>\n",
       "      <th>Resource</th>\n",
       "      <th>Report</th>\n",
       "      <th>Section</th>\n",
       "    </tr>\n",
       "  </thead>\n",
       "  <tbody>\n",
       "    <tr>\n",
       "      <th>0</th>\n",
       "      <td>YT1</td>\n",
       "      <td>82.95</td>\n",
       "      <td>89.17</td>\n",
       "      <td>70.00</td>\n",
       "      <td>81.67</td>\n",
       "      <td>76.67</td>\n",
       "      <td>7.98</td>\n",
       "      <td>S</td>\n",
       "    </tr>\n",
       "    <tr>\n",
       "      <th>1</th>\n",
       "      <td>Liam</td>\n",
       "      <td>79.34</td>\n",
       "      <td>88.83</td>\n",
       "      <td>52.50</td>\n",
       "      <td>86.67</td>\n",
       "      <td>60.00</td>\n",
       "      <td>7.34</td>\n",
       "      <td>S</td>\n",
       "    </tr>\n",
       "    <tr>\n",
       "      <th>2</th>\n",
       "      <td>YC</td>\n",
       "      <td>76.13</td>\n",
       "      <td>86.67</td>\n",
       "      <td>63.33</td>\n",
       "      <td>66.67</td>\n",
       "      <td>55.00</td>\n",
       "      <td>6.48</td>\n",
       "      <td>S</td>\n",
       "    </tr>\n",
       "    <tr>\n",
       "      <th>3</th>\n",
       "      <td>Catherine</td>\n",
       "      <td>76.14</td>\n",
       "      <td>85.83</td>\n",
       "      <td>61.67</td>\n",
       "      <td>64.17</td>\n",
       "      <td>68.33</td>\n",
       "      <td>6.78</td>\n",
       "      <td>D</td>\n",
       "    </tr>\n",
       "    <tr>\n",
       "      <th>4</th>\n",
       "      <td>Moro</td>\n",
       "      <td>74.96</td>\n",
       "      <td>85.83</td>\n",
       "      <td>62.50</td>\n",
       "      <td>65.00</td>\n",
       "      <td>60.83</td>\n",
       "      <td>6.08</td>\n",
       "      <td>S</td>\n",
       "    </tr>\n",
       "    <tr>\n",
       "      <th>5</th>\n",
       "      <td>YT2</td>\n",
       "      <td>79.46</td>\n",
       "      <td>84.17</td>\n",
       "      <td>70.83</td>\n",
       "      <td>80.00</td>\n",
       "      <td>78.33</td>\n",
       "      <td>7.71</td>\n",
       "      <td>S</td>\n",
       "    </tr>\n",
       "    <tr>\n",
       "      <th>6</th>\n",
       "      <td>James</td>\n",
       "      <td>72.03</td>\n",
       "      <td>83.33</td>\n",
       "      <td>51.67</td>\n",
       "      <td>50.00</td>\n",
       "      <td>35.00</td>\n",
       "      <td>6.79</td>\n",
       "      <td>Eco</td>\n",
       "    </tr>\n",
       "    <tr>\n",
       "      <th>7</th>\n",
       "      <td>KS</td>\n",
       "      <td>73.73</td>\n",
       "      <td>80.00</td>\n",
       "      <td>60.83</td>\n",
       "      <td>67.50</td>\n",
       "      <td>78.33</td>\n",
       "      <td>7.34</td>\n",
       "      <td>D</td>\n",
       "    </tr>\n",
       "    <tr>\n",
       "      <th>8</th>\n",
       "      <td>Angela</td>\n",
       "      <td>68.46</td>\n",
       "      <td>77.50</td>\n",
       "      <td>56.00</td>\n",
       "      <td>66.67</td>\n",
       "      <td>38.33</td>\n",
       "      <td>6.65</td>\n",
       "      <td>D</td>\n",
       "    </tr>\n",
       "    <tr>\n",
       "      <th>9</th>\n",
       "      <td>Daniel</td>\n",
       "      <td>60.40</td>\n",
       "      <td>77.50</td>\n",
       "      <td>25.00</td>\n",
       "      <td>51.67</td>\n",
       "      <td>46.67</td>\n",
       "      <td>4.55</td>\n",
       "      <td>S</td>\n",
       "    </tr>\n",
       "    <tr>\n",
       "      <th>10</th>\n",
       "      <td>Hugh</td>\n",
       "      <td>61.02</td>\n",
       "      <td>75.83</td>\n",
       "      <td>23.33</td>\n",
       "      <td>53.33</td>\n",
       "      <td>41.67</td>\n",
       "      <td>5.00</td>\n",
       "      <td>D</td>\n",
       "    </tr>\n",
       "    <tr>\n",
       "      <th>11</th>\n",
       "      <td>HM2</td>\n",
       "      <td>64.98</td>\n",
       "      <td>75.83</td>\n",
       "      <td>30.00</td>\n",
       "      <td>46.67</td>\n",
       "      <td>46.67</td>\n",
       "      <td>7.50</td>\n",
       "      <td>S</td>\n",
       "    </tr>\n",
       "    <tr>\n",
       "      <th>12</th>\n",
       "      <td>SM</td>\n",
       "      <td>62.33</td>\n",
       "      <td>74.17</td>\n",
       "      <td>35.00</td>\n",
       "      <td>66.67</td>\n",
       "      <td>53.33</td>\n",
       "      <td>5.33</td>\n",
       "      <td>S</td>\n",
       "    </tr>\n",
       "    <tr>\n",
       "      <th>13</th>\n",
       "      <td>Cesare</td>\n",
       "      <td>56.70</td>\n",
       "      <td>64.17</td>\n",
       "      <td>30.00</td>\n",
       "      <td>45.00</td>\n",
       "      <td>38.33</td>\n",
       "      <td>6.15</td>\n",
       "      <td>S</td>\n",
       "    </tr>\n",
       "    <tr>\n",
       "      <th>14</th>\n",
       "      <td>Javier</td>\n",
       "      <td>61.05</td>\n",
       "      <td>59.17</td>\n",
       "      <td>55.00</td>\n",
       "      <td>80.00</td>\n",
       "      <td>63.33</td>\n",
       "      <td>6.58</td>\n",
       "      <td>S</td>\n",
       "    </tr>\n",
       "    <tr>\n",
       "      <th>15</th>\n",
       "      <td>Killer</td>\n",
       "      <td>56.25</td>\n",
       "      <td>57.50</td>\n",
       "      <td>37.50</td>\n",
       "      <td>74.17</td>\n",
       "      <td>51.67</td>\n",
       "      <td>6.34</td>\n",
       "      <td>S</td>\n",
       "    </tr>\n",
       "    <tr>\n",
       "      <th>16</th>\n",
       "      <td>JK</td>\n",
       "      <td>50.67</td>\n",
       "      <td>43.33</td>\n",
       "      <td>37.50</td>\n",
       "      <td>67.50</td>\n",
       "      <td>71.67</td>\n",
       "      <td>6.55</td>\n",
       "      <td>D</td>\n",
       "    </tr>\n",
       "    <tr>\n",
       "      <th>17</th>\n",
       "      <td>HM1</td>\n",
       "      <td>0.00</td>\n",
       "      <td>0.00</td>\n",
       "      <td>0.00</td>\n",
       "      <td>0.00</td>\n",
       "      <td>0.00</td>\n",
       "      <td>0.00</td>\n",
       "      <td>S</td>\n",
       "    </tr>\n",
       "  </tbody>\n",
       "</table>\n",
       "</div>"
      ],
      "text/plain": [
       "         Name  Score  Strategy  Innovation  Member  Resource  Report Section\n",
       "0         YT1  82.95     89.17       70.00   81.67     76.67    7.98       S\n",
       "1        Liam  79.34     88.83       52.50   86.67     60.00    7.34       S\n",
       "2          YC  76.13     86.67       63.33   66.67     55.00    6.48       S\n",
       "3   Catherine  76.14     85.83       61.67   64.17     68.33    6.78       D\n",
       "4        Moro  74.96     85.83       62.50   65.00     60.83    6.08       S\n",
       "5         YT2  79.46     84.17       70.83   80.00     78.33    7.71       S\n",
       "6       James  72.03     83.33       51.67   50.00     35.00    6.79     Eco\n",
       "7          KS  73.73     80.00       60.83   67.50     78.33    7.34       D\n",
       "8      Angela  68.46     77.50       56.00   66.67     38.33    6.65       D\n",
       "9      Daniel  60.40     77.50       25.00   51.67     46.67    4.55       S\n",
       "10       Hugh  61.02     75.83       23.33   53.33     41.67    5.00       D\n",
       "11        HM2  64.98     75.83       30.00   46.67     46.67    7.50       S\n",
       "12         SM  62.33     74.17       35.00   66.67     53.33    5.33       S\n",
       "13     Cesare  56.70     64.17       30.00   45.00     38.33    6.15       S\n",
       "14     Javier  61.05     59.17       55.00   80.00     63.33    6.58       S\n",
       "15     Killer  56.25     57.50       37.50   74.17     51.67    6.34       S\n",
       "16         JK  50.67     43.33       37.50   67.50     71.67    6.55       D\n",
       "17        HM1   0.00      0.00        0.00    0.00      0.00    0.00       S"
      ]
     },
     "execution_count": 7,
     "metadata": {},
     "output_type": "execute_result"
    }
   ],
   "source": [
    "int_data2 = int_data\n",
    "int_data2.head(18)"
   ]
  },
  {
   "cell_type": "code",
   "execution_count": 8,
   "metadata": {},
   "outputs": [
    {
     "data": {
      "text/plain": [
       "Name          8\n",
       "Score         8\n",
       "Strategy      8\n",
       "Innovation    8\n",
       "Member        8\n",
       "Resource      8\n",
       "Report        8\n",
       "Section       8\n",
       "dtype: int64"
      ]
     },
     "execution_count": 8,
     "metadata": {},
     "output_type": "execute_result"
    }
   ],
   "source": [
    "int_data2.isnull().sum()"
   ]
  },
  {
   "cell_type": "code",
   "execution_count": 9,
   "metadata": {},
   "outputs": [
    {
     "data": {
      "text/plain": [
       "(26, 8)"
      ]
     },
     "execution_count": 9,
     "metadata": {},
     "output_type": "execute_result"
    }
   ],
   "source": [
    "int_data2.shape"
   ]
  },
  {
   "cell_type": "code",
   "execution_count": 10,
   "metadata": {
    "collapsed": true
   },
   "outputs": [],
   "source": [
    "int_data2.dropna(inplace=True)"
   ]
  },
  {
   "cell_type": "code",
   "execution_count": 11,
   "metadata": {},
   "outputs": [
    {
     "data": {
      "text/plain": [
       "(18, 8)"
      ]
     },
     "execution_count": 11,
     "metadata": {},
     "output_type": "execute_result"
    }
   ],
   "source": [
    "int_data2.shape"
   ]
  },
  {
   "cell_type": "code",
   "execution_count": 12,
   "metadata": {},
   "outputs": [
    {
     "data": {
      "text/html": [
       "<div>\n",
       "<style>\n",
       "    .dataframe thead tr:only-child th {\n",
       "        text-align: right;\n",
       "    }\n",
       "\n",
       "    .dataframe thead th {\n",
       "        text-align: left;\n",
       "    }\n",
       "\n",
       "    .dataframe tbody tr th {\n",
       "        vertical-align: top;\n",
       "    }\n",
       "</style>\n",
       "<table border=\"1\" class=\"dataframe\">\n",
       "  <thead>\n",
       "    <tr style=\"text-align: right;\">\n",
       "      <th></th>\n",
       "      <th>Name</th>\n",
       "      <th>Score</th>\n",
       "      <th>Strategy</th>\n",
       "      <th>Innovation</th>\n",
       "      <th>Member</th>\n",
       "      <th>Resource</th>\n",
       "      <th>Report</th>\n",
       "      <th>Section</th>\n",
       "    </tr>\n",
       "  </thead>\n",
       "  <tbody>\n",
       "    <tr>\n",
       "      <th>0</th>\n",
       "      <td>YT1</td>\n",
       "      <td>82.95</td>\n",
       "      <td>89.17</td>\n",
       "      <td>70.00</td>\n",
       "      <td>81.67</td>\n",
       "      <td>76.67</td>\n",
       "      <td>7.98</td>\n",
       "      <td>S</td>\n",
       "    </tr>\n",
       "    <tr>\n",
       "      <th>1</th>\n",
       "      <td>Liam</td>\n",
       "      <td>79.34</td>\n",
       "      <td>88.83</td>\n",
       "      <td>52.50</td>\n",
       "      <td>86.67</td>\n",
       "      <td>60.00</td>\n",
       "      <td>7.34</td>\n",
       "      <td>S</td>\n",
       "    </tr>\n",
       "    <tr>\n",
       "      <th>2</th>\n",
       "      <td>YC</td>\n",
       "      <td>76.13</td>\n",
       "      <td>86.67</td>\n",
       "      <td>63.33</td>\n",
       "      <td>66.67</td>\n",
       "      <td>55.00</td>\n",
       "      <td>6.48</td>\n",
       "      <td>S</td>\n",
       "    </tr>\n",
       "    <tr>\n",
       "      <th>3</th>\n",
       "      <td>Catherine</td>\n",
       "      <td>76.14</td>\n",
       "      <td>85.83</td>\n",
       "      <td>61.67</td>\n",
       "      <td>64.17</td>\n",
       "      <td>68.33</td>\n",
       "      <td>6.78</td>\n",
       "      <td>D</td>\n",
       "    </tr>\n",
       "    <tr>\n",
       "      <th>4</th>\n",
       "      <td>Moro</td>\n",
       "      <td>74.96</td>\n",
       "      <td>85.83</td>\n",
       "      <td>62.50</td>\n",
       "      <td>65.00</td>\n",
       "      <td>60.83</td>\n",
       "      <td>6.08</td>\n",
       "      <td>S</td>\n",
       "    </tr>\n",
       "    <tr>\n",
       "      <th>5</th>\n",
       "      <td>YT2</td>\n",
       "      <td>79.46</td>\n",
       "      <td>84.17</td>\n",
       "      <td>70.83</td>\n",
       "      <td>80.00</td>\n",
       "      <td>78.33</td>\n",
       "      <td>7.71</td>\n",
       "      <td>S</td>\n",
       "    </tr>\n",
       "    <tr>\n",
       "      <th>6</th>\n",
       "      <td>James</td>\n",
       "      <td>72.03</td>\n",
       "      <td>83.33</td>\n",
       "      <td>51.67</td>\n",
       "      <td>50.00</td>\n",
       "      <td>35.00</td>\n",
       "      <td>6.79</td>\n",
       "      <td>Eco</td>\n",
       "    </tr>\n",
       "    <tr>\n",
       "      <th>7</th>\n",
       "      <td>KS</td>\n",
       "      <td>73.73</td>\n",
       "      <td>80.00</td>\n",
       "      <td>60.83</td>\n",
       "      <td>67.50</td>\n",
       "      <td>78.33</td>\n",
       "      <td>7.34</td>\n",
       "      <td>D</td>\n",
       "    </tr>\n",
       "    <tr>\n",
       "      <th>9</th>\n",
       "      <td>Daniel</td>\n",
       "      <td>60.40</td>\n",
       "      <td>77.50</td>\n",
       "      <td>25.00</td>\n",
       "      <td>51.67</td>\n",
       "      <td>46.67</td>\n",
       "      <td>4.55</td>\n",
       "      <td>S</td>\n",
       "    </tr>\n",
       "    <tr>\n",
       "      <th>8</th>\n",
       "      <td>Angela</td>\n",
       "      <td>68.46</td>\n",
       "      <td>77.50</td>\n",
       "      <td>56.00</td>\n",
       "      <td>66.67</td>\n",
       "      <td>38.33</td>\n",
       "      <td>6.65</td>\n",
       "      <td>D</td>\n",
       "    </tr>\n",
       "    <tr>\n",
       "      <th>10</th>\n",
       "      <td>Hugh</td>\n",
       "      <td>61.02</td>\n",
       "      <td>75.83</td>\n",
       "      <td>23.33</td>\n",
       "      <td>53.33</td>\n",
       "      <td>41.67</td>\n",
       "      <td>5.00</td>\n",
       "      <td>D</td>\n",
       "    </tr>\n",
       "    <tr>\n",
       "      <th>11</th>\n",
       "      <td>HM2</td>\n",
       "      <td>64.98</td>\n",
       "      <td>75.83</td>\n",
       "      <td>30.00</td>\n",
       "      <td>46.67</td>\n",
       "      <td>46.67</td>\n",
       "      <td>7.50</td>\n",
       "      <td>S</td>\n",
       "    </tr>\n",
       "    <tr>\n",
       "      <th>12</th>\n",
       "      <td>SM</td>\n",
       "      <td>62.33</td>\n",
       "      <td>74.17</td>\n",
       "      <td>35.00</td>\n",
       "      <td>66.67</td>\n",
       "      <td>53.33</td>\n",
       "      <td>5.33</td>\n",
       "      <td>S</td>\n",
       "    </tr>\n",
       "    <tr>\n",
       "      <th>13</th>\n",
       "      <td>Cesare</td>\n",
       "      <td>56.70</td>\n",
       "      <td>64.17</td>\n",
       "      <td>30.00</td>\n",
       "      <td>45.00</td>\n",
       "      <td>38.33</td>\n",
       "      <td>6.15</td>\n",
       "      <td>S</td>\n",
       "    </tr>\n",
       "    <tr>\n",
       "      <th>14</th>\n",
       "      <td>Javier</td>\n",
       "      <td>61.05</td>\n",
       "      <td>59.17</td>\n",
       "      <td>55.00</td>\n",
       "      <td>80.00</td>\n",
       "      <td>63.33</td>\n",
       "      <td>6.58</td>\n",
       "      <td>S</td>\n",
       "    </tr>\n",
       "    <tr>\n",
       "      <th>15</th>\n",
       "      <td>Killer</td>\n",
       "      <td>56.25</td>\n",
       "      <td>57.50</td>\n",
       "      <td>37.50</td>\n",
       "      <td>74.17</td>\n",
       "      <td>51.67</td>\n",
       "      <td>6.34</td>\n",
       "      <td>S</td>\n",
       "    </tr>\n",
       "    <tr>\n",
       "      <th>16</th>\n",
       "      <td>JK</td>\n",
       "      <td>50.67</td>\n",
       "      <td>43.33</td>\n",
       "      <td>37.50</td>\n",
       "      <td>67.50</td>\n",
       "      <td>71.67</td>\n",
       "      <td>6.55</td>\n",
       "      <td>D</td>\n",
       "    </tr>\n",
       "    <tr>\n",
       "      <th>17</th>\n",
       "      <td>HM1</td>\n",
       "      <td>0.00</td>\n",
       "      <td>0.00</td>\n",
       "      <td>0.00</td>\n",
       "      <td>0.00</td>\n",
       "      <td>0.00</td>\n",
       "      <td>0.00</td>\n",
       "      <td>S</td>\n",
       "    </tr>\n",
       "  </tbody>\n",
       "</table>\n",
       "</div>"
      ],
      "text/plain": [
       "         Name  Score  Strategy  Innovation  Member  Resource  Report Section\n",
       "0         YT1  82.95     89.17       70.00   81.67     76.67    7.98       S\n",
       "1        Liam  79.34     88.83       52.50   86.67     60.00    7.34       S\n",
       "2          YC  76.13     86.67       63.33   66.67     55.00    6.48       S\n",
       "3   Catherine  76.14     85.83       61.67   64.17     68.33    6.78       D\n",
       "4        Moro  74.96     85.83       62.50   65.00     60.83    6.08       S\n",
       "5         YT2  79.46     84.17       70.83   80.00     78.33    7.71       S\n",
       "6       James  72.03     83.33       51.67   50.00     35.00    6.79     Eco\n",
       "7          KS  73.73     80.00       60.83   67.50     78.33    7.34       D\n",
       "9      Daniel  60.40     77.50       25.00   51.67     46.67    4.55       S\n",
       "8      Angela  68.46     77.50       56.00   66.67     38.33    6.65       D\n",
       "10       Hugh  61.02     75.83       23.33   53.33     41.67    5.00       D\n",
       "11        HM2  64.98     75.83       30.00   46.67     46.67    7.50       S\n",
       "12         SM  62.33     74.17       35.00   66.67     53.33    5.33       S\n",
       "13     Cesare  56.70     64.17       30.00   45.00     38.33    6.15       S\n",
       "14     Javier  61.05     59.17       55.00   80.00     63.33    6.58       S\n",
       "15     Killer  56.25     57.50       37.50   74.17     51.67    6.34       S\n",
       "16         JK  50.67     43.33       37.50   67.50     71.67    6.55       D\n",
       "17        HM1   0.00      0.00        0.00    0.00      0.00    0.00       S"
      ]
     },
     "execution_count": 12,
     "metadata": {},
     "output_type": "execute_result"
    }
   ],
   "source": [
    "int_data2.sort_values('Strategy', ascending=False)"
   ]
  },
  {
   "cell_type": "code",
   "execution_count": 13,
   "metadata": {
    "collapsed": true
   },
   "outputs": [],
   "source": [
    "int_data2 = int_data2[int_data2.Name != 'HM1']"
   ]
  },
  {
   "cell_type": "code",
   "execution_count": 14,
   "metadata": {},
   "outputs": [
    {
     "data": {
      "text/plain": [
       "(17, 8)"
      ]
     },
     "execution_count": 14,
     "metadata": {},
     "output_type": "execute_result"
    }
   ],
   "source": [
    "int_data2.shape"
   ]
  },
  {
   "cell_type": "markdown",
   "metadata": {},
   "source": [
    "# Mean"
   ]
  },
  {
   "cell_type": "code",
   "execution_count": 15,
   "metadata": {},
   "outputs": [
    {
     "data": {
      "text/plain": [
       "Score         68.035294\n",
       "Strategy      75.813529\n",
       "Innovation    48.391765\n",
       "Member        65.491765\n",
       "Resource      56.715294\n",
       "Report         6.538235\n",
       "dtype: float64"
      ]
     },
     "execution_count": 15,
     "metadata": {},
     "output_type": "execute_result"
    }
   ],
   "source": [
    "int_data2.mean()"
   ]
  },
  {
   "cell_type": "code",
   "execution_count": 16,
   "metadata": {
    "collapsed": true
   },
   "outputs": [],
   "source": [
    "int_data2.mean().to_excel(\"/Users/cesare.chung/Downloads/AR/_PORE_Mean.xlsx\", index=True,encoding=\"big5\")"
   ]
  },
  {
   "cell_type": "markdown",
   "metadata": {},
   "source": [
    "# Groupby"
   ]
  },
  {
   "cell_type": "code",
   "execution_count": 17,
   "metadata": {},
   "outputs": [
    {
     "data": {
      "image/png": "[encoded data removed]",
      "text/plain": [
       "<matplotlib.figure.Figure at 0x10ab30940>"
      ]
     },
     "metadata": {},
     "output_type": "display_data"
    }
   ],
   "source": [
    "%matplotlib inline\n",
    "import matplotlib.pyplot as plt\n",
    "\n",
    "int_data2.Resource.plot(kind=\"bar\")\n",
    "\n",
    "plt.grid(True)\n",
    "plt.show()"
   ]
  },
  {
   "cell_type": "code",
   "execution_count": 18,
   "metadata": {},
   "outputs": [
    {
     "data": {
      "image/png": "[encoded data removed]",
      "text/plain": [
       "<matplotlib.figure.Figure at 0x10af08e48>"
      ]
     },
     "metadata": {},
     "output_type": "display_data"
    }
   ],
   "source": [
    "plt.hist(int_data2.Resource, bins = [30, 40, 50, 60, 70, 80], rwidth=0.8,alpha=0.55, histtype='barstacked')\n",
    "plt.title('Histogram of Resource')\n",
    "plt.xlabel(\"Resource\")\n",
    "plt.ylabel(\"Frequency\")\n",
    "\n",
    "plt.show()"
   ]
  },
  {
   "cell_type": "code",
   "execution_count": 19,
   "metadata": {},
   "outputs": [
    {
     "data": {
      "image/png": "[encoded data removed]",
      "text/plain": [
       "<matplotlib.figure.Figure at 0x10af0c358>"
      ]
     },
     "metadata": {},
     "output_type": "display_data"
    }
   ],
   "source": [
    "int_data2.Member.plot(kind=\"bar\")\n",
    "\n",
    "plt.grid(True)\n",
    "plt.show()"
   ]
  },
  {
   "cell_type": "code",
   "execution_count": 20,
   "metadata": {},
   "outputs": [
    {
     "data": {
      "image/png": "[encoded data removed]",
      "text/plain": [
       "<matplotlib.figure.Figure at 0x109df7a58>"
      ]
     },
     "metadata": {},
     "output_type": "display_data"
    }
   ],
   "source": [
    "plt.hist(int_data2.Member, bins = [40, 50, 60, 70, 80, 90], rwidth=0.8,alpha=0.55, histtype='barstacked')\n",
    "plt.title('Histogram of Member')\n",
    "plt.xlabel(\"Member\")\n",
    "plt.ylabel(\"Frequency\")\n",
    "\n",
    "plt.show()"
   ]
  },
  {
   "cell_type": "code",
   "execution_count": 21,
   "metadata": {},
   "outputs": [
    {
     "data": {
      "image/png": "[encoded data removed]",
      "text/plain": [
       "<matplotlib.figure.Figure at 0x10b210908>"
      ]
     },
     "metadata": {},
     "output_type": "display_data"
    }
   ],
   "source": [
    "plt.hist(int_data2.Strategy, bins = [30, 40, 50, 60, 70, 80, 90], rwidth=0.8,alpha=0.55, histtype='barstacked')\n",
    "plt.title('Histogram of Strategy')\n",
    "plt.xlabel(\"Strategy\")\n",
    "plt.ylabel(\"Frequency\")\n",
    "\n",
    "plt.show()"
   ]
  },
  {
   "cell_type": "code",
   "execution_count": 22,
   "metadata": {},
   "outputs": [
    {
     "data": {
      "image/png": "[encoded data removed]",
      "text/plain": [
       "<matplotlib.figure.Figure at 0x10b09aa58>"
      ]
     },
     "metadata": {},
     "output_type": "display_data"
    }
   ],
   "source": [
    "plt.hist(int_data2.Innovation, bins = [30, 40, 50, 60, 70, 80, 90], rwidth=0.8,alpha=0.55, histtype='barstacked')\n",
    "plt.title('Histogram of Innovation')\n",
    "plt.xlabel(\"Innovation\")\n",
    "plt.ylabel(\"Frequency\")\n",
    "\n",
    "plt.show()"
   ]
  },
  {
   "cell_type": "code",
   "execution_count": 23,
   "metadata": {},
   "outputs": [
    {
     "data": {
      "image/png": "[encoded data removed]",
      "text/plain": [
       "<matplotlib.figure.Figure at 0x10ae9fda0>"
      ]
     },
     "metadata": {},
     "output_type": "display_data"
    }
   ],
   "source": [
    "plt.hist(int_data2.Report, bins = [3, 4, 5, 6, 7, 8, 9], rwidth=0.8,alpha=0.55, histtype='barstacked')\n",
    "plt.title('Histogram of Report')\n",
    "plt.xlabel(\"Report\")\n",
    "plt.ylabel(\"Frequency\")\n",
    "\n",
    "plt.show()"
   ]
  },
  {
   "cell_type": "markdown",
   "metadata": {},
   "source": [
    "# Functions"
   ]
  },
  {
   "cell_type": "code",
   "execution_count": 24,
   "metadata": {
    "collapsed": true
   },
   "outputs": [],
   "source": [
    "#\n",
    "# H : High; M : Median; L : Low\n",
    "#\n",
    "def Member_FUN(old):\n",
    " if old >= 70:\n",
    "    return('H')\n",
    " else:\n",
    "    if (old >= 60) & (old < 70):\n",
    "       return('M')       \n",
    "    else:\n",
    "       return('L') \n",
    "#"
   ]
  },
  {
   "cell_type": "code",
   "execution_count": 25,
   "metadata": {
    "collapsed": true
   },
   "outputs": [],
   "source": [
    "#\n",
    "def Resource_FUN(old):\n",
    " if old >= 70:\n",
    "    return('H')\n",
    " else:\n",
    "    if (old >= 60) & (old < 70):\n",
    "       return('M')       \n",
    "    else:\n",
    "       return('L') \n",
    "#"
   ]
  },
  {
   "cell_type": "code",
   "execution_count": 26,
   "metadata": {
    "collapsed": true
   },
   "outputs": [],
   "source": [
    "#\n",
    "def Section_FUN(old):\n",
    " if old == 'S':\n",
    "    return('Segment')\n",
    " else:\n",
    "    if old == 'D':\n",
    "       return('Domain')       \n",
    "    else:\n",
    "       return('Eco')       \n",
    "#"
   ]
  },
  {
   "cell_type": "code",
   "execution_count": 27,
   "metadata": {
    "collapsed": true
   },
   "outputs": [],
   "source": [
    "#\n",
    "def Strategy_FUN(old):\n",
    " if old >= 80:\n",
    "    return('A')\n",
    " else:\n",
    "    if (old >= 70) & (old < 80):\n",
    "       return('B')       \n",
    "    else:\n",
    "       return('C')       \n",
    "#"
   ]
  },
  {
   "cell_type": "code",
   "execution_count": 28,
   "metadata": {
    "collapsed": true
   },
   "outputs": [],
   "source": [
    "df = pd.DataFrame({'Strategy_NEW':int_data2['Strategy'].apply(Strategy_FUN)})\n",
    "#df"
   ]
  },
  {
   "cell_type": "code",
   "execution_count": 29,
   "metadata": {
    "collapsed": true
   },
   "outputs": [],
   "source": [
    "int_data2 =  pd.merge(int_data2, df, left_index = True, right_index = True)"
   ]
  },
  {
   "cell_type": "code",
   "execution_count": 30,
   "metadata": {
    "collapsed": true
   },
   "outputs": [],
   "source": [
    "dfs = pd.DataFrame({'Section_NEW':int_data2['Section'].apply(Section_FUN)})\n",
    "#dfs"
   ]
  },
  {
   "cell_type": "code",
   "execution_count": 31,
   "metadata": {
    "collapsed": true
   },
   "outputs": [],
   "source": [
    "int_data2 =  pd.merge(int_data2, dfs, left_index = True, right_index = True)"
   ]
  },
  {
   "cell_type": "code",
   "execution_count": 32,
   "metadata": {
    "collapsed": true
   },
   "outputs": [],
   "source": [
    "dfr = pd.DataFrame({'Resource_NEW':int_data2['Resource'].apply(Resource_FUN)})\n",
    "#dfr"
   ]
  },
  {
   "cell_type": "code",
   "execution_count": 33,
   "metadata": {
    "collapsed": true
   },
   "outputs": [],
   "source": [
    "int_data2 =  pd.merge(int_data2, dfr, left_index = True, right_index = True)"
   ]
  },
  {
   "cell_type": "code",
   "execution_count": 34,
   "metadata": {
    "collapsed": true
   },
   "outputs": [],
   "source": [
    "dfm = pd.DataFrame({'Member_NEW':int_data2['Member'].apply(Member_FUN)})\n",
    "#dfm"
   ]
  },
  {
   "cell_type": "code",
   "execution_count": 35,
   "metadata": {
    "collapsed": true
   },
   "outputs": [],
   "source": [
    "int_data2 =  pd.merge(int_data2, dfm, left_index = True, right_index = True)"
   ]
  },
  {
   "cell_type": "code",
   "execution_count": 36,
   "metadata": {},
   "outputs": [
    {
     "data": {
      "text/html": [
       "<div>\n",
       "<style>\n",
       "    .dataframe thead tr:only-child th {\n",
       "        text-align: right;\n",
       "    }\n",
       "\n",
       "    .dataframe thead th {\n",
       "        text-align: left;\n",
       "    }\n",
       "\n",
       "    .dataframe tbody tr th {\n",
       "        vertical-align: top;\n",
       "    }\n",
       "</style>\n",
       "<table border=\"1\" class=\"dataframe\">\n",
       "  <thead>\n",
       "    <tr style=\"text-align: right;\">\n",
       "      <th></th>\n",
       "      <th>Name</th>\n",
       "      <th>Score</th>\n",
       "      <th>Strategy</th>\n",
       "      <th>Innovation</th>\n",
       "      <th>Report</th>\n",
       "      <th>Strategy_NEW</th>\n",
       "      <th>Section_NEW</th>\n",
       "      <th>Resource_NEW</th>\n",
       "      <th>Member_NEW</th>\n",
       "    </tr>\n",
       "  </thead>\n",
       "  <tbody>\n",
       "    <tr>\n",
       "      <th>0</th>\n",
       "      <td>YT1</td>\n",
       "      <td>82.95</td>\n",
       "      <td>89.17</td>\n",
       "      <td>70.00</td>\n",
       "      <td>7.98</td>\n",
       "      <td>A</td>\n",
       "      <td>Segment</td>\n",
       "      <td>H</td>\n",
       "      <td>H</td>\n",
       "    </tr>\n",
       "    <tr>\n",
       "      <th>1</th>\n",
       "      <td>Liam</td>\n",
       "      <td>79.34</td>\n",
       "      <td>88.83</td>\n",
       "      <td>52.50</td>\n",
       "      <td>7.34</td>\n",
       "      <td>A</td>\n",
       "      <td>Segment</td>\n",
       "      <td>M</td>\n",
       "      <td>H</td>\n",
       "    </tr>\n",
       "    <tr>\n",
       "      <th>2</th>\n",
       "      <td>YC</td>\n",
       "      <td>76.13</td>\n",
       "      <td>86.67</td>\n",
       "      <td>63.33</td>\n",
       "      <td>6.48</td>\n",
       "      <td>A</td>\n",
       "      <td>Segment</td>\n",
       "      <td>L</td>\n",
       "      <td>M</td>\n",
       "    </tr>\n",
       "    <tr>\n",
       "      <th>3</th>\n",
       "      <td>Catherine</td>\n",
       "      <td>76.14</td>\n",
       "      <td>85.83</td>\n",
       "      <td>61.67</td>\n",
       "      <td>6.78</td>\n",
       "      <td>A</td>\n",
       "      <td>Domain</td>\n",
       "      <td>M</td>\n",
       "      <td>M</td>\n",
       "    </tr>\n",
       "    <tr>\n",
       "      <th>4</th>\n",
       "      <td>Moro</td>\n",
       "      <td>74.96</td>\n",
       "      <td>85.83</td>\n",
       "      <td>62.50</td>\n",
       "      <td>6.08</td>\n",
       "      <td>A</td>\n",
       "      <td>Segment</td>\n",
       "      <td>M</td>\n",
       "      <td>M</td>\n",
       "    </tr>\n",
       "    <tr>\n",
       "      <th>5</th>\n",
       "      <td>YT2</td>\n",
       "      <td>79.46</td>\n",
       "      <td>84.17</td>\n",
       "      <td>70.83</td>\n",
       "      <td>7.71</td>\n",
       "      <td>A</td>\n",
       "      <td>Segment</td>\n",
       "      <td>H</td>\n",
       "      <td>H</td>\n",
       "    </tr>\n",
       "    <tr>\n",
       "      <th>6</th>\n",
       "      <td>James</td>\n",
       "      <td>72.03</td>\n",
       "      <td>83.33</td>\n",
       "      <td>51.67</td>\n",
       "      <td>6.79</td>\n",
       "      <td>A</td>\n",
       "      <td>Eco</td>\n",
       "      <td>L</td>\n",
       "      <td>L</td>\n",
       "    </tr>\n",
       "    <tr>\n",
       "      <th>7</th>\n",
       "      <td>KS</td>\n",
       "      <td>73.73</td>\n",
       "      <td>80.00</td>\n",
       "      <td>60.83</td>\n",
       "      <td>7.34</td>\n",
       "      <td>A</td>\n",
       "      <td>Domain</td>\n",
       "      <td>H</td>\n",
       "      <td>M</td>\n",
       "    </tr>\n",
       "    <tr>\n",
       "      <th>8</th>\n",
       "      <td>Angela</td>\n",
       "      <td>68.46</td>\n",
       "      <td>77.50</td>\n",
       "      <td>56.00</td>\n",
       "      <td>6.65</td>\n",
       "      <td>B</td>\n",
       "      <td>Domain</td>\n",
       "      <td>L</td>\n",
       "      <td>M</td>\n",
       "    </tr>\n",
       "    <tr>\n",
       "      <th>9</th>\n",
       "      <td>Daniel</td>\n",
       "      <td>60.40</td>\n",
       "      <td>77.50</td>\n",
       "      <td>25.00</td>\n",
       "      <td>4.55</td>\n",
       "      <td>B</td>\n",
       "      <td>Segment</td>\n",
       "      <td>L</td>\n",
       "      <td>L</td>\n",
       "    </tr>\n",
       "    <tr>\n",
       "      <th>10</th>\n",
       "      <td>Hugh</td>\n",
       "      <td>61.02</td>\n",
       "      <td>75.83</td>\n",
       "      <td>23.33</td>\n",
       "      <td>5.00</td>\n",
       "      <td>B</td>\n",
       "      <td>Domain</td>\n",
       "      <td>L</td>\n",
       "      <td>L</td>\n",
       "    </tr>\n",
       "    <tr>\n",
       "      <th>11</th>\n",
       "      <td>HM2</td>\n",
       "      <td>64.98</td>\n",
       "      <td>75.83</td>\n",
       "      <td>30.00</td>\n",
       "      <td>7.50</td>\n",
       "      <td>B</td>\n",
       "      <td>Segment</td>\n",
       "      <td>L</td>\n",
       "      <td>L</td>\n",
       "    </tr>\n",
       "    <tr>\n",
       "      <th>12</th>\n",
       "      <td>SM</td>\n",
       "      <td>62.33</td>\n",
       "      <td>74.17</td>\n",
       "      <td>35.00</td>\n",
       "      <td>5.33</td>\n",
       "      <td>B</td>\n",
       "      <td>Segment</td>\n",
       "      <td>L</td>\n",
       "      <td>M</td>\n",
       "    </tr>\n",
       "    <tr>\n",
       "      <th>13</th>\n",
       "      <td>Cesare</td>\n",
       "      <td>56.70</td>\n",
       "      <td>64.17</td>\n",
       "      <td>30.00</td>\n",
       "      <td>6.15</td>\n",
       "      <td>C</td>\n",
       "      <td>Segment</td>\n",
       "      <td>L</td>\n",
       "      <td>L</td>\n",
       "    </tr>\n",
       "    <tr>\n",
       "      <th>14</th>\n",
       "      <td>Javier</td>\n",
       "      <td>61.05</td>\n",
       "      <td>59.17</td>\n",
       "      <td>55.00</td>\n",
       "      <td>6.58</td>\n",
       "      <td>C</td>\n",
       "      <td>Segment</td>\n",
       "      <td>M</td>\n",
       "      <td>H</td>\n",
       "    </tr>\n",
       "    <tr>\n",
       "      <th>15</th>\n",
       "      <td>Killer</td>\n",
       "      <td>56.25</td>\n",
       "      <td>57.50</td>\n",
       "      <td>37.50</td>\n",
       "      <td>6.34</td>\n",
       "      <td>C</td>\n",
       "      <td>Segment</td>\n",
       "      <td>L</td>\n",
       "      <td>H</td>\n",
       "    </tr>\n",
       "    <tr>\n",
       "      <th>16</th>\n",
       "      <td>JK</td>\n",
       "      <td>50.67</td>\n",
       "      <td>43.33</td>\n",
       "      <td>37.50</td>\n",
       "      <td>6.55</td>\n",
       "      <td>C</td>\n",
       "      <td>Domain</td>\n",
       "      <td>H</td>\n",
       "      <td>M</td>\n",
       "    </tr>\n",
       "  </tbody>\n",
       "</table>\n",
       "</div>"
      ],
      "text/plain": [
       "         Name  Score  Strategy  Innovation  Report Strategy_NEW Section_NEW  \\\n",
       "0         YT1  82.95     89.17       70.00    7.98            A     Segment   \n",
       "1        Liam  79.34     88.83       52.50    7.34            A     Segment   \n",
       "2          YC  76.13     86.67       63.33    6.48            A     Segment   \n",
       "3   Catherine  76.14     85.83       61.67    6.78            A      Domain   \n",
       "4        Moro  74.96     85.83       62.50    6.08            A     Segment   \n",
       "5         YT2  79.46     84.17       70.83    7.71            A     Segment   \n",
       "6       James  72.03     83.33       51.67    6.79            A         Eco   \n",
       "7          KS  73.73     80.00       60.83    7.34            A      Domain   \n",
       "8      Angela  68.46     77.50       56.00    6.65            B      Domain   \n",
       "9      Daniel  60.40     77.50       25.00    4.55            B     Segment   \n",
       "10       Hugh  61.02     75.83       23.33    5.00            B      Domain   \n",
       "11        HM2  64.98     75.83       30.00    7.50            B     Segment   \n",
       "12         SM  62.33     74.17       35.00    5.33            B     Segment   \n",
       "13     Cesare  56.70     64.17       30.00    6.15            C     Segment   \n",
       "14     Javier  61.05     59.17       55.00    6.58            C     Segment   \n",
       "15     Killer  56.25     57.50       37.50    6.34            C     Segment   \n",
       "16         JK  50.67     43.33       37.50    6.55            C      Domain   \n",
       "\n",
       "   Resource_NEW Member_NEW  \n",
       "0             H          H  \n",
       "1             M          H  \n",
       "2             L          M  \n",
       "3             M          M  \n",
       "4             M          M  \n",
       "5             H          H  \n",
       "6             L          L  \n",
       "7             H          M  \n",
       "8             L          M  \n",
       "9             L          L  \n",
       "10            L          L  \n",
       "11            L          L  \n",
       "12            L          M  \n",
       "13            L          L  \n",
       "14            M          H  \n",
       "15            L          H  \n",
       "16            H          M  "
      ]
     },
     "execution_count": 36,
     "metadata": {},
     "output_type": "execute_result"
    }
   ],
   "source": [
    "int_data2[[\"Name\",\"Score\",\"Strategy\",\"Innovation\",\"Report\",\"Strategy_NEW\",\"Section_NEW\",\"Resource_NEW\",\"Member_NEW\"]]"
   ]
  },
  {
   "cell_type": "markdown",
   "metadata": {},
   "source": [
    "# Results"
   ]
  },
  {
   "cell_type": "code",
   "execution_count": 37,
   "metadata": {
    "collapsed": true
   },
   "outputs": [],
   "source": [
    "#\n",
    "int_data2[\"PORE_Results\"] = 'Second'\n",
    "#"
   ]
  },
  {
   "cell_type": "code",
   "execution_count": 38,
   "metadata": {},
   "outputs": [
    {
     "name": "stderr",
     "output_type": "stream",
     "text": [
      "/anaconda/envs/py35/lib/python3.5/site-packages/ipykernel_launcher.py:1: SettingWithCopyWarning: \n",
      "A value is trying to be set on a copy of a slice from a DataFrame\n",
      "\n",
      "See the caveats in the documentation: http://pandas.pydata.org/pandas-docs/stable/indexing.html#indexing-view-versus-copy\n",
      "  \"\"\"Entry point for launching an IPython kernel.\n",
      "/anaconda/envs/py35/lib/python3.5/site-packages/ipykernel_launcher.py:2: SettingWithCopyWarning: \n",
      "A value is trying to be set on a copy of a slice from a DataFrame\n",
      "\n",
      "See the caveats in the documentation: http://pandas.pydata.org/pandas-docs/stable/indexing.html#indexing-view-versus-copy\n",
      "  \n"
     ]
    }
   ],
   "source": [
    "int_data2['PORE_Results'][(int_data2.Strategy >= 80) & (int_data2.Innovation >= 70) & (int_data2.Report >= 7)] = 'Pass'\n",
    "int_data2['PORE_Results'][(int_data2.Strategy <  70)] = 'No Pass'"
   ]
  },
  {
   "cell_type": "code",
   "execution_count": 39,
   "metadata": {},
   "outputs": [
    {
     "data": {
      "text/html": [
       "<div>\n",
       "<style>\n",
       "    .dataframe thead tr:only-child th {\n",
       "        text-align: right;\n",
       "    }\n",
       "\n",
       "    .dataframe thead th {\n",
       "        text-align: left;\n",
       "    }\n",
       "\n",
       "    .dataframe tbody tr th {\n",
       "        vertical-align: top;\n",
       "    }\n",
       "</style>\n",
       "<table border=\"1\" class=\"dataframe\">\n",
       "  <thead>\n",
       "    <tr style=\"text-align: right;\">\n",
       "      <th></th>\n",
       "      <th>Name</th>\n",
       "      <th>Score</th>\n",
       "      <th>Strategy</th>\n",
       "      <th>Innovation</th>\n",
       "      <th>Report</th>\n",
       "      <th>Strategy_NEW</th>\n",
       "      <th>Section_NEW</th>\n",
       "      <th>Resource_NEW</th>\n",
       "      <th>Member_NEW</th>\n",
       "      <th>PORE_Results</th>\n",
       "    </tr>\n",
       "  </thead>\n",
       "  <tbody>\n",
       "    <tr>\n",
       "      <th>0</th>\n",
       "      <td>YT1</td>\n",
       "      <td>82.95</td>\n",
       "      <td>89.17</td>\n",
       "      <td>70.00</td>\n",
       "      <td>7.98</td>\n",
       "      <td>A</td>\n",
       "      <td>Segment</td>\n",
       "      <td>H</td>\n",
       "      <td>H</td>\n",
       "      <td>Pass</td>\n",
       "    </tr>\n",
       "    <tr>\n",
       "      <th>1</th>\n",
       "      <td>Liam</td>\n",
       "      <td>79.34</td>\n",
       "      <td>88.83</td>\n",
       "      <td>52.50</td>\n",
       "      <td>7.34</td>\n",
       "      <td>A</td>\n",
       "      <td>Segment</td>\n",
       "      <td>M</td>\n",
       "      <td>H</td>\n",
       "      <td>Second</td>\n",
       "    </tr>\n",
       "    <tr>\n",
       "      <th>2</th>\n",
       "      <td>YC</td>\n",
       "      <td>76.13</td>\n",
       "      <td>86.67</td>\n",
       "      <td>63.33</td>\n",
       "      <td>6.48</td>\n",
       "      <td>A</td>\n",
       "      <td>Segment</td>\n",
       "      <td>L</td>\n",
       "      <td>M</td>\n",
       "      <td>Second</td>\n",
       "    </tr>\n",
       "    <tr>\n",
       "      <th>3</th>\n",
       "      <td>Catherine</td>\n",
       "      <td>76.14</td>\n",
       "      <td>85.83</td>\n",
       "      <td>61.67</td>\n",
       "      <td>6.78</td>\n",
       "      <td>A</td>\n",
       "      <td>Domain</td>\n",
       "      <td>M</td>\n",
       "      <td>M</td>\n",
       "      <td>Second</td>\n",
       "    </tr>\n",
       "    <tr>\n",
       "      <th>4</th>\n",
       "      <td>Moro</td>\n",
       "      <td>74.96</td>\n",
       "      <td>85.83</td>\n",
       "      <td>62.50</td>\n",
       "      <td>6.08</td>\n",
       "      <td>A</td>\n",
       "      <td>Segment</td>\n",
       "      <td>M</td>\n",
       "      <td>M</td>\n",
       "      <td>Second</td>\n",
       "    </tr>\n",
       "    <tr>\n",
       "      <th>5</th>\n",
       "      <td>YT2</td>\n",
       "      <td>79.46</td>\n",
       "      <td>84.17</td>\n",
       "      <td>70.83</td>\n",
       "      <td>7.71</td>\n",
       "      <td>A</td>\n",
       "      <td>Segment</td>\n",
       "      <td>H</td>\n",
       "      <td>H</td>\n",
       "      <td>Pass</td>\n",
       "    </tr>\n",
       "    <tr>\n",
       "      <th>6</th>\n",
       "      <td>James</td>\n",
       "      <td>72.03</td>\n",
       "      <td>83.33</td>\n",
       "      <td>51.67</td>\n",
       "      <td>6.79</td>\n",
       "      <td>A</td>\n",
       "      <td>Eco</td>\n",
       "      <td>L</td>\n",
       "      <td>L</td>\n",
       "      <td>Second</td>\n",
       "    </tr>\n",
       "    <tr>\n",
       "      <th>7</th>\n",
       "      <td>KS</td>\n",
       "      <td>73.73</td>\n",
       "      <td>80.00</td>\n",
       "      <td>60.83</td>\n",
       "      <td>7.34</td>\n",
       "      <td>A</td>\n",
       "      <td>Domain</td>\n",
       "      <td>H</td>\n",
       "      <td>M</td>\n",
       "      <td>Second</td>\n",
       "    </tr>\n",
       "    <tr>\n",
       "      <th>8</th>\n",
       "      <td>Angela</td>\n",
       "      <td>68.46</td>\n",
       "      <td>77.50</td>\n",
       "      <td>56.00</td>\n",
       "      <td>6.65</td>\n",
       "      <td>B</td>\n",
       "      <td>Domain</td>\n",
       "      <td>L</td>\n",
       "      <td>M</td>\n",
       "      <td>Second</td>\n",
       "    </tr>\n",
       "    <tr>\n",
       "      <th>9</th>\n",
       "      <td>Daniel</td>\n",
       "      <td>60.40</td>\n",
       "      <td>77.50</td>\n",
       "      <td>25.00</td>\n",
       "      <td>4.55</td>\n",
       "      <td>B</td>\n",
       "      <td>Segment</td>\n",
       "      <td>L</td>\n",
       "      <td>L</td>\n",
       "      <td>Second</td>\n",
       "    </tr>\n",
       "    <tr>\n",
       "      <th>10</th>\n",
       "      <td>Hugh</td>\n",
       "      <td>61.02</td>\n",
       "      <td>75.83</td>\n",
       "      <td>23.33</td>\n",
       "      <td>5.00</td>\n",
       "      <td>B</td>\n",
       "      <td>Domain</td>\n",
       "      <td>L</td>\n",
       "      <td>L</td>\n",
       "      <td>Second</td>\n",
       "    </tr>\n",
       "    <tr>\n",
       "      <th>11</th>\n",
       "      <td>HM2</td>\n",
       "      <td>64.98</td>\n",
       "      <td>75.83</td>\n",
       "      <td>30.00</td>\n",
       "      <td>7.50</td>\n",
       "      <td>B</td>\n",
       "      <td>Segment</td>\n",
       "      <td>L</td>\n",
       "      <td>L</td>\n",
       "      <td>Second</td>\n",
       "    </tr>\n",
       "    <tr>\n",
       "      <th>12</th>\n",
       "      <td>SM</td>\n",
       "      <td>62.33</td>\n",
       "      <td>74.17</td>\n",
       "      <td>35.00</td>\n",
       "      <td>5.33</td>\n",
       "      <td>B</td>\n",
       "      <td>Segment</td>\n",
       "      <td>L</td>\n",
       "      <td>M</td>\n",
       "      <td>Second</td>\n",
       "    </tr>\n",
       "    <tr>\n",
       "      <th>13</th>\n",
       "      <td>Cesare</td>\n",
       "      <td>56.70</td>\n",
       "      <td>64.17</td>\n",
       "      <td>30.00</td>\n",
       "      <td>6.15</td>\n",
       "      <td>C</td>\n",
       "      <td>Segment</td>\n",
       "      <td>L</td>\n",
       "      <td>L</td>\n",
       "      <td>No Pass</td>\n",
       "    </tr>\n",
       "    <tr>\n",
       "      <th>14</th>\n",
       "      <td>Javier</td>\n",
       "      <td>61.05</td>\n",
       "      <td>59.17</td>\n",
       "      <td>55.00</td>\n",
       "      <td>6.58</td>\n",
       "      <td>C</td>\n",
       "      <td>Segment</td>\n",
       "      <td>M</td>\n",
       "      <td>H</td>\n",
       "      <td>No Pass</td>\n",
       "    </tr>\n",
       "    <tr>\n",
       "      <th>15</th>\n",
       "      <td>Killer</td>\n",
       "      <td>56.25</td>\n",
       "      <td>57.50</td>\n",
       "      <td>37.50</td>\n",
       "      <td>6.34</td>\n",
       "      <td>C</td>\n",
       "      <td>Segment</td>\n",
       "      <td>L</td>\n",
       "      <td>H</td>\n",
       "      <td>No Pass</td>\n",
       "    </tr>\n",
       "    <tr>\n",
       "      <th>16</th>\n",
       "      <td>JK</td>\n",
       "      <td>50.67</td>\n",
       "      <td>43.33</td>\n",
       "      <td>37.50</td>\n",
       "      <td>6.55</td>\n",
       "      <td>C</td>\n",
       "      <td>Domain</td>\n",
       "      <td>H</td>\n",
       "      <td>M</td>\n",
       "      <td>No Pass</td>\n",
       "    </tr>\n",
       "  </tbody>\n",
       "</table>\n",
       "</div>"
      ],
      "text/plain": [
       "         Name  Score  Strategy  Innovation  Report Strategy_NEW Section_NEW  \\\n",
       "0         YT1  82.95     89.17       70.00    7.98            A     Segment   \n",
       "1        Liam  79.34     88.83       52.50    7.34            A     Segment   \n",
       "2          YC  76.13     86.67       63.33    6.48            A     Segment   \n",
       "3   Catherine  76.14     85.83       61.67    6.78            A      Domain   \n",
       "4        Moro  74.96     85.83       62.50    6.08            A     Segment   \n",
       "5         YT2  79.46     84.17       70.83    7.71            A     Segment   \n",
       "6       James  72.03     83.33       51.67    6.79            A         Eco   \n",
       "7          KS  73.73     80.00       60.83    7.34            A      Domain   \n",
       "8      Angela  68.46     77.50       56.00    6.65            B      Domain   \n",
       "9      Daniel  60.40     77.50       25.00    4.55            B     Segment   \n",
       "10       Hugh  61.02     75.83       23.33    5.00            B      Domain   \n",
       "11        HM2  64.98     75.83       30.00    7.50            B     Segment   \n",
       "12         SM  62.33     74.17       35.00    5.33            B     Segment   \n",
       "13     Cesare  56.70     64.17       30.00    6.15            C     Segment   \n",
       "14     Javier  61.05     59.17       55.00    6.58            C     Segment   \n",
       "15     Killer  56.25     57.50       37.50    6.34            C     Segment   \n",
       "16         JK  50.67     43.33       37.50    6.55            C      Domain   \n",
       "\n",
       "   Resource_NEW Member_NEW PORE_Results  \n",
       "0             H          H         Pass  \n",
       "1             M          H       Second  \n",
       "2             L          M       Second  \n",
       "3             M          M       Second  \n",
       "4             M          M       Second  \n",
       "5             H          H         Pass  \n",
       "6             L          L       Second  \n",
       "7             H          M       Second  \n",
       "8             L          M       Second  \n",
       "9             L          L       Second  \n",
       "10            L          L       Second  \n",
       "11            L          L       Second  \n",
       "12            L          M       Second  \n",
       "13            L          L      No Pass  \n",
       "14            M          H      No Pass  \n",
       "15            L          H      No Pass  \n",
       "16            H          M      No Pass  "
      ]
     },
     "execution_count": 39,
     "metadata": {},
     "output_type": "execute_result"
    }
   ],
   "source": [
    "int_data2[[\"Name\",\"Score\",\"Strategy\",\"Innovation\",\"Report\",\"Strategy_NEW\",\"Section_NEW\",\"Resource_NEW\",\"Member_NEW\",\"PORE_Results\"]]"
   ]
  },
  {
   "cell_type": "code",
   "execution_count": 40,
   "metadata": {},
   "outputs": [
    {
     "data": {
      "text/plain": [
       "A    8\n",
       "B    5\n",
       "C    4\n",
       "Name: Strategy_NEW, dtype: int64"
      ]
     },
     "execution_count": 40,
     "metadata": {},
     "output_type": "execute_result"
    }
   ],
   "source": [
    "int_data2['Strategy_NEW'].value_counts()"
   ]
  },
  {
   "cell_type": "code",
   "execution_count": 41,
   "metadata": {},
   "outputs": [
    {
     "data": {
      "image/png": "[encoded data removed]",
      "text/plain": [
       "<matplotlib.figure.Figure at 0x10b1ca2e8>"
      ]
     },
     "metadata": {},
     "output_type": "display_data"
    }
   ],
   "source": [
    "vals = [8, 5, 4]\n",
    "fig, ax = plt.subplots()\n",
    "labels = 'A', 'B', 'C'\n",
    "colors = ['yellowgreen', 'gold', 'lightskyblue']\n",
    "explode = (0.1, 0, 0)\n",
    "\n",
    "ax.pie(vals, explode=explode, labels=labels, colors=colors,autopct='%1.1f%%', shadow=True, startangle=90,radius=1.2)\n",
    "ax.set(aspect=\"equal\", title='Pie plot for Strategy Levels')\n",
    "\n",
    "plt.show()"
   ]
  },
  {
   "cell_type": "code",
   "execution_count": 42,
   "metadata": {},
   "outputs": [
    {
     "data": {
      "text/plain": [
       "Segment    11\n",
       "Domain      5\n",
       "Eco         1\n",
       "Name: Section_NEW, dtype: int64"
      ]
     },
     "execution_count": 42,
     "metadata": {},
     "output_type": "execute_result"
    }
   ],
   "source": [
    "int_data2['Section_NEW'].value_counts()"
   ]
  },
  {
   "cell_type": "code",
   "execution_count": 43,
   "metadata": {},
   "outputs": [
    {
     "data": {
      "image/png": "[encoded data removed]",
      "text/plain": [
       "<matplotlib.figure.Figure at 0x10af08a20>"
      ]
     },
     "metadata": {},
     "output_type": "display_data"
    }
   ],
   "source": [
    "vals = [11, 5, 1]\n",
    "fig, ax = plt.subplots()\n",
    "labels = 'Segment', 'Domain', 'Eco'\n",
    "colors = ['yellowgreen', 'gold', 'lightskyblue']\n",
    "explode = (0.1, 0, 0)\n",
    "\n",
    "ax.pie(vals, explode=explode, labels=labels, colors=colors,autopct='%1.1f%%', shadow=True, startangle=90,radius=1.2)\n",
    "ax.set(aspect=\"equal\", title='Section')\n",
    "\n",
    "plt.show()"
   ]
  },
  {
   "cell_type": "code",
   "execution_count": 44,
   "metadata": {},
   "outputs": [
    {
     "data": {
      "text/plain": [
       "L    9\n",
       "H    4\n",
       "M    4\n",
       "Name: Resource_NEW, dtype: int64"
      ]
     },
     "execution_count": 44,
     "metadata": {},
     "output_type": "execute_result"
    }
   ],
   "source": [
    "int_data2['Resource_NEW'].value_counts()"
   ]
  },
  {
   "cell_type": "code",
   "execution_count": 45,
   "metadata": {},
   "outputs": [
    {
     "data": {
      "image/png": "[encoded data removed]",
      "text/plain": [
       "<matplotlib.figure.Figure at 0x10af5a630>"
      ]
     },
     "metadata": {},
     "output_type": "display_data"
    }
   ],
   "source": [
    "vals = [9, 4, 4]\n",
    "fig, ax = plt.subplots()\n",
    "labels = 'L', 'M', 'H'\n",
    "colors = ['yellowgreen', 'gold', 'lightskyblue']\n",
    "explode = (0.1, 0, 0)\n",
    "\n",
    "ax.pie(vals, explode=explode, labels=labels, colors=colors,autopct='%1.1f%%', shadow=True, startangle=90,radius=1.2)\n",
    "ax.set(aspect=\"equal\", title='Pie plot for Resource Levels')\n",
    "\n",
    "plt.show()"
   ]
  },
  {
   "cell_type": "code",
   "execution_count": 46,
   "metadata": {},
   "outputs": [
    {
     "data": {
      "text/plain": [
       "M    7\n",
       "L    5\n",
       "H    5\n",
       "Name: Member_NEW, dtype: int64"
      ]
     },
     "execution_count": 46,
     "metadata": {},
     "output_type": "execute_result"
    }
   ],
   "source": [
    "int_data2['Member_NEW'].value_counts()"
   ]
  },
  {
   "cell_type": "code",
   "execution_count": 47,
   "metadata": {},
   "outputs": [
    {
     "data": {
      "text/plain": [
       "Second     11\n",
       "No Pass     4\n",
       "Pass        2\n",
       "Name: PORE_Results, dtype: int64"
      ]
     },
     "execution_count": 47,
     "metadata": {},
     "output_type": "execute_result"
    }
   ],
   "source": [
    "int_data2.PORE_Results.value_counts()"
   ]
  },
  {
   "cell_type": "code",
   "execution_count": 48,
   "metadata": {},
   "outputs": [
    {
     "data": {
      "image/png": "[encoded data removed]",
      "text/plain": [
       "<matplotlib.figure.Figure at 0x10af19e10>"
      ]
     },
     "metadata": {},
     "output_type": "display_data"
    }
   ],
   "source": [
    "vals = [11, 4, 2]\n",
    "fig, ax = plt.subplots()\n",
    "labels = 'Second', 'No Pass', 'Pass'\n",
    "colors = ['yellowgreen', 'gold', 'lightskyblue']\n",
    "explode = (0.1, 0, 0)\n",
    "\n",
    "ax.pie(vals, explode=explode, labels=labels, colors=colors,autopct='%1.1f%%', shadow=True, startangle=90,radius=1.2)\n",
    "ax.set(aspect=\"equal\", title='Pie plot for Result')\n",
    "\n",
    "plt.show()"
   ]
  },
  {
   "cell_type": "code",
   "execution_count": 49,
   "metadata": {
    "collapsed": true
   },
   "outputs": [],
   "source": [
    "#grouped_ =int_data2.groupby(\"Strategy_NEW\")\n",
    "#grouped_.mean()\n",
    "##grouped_['Strategy','Score','Innovation','Report'].mean()"
   ]
  },
  {
   "cell_type": "code",
   "execution_count": 50,
   "metadata": {
    "collapsed": true
   },
   "outputs": [],
   "source": [
    "#grouped_ =int_data2.groupby([\"Strategy_NEW\",\"Member_NEW\",\"Resource_NEW\",\"Section_NEW\"])\n",
    "#grouped_.mean()"
   ]
  },
  {
   "cell_type": "code",
   "execution_count": 51,
   "metadata": {
    "collapsed": true
   },
   "outputs": [],
   "source": [
    "#grpagg = int_data2.groupby('Strategy_NEW').aggregate(np.mean)\n",
    "#grpagg"
   ]
  },
  {
   "cell_type": "code",
   "execution_count": 52,
   "metadata": {
    "collapsed": true
   },
   "outputs": [],
   "source": [
    "#pd.pivot_table(int_data2, index=\"Strategy_NEW\")"
   ]
  },
  {
   "cell_type": "code",
   "execution_count": 53,
   "metadata": {
    "collapsed": true
   },
   "outputs": [],
   "source": [
    "#pd.pivot_table(int_data2, index=\"Strategy_NEW\", values=['Strategy','Score','Innovation','Report'], aggfunc=np.mean)"
   ]
  },
  {
   "cell_type": "code",
   "execution_count": 54,
   "metadata": {
    "collapsed": true
   },
   "outputs": [],
   "source": [
    "#pd.pivot_table(int_data2, index=(\"Strategy_NEW\",\"Name\"), values=['Strategy','Score','Innovation','Report'], aggfunc=np.mean)"
   ]
  },
  {
   "cell_type": "code",
   "execution_count": 55,
   "metadata": {
    "collapsed": true
   },
   "outputs": [],
   "source": [
    "#pd.pivot_table(int_data2, index=(\"Strategy_NEW\",\"Name\"), values=['Strategy','Score','Innovation','Report'])"
   ]
  },
  {
   "cell_type": "code",
   "execution_count": 56,
   "metadata": {},
   "outputs": [
    {
     "data": {
      "text/html": [
       "<div>\n",
       "<style>\n",
       "    .dataframe thead tr:only-child th {\n",
       "        text-align: right;\n",
       "    }\n",
       "\n",
       "    .dataframe thead th {\n",
       "        text-align: left;\n",
       "    }\n",
       "\n",
       "    .dataframe tbody tr th {\n",
       "        vertical-align: top;\n",
       "    }\n",
       "</style>\n",
       "<table border=\"1\" class=\"dataframe\">\n",
       "  <thead>\n",
       "    <tr style=\"text-align: right;\">\n",
       "      <th></th>\n",
       "      <th></th>\n",
       "      <th></th>\n",
       "      <th></th>\n",
       "      <th></th>\n",
       "      <th></th>\n",
       "      <th>Score</th>\n",
       "      <th>Strategy</th>\n",
       "    </tr>\n",
       "    <tr>\n",
       "      <th>PORE_Results</th>\n",
       "      <th>Strategy_NEW</th>\n",
       "      <th>Resource_NEW</th>\n",
       "      <th>Name</th>\n",
       "      <th>Member_NEW</th>\n",
       "      <th>Section_NEW</th>\n",
       "      <th></th>\n",
       "      <th></th>\n",
       "    </tr>\n",
       "  </thead>\n",
       "  <tbody>\n",
       "    <tr>\n",
       "      <th rowspan=\"4\" valign=\"top\">No Pass</th>\n",
       "      <th rowspan=\"4\" valign=\"top\">C</th>\n",
       "      <th>H</th>\n",
       "      <th>JK</th>\n",
       "      <th>M</th>\n",
       "      <th>Domain</th>\n",
       "      <td>50.67</td>\n",
       "      <td>43.33</td>\n",
       "    </tr>\n",
       "    <tr>\n",
       "      <th rowspan=\"2\" valign=\"top\">L</th>\n",
       "      <th>Cesare</th>\n",
       "      <th>L</th>\n",
       "      <th>Segment</th>\n",
       "      <td>56.70</td>\n",
       "      <td>64.17</td>\n",
       "    </tr>\n",
       "    <tr>\n",
       "      <th>Killer</th>\n",
       "      <th>H</th>\n",
       "      <th>Segment</th>\n",
       "      <td>56.25</td>\n",
       "      <td>57.50</td>\n",
       "    </tr>\n",
       "    <tr>\n",
       "      <th>M</th>\n",
       "      <th>Javier</th>\n",
       "      <th>H</th>\n",
       "      <th>Segment</th>\n",
       "      <td>61.05</td>\n",
       "      <td>59.17</td>\n",
       "    </tr>\n",
       "    <tr>\n",
       "      <th rowspan=\"2\" valign=\"top\">Pass</th>\n",
       "      <th rowspan=\"2\" valign=\"top\">A</th>\n",
       "      <th rowspan=\"2\" valign=\"top\">H</th>\n",
       "      <th>YT1</th>\n",
       "      <th>H</th>\n",
       "      <th>Segment</th>\n",
       "      <td>82.95</td>\n",
       "      <td>89.17</td>\n",
       "    </tr>\n",
       "    <tr>\n",
       "      <th>YT2</th>\n",
       "      <th>H</th>\n",
       "      <th>Segment</th>\n",
       "      <td>79.46</td>\n",
       "      <td>84.17</td>\n",
       "    </tr>\n",
       "    <tr>\n",
       "      <th rowspan=\"11\" valign=\"top\">Second</th>\n",
       "      <th rowspan=\"6\" valign=\"top\">A</th>\n",
       "      <th>H</th>\n",
       "      <th>KS</th>\n",
       "      <th>M</th>\n",
       "      <th>Domain</th>\n",
       "      <td>73.73</td>\n",
       "      <td>80.00</td>\n",
       "    </tr>\n",
       "    <tr>\n",
       "      <th rowspan=\"2\" valign=\"top\">L</th>\n",
       "      <th>James</th>\n",
       "      <th>L</th>\n",
       "      <th>Eco</th>\n",
       "      <td>72.03</td>\n",
       "      <td>83.33</td>\n",
       "    </tr>\n",
       "    <tr>\n",
       "      <th>YC</th>\n",
       "      <th>M</th>\n",
       "      <th>Segment</th>\n",
       "      <td>76.13</td>\n",
       "      <td>86.67</td>\n",
       "    </tr>\n",
       "    <tr>\n",
       "      <th rowspan=\"3\" valign=\"top\">M</th>\n",
       "      <th>Catherine</th>\n",
       "      <th>M</th>\n",
       "      <th>Domain</th>\n",
       "      <td>76.14</td>\n",
       "      <td>85.83</td>\n",
       "    </tr>\n",
       "    <tr>\n",
       "      <th>Liam</th>\n",
       "      <th>H</th>\n",
       "      <th>Segment</th>\n",
       "      <td>79.34</td>\n",
       "      <td>88.83</td>\n",
       "    </tr>\n",
       "    <tr>\n",
       "      <th>Moro</th>\n",
       "      <th>M</th>\n",
       "      <th>Segment</th>\n",
       "      <td>74.96</td>\n",
       "      <td>85.83</td>\n",
       "    </tr>\n",
       "    <tr>\n",
       "      <th rowspan=\"5\" valign=\"top\">B</th>\n",
       "      <th rowspan=\"5\" valign=\"top\">L</th>\n",
       "      <th>Angela</th>\n",
       "      <th>M</th>\n",
       "      <th>Domain</th>\n",
       "      <td>68.46</td>\n",
       "      <td>77.50</td>\n",
       "    </tr>\n",
       "    <tr>\n",
       "      <th>Daniel</th>\n",
       "      <th>L</th>\n",
       "      <th>Segment</th>\n",
       "      <td>60.40</td>\n",
       "      <td>77.50</td>\n",
       "    </tr>\n",
       "    <tr>\n",
       "      <th>HM2</th>\n",
       "      <th>L</th>\n",
       "      <th>Segment</th>\n",
       "      <td>64.98</td>\n",
       "      <td>75.83</td>\n",
       "    </tr>\n",
       "    <tr>\n",
       "      <th>Hugh</th>\n",
       "      <th>L</th>\n",
       "      <th>Domain</th>\n",
       "      <td>61.02</td>\n",
       "      <td>75.83</td>\n",
       "    </tr>\n",
       "    <tr>\n",
       "      <th>SM</th>\n",
       "      <th>M</th>\n",
       "      <th>Segment</th>\n",
       "      <td>62.33</td>\n",
       "      <td>74.17</td>\n",
       "    </tr>\n",
       "  </tbody>\n",
       "</table>\n",
       "</div>"
      ],
      "text/plain": [
       "                                                                         Score  \\\n",
       "PORE_Results Strategy_NEW Resource_NEW Name      Member_NEW Section_NEW          \n",
       "No Pass      C            H            JK        M          Domain       50.67   \n",
       "                          L            Cesare    L          Segment      56.70   \n",
       "                                       Killer    H          Segment      56.25   \n",
       "                          M            Javier    H          Segment      61.05   \n",
       "Pass         A            H            YT1       H          Segment      82.95   \n",
       "                                       YT2       H          Segment      79.46   \n",
       "Second       A            H            KS        M          Domain       73.73   \n",
       "                          L            James     L          Eco          72.03   \n",
       "                                       YC        M          Segment      76.13   \n",
       "                          M            Catherine M          Domain       76.14   \n",
       "                                       Liam      H          Segment      79.34   \n",
       "                                       Moro      M          Segment      74.96   \n",
       "             B            L            Angela    M          Domain       68.46   \n",
       "                                       Daniel    L          Segment      60.40   \n",
       "                                       HM2       L          Segment      64.98   \n",
       "                                       Hugh      L          Domain       61.02   \n",
       "                                       SM        M          Segment      62.33   \n",
       "\n",
       "                                                                         Strategy  \n",
       "PORE_Results Strategy_NEW Resource_NEW Name      Member_NEW Section_NEW            \n",
       "No Pass      C            H            JK        M          Domain          43.33  \n",
       "                          L            Cesare    L          Segment         64.17  \n",
       "                                       Killer    H          Segment         57.50  \n",
       "                          M            Javier    H          Segment         59.17  \n",
       "Pass         A            H            YT1       H          Segment         89.17  \n",
       "                                       YT2       H          Segment         84.17  \n",
       "Second       A            H            KS        M          Domain          80.00  \n",
       "                          L            James     L          Eco             83.33  \n",
       "                                       YC        M          Segment         86.67  \n",
       "                          M            Catherine M          Domain          85.83  \n",
       "                                       Liam      H          Segment         88.83  \n",
       "                                       Moro      M          Segment         85.83  \n",
       "             B            L            Angela    M          Domain          77.50  \n",
       "                                       Daniel    L          Segment         77.50  \n",
       "                                       HM2       L          Segment         75.83  \n",
       "                                       Hugh      L          Domain          75.83  \n",
       "                                       SM        M          Segment         74.17  "
      ]
     },
     "execution_count": 56,
     "metadata": {},
     "output_type": "execute_result"
    }
   ],
   "source": [
    "tempp=pd.pivot_table(int_data2, index=(\"PORE_Results\",\"Strategy_NEW\",\"Resource_NEW\",\"Name\",\"Member_NEW\",\"Section_NEW\"), values=['Strategy','Score'])\n",
    "tempp"
   ]
  },
  {
   "cell_type": "code",
   "execution_count": 57,
   "metadata": {
    "collapsed": true
   },
   "outputs": [],
   "source": [
    "tempp.to_excel(\"/Users/cesare.chung/Downloads/AR/_PORE_Second.xlsx\", index=True,encoding=\"big5\")"
   ]
  },
  {
   "cell_type": "code",
   "execution_count": 58,
   "metadata": {},
   "outputs": [
    {
     "data": {
      "text/html": [
       "<div>\n",
       "<style>\n",
       "    .dataframe thead tr:only-child th {\n",
       "        text-align: right;\n",
       "    }\n",
       "\n",
       "    .dataframe thead th {\n",
       "        text-align: left;\n",
       "    }\n",
       "\n",
       "    .dataframe tbody tr th {\n",
       "        vertical-align: top;\n",
       "    }\n",
       "</style>\n",
       "<table border=\"1\" class=\"dataframe\">\n",
       "  <thead>\n",
       "    <tr style=\"text-align: right;\">\n",
       "      <th></th>\n",
       "      <th></th>\n",
       "      <th></th>\n",
       "      <th></th>\n",
       "      <th></th>\n",
       "      <th>Score</th>\n",
       "      <th>Strategy</th>\n",
       "    </tr>\n",
       "    <tr>\n",
       "      <th>Strategy_NEW</th>\n",
       "      <th>Resource_NEW</th>\n",
       "      <th>PORE_Results</th>\n",
       "      <th>Name</th>\n",
       "      <th>Section_NEW</th>\n",
       "      <th></th>\n",
       "      <th></th>\n",
       "    </tr>\n",
       "  </thead>\n",
       "  <tbody>\n",
       "    <tr>\n",
       "      <th rowspan=\"8\" valign=\"top\">A</th>\n",
       "      <th rowspan=\"3\" valign=\"top\">H</th>\n",
       "      <th rowspan=\"2\" valign=\"top\">Pass</th>\n",
       "      <th>YT1</th>\n",
       "      <th>Segment</th>\n",
       "      <td>82.95</td>\n",
       "      <td>89.17</td>\n",
       "    </tr>\n",
       "    <tr>\n",
       "      <th>YT2</th>\n",
       "      <th>Segment</th>\n",
       "      <td>79.46</td>\n",
       "      <td>84.17</td>\n",
       "    </tr>\n",
       "    <tr>\n",
       "      <th>Second</th>\n",
       "      <th>KS</th>\n",
       "      <th>Domain</th>\n",
       "      <td>73.73</td>\n",
       "      <td>80.00</td>\n",
       "    </tr>\n",
       "    <tr>\n",
       "      <th rowspan=\"2\" valign=\"top\">L</th>\n",
       "      <th rowspan=\"2\" valign=\"top\">Second</th>\n",
       "      <th>James</th>\n",
       "      <th>Eco</th>\n",
       "      <td>72.03</td>\n",
       "      <td>83.33</td>\n",
       "    </tr>\n",
       "    <tr>\n",
       "      <th>YC</th>\n",
       "      <th>Segment</th>\n",
       "      <td>76.13</td>\n",
       "      <td>86.67</td>\n",
       "    </tr>\n",
       "    <tr>\n",
       "      <th rowspan=\"3\" valign=\"top\">M</th>\n",
       "      <th rowspan=\"3\" valign=\"top\">Second</th>\n",
       "      <th>Catherine</th>\n",
       "      <th>Domain</th>\n",
       "      <td>76.14</td>\n",
       "      <td>85.83</td>\n",
       "    </tr>\n",
       "    <tr>\n",
       "      <th>Liam</th>\n",
       "      <th>Segment</th>\n",
       "      <td>79.34</td>\n",
       "      <td>88.83</td>\n",
       "    </tr>\n",
       "    <tr>\n",
       "      <th>Moro</th>\n",
       "      <th>Segment</th>\n",
       "      <td>74.96</td>\n",
       "      <td>85.83</td>\n",
       "    </tr>\n",
       "    <tr>\n",
       "      <th rowspan=\"5\" valign=\"top\">B</th>\n",
       "      <th rowspan=\"5\" valign=\"top\">L</th>\n",
       "      <th rowspan=\"5\" valign=\"top\">Second</th>\n",
       "      <th>Angela</th>\n",
       "      <th>Domain</th>\n",
       "      <td>68.46</td>\n",
       "      <td>77.50</td>\n",
       "    </tr>\n",
       "    <tr>\n",
       "      <th>Daniel</th>\n",
       "      <th>Segment</th>\n",
       "      <td>60.40</td>\n",
       "      <td>77.50</td>\n",
       "    </tr>\n",
       "    <tr>\n",
       "      <th>HM2</th>\n",
       "      <th>Segment</th>\n",
       "      <td>64.98</td>\n",
       "      <td>75.83</td>\n",
       "    </tr>\n",
       "    <tr>\n",
       "      <th>Hugh</th>\n",
       "      <th>Domain</th>\n",
       "      <td>61.02</td>\n",
       "      <td>75.83</td>\n",
       "    </tr>\n",
       "    <tr>\n",
       "      <th>SM</th>\n",
       "      <th>Segment</th>\n",
       "      <td>62.33</td>\n",
       "      <td>74.17</td>\n",
       "    </tr>\n",
       "    <tr>\n",
       "      <th rowspan=\"4\" valign=\"top\">C</th>\n",
       "      <th>H</th>\n",
       "      <th>No Pass</th>\n",
       "      <th>JK</th>\n",
       "      <th>Domain</th>\n",
       "      <td>50.67</td>\n",
       "      <td>43.33</td>\n",
       "    </tr>\n",
       "    <tr>\n",
       "      <th rowspan=\"2\" valign=\"top\">L</th>\n",
       "      <th rowspan=\"2\" valign=\"top\">No Pass</th>\n",
       "      <th>Cesare</th>\n",
       "      <th>Segment</th>\n",
       "      <td>56.70</td>\n",
       "      <td>64.17</td>\n",
       "    </tr>\n",
       "    <tr>\n",
       "      <th>Killer</th>\n",
       "      <th>Segment</th>\n",
       "      <td>56.25</td>\n",
       "      <td>57.50</td>\n",
       "    </tr>\n",
       "    <tr>\n",
       "      <th>M</th>\n",
       "      <th>No Pass</th>\n",
       "      <th>Javier</th>\n",
       "      <th>Segment</th>\n",
       "      <td>61.05</td>\n",
       "      <td>59.17</td>\n",
       "    </tr>\n",
       "  </tbody>\n",
       "</table>\n",
       "</div>"
      ],
      "text/plain": [
       "                                                              Score  Strategy\n",
       "Strategy_NEW Resource_NEW PORE_Results Name      Section_NEW                 \n",
       "A            H            Pass         YT1       Segment      82.95     89.17\n",
       "                                       YT2       Segment      79.46     84.17\n",
       "                          Second       KS        Domain       73.73     80.00\n",
       "             L            Second       James     Eco          72.03     83.33\n",
       "                                       YC        Segment      76.13     86.67\n",
       "             M            Second       Catherine Domain       76.14     85.83\n",
       "                                       Liam      Segment      79.34     88.83\n",
       "                                       Moro      Segment      74.96     85.83\n",
       "B            L            Second       Angela    Domain       68.46     77.50\n",
       "                                       Daniel    Segment      60.40     77.50\n",
       "                                       HM2       Segment      64.98     75.83\n",
       "                                       Hugh      Domain       61.02     75.83\n",
       "                                       SM        Segment      62.33     74.17\n",
       "C            H            No Pass      JK        Domain       50.67     43.33\n",
       "             L            No Pass      Cesare    Segment      56.70     64.17\n",
       "                                       Killer    Segment      56.25     57.50\n",
       "             M            No Pass      Javier    Segment      61.05     59.17"
      ]
     },
     "execution_count": 58,
     "metadata": {},
     "output_type": "execute_result"
    }
   ],
   "source": [
    "pd.pivot_table(int_data2, index=(\"Strategy_NEW\",\"Resource_NEW\",\"PORE_Results\",\"Name\",\"Section_NEW\"), values=['Strategy','Score'])"
   ]
  },
  {
   "cell_type": "markdown",
   "metadata": {},
   "source": [
    "# Subset"
   ]
  },
  {
   "cell_type": "code",
   "execution_count": 59,
   "metadata": {},
   "outputs": [
    {
     "data": {
      "text/html": [
       "<div>\n",
       "<style>\n",
       "    .dataframe thead tr:only-child th {\n",
       "        text-align: right;\n",
       "    }\n",
       "\n",
       "    .dataframe thead th {\n",
       "        text-align: left;\n",
       "    }\n",
       "\n",
       "    .dataframe tbody tr th {\n",
       "        vertical-align: top;\n",
       "    }\n",
       "</style>\n",
       "<table border=\"1\" class=\"dataframe\">\n",
       "  <thead>\n",
       "    <tr style=\"text-align: right;\">\n",
       "      <th></th>\n",
       "      <th>Name</th>\n",
       "      <th>Score</th>\n",
       "      <th>Strategy</th>\n",
       "      <th>Innovation</th>\n",
       "      <th>Member</th>\n",
       "      <th>Resource</th>\n",
       "      <th>Report</th>\n",
       "      <th>Section</th>\n",
       "      <th>Strategy_NEW</th>\n",
       "      <th>Section_NEW</th>\n",
       "      <th>Resource_NEW</th>\n",
       "      <th>Member_NEW</th>\n",
       "      <th>PORE_Results</th>\n",
       "    </tr>\n",
       "  </thead>\n",
       "  <tbody>\n",
       "    <tr>\n",
       "      <th>0</th>\n",
       "      <td>YT1</td>\n",
       "      <td>82.95</td>\n",
       "      <td>89.17</td>\n",
       "      <td>70.00</td>\n",
       "      <td>81.67</td>\n",
       "      <td>76.67</td>\n",
       "      <td>7.98</td>\n",
       "      <td>S</td>\n",
       "      <td>A</td>\n",
       "      <td>Segment</td>\n",
       "      <td>H</td>\n",
       "      <td>H</td>\n",
       "      <td>Pass</td>\n",
       "    </tr>\n",
       "    <tr>\n",
       "      <th>5</th>\n",
       "      <td>YT2</td>\n",
       "      <td>79.46</td>\n",
       "      <td>84.17</td>\n",
       "      <td>70.83</td>\n",
       "      <td>80.00</td>\n",
       "      <td>78.33</td>\n",
       "      <td>7.71</td>\n",
       "      <td>S</td>\n",
       "      <td>A</td>\n",
       "      <td>Segment</td>\n",
       "      <td>H</td>\n",
       "      <td>H</td>\n",
       "      <td>Pass</td>\n",
       "    </tr>\n",
       "  </tbody>\n",
       "</table>\n",
       "</div>"
      ],
      "text/plain": [
       "  Name  Score  Strategy  Innovation  Member  Resource  Report Section  \\\n",
       "0  YT1  82.95     89.17       70.00   81.67     76.67    7.98       S   \n",
       "5  YT2  79.46     84.17       70.83   80.00     78.33    7.71       S   \n",
       "\n",
       "  Strategy_NEW Section_NEW Resource_NEW Member_NEW PORE_Results  \n",
       "0            A     Segment            H          H         Pass  \n",
       "5            A     Segment            H          H         Pass  "
      ]
     },
     "execution_count": 59,
     "metadata": {},
     "output_type": "execute_result"
    }
   ],
   "source": [
    "# Strategy > 80 Innovation > 70 Report > 7\n",
    "#\n",
    "int_data_Strategy = int_data2[(int_data2.Strategy >= 80) & (int_data2.Innovation >= 70 ) & (int_data2.Report >= 7)]\n",
    "int_data_Strategy = int_data_Strategy.sort_values('Strategy', ascending=False)\n",
    "int_data_Strategy"
   ]
  },
  {
   "cell_type": "code",
   "execution_count": 60,
   "metadata": {
    "collapsed": true
   },
   "outputs": [],
   "source": [
    "#int_data_Strategy.to_csv(\"/Users/cesare.chung/Downloads/AR/PORE_Result.csv\", index=False,encoding=\"big5\")"
   ]
  },
  {
   "cell_type": "markdown",
   "metadata": {},
   "source": [
    "# Plotting"
   ]
  },
  {
   "cell_type": "code",
   "execution_count": 61,
   "metadata": {},
   "outputs": [
    {
     "data": {
      "image/png": "[encoded data removed]",
      "text/plain": [
       "<matplotlib.figure.Figure at 0x10b09a6d8>"
      ]
     },
     "metadata": {},
     "output_type": "display_data"
    }
   ],
   "source": [
    "%matplotlib inline\n",
    "import matplotlib.pyplot as plt\n",
    "int_data2.hist(bins=50, figsize=(20,15))\n",
    "plt.show()"
   ]
  },
  {
   "cell_type": "code",
   "execution_count": 62,
   "metadata": {},
   "outputs": [
    {
     "data": {
      "text/plain": [
       "array([[<matplotlib.axes._subplots.AxesSubplot object at 0x10bd805f8>,\n",
       "        <matplotlib.axes._subplots.AxesSubplot object at 0x10be87908>,\n",
       "        <matplotlib.axes._subplots.AxesSubplot object at 0x10beb49e8>,\n",
       "        <matplotlib.axes._subplots.AxesSubplot object at 0x10c2e6a58>,\n",
       "        <matplotlib.axes._subplots.AxesSubplot object at 0x10c2f52e8>,\n",
       "        <matplotlib.axes._subplots.AxesSubplot object at 0x10c37aa58>],\n",
       "       [<matplotlib.axes._subplots.AxesSubplot object at 0x10c3c0cc0>,\n",
       "        <matplotlib.axes._subplots.AxesSubplot object at 0x10c414a90>,\n",
       "        <matplotlib.axes._subplots.AxesSubplot object at 0x10c45ecc0>,\n",
       "        <matplotlib.axes._subplots.AxesSubplot object at 0x10c4bf5f8>,\n",
       "        <matplotlib.axes._subplots.AxesSubplot object at 0x10b006f28>,\n",
       "        <matplotlib.axes._subplots.AxesSubplot object at 0x10b428f98>],\n",
       "       [<matplotlib.axes._subplots.AxesSubplot object at 0x10b4b68d0>,\n",
       "        <matplotlib.axes._subplots.AxesSubplot object at 0x10af4a710>,\n",
       "        <matplotlib.axes._subplots.AxesSubplot object at 0x109e1b828>,\n",
       "        <matplotlib.axes._subplots.AxesSubplot object at 0x10b22e390>,\n",
       "        <matplotlib.axes._subplots.AxesSubplot object at 0x10b06de80>,\n",
       "        <matplotlib.axes._subplots.AxesSubplot object at 0x10b6cc6d8>],\n",
       "       [<matplotlib.axes._subplots.AxesSubplot object at 0x10b6f2fd0>,\n",
       "        <matplotlib.axes._subplots.AxesSubplot object at 0x10aeec470>,\n",
       "        <matplotlib.axes._subplots.AxesSubplot object at 0x10b600978>,\n",
       "        <matplotlib.axes._subplots.AxesSubplot object at 0x10b645ef0>,\n",
       "        <matplotlib.axes._subplots.AxesSubplot object at 0x10b671da0>,\n",
       "        <matplotlib.axes._subplots.AxesSubplot object at 0x10b7639b0>],\n",
       "       [<matplotlib.axes._subplots.AxesSubplot object at 0x10af19cc0>,\n",
       "        <matplotlib.axes._subplots.AxesSubplot object at 0x10bdc7390>,\n",
       "        <matplotlib.axes._subplots.AxesSubplot object at 0x10b57b358>,\n",
       "        <matplotlib.axes._subplots.AxesSubplot object at 0x10bdf9a90>,\n",
       "        <matplotlib.axes._subplots.AxesSubplot object at 0x10b50afd0>,\n",
       "        <matplotlib.axes._subplots.AxesSubplot object at 0x10b0a9a58>],\n",
       "       [<matplotlib.axes._subplots.AxesSubplot object at 0x10aec4f60>,\n",
       "        <matplotlib.axes._subplots.AxesSubplot object at 0x10b30c080>,\n",
       "        <matplotlib.axes._subplots.AxesSubplot object at 0x10b154eb8>,\n",
       "        <matplotlib.axes._subplots.AxesSubplot object at 0x10b147748>,\n",
       "        <matplotlib.axes._subplots.AxesSubplot object at 0x10c5437b8>,\n",
       "        <matplotlib.axes._subplots.AxesSubplot object at 0x10c54f908>]], dtype=object)"
      ]
     },
     "execution_count": 62,
     "metadata": {},
     "output_type": "execute_result"
    },
    {
     "data": {
      "image/png": "[encoded data removed]",
      "text/plain": [
       "<matplotlib.figure.Figure at 0x10be93a58>"
      ]
     },
     "metadata": {},
     "output_type": "display_data"
    }
   ],
   "source": [
    "from pandas.plotting import scatter_matrix\n",
    "\n",
    "attributes = [\"Score\", \"Strategy\", \"Innovation\",\"Report\",\"Resource\",\"Member\"]\n",
    "scatter_matrix(int_data2[attributes], figsize=(12, 8))"
   ]
  },
  {
   "cell_type": "code",
   "execution_count": 63,
   "metadata": {},
   "outputs": [
    {
     "data": {
      "image/png": "[encoded data removed]",
      "text/plain": [
       "<matplotlib.figure.Figure at 0x10ca368d0>"
      ]
     },
     "metadata": {},
     "output_type": "display_data"
    }
   ],
   "source": [
    "%matplotlib inline\n",
    "import matplotlib.pyplot as plt\n",
    "#int_data2.plot(kind = \"scatter\", x = \"Strategy\", y = \"Report\", s=[40, 120, 200])\n",
    "\n",
    "int_data2.plot(kind = \"scatter\", x = \"Strategy\", y = \"Score\")\n",
    "#int_data2.plot(kind = \"scatter\", x = \"Strategy\", y = \"Report\")\n",
    "#int_data2.plot(kind = \"scatter\", x = \"Strategy\", y = \"Innovation\")\n",
    "\n",
    "plt.show()"
   ]
  },
  {
   "cell_type": "code",
   "execution_count": 64,
   "metadata": {},
   "outputs": [
    {
     "data": {
      "image/png": "[encoded data removed]",
      "text/plain": [
       "<matplotlib.figure.Figure at 0x10c752a90>"
      ]
     },
     "metadata": {},
     "output_type": "display_data"
    }
   ],
   "source": [
    "#int_data2.plot(kind=\"bar\")\n",
    "int_data2[['Score','Strategy','Resource']].sort_values('Strategy', ascending=False).plot(kind=\"bar\")\n",
    "\n",
    "plt.grid(True)\n",
    "plt.show()"
   ]
  },
  {
   "cell_type": "code",
   "execution_count": 65,
   "metadata": {},
   "outputs": [
    {
     "data": {
      "image/png": "[encoded data removed]",
      "text/plain": [
       "<matplotlib.figure.Figure at 0x10b22eda0>"
      ]
     },
     "metadata": {},
     "output_type": "display_data"
    },
    {
     "data": {
      "image/png": "[encoded data removed]",
      "text/plain": [
       "<matplotlib.figure.Figure at 0x10b6e0f28>"
      ]
     },
     "metadata": {},
     "output_type": "display_data"
    },
    {
     "data": {
      "image/png": "[encoded data removed]",
      "text/plain": [
       "<matplotlib.figure.Figure at 0x10b1c45f8>"
      ]
     },
     "metadata": {},
     "output_type": "display_data"
    }
   ],
   "source": [
    "#\n",
    "h = int_data2.sort_values('Strategy', ascending=False).groupby(['Strategy_NEW'])\n",
    "h['Score','Strategy','Resource'].plot(kind=\"bar\")\n",
    "#\n",
    "plt.grid(True)\n",
    "plt.show()"
   ]
  },
  {
   "cell_type": "code",
   "execution_count": 66,
   "metadata": {},
   "outputs": [
    {
     "data": {
      "text/plain": [
       "<matplotlib.text.Text at 0x10cf06048>"
      ]
     },
     "execution_count": 66,
     "metadata": {},
     "output_type": "execute_result"
    },
    {
     "data": {
      "image/png": "[encoded data removed]",
      "text/plain": [
       "<matplotlib.figure.Figure at 0x10cd8e208>"
      ]
     },
     "metadata": {},
     "output_type": "display_data"
    }
   ],
   "source": [
    "#\n",
    "Tempo = pd.crosstab(int_data2.Strategy, int_data2.Resource_NEW)\n",
    "Tempo.plot(kind='bar', stacked=True, color=['red','blue','green'], grid=True)\n",
    "plt.title('Strategy Distribution by Resource')\n",
    "plt.xlabel('Strategy')\n",
    "plt.ylabel('Frequency')\n",
    "#"
   ]
  },
  {
   "cell_type": "code",
   "execution_count": 67,
   "metadata": {},
   "outputs": [
    {
     "data": {
      "text/plain": [
       "<matplotlib.text.Text at 0x10d0d8710>"
      ]
     },
     "execution_count": 67,
     "metadata": {},
     "output_type": "execute_result"
    },
    {
     "data": {
      "image/png": "[encoded data removed]",
      "text/plain": [
       "<matplotlib.figure.Figure at 0x10cddf2e8>"
      ]
     },
     "metadata": {},
     "output_type": "display_data"
    }
   ],
   "source": [
    "Resource_grouping = int_data2.groupby(['Resource_NEW','PORE_Results']).mean()\n",
    "Resource_grouping['Strategy'].plot(kind='bar', stacked=True, color=['blue'], grid=True,alpha=0.55)\n",
    "plt.ylabel('Strategy')"
   ]
  },
  {
   "cell_type": "code",
   "execution_count": 68,
   "metadata": {},
   "outputs": [
    {
     "data": {
      "text/plain": [
       "<matplotlib.text.Text at 0x10cd892e8>"
      ]
     },
     "execution_count": 68,
     "metadata": {},
     "output_type": "execute_result"
    },
    {
     "data": {
      "image/png": "[encoded data removed]",
      "text/plain": [
       "<matplotlib.figure.Figure at 0x10d0767b8>"
      ]
     },
     "metadata": {},
     "output_type": "display_data"
    }
   ],
   "source": [
    "#\n",
    "Group_by_Resource = pd.cut(int_data2[\"Resource\"], np.arange(25, 90, 10))\n",
    "Resource_grouping = int_data2.groupby(Group_by_Resource).mean()\n",
    "#Resource_grouping['Strategy'].plot.bar()\n",
    "Resource_grouping['Strategy'].plot(kind='bar', stacked=True, color=['red','blue','black'], grid=True)\n",
    "\n",
    "plt.xlabel('Resource')\n",
    "plt.ylabel('Strategy')\n",
    "#"
   ]
  },
  {
   "cell_type": "code",
   "execution_count": 69,
   "metadata": {
    "collapsed": true
   },
   "outputs": [],
   "source": [
    "#int_data2=int_data2.rename(columns={'Strategy_NEW': '策略方向','Resource_NEW': '資源','Member_NEW': '組織成員','Section_NEW':'領域','Score': '總分'})  "
   ]
  },
  {
   "cell_type": "code",
   "execution_count": null,
   "metadata": {
    "collapsed": true
   },
   "outputs": [],
   "source": []
  }
 ],
 "metadata": {
  "kernelspec": {
   "display_name": "Python 3",
   "language": "python",
   "name": "python3"
  },
  "language_info": {
   "codemirror_mode": {
    "name": "ipython",
    "version": 3
   },
   "file_extension": ".py",
   "mimetype": "text/x-python",
   "name": "python",
   "nbconvert_exporter": "python",
   "pygments_lexer": "ipython3",
   "version": "3.5.3"
  }
 },
 "nbformat": 4,
 "nbformat_minor": 2
}
