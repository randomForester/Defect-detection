{
 "cells": [
  {
   "cell_type": "code",
   "execution_count": 1,
   "metadata": {
    "collapsed": true
   },
   "outputs": [],
   "source": [
    "#%matplotlib\n",
    "%matplotlib inline\n",
    "import pandas as pd\n",
    "import numpy as np\n",
    "import matplotlib as plt\n",
    "import matplotlib.pyplot as plt\n",
    "import seaborn as sns\n",
    "from pandas.tools.plotting import scatter_matrix\n",
    "from pandas import DataFrame\n",
    "#\n",
    "from sklearn.metrics import explained_variance_score\n",
    "from sklearn.metrics import mean_absolute_error\n",
    "from sklearn.metrics import mean_squared_error\n",
    "from sklearn.ensemble import RandomForestRegressor\n",
    "#"
   ]
  },
  {
   "cell_type": "code",
   "execution_count": 2,
   "metadata": {},
   "outputs": [
    {
     "name": "stdout",
     "output_type": "stream",
     "text": [
      "/Users/cesare.chung/Dropbox/2017ML/CHPT-NTHU/Working_Directory_/Rcode/AU2/ENIG\n"
     ]
    }
   ],
   "source": [
    "import os;\n",
    "os.chdir(\"/Users/cesare.chung/Dropbox/2017ML/CHPT-NTHU/Working_Directory_/Rcode/AU2/ENIG/\")\n",
    "print (os.getcwd())"
   ]
  },
  {
   "cell_type": "code",
   "execution_count": 3,
   "metadata": {},
   "outputs": [
    {
     "name": "stdout",
     "output_type": "stream",
     "text": [
      "Python3: Chinese characters in csv file need to be removed!!! \n",
      "\n"
     ]
    }
   ],
   "source": [
    "print('Python3: Chinese characters in csv file need to be removed!!! \\n')\n",
    "#df = pd.read_csv(\"forR.csv\")\n",
    "df = pd.read_csv(\"forR2NI.csv\",encoding=\"latin-1\")"
   ]
  },
  {
   "cell_type": "code",
   "execution_count": 4,
   "metadata": {},
   "outputs": [
    {
     "data": {
      "text/plain": [
       "0.98743904390567183"
      ]
     },
     "execution_count": 4,
     "metadata": {},
     "output_type": "execute_result"
    }
   ],
   "source": [
    "############################################################# Summarizing and Computing Descriptive Statistics\n",
    "df['AuThick_Average'].corr(df['TIME3132'],method='pearson')"
   ]
  },
  {
   "cell_type": "code",
   "execution_count": 5,
   "metadata": {},
   "outputs": [
    {
     "data": {
      "text/plain": [
       "(399, 160)"
      ]
     },
     "execution_count": 5,
     "metadata": {},
     "output_type": "execute_result"
    }
   ],
   "source": [
    "df.shape"
   ]
  },
  {
   "cell_type": "code",
   "execution_count": 6,
   "metadata": {},
   "outputs": [
    {
     "data": {
      "text/plain": [
       "15    244\n",
       "30     61\n",
       "50     58\n",
       "20     16\n",
       "25     14\n",
       "35      3\n",
       "10      3\n",
       "Name: ERP_EAuThick, dtype: int64"
      ]
     },
     "execution_count": 6,
     "metadata": {},
     "output_type": "execute_result"
    }
   ],
   "source": [
    "#\n",
    "df['ERP_EAuThick'].value_counts()\n",
    "#"
   ]
  },
  {
   "cell_type": "code",
   "execution_count": 7,
   "metadata": {},
   "outputs": [
    {
     "data": {
      "image/png": "[encoded data removed]",
      "text/plain": [
       "<matplotlib.figure.Figure at 0x10cc02358>"
      ]
     },
     "metadata": {},
     "output_type": "display_data"
    }
   ],
   "source": [
    "df.plot.scatter(x='TIME3132', y='AuThick_Average');"
   ]
  },
  {
   "cell_type": "code",
   "execution_count": 8,
   "metadata": {},
   "outputs": [
    {
     "data": {
      "text/plain": [
       "<matplotlib.axes._subplots.AxesSubplot at 0x10d566ac8>"
      ]
     },
     "execution_count": 8,
     "metadata": {},
     "output_type": "execute_result"
    },
    {
     "data": {
      "image/png": "[encoded data removed]",
      "text/plain": [
       "<matplotlib.figure.Figure at 0x10d592cf8>"
      ]
     },
     "metadata": {},
     "output_type": "display_data"
    }
   ],
   "source": [
    "df['AuThick_Average'].hist(bins=50)"
   ]
  },
  {
   "cell_type": "code",
   "execution_count": 9,
   "metadata": {},
   "outputs": [
    {
     "data": {
      "text/plain": [
       "ERP_EAuThick\n",
       "10    Axes(0.125,0.125;0.775x0.755)\n",
       "15    Axes(0.125,0.125;0.775x0.755)\n",
       "20    Axes(0.125,0.125;0.775x0.755)\n",
       "25    Axes(0.125,0.125;0.775x0.755)\n",
       "30    Axes(0.125,0.125;0.775x0.755)\n",
       "35    Axes(0.125,0.125;0.775x0.755)\n",
       "50    Axes(0.125,0.125;0.775x0.755)\n",
       "Name: AuThick_Average, dtype: object"
      ]
     },
     "execution_count": 9,
     "metadata": {},
     "output_type": "execute_result"
    },
    {
     "data": {
      "image/png": "[encoded data removed]",
      "text/plain": [
       "<matplotlib.figure.Figure at 0x110f0f4e0>"
      ]
     },
     "metadata": {},
     "output_type": "display_data"
    }
   ],
   "source": [
    "#\n",
    "h = df.groupby(['ERP_EAuThick'])\n",
    "h['AuThick_Average'].hist(bins=60)"
   ]
  },
  {
   "cell_type": "code",
   "execution_count": 10,
   "metadata": {},
   "outputs": [
    {
     "data": {
      "text/plain": [
       "ERP_EAuThick\n",
       "10    1.402854\n",
       "15    1.930853\n",
       "20    1.702196\n",
       "25    1.905426\n",
       "30    5.478983\n",
       "35    0.698764\n",
       "50    8.165687\n",
       "Name: AuThick_Average, dtype: float64"
      ]
     },
     "execution_count": 10,
     "metadata": {},
     "output_type": "execute_result"
    }
   ],
   "source": [
    "############################################################# Aggregate\n",
    "g = df.groupby(['ERP_EAuThick'])\n",
    "g['AuThick_Average'].var()"
   ]
  },
  {
   "cell_type": "code",
   "execution_count": 11,
   "metadata": {
    "collapsed": true
   },
   "outputs": [],
   "source": [
    "############################################################# MAPE\n",
    "#from sklearn.utils import check_array\n",
    "def MAPE(y_true, y_pred): \n",
    "#    y_true, y_pred = check_array(y_true, y_pred)\n",
    "#    return np.mean(np.abs((y_true - y_pred) / y_true)) * 100\n",
    "    return np.mean(abs((y_true - y_pred) / y_true)) * 100\n",
    "#"
   ]
  },
  {
   "cell_type": "code",
   "execution_count": 12,
   "metadata": {},
   "outputs": [
    {
     "name": "stderr",
     "output_type": "stream",
     "text": [
      "/anaconda/envs/py35/lib/python3.5/site-packages/sklearn/cross_validation.py:41: DeprecationWarning: This module was deprecated in version 0.18 in favor of the model_selection module into which all the refactored classes and functions are moved. Also note that the interface of the new CV iterators are different from that of this module. This module will be removed in 0.20.\n",
      "  \"This module will be removed in 0.20.\", DeprecationWarning)\n",
      "/anaconda/envs/py35/lib/python3.5/site-packages/statsmodels/compat/pandas.py:56: FutureWarning: The pandas.core.datetools module is deprecated and will be removed in a future version. Please use the pandas.tseries module instead.\n",
      "  from pandas.core import datetools\n"
     ]
    }
   ],
   "source": [
    "############################################################# \n",
    "import numpy as np\n",
    "from sklearn import datasets, linear_model\n",
    "from sklearn.linear_model import LogisticRegression\n",
    "from sklearn.cross_validation import KFold   #For K-fold cross validation\n",
    "from sklearn.ensemble import RandomForestClassifier\n",
    "from sklearn.tree import DecisionTreeClassifier, export_graphviz\n",
    "from sklearn import metrics\n",
    "from sklearn.metrics import mean_squared_error\n",
    "from sklearn.metrics import r2_score\n",
    "from sklearn.cross_validation import cross_val_predict\n",
    "from sklearn.cross_validation import cross_val_score\n",
    "import statsmodels.api as sm\n"
   ]
  },
  {
   "cell_type": "code",
   "execution_count": 13,
   "metadata": {
    "collapsed": true
   },
   "outputs": [],
   "source": [
    "#\n",
    "def regression_model(model, data, predictors, outcome):\n",
    "  #\n",
    "  X_train,X_test,Y_train,Y_test = cross_validation.train_test_split(data[predictors],data[outcome],test_size=0.2,random_state=0)  \n",
    "  #\n",
    "  #Fit the model:\n",
    "  model.fit(X_train,Y_train)\n",
    "  #Make predictions on training set:\n",
    "  predictions = model.predict(X_test)\n",
    "  #Print accuracy\n",
    "  print('Results for Testing data: Before running, make sure to split Training and Testing data \\n')\n",
    "  print('Variance Score on test: %.10s' % model.score(X_test, Y_test))\n",
    "  r2_score_LM = r2_score(Y_test, predictions)\n",
    "  print(\"R^2  on test data     : %.10s  \"  %  r2_score_LM)\n",
    "  print(\"MAPE on test data     : %0.4f\"    %  (MAPE(Y_test,predictions)))\n",
    "  print(\"MSE  on test data     : %0.4f \\n\" %  (mean_squared_error(Y_test, predictions)))\n",
    "  #Equation coefficient and Intercept\n",
    "#  print('Coefficients: \\n')\n",
    "#  print  model.coef_\n",
    "  print('Coefficients: %s \\n' %       model.coef_[0])\n",
    "  print('Intercept:    %.10s \\n' %    model.intercept_)\n",
    "  #\n",
    "  Xi = sm.add_constant(X_train)\n",
    "  sm_model = sm.OLS(Y_train, Xi)\n",
    "  sm_model = sm.GLS(Y_train, Xi)\n",
    "  results = sm_model.fit()\n",
    "  print('Results:    %s \\n' %    results.summary())\n",
    "  #\n",
    "  # Create a submission\n",
    "  submission = pd.DataFrame({\"Actual\" : Y_test, \n",
    "                             \"Pred\"   : predictions})\n",
    "#  print submission\n",
    "#"
   ]
  },
  {
   "cell_type": "code",
   "execution_count": 14,
   "metadata": {
    "collapsed": true
   },
   "outputs": [],
   "source": [
    "#\n",
    "def regression_model(model, data, predictors, outcome):\n",
    "  #Fit the model:\n",
    "  model.fit(data[predictors],data[outcome])\n",
    "  #Make predictions on training set:\n",
    "  predictions = model.predict(data[predictors])  \n",
    "  #Print accuracy\n",
    "  print('Results for Training data: Before running, make sure to only collect Training Set \\n')\n",
    "  print('Variance Score on Training: %.10s' %     model.score(data[predictors],data[outcome]))\n",
    "  r2_score_LM = r2_score(data[outcome], predictions)\n",
    "  print(\"R^2  on Training data     : %.10s\" %     r2_score_LM)\n",
    "  print(\"MAPE on Training data     : %0.4f\" %     (MAPE(data[outcome], predictions)))\n",
    "  print(\"MSE  on Training data     : %0.4f \\n\" %  (mean_squared_error(data[outcome], predictions)))\n",
    "  #Equation coefficient and Intercept\n",
    "#  print('Coefficients: \\n')\n",
    "#  print  model.coef_\n",
    "  print('Coefficients: %s \\n' %       model.coef_[0])\n",
    "  print('Intercept:    %.10s \\n' %    model.intercept_)\n",
    "  #\n",
    "  Xi = sm.add_constant(data[predictors])\n",
    "  sm_model = sm.GLS(data[outcome], Xi)\n",
    "  sm_model = sm.OLS(data[outcome], Xi)\n",
    "  results = sm_model.fit()\n",
    "  print('Results:    %s \\n' %    results.summary())\n",
    "  #\n",
    "  #Create a submission\n",
    "  submission = pd.DataFrame({\"Actual\" : data[outcome], \n",
    "                             \"Pred\"   : predictions})\n",
    "#  print submission\n",
    "\n",
    "  #Perform k-fold cross-validation with 10 folds  \n",
    "  kf = KFold(len(data), n_folds=10, shuffle=True, random_state=0)\n",
    "#  kf = KFold(data.shape[0], n_folds=10, shuffle=True)\n",
    "#  kf = KFold(data.shape[0], n_folds=10)\n",
    "  error = []\n",
    "  for train, test in kf:\n",
    "    # Filter training data\n",
    "    train_predictors = (data[predictors].iloc[train,:])\n",
    "    # The target we're using to train the algorithm.\n",
    "    train_target = data[outcome].iloc[train]\n",
    "    \n",
    "    # Training the algorithm using the predictors and target.\n",
    "    model.fit(train_predictors, train_target)\n",
    "    \n",
    "    pred = model.predict(data[predictors].iloc[test,:])\n",
    "    #Record error from each cross-validation run    \n",
    "    error.append( pred - data[outcome].iloc[test] )\n",
    "    R2_score = r2_score( data[outcome].iloc[test], pred)\n",
    "    scores_mse = mean_squared_error(data[outcome].iloc[test], pred)\n",
    "##RESULTS  \n",
    "  print('Cross-Validation Results: \\n')\n",
    "  print('R^2  for Cross-Validation Result: %0.4f'  % (R2_score))\n",
    "  print(\"MAPE for Cross-Validation Result: %0.4f\" % (MAPE(data[outcome].iloc[test], pred)))\n",
    "  print(\"MSE  for Cross-Validation Result: %0.4f\" % (scores_mse))\n",
    "##RESULTS  \n",
    "  #Fit the model again so that it can be refered outside the function:\n",
    "  model.fit(data[predictors],data[outcome]) \n",
    "#\n"
   ]
  },
  {
   "cell_type": "code",
   "execution_count": 15,
   "metadata": {},
   "outputs": [
    {
     "name": "stderr",
     "output_type": "stream",
     "text": [
      "/anaconda/envs/py35/lib/python3.5/site-packages/sklearn/grid_search.py:42: DeprecationWarning: This module was deprecated in version 0.18 in favor of the model_selection module into which all the refactored classes and functions are moved. This module will be removed in 0.20.\n",
      "  DeprecationWarning)\n"
     ]
    }
   ],
   "source": [
    "#\n",
    "############################################################# Cross-Validation\n",
    "from sklearn import datasets, linear_model\n",
    "from sklearn import cross_validation\n",
    "from sklearn.linear_model import ElasticNetCV\n",
    "from sklearn import datasets\n",
    "from sklearn.linear_model import LassoCV\n",
    "from sklearn.linear_model import Lasso\n",
    "from sklearn.linear_model import ElasticNet\n",
    "from sklearn import svm\n",
    "from sklearn.svm import SVR\n",
    "import multiprocessing\n",
    "from sklearn.svm import SVC\n",
    "from sklearn.grid_search import GridSearchCV\n",
    "############################################################# Cross-Validation\n",
    "#"
   ]
  },
  {
   "cell_type": "code",
   "execution_count": 16,
   "metadata": {
    "scrolled": true
   },
   "outputs": [
    {
     "name": "stderr",
     "output_type": "stream",
     "text": [
      "/anaconda/envs/py35/lib/python3.5/site-packages/ipykernel_launcher.py:6: DeprecationWarning: \n",
      ".ix is deprecated. Please use\n",
      ".loc for label based indexing or\n",
      ".iloc for positional indexing\n",
      "\n",
      "See the documentation here:\n",
      "http://pandas.pydata.org/pandas-docs/stable/indexing.html#deprecate_ix\n",
      "  \n"
     ]
    }
   ],
   "source": [
    "#\n",
    "df = pd.read_csv(\"forR2NI.csv\",encoding=\"latin-1\")\n",
    "#\n",
    "# Training Set\n",
    "#\n",
    "df = df.ix[0:300,]\n",
    "#"
   ]
  },
  {
   "cell_type": "code",
   "execution_count": 17,
   "metadata": {
    "collapsed": true
   },
   "outputs": [],
   "source": [
    "df.drop(['REAL_VOITAGE_21','REAL_CURRENT_21','REAL_VOITAGE_22','REAL_CURRENT_22'], axis=1, inplace=True)\n",
    "df.drop(['MACHINE_ID','EVENTDATETIME','END_TIME','LOTNO','PART_NUMBER'], axis=1, inplace=True)\n",
    "df.drop(['IN_TIME','ERP_QTY'], axis=1, inplace=True)\n"
   ]
  },
  {
   "cell_type": "code",
   "execution_count": 18,
   "metadata": {
    "collapsed": true
   },
   "outputs": [],
   "source": [
    "#\n",
    "def order(frame,var):\n",
    "    varlist =[w for w in frame.columns if w not in var]\n",
    "    frame = frame[var+varlist]\n",
    "    return frame \n",
    "#"
   ]
  },
  {
   "cell_type": "code",
   "execution_count": 19,
   "metadata": {},
   "outputs": [
    {
     "name": "stderr",
     "output_type": "stream",
     "text": [
      "/anaconda/envs/py35/lib/python3.5/site-packages/ipykernel_launcher.py:1: DeprecationWarning: \n",
      ".ix is deprecated. Please use\n",
      ".loc for label based indexing or\n",
      ".iloc for positional indexing\n",
      "\n",
      "See the documentation here:\n",
      "http://pandas.pydata.org/pandas-docs/stable/indexing.html#deprecate_ix\n",
      "  \"\"\"Entry point for launching an IPython kernel.\n"
     ]
    }
   ],
   "source": [
    "df1 = df.ix[:,1:149]\n",
    "#df1 = df.ix[:,1:148]\n",
    "#df1 = df.ix[:,1:147]"
   ]
  },
  {
   "cell_type": "code",
   "execution_count": 21,
   "metadata": {},
   "outputs": [
    {
     "data": {
      "text/html": [
       "<div>\n",
       "<style>\n",
       "    .dataframe thead tr:only-child th {\n",
       "        text-align: right;\n",
       "    }\n",
       "\n",
       "    .dataframe thead th {\n",
       "        text-align: left;\n",
       "    }\n",
       "\n",
       "    .dataframe tbody tr th {\n",
       "        vertical-align: top;\n",
       "    }\n",
       "</style>\n",
       "<table border=\"1\" class=\"dataframe\">\n",
       "  <thead>\n",
       "    <tr style=\"text-align: right;\">\n",
       "      <th></th>\n",
       "      <th>WORK_TYPE</th>\n",
       "      <th>QUANTITY</th>\n",
       "      <th>TARGET_NO</th>\n",
       "      <th>AREA</th>\n",
       "      <th>OPERATOR</th>\n",
       "      <th>NI_TIME</th>\n",
       "      <th>GOLD_TIME</th>\n",
       "      <th>AC_GOLD_TIME</th>\n",
       "      <th>SET_DIPPING_01</th>\n",
       "      <th>SET_DIPPING_02</th>\n",
       "      <th>...</th>\n",
       "      <th>TIME2627</th>\n",
       "      <th>TIME3132</th>\n",
       "      <th>TEMPERATURE1213</th>\n",
       "      <th>TEMPERATURE2122</th>\n",
       "      <th>TEMPERATURE2627</th>\n",
       "      <th>TEMPERATURE3132</th>\n",
       "      <th>HEATING2122</th>\n",
       "      <th>HEATING3132</th>\n",
       "      <th>AuThick_Average</th>\n",
       "      <th>NITHICK_Average</th>\n",
       "    </tr>\n",
       "  </thead>\n",
       "  <tbody>\n",
       "    <tr>\n",
       "      <th>0</th>\n",
       "      <td>±ß¯Z</td>\n",
       "      <td>2</td>\n",
       "      <td>1</td>\n",
       "      <td>195</td>\n",
       "      <td>´ú¸Õ¤H­û</td>\n",
       "      <td>2500</td>\n",
       "      <td>480</td>\n",
       "      <td>2100</td>\n",
       "      <td>300</td>\n",
       "      <td>60</td>\n",
       "      <td>...</td>\n",
       "      <td>482</td>\n",
       "      <td>2101</td>\n",
       "      <td>25.9</td>\n",
       "      <td>78.3</td>\n",
       "      <td>85.0</td>\n",
       "      <td>51.1</td>\n",
       "      <td>81.0</td>\n",
       "      <td>54.7</td>\n",
       "      <td>20.958046</td>\n",
       "      <td>166.412870</td>\n",
       "    </tr>\n",
       "    <tr>\n",
       "      <th>1</th>\n",
       "      <td>¦­¯Z</td>\n",
       "      <td>1</td>\n",
       "      <td>1</td>\n",
       "      <td>98</td>\n",
       "      <td>´ú¸Õ¤H­û</td>\n",
       "      <td>2600</td>\n",
       "      <td>480</td>\n",
       "      <td>2200</td>\n",
       "      <td>300</td>\n",
       "      <td>60</td>\n",
       "      <td>...</td>\n",
       "      <td>482</td>\n",
       "      <td>2201</td>\n",
       "      <td>27.7</td>\n",
       "      <td>78.4</td>\n",
       "      <td>85.3</td>\n",
       "      <td>51.2</td>\n",
       "      <td>80.6</td>\n",
       "      <td>54.5</td>\n",
       "      <td>21.539106</td>\n",
       "      <td>170.507798</td>\n",
       "    </tr>\n",
       "    <tr>\n",
       "      <th>2</th>\n",
       "      <td>±ß¯Z</td>\n",
       "      <td>1</td>\n",
       "      <td>1</td>\n",
       "      <td>8</td>\n",
       "      <td>´ú¸Õ¤H­û</td>\n",
       "      <td>2400</td>\n",
       "      <td>480</td>\n",
       "      <td>3850</td>\n",
       "      <td>300</td>\n",
       "      <td>60</td>\n",
       "      <td>...</td>\n",
       "      <td>482</td>\n",
       "      <td>3851</td>\n",
       "      <td>27.9</td>\n",
       "      <td>78.4</td>\n",
       "      <td>85.3</td>\n",
       "      <td>51.2</td>\n",
       "      <td>80.9</td>\n",
       "      <td>54.6</td>\n",
       "      <td>37.606258</td>\n",
       "      <td>176.094906</td>\n",
       "    </tr>\n",
       "    <tr>\n",
       "      <th>3</th>\n",
       "      <td>±ß¯Z</td>\n",
       "      <td>1</td>\n",
       "      <td>1</td>\n",
       "      <td>77</td>\n",
       "      <td>´ú¸Õ¤H­û</td>\n",
       "      <td>2400</td>\n",
       "      <td>480</td>\n",
       "      <td>2200</td>\n",
       "      <td>300</td>\n",
       "      <td>60</td>\n",
       "      <td>...</td>\n",
       "      <td>481</td>\n",
       "      <td>2202</td>\n",
       "      <td>27.4</td>\n",
       "      <td>78.5</td>\n",
       "      <td>84.5</td>\n",
       "      <td>51.1</td>\n",
       "      <td>81.3</td>\n",
       "      <td>55.4</td>\n",
       "      <td>23.053732</td>\n",
       "      <td>170.894772</td>\n",
       "    </tr>\n",
       "    <tr>\n",
       "      <th>4</th>\n",
       "      <td>±ß¯Z</td>\n",
       "      <td>2</td>\n",
       "      <td>1</td>\n",
       "      <td>272</td>\n",
       "      <td>´ú¸Õ¤H­û</td>\n",
       "      <td>2400</td>\n",
       "      <td>480</td>\n",
       "      <td>2200</td>\n",
       "      <td>300</td>\n",
       "      <td>60</td>\n",
       "      <td>...</td>\n",
       "      <td>482</td>\n",
       "      <td>2202</td>\n",
       "      <td>27.2</td>\n",
       "      <td>78.4</td>\n",
       "      <td>85.2</td>\n",
       "      <td>51.1</td>\n",
       "      <td>81.3</td>\n",
       "      <td>55.1</td>\n",
       "      <td>20.961532</td>\n",
       "      <td>147.316336</td>\n",
       "    </tr>\n",
       "  </tbody>\n",
       "</table>\n",
       "<p>5 rows × 148 columns</p>\n",
       "</div>"
      ],
      "text/plain": [
       "  WORK_TYPE  QUANTITY  TARGET_NO  AREA  OPERATOR  NI_TIME  GOLD_TIME  \\\n",
       "0      ±ß¯Z         2          1   195  ´ú¸Õ¤H­û     2500        480   \n",
       "1      ¦­¯Z         1          1    98  ´ú¸Õ¤H­û     2600        480   \n",
       "2      ±ß¯Z         1          1     8  ´ú¸Õ¤H­û     2400        480   \n",
       "3      ±ß¯Z         1          1    77  ´ú¸Õ¤H­û     2400        480   \n",
       "4      ±ß¯Z         2          1   272  ´ú¸Õ¤H­û     2400        480   \n",
       "\n",
       "   AC_GOLD_TIME  SET_DIPPING_01  SET_DIPPING_02       ...         TIME2627  \\\n",
       "0          2100             300              60       ...              482   \n",
       "1          2200             300              60       ...              482   \n",
       "2          3850             300              60       ...              482   \n",
       "3          2200             300              60       ...              481   \n",
       "4          2200             300              60       ...              482   \n",
       "\n",
       "   TIME3132  TEMPERATURE1213  TEMPERATURE2122  TEMPERATURE2627  \\\n",
       "0      2101             25.9             78.3             85.0   \n",
       "1      2201             27.7             78.4             85.3   \n",
       "2      3851             27.9             78.4             85.3   \n",
       "3      2202             27.4             78.5             84.5   \n",
       "4      2202             27.2             78.4             85.2   \n",
       "\n",
       "   TEMPERATURE3132  HEATING2122  HEATING3132  AuThick_Average  NITHICK_Average  \n",
       "0             51.1         81.0         54.7        20.958046       166.412870  \n",
       "1             51.2         80.6         54.5        21.539106       170.507798  \n",
       "2             51.2         80.9         54.6        37.606258       176.094906  \n",
       "3             51.1         81.3         55.4        23.053732       170.894772  \n",
       "4             51.1         81.3         55.1        20.961532       147.316336  \n",
       "\n",
       "[5 rows x 148 columns]"
      ]
     },
     "execution_count": 21,
     "metadata": {},
     "output_type": "execute_result"
    }
   ],
   "source": [
    "df1.head()"
   ]
  },
  {
   "cell_type": "code",
   "execution_count": 22,
   "metadata": {
    "collapsed": true
   },
   "outputs": [],
   "source": [
    "df1.drop(df1.loc[:, \"SET_DIPPING_01\":\"PRESENT_DIPPING_04\"], axis=1, inplace=True)\n",
    "df1.drop(df1.loc[:, \"PRESENT_DIPPING_34\":\"PRESENT_DIPPING_36\"], axis=1, inplace=True)\n",
    "df1.drop(['AC_GOLD_TIME'], axis=1, inplace=True)"
   ]
  },
  {
   "cell_type": "code",
   "execution_count": 23,
   "metadata": {
    "collapsed": true
   },
   "outputs": [],
   "source": [
    "df1 = order(df1,['AuThick_Average','TIME3132','PRESENT_DIPPING_12','PRESENT_DIPPING_28','PRESENT_DIPPING_32','TIME2122','PRESENT_DIPPING_22','PRESENT_DIPPING_33','ERP_ENiThick','AREA','NI_TIME'])"
   ]
  },
  {
   "cell_type": "code",
   "execution_count": 24,
   "metadata": {
    "collapsed": true
   },
   "outputs": [],
   "source": [
    "df1.drop(['WORK_TYPE'], axis=1, inplace=True)"
   ]
  },
  {
   "cell_type": "code",
   "execution_count": 25,
   "metadata": {
    "collapsed": true
   },
   "outputs": [],
   "source": [
    "df1.drop(['OPERATOR'], axis=1, inplace=True)"
   ]
  },
  {
   "cell_type": "code",
   "execution_count": 26,
   "metadata": {
    "collapsed": true
   },
   "outputs": [],
   "source": [
    "df1=df1.loc[:, \"TIME3132\":\"NITHICK_Average\"]"
   ]
  },
  {
   "cell_type": "code",
   "execution_count": 27,
   "metadata": {},
   "outputs": [
    {
     "data": {
      "text/html": [
       "<div>\n",
       "<style>\n",
       "    .dataframe thead tr:only-child th {\n",
       "        text-align: right;\n",
       "    }\n",
       "\n",
       "    .dataframe thead th {\n",
       "        text-align: left;\n",
       "    }\n",
       "\n",
       "    .dataframe tbody tr th {\n",
       "        vertical-align: top;\n",
       "    }\n",
       "</style>\n",
       "<table border=\"1\" class=\"dataframe\">\n",
       "  <thead>\n",
       "    <tr style=\"text-align: right;\">\n",
       "      <th></th>\n",
       "      <th>TIME3132</th>\n",
       "      <th>PRESENT_DIPPING_12</th>\n",
       "      <th>PRESENT_DIPPING_28</th>\n",
       "      <th>PRESENT_DIPPING_32</th>\n",
       "      <th>TIME2122</th>\n",
       "      <th>PRESENT_DIPPING_22</th>\n",
       "      <th>PRESENT_DIPPING_33</th>\n",
       "      <th>ERP_ENiThick</th>\n",
       "      <th>AREA</th>\n",
       "      <th>NI_TIME</th>\n",
       "      <th>...</th>\n",
       "      <th>ERP_EBackareaSQ</th>\n",
       "      <th>TIME1213</th>\n",
       "      <th>TIME2627</th>\n",
       "      <th>TEMPERATURE1213</th>\n",
       "      <th>TEMPERATURE2122</th>\n",
       "      <th>TEMPERATURE2627</th>\n",
       "      <th>TEMPERATURE3132</th>\n",
       "      <th>HEATING2122</th>\n",
       "      <th>HEATING3132</th>\n",
       "      <th>NITHICK_Average</th>\n",
       "    </tr>\n",
       "  </thead>\n",
       "  <tbody>\n",
       "    <tr>\n",
       "      <th>0</th>\n",
       "      <td>2101</td>\n",
       "      <td>0</td>\n",
       "      <td>32</td>\n",
       "      <td>2101</td>\n",
       "      <td>2501</td>\n",
       "      <td>0</td>\n",
       "      <td>34</td>\n",
       "      <td>200</td>\n",
       "      <td>195</td>\n",
       "      <td>2500</td>\n",
       "      <td>...</td>\n",
       "      <td>72.835</td>\n",
       "      <td>17</td>\n",
       "      <td>482</td>\n",
       "      <td>25.9</td>\n",
       "      <td>78.3</td>\n",
       "      <td>85.0</td>\n",
       "      <td>51.1</td>\n",
       "      <td>81.0</td>\n",
       "      <td>54.7</td>\n",
       "      <td>166.412870</td>\n",
       "    </tr>\n",
       "    <tr>\n",
       "      <th>1</th>\n",
       "      <td>2201</td>\n",
       "      <td>0</td>\n",
       "      <td>32</td>\n",
       "      <td>2201</td>\n",
       "      <td>2606</td>\n",
       "      <td>0</td>\n",
       "      <td>91</td>\n",
       "      <td>200</td>\n",
       "      <td>98</td>\n",
       "      <td>2600</td>\n",
       "      <td>...</td>\n",
       "      <td>72.835</td>\n",
       "      <td>17</td>\n",
       "      <td>482</td>\n",
       "      <td>27.7</td>\n",
       "      <td>78.4</td>\n",
       "      <td>85.3</td>\n",
       "      <td>51.2</td>\n",
       "      <td>80.6</td>\n",
       "      <td>54.5</td>\n",
       "      <td>170.507798</td>\n",
       "    </tr>\n",
       "    <tr>\n",
       "      <th>2</th>\n",
       "      <td>3851</td>\n",
       "      <td>0</td>\n",
       "      <td>32</td>\n",
       "      <td>3851</td>\n",
       "      <td>2404</td>\n",
       "      <td>0</td>\n",
       "      <td>34</td>\n",
       "      <td>0</td>\n",
       "      <td>8</td>\n",
       "      <td>2400</td>\n",
       "      <td>...</td>\n",
       "      <td>7.895</td>\n",
       "      <td>17</td>\n",
       "      <td>482</td>\n",
       "      <td>27.9</td>\n",
       "      <td>78.4</td>\n",
       "      <td>85.3</td>\n",
       "      <td>51.2</td>\n",
       "      <td>80.9</td>\n",
       "      <td>54.6</td>\n",
       "      <td>176.094906</td>\n",
       "    </tr>\n",
       "    <tr>\n",
       "      <th>3</th>\n",
       "      <td>2202</td>\n",
       "      <td>0</td>\n",
       "      <td>33</td>\n",
       "      <td>2202</td>\n",
       "      <td>2403</td>\n",
       "      <td>0</td>\n",
       "      <td>91</td>\n",
       "      <td>200</td>\n",
       "      <td>77</td>\n",
       "      <td>2400</td>\n",
       "      <td>...</td>\n",
       "      <td>49.780</td>\n",
       "      <td>17</td>\n",
       "      <td>481</td>\n",
       "      <td>27.4</td>\n",
       "      <td>78.5</td>\n",
       "      <td>84.5</td>\n",
       "      <td>51.1</td>\n",
       "      <td>81.3</td>\n",
       "      <td>55.4</td>\n",
       "      <td>170.894772</td>\n",
       "    </tr>\n",
       "    <tr>\n",
       "      <th>4</th>\n",
       "      <td>2202</td>\n",
       "      <td>0</td>\n",
       "      <td>31</td>\n",
       "      <td>2202</td>\n",
       "      <td>2403</td>\n",
       "      <td>0</td>\n",
       "      <td>91</td>\n",
       "      <td>200</td>\n",
       "      <td>272</td>\n",
       "      <td>2400</td>\n",
       "      <td>...</td>\n",
       "      <td>83.172</td>\n",
       "      <td>17</td>\n",
       "      <td>482</td>\n",
       "      <td>27.2</td>\n",
       "      <td>78.4</td>\n",
       "      <td>85.2</td>\n",
       "      <td>51.1</td>\n",
       "      <td>81.3</td>\n",
       "      <td>55.1</td>\n",
       "      <td>147.316336</td>\n",
       "    </tr>\n",
       "  </tbody>\n",
       "</table>\n",
       "<p>5 rows × 71 columns</p>\n",
       "</div>"
      ],
      "text/plain": [
       "   TIME3132  PRESENT_DIPPING_12  PRESENT_DIPPING_28  PRESENT_DIPPING_32  \\\n",
       "0      2101                   0                  32                2101   \n",
       "1      2201                   0                  32                2201   \n",
       "2      3851                   0                  32                3851   \n",
       "3      2202                   0                  33                2202   \n",
       "4      2202                   0                  31                2202   \n",
       "\n",
       "   TIME2122  PRESENT_DIPPING_22  PRESENT_DIPPING_33  ERP_ENiThick  AREA  \\\n",
       "0      2501                   0                  34           200   195   \n",
       "1      2606                   0                  91           200    98   \n",
       "2      2404                   0                  34             0     8   \n",
       "3      2403                   0                  91           200    77   \n",
       "4      2403                   0                  91           200   272   \n",
       "\n",
       "   NI_TIME       ...         ERP_EBackareaSQ  TIME1213  TIME2627  \\\n",
       "0     2500       ...                  72.835        17       482   \n",
       "1     2600       ...                  72.835        17       482   \n",
       "2     2400       ...                   7.895        17       482   \n",
       "3     2400       ...                  49.780        17       481   \n",
       "4     2400       ...                  83.172        17       482   \n",
       "\n",
       "   TEMPERATURE1213  TEMPERATURE2122  TEMPERATURE2627  TEMPERATURE3132  \\\n",
       "0             25.9             78.3             85.0             51.1   \n",
       "1             27.7             78.4             85.3             51.2   \n",
       "2             27.9             78.4             85.3             51.2   \n",
       "3             27.4             78.5             84.5             51.1   \n",
       "4             27.2             78.4             85.2             51.1   \n",
       "\n",
       "   HEATING2122  HEATING3132  NITHICK_Average  \n",
       "0         81.0         54.7       166.412870  \n",
       "1         80.6         54.5       170.507798  \n",
       "2         80.9         54.6       176.094906  \n",
       "3         81.3         55.4       170.894772  \n",
       "4         81.3         55.1       147.316336  \n",
       "\n",
       "[5 rows x 71 columns]"
      ]
     },
     "execution_count": 27,
     "metadata": {},
     "output_type": "execute_result"
    }
   ],
   "source": [
    "df1.head()"
   ]
  },
  {
   "cell_type": "code",
   "execution_count": 28,
   "metadata": {
    "collapsed": true
   },
   "outputs": [],
   "source": [
    "model = svm.SVR()\n",
    "model = svm.SVR(C=1000, epsilon=0.0001)\n",
    "model = svm.SVR(kernel='linear')\n",
    "model = Lasso(random_state=0)\n",
    "#\n",
    "model = Lasso(alpha = 0.1)\n",
    "model = ElasticNet(alpha=10, l1_ratio=1)\n",
    "model = ElasticNetCV(max_iter=1000, cv=20, l1_ratio = [.1, .5, .7, .9, .95, .99, 1])\n",
    "model = linear_model.LinearRegression()"
   ]
  },
  {
   "cell_type": "code",
   "execution_count": 29,
   "metadata": {},
   "outputs": [
    {
     "name": "stdout",
     "output_type": "stream",
     "text": [
      "Results for Training data: Before running, make sure to only collect Training Set \n",
      "\n",
      "Variance Score on Training: 0.98958648\n",
      "R^2  on Training data     : 0.98958648\n",
      "MAPE on Training data     : 3.5863\n",
      "MSE  on Training data     : 1.6087 \n",
      "\n",
      "Coefficients: 0.00441338328692 \n",
      "\n",
      "Intercept:    10.3920091 \n",
      "\n",
      "Results:                                OLS Regression Results                            \n",
      "==============================================================================\n",
      "Dep. Variable:        AuThick_Average   R-squared:                       0.990\n",
      "Model:                            OLS   Adj. R-squared:                  0.987\n",
      "Method:                 Least Squares   F-statistic:                     380.1\n",
      "Date:                Sun, 05 Nov 2017   Prob (F-statistic):          6.16e-208\n",
      "Time:                        10:09:10   Log-Likelihood:                -498.65\n",
      "No. Observations:                 301   AIC:                             1119.\n",
      "Df Residuals:                     240   BIC:                             1345.\n",
      "Df Model:                          60                                         \n",
      "Covariance Type:            nonrobust                                         \n",
      "======================================================================================\n",
      "                         coef    std err          t      P>|t|      [0.025      0.975]\n",
      "--------------------------------------------------------------------------------------\n",
      "TIME3132               0.0044      0.000      9.834      0.000       0.004       0.005\n",
      "PRESENT_DIPPING_12    -0.1888      0.176     -1.076      0.283      -0.535       0.157\n",
      "PRESENT_DIPPING_28    -0.0163      0.013     -1.250      0.212      -0.042       0.009\n",
      "PRESENT_DIPPING_32     0.0026      0.000      8.437      0.000       0.002       0.003\n",
      "TIME2122              -0.0040      0.002     -2.382      0.018      -0.007      -0.001\n",
      "PRESENT_DIPPING_22    -0.0014      0.002     -0.896      0.371      -0.004       0.002\n",
      "PRESENT_DIPPING_33    -0.0050      0.002     -2.050      0.041      -0.010      -0.000\n",
      "ERP_ENiThick          -0.0043      0.002     -2.148      0.033      -0.008      -0.000\n",
      "AREA                   0.0002      0.001      0.175      0.861      -0.002       0.002\n",
      "NI_TIME                0.0050      0.002      2.026      0.044       0.000       0.010\n",
      "QUANTITY              -0.2894      0.179     -1.615      0.108      -0.642       0.064\n",
      "TARGET_NO             -0.9783      0.440     -2.222      0.027      -1.846      -0.111\n",
      "GOLD_TIME              0.0217      0.124      0.174      0.862      -0.223       0.266\n",
      "PRESENT_DIPPING_05     0.2965      0.377      0.787      0.432      -0.446       1.039\n",
      "PRESENT_DIPPING_06     0.0048      0.009      0.559      0.576      -0.012       0.022\n",
      "PRESENT_DIPPING_07     0.0104      0.014      0.729      0.467      -0.018       0.038\n",
      "PRESENT_DIPPING_08    -0.0088      0.013     -0.675      0.500      -0.035       0.017\n",
      "PRESENT_DIPPING_09    -0.0026      0.007     -0.379      0.705      -0.016       0.011\n",
      "PRESENT_DIPPING_10     0.0054      0.008      0.646      0.519      -0.011       0.022\n",
      "PRESENT_DIPPING_11     0.0144      0.008      1.888      0.060      -0.001       0.029\n",
      "PRESENT_DIPPING_13     0.1008      0.090      1.116      0.266      -0.077       0.279\n",
      "PRESENT_DIPPING_14     0.0140      0.009      1.589      0.113      -0.003       0.031\n",
      "PRESENT_DIPPING_15    -0.0074      0.008     -0.907      0.365      -0.023       0.009\n",
      "PRESENT_DIPPING_16    -0.0027      0.009     -0.313      0.755      -0.020       0.014\n",
      "PRESENT_DIPPING_17     0.0022      0.003      0.691      0.490      -0.004       0.009\n",
      "PRESENT_DIPPING_18    -0.0046      0.006     -0.711      0.478      -0.017       0.008\n",
      "PRESENT_DIPPING_19    -0.0008      0.009     -0.086      0.932      -0.018       0.017\n",
      "PRESENT_DIPPING_20    -0.0080      0.008     -0.962      0.337      -0.024       0.008\n",
      "PRESENT_DIPPING_21    -0.0027      0.002     -1.513      0.132      -0.006       0.001\n",
      "PRESENT_DIPPING_23    -0.0175      0.050     -0.348      0.728      -0.117       0.082\n",
      "PRESENT_DIPPING_24    -0.0348      0.117     -0.298      0.766      -0.265       0.195\n",
      "PRESENT_DIPPING_25    -0.0075      0.060     -0.125      0.900      -0.125       0.110\n",
      "PRESENT_DIPPING_26     0.0202      0.055      0.371      0.711      -0.087       0.128\n",
      "PRESENT_DIPPING_27    -0.0261      0.038     -0.685      0.494      -0.101       0.049\n",
      "PRESENT_DIPPING_29     0.0733      0.103      0.715      0.475      -0.129       0.275\n",
      "PRESENT_DIPPING_30    -0.0003      0.078     -0.004      0.997      -0.155       0.154\n",
      "PRESENT_DIPPING_31     0.0018      0.000      6.752      0.000       0.001       0.002\n",
      "TEMPERATURE_01        -0.0959      0.062     -1.545      0.124      -0.218       0.026\n",
      "TEMPERATURE_02        -0.0381      0.118     -0.322      0.748      -0.271       0.195\n",
      "TEMPERATURE_05         0.1486      0.478      0.311      0.756      -0.792       1.089\n",
      "TEMPERATURE_12         0.0874      0.108      0.812      0.418      -0.125       0.299\n",
      "TEMPERATURE_13        -0.0771      0.075     -1.030      0.304      -0.225       0.070\n",
      "TEMPERATURE_17         1.6590      1.035      1.602      0.110      -0.381       3.699\n",
      "TEMPERATURE_18        -0.0311      0.078     -0.401      0.689      -0.184       0.122\n",
      "TEMPERATURE_21        -0.5275      0.317     -1.666      0.097      -1.151       0.096\n",
      "TEMPERATURE_22         0.3818      0.221      1.724      0.086      -0.054       0.818\n",
      "TEMPERATURE_26        -0.1822      0.270     -0.675      0.501      -0.714       0.350\n",
      "TEMPERATURE_27         0.0820      0.141      0.580      0.562      -0.196       0.360\n",
      "TEMPERATURE_31        -0.0684      0.522     -0.131      0.896      -1.097       0.960\n",
      "TEMPERATURE_32        -0.0210      0.473     -0.044      0.965      -0.953       0.911\n",
      "HEATING_21             0.4318      0.280      1.544      0.124      -0.119       0.983\n",
      "HEATING_22            -0.4888      0.217     -2.250      0.025      -0.917      -0.061\n",
      "HEATING_31            -0.0991      0.320     -0.310      0.757      -0.730       0.531\n",
      "HEATING_32            -0.1494      0.362     -0.412      0.681      -0.863       0.564\n",
      "CONDUCTIVITY_20        0.1062      0.190      0.559      0.576      -0.268       0.480\n",
      "CONDUCTIVITY_23       -0.2688      0.167     -1.607      0.109      -0.598       0.061\n",
      "CONDUCTIVITY_25        4.5432      1.994      2.278      0.024       0.615       8.471\n",
      "CONDUCTIVITY_30        0.0128      0.090      0.141      0.888      -0.165       0.191\n",
      "CONDUCTIVITY_35        0.0237      0.166      0.143      0.887      -0.304       0.351\n",
      "ERP_EAuThick           0.2410      0.077      3.122      0.002       0.089       0.393\n",
      "ERP_EFrontareaSQ      -0.0034      0.004     -0.895      0.372      -0.011       0.004\n",
      "ERP_EBackareaSQ        0.0035      0.004      0.872      0.384      -0.004       0.011\n",
      "TIME1213              -0.0879      0.090     -0.982      0.327      -0.264       0.088\n",
      "TIME2627              -0.0059      0.061     -0.097      0.923      -0.126       0.114\n",
      "TEMPERATURE1213        0.0102      0.077      0.133      0.895      -0.142       0.163\n",
      "TEMPERATURE2122       -0.1457      0.223     -0.655      0.513      -0.584       0.293\n",
      "TEMPERATURE2627       -0.1002      0.137     -0.731      0.466      -0.370       0.170\n",
      "TEMPERATURE3132       -0.0895      0.716     -0.125      0.901      -1.499       1.321\n",
      "HEATING2122           -0.0570      0.151     -0.379      0.705      -0.354       0.240\n",
      "HEATING3132           -0.2485      0.235     -1.059      0.290      -0.711       0.214\n",
      "NITHICK_Average       -0.0016      0.006     -0.270      0.788      -0.013       0.010\n",
      "==============================================================================\n",
      "Omnibus:                       19.429   Durbin-Watson:                   1.768\n",
      "Prob(Omnibus):                  0.000   Jarque-Bera (JB):               56.396\n",
      "Skew:                           0.143   Prob(JB):                     5.67e-13\n",
      "Kurtosis:                       5.101   Cond. No.                     1.25e+16\n",
      "==============================================================================\n",
      "\n",
      "Warnings:\n",
      "[1] Standard Errors assume that the covariance matrix of the errors is correctly specified.\n",
      "[2] The smallest eigenvalue is 6.63e-23. This might indicate that there are\n",
      "strong multicollinearity problems or that the design matrix is singular. \n",
      "\n",
      "Cross-Validation Results: \n",
      "\n",
      "R^2  for Cross-Validation Result: 0.9766\n",
      "MAPE for Cross-Validation Result: 4.0008\n",
      "MSE  for Cross-Validation Result: 2.5725\n"
     ]
    }
   ],
   "source": [
    "outcome_var = 'AuThick_Average'\n",
    "predictor_var = ['TIME3132']\n",
    "predictor_var = list(df1.columns.values)\n",
    "\n",
    "regression_model(model, df,predictor_var,outcome_var)"
   ]
  },
  {
   "cell_type": "code",
   "execution_count": 30,
   "metadata": {},
   "outputs": [
    {
     "data": {
      "text/plain": [
       "'PRESENT_DIPPING_08'"
      ]
     },
     "execution_count": 30,
     "metadata": {},
     "output_type": "execute_result"
    }
   ],
   "source": [
    "predictor_var[0:18]\n",
    "predictor_var[16]"
   ]
  },
  {
   "cell_type": "code",
   "execution_count": 31,
   "metadata": {},
   "outputs": [
    {
     "data": {
      "text/plain": [
       "['TIME3132',\n",
       " 'PRESENT_DIPPING_12',\n",
       " 'PRESENT_DIPPING_28',\n",
       " 'PRESENT_DIPPING_32',\n",
       " 'TIME2122',\n",
       " 'PRESENT_DIPPING_22',\n",
       " 'PRESENT_DIPPING_33',\n",
       " 'ERP_ENiThick',\n",
       " 'AREA',\n",
       " 'NI_TIME',\n",
       " 'QUANTITY',\n",
       " 'TARGET_NO',\n",
       " 'GOLD_TIME',\n",
       " 'PRESENT_DIPPING_05',\n",
       " 'PRESENT_DIPPING_06',\n",
       " 'PRESENT_DIPPING_07',\n",
       " 'PRESENT_DIPPING_08',\n",
       " 'PRESENT_DIPPING_09',\n",
       " 'PRESENT_DIPPING_10',\n",
       " 'PRESENT_DIPPING_11',\n",
       " 'PRESENT_DIPPING_13',\n",
       " 'PRESENT_DIPPING_14',\n",
       " 'PRESENT_DIPPING_15',\n",
       " 'PRESENT_DIPPING_16',\n",
       " 'PRESENT_DIPPING_17',\n",
       " 'PRESENT_DIPPING_18',\n",
       " 'PRESENT_DIPPING_19',\n",
       " 'PRESENT_DIPPING_20',\n",
       " 'PRESENT_DIPPING_21',\n",
       " 'PRESENT_DIPPING_23',\n",
       " 'PRESENT_DIPPING_24',\n",
       " 'PRESENT_DIPPING_25',\n",
       " 'PRESENT_DIPPING_26',\n",
       " 'PRESENT_DIPPING_27',\n",
       " 'PRESENT_DIPPING_29',\n",
       " 'PRESENT_DIPPING_30',\n",
       " 'PRESENT_DIPPING_31',\n",
       " 'TEMPERATURE_01',\n",
       " 'TEMPERATURE_02',\n",
       " 'TEMPERATURE_05',\n",
       " 'TEMPERATURE_12',\n",
       " 'TEMPERATURE_13',\n",
       " 'TEMPERATURE_17',\n",
       " 'TEMPERATURE_18',\n",
       " 'TEMPERATURE_21',\n",
       " 'TEMPERATURE_22',\n",
       " 'TEMPERATURE_26',\n",
       " 'TEMPERATURE_27',\n",
       " 'TEMPERATURE_31',\n",
       " 'TEMPERATURE_32',\n",
       " 'HEATING_21',\n",
       " 'HEATING_22',\n",
       " 'HEATING_31',\n",
       " 'HEATING_32',\n",
       " 'CONDUCTIVITY_20',\n",
       " 'CONDUCTIVITY_23',\n",
       " 'CONDUCTIVITY_25',\n",
       " 'CONDUCTIVITY_30',\n",
       " 'CONDUCTIVITY_35',\n",
       " 'ERP_EAuThick',\n",
       " 'ERP_EFrontareaSQ',\n",
       " 'ERP_EBackareaSQ',\n",
       " 'TIME1213',\n",
       " 'TIME2627',\n",
       " 'TEMPERATURE1213',\n",
       " 'TEMPERATURE2122',\n",
       " 'TEMPERATURE2627',\n",
       " 'TEMPERATURE3132',\n",
       " 'HEATING2122',\n",
       " 'HEATING3132',\n",
       " 'NITHICK_Average']"
      ]
     },
     "execution_count": 31,
     "metadata": {},
     "output_type": "execute_result"
    }
   ],
   "source": [
    "list(df1.columns.values)"
   ]
  },
  {
   "cell_type": "code",
   "execution_count": 35,
   "metadata": {},
   "outputs": [
    {
     "name": "stdout",
     "output_type": "stream",
     "text": [
      "Results for Training data: Before running, make sure to only collect Training Set \n",
      "\n",
      "Variance Score on Training: 0.99767094\n",
      "R^2  on Training data     : 0.99767094\n",
      "MAPE on Training data     : 1.6125\n",
      "MSE  on Training data     : 0.3598 \n",
      "\n"
     ]
    },
    {
     "ename": "AttributeError",
     "evalue": "'RandomForestRegressor' object has no attribute 'coef_'",
     "output_type": "error",
     "traceback": [
      "\u001b[0;31m---------------------------------------------------------------------------\u001b[0m",
      "\u001b[0;31mAttributeError\u001b[0m                            Traceback (most recent call last)",
      "\u001b[0;32m<ipython-input-35-077fb3417552>\u001b[0m in \u001b[0;36m<module>\u001b[0;34m()\u001b[0m\n\u001b[1;32m      2\u001b[0m                                 \u001b[0mrandom_state\u001b[0m\u001b[0;34m=\u001b[0m\u001b[0;36m0\u001b[0m\u001b[0;34m,\u001b[0m\u001b[0;34m\u001b[0m\u001b[0m\n\u001b[1;32m      3\u001b[0m                                 n_jobs=-1)\n\u001b[0;32m----> 4\u001b[0;31m \u001b[0mregression_model\u001b[0m\u001b[0;34m(\u001b[0m\u001b[0mmodel\u001b[0m\u001b[0;34m,\u001b[0m \u001b[0mdf\u001b[0m\u001b[0;34m,\u001b[0m\u001b[0mpredictor_var\u001b[0m\u001b[0;34m,\u001b[0m\u001b[0moutcome_var\u001b[0m\u001b[0;34m)\u001b[0m\u001b[0;34m\u001b[0m\u001b[0m\n\u001b[0m",
      "\u001b[0;32m<ipython-input-14-cd3f49c34d07>\u001b[0m in \u001b[0;36mregression_model\u001b[0;34m(model, data, predictors, outcome)\u001b[0m\n\u001b[1;32m     15\u001b[0m \u001b[0;31m#  print('Coefficients: \\n')\u001b[0m\u001b[0;34m\u001b[0m\u001b[0;34m\u001b[0m\u001b[0m\n\u001b[1;32m     16\u001b[0m \u001b[0;31m#  print  model.coef_\u001b[0m\u001b[0;34m\u001b[0m\u001b[0;34m\u001b[0m\u001b[0m\n\u001b[0;32m---> 17\u001b[0;31m   \u001b[0mprint\u001b[0m\u001b[0;34m(\u001b[0m\u001b[0;34m'Coefficients: %s \\n'\u001b[0m \u001b[0;34m%\u001b[0m       \u001b[0mmodel\u001b[0m\u001b[0;34m.\u001b[0m\u001b[0mcoef_\u001b[0m\u001b[0;34m[\u001b[0m\u001b[0;36m0\u001b[0m\u001b[0;34m]\u001b[0m\u001b[0;34m)\u001b[0m\u001b[0;34m\u001b[0m\u001b[0m\n\u001b[0m\u001b[1;32m     18\u001b[0m   \u001b[0mprint\u001b[0m\u001b[0;34m(\u001b[0m\u001b[0;34m'Intercept:    %.10s \\n'\u001b[0m \u001b[0;34m%\u001b[0m    \u001b[0mmodel\u001b[0m\u001b[0;34m.\u001b[0m\u001b[0mintercept_\u001b[0m\u001b[0;34m)\u001b[0m\u001b[0;34m\u001b[0m\u001b[0m\n\u001b[1;32m     19\u001b[0m   \u001b[0;31m#\u001b[0m\u001b[0;34m\u001b[0m\u001b[0;34m\u001b[0m\u001b[0m\n",
      "\u001b[0;31mAttributeError\u001b[0m: 'RandomForestRegressor' object has no attribute 'coef_'"
     ]
    }
   ],
   "source": [
    "model = RandomForestRegressor(n_estimators=1000,\n",
    "                                random_state=0,\n",
    "                                n_jobs=-1)\n",
    "regression_model(model, df,predictor_var,outcome_var)\n"
   ]
  },
  {
   "cell_type": "code",
   "execution_count": 36,
   "metadata": {},
   "outputs": [
    {
     "name": "stdout",
     "output_type": "stream",
     "text": [
      " 1) ERP_EAuThick                   0.579703\n",
      " 2) TIME3132                       0.234482\n",
      " 3) PRESENT_DIPPING_31             0.166442\n",
      " 4) HEATING2122                    0.001920\n",
      " 5) PRESENT_DIPPING_32             0.001792\n",
      " 6) NITHICK_Average                0.001330\n",
      " 7) TIME2122                       0.000884\n",
      " 8) CONDUCTIVITY_20                0.000849\n",
      " 9) PRESENT_DIPPING_14             0.000716\n",
      "10) AREA                           0.000654\n",
      "11) TEMPERATURE_21                 0.000652\n",
      "12) TEMPERATURE_27                 0.000594\n",
      "13) CONDUCTIVITY_35                0.000518\n",
      "14) ERP_EBackareaSQ                0.000460\n",
      "15) TEMPERATURE_32                 0.000447\n",
      "16) TEMPERATURE1213                0.000409\n",
      "17) CONDUCTIVITY_25                0.000404\n",
      "18) TEMPERATURE2122                0.000403\n",
      "19) HEATING_21                     0.000381\n",
      "20) CONDUCTIVITY_23                0.000377\n",
      "21) CONDUCTIVITY_30                0.000354\n",
      "22) ERP_EFrontareaSQ               0.000349\n",
      "23) TEMPERATURE_02                 0.000344\n",
      "24) PRESENT_DIPPING_21             0.000319\n",
      "25) TEMPERATURE2627                0.000309\n",
      "26) PRESENT_DIPPING_16             0.000295\n",
      "27) HEATING_22                     0.000266\n",
      "28) TEMPERATURE_18                 0.000262\n",
      "29) PRESENT_DIPPING_11             0.000199\n",
      "30) HEATING_31                     0.000191\n",
      "31) PRESENT_DIPPING_09             0.000182\n",
      "32) TEMPERATURE_17                 0.000179\n",
      "33) TEMPERATURE_01                 0.000174\n",
      "34) TEMPERATURE_05                 0.000165\n",
      "35) TEMPERATURE_22                 0.000165\n",
      "36) PRESENT_DIPPING_22             0.000161\n",
      "37) PRESENT_DIPPING_17             0.000160\n",
      "38) TEMPERATURE_13                 0.000159\n",
      "39) PRESENT_DIPPING_33             0.000154\n",
      "40) TEMPERATURE_26                 0.000147\n",
      "41) TEMPERATURE_12                 0.000142\n",
      "42) HEATING3132                    0.000139\n",
      "43) PRESENT_DIPPING_24             0.000133\n",
      "44) PRESENT_DIPPING_28             0.000126\n",
      "45) HEATING_32                     0.000120\n",
      "46) PRESENT_DIPPING_08             0.000110\n",
      "47) PRESENT_DIPPING_18             0.000095\n",
      "48) NI_TIME                        0.000084\n",
      "49) PRESENT_DIPPING_29             0.000084\n",
      "50) PRESENT_DIPPING_06             0.000078\n",
      "51) TEMPERATURE_31                 0.000078\n",
      "52) PRESENT_DIPPING_23             0.000077\n",
      "53) PRESENT_DIPPING_10             0.000074\n",
      "54) PRESENT_DIPPING_25             0.000073\n",
      "55) QUANTITY                       0.000067\n",
      "56) TEMPERATURE3132                0.000065\n",
      "57) PRESENT_DIPPING_20             0.000063\n",
      "58) PRESENT_DIPPING_19             0.000062\n",
      "59) PRESENT_DIPPING_13             0.000049\n",
      "60) PRESENT_DIPPING_15             0.000045\n",
      "61) PRESENT_DIPPING_30             0.000041\n",
      "62) PRESENT_DIPPING_27             0.000039\n",
      "63) PRESENT_DIPPING_12             0.000038\n",
      "64) TIME1213                       0.000035\n",
      "65) TARGET_NO                      0.000029\n",
      "66) TIME2627                       0.000025\n",
      "67) PRESENT_DIPPING_26             0.000024\n",
      "68) PRESENT_DIPPING_07             0.000022\n",
      "69) ERP_ENiThick                   0.000020\n",
      "70) PRESENT_DIPPING_05             0.000011\n",
      "71) GOLD_TIME                      0.000000\n"
     ]
    },
    {
     "data": {
      "image/png": "[encoded data removed]",
      "text/plain": [
       "<matplotlib.figure.Figure at 0x1128debe0>"
      ]
     },
     "metadata": {},
     "output_type": "display_data"
    }
   ],
   "source": [
    "importances = model.feature_importances_\n",
    "\n",
    "importance = pd.DataFrame(model.feature_importances_, index=predictor_var, columns=[\"Importance\"])\n",
    "\n",
    "indices = np.argsort(importances)[::-1]\n",
    "#\n",
    "featimp = pd.Series(model.feature_importances_, index=predictor_var).sort_values(ascending=False)\n",
    "#print featimp\n",
    "#\n",
    "feat_labels = featimp.index[0:]\n",
    "\n",
    "for f in range(importance.shape[0]):\n",
    "    print(\"%2d) %-*s %f\" % (f + 1, 30,feat_labels[f], importances[indices[f]]))\n",
    "\n",
    "plt.title(\"Feature importances\")\n",
    "plt.bar(range(importance.shape[0]),importances[indices],color='lightblue',align='center')\n",
    "plt.xticks(range(importance.shape[0]), feat_labels, rotation=90)\n",
    "plt.xlim([-1, importance.shape[0]])\n",
    "plt.tight_layout()\n",
    "plt.show()\n"
   ]
  },
  {
   "cell_type": "code",
   "execution_count": 37,
   "metadata": {
    "collapsed": true
   },
   "outputs": [],
   "source": [
    "df = pd.read_csv(\"/Users/cesare.chung/Dropbox/2017ML/EXCEL/winequality-white.csv\")"
   ]
  },
  {
   "cell_type": "code",
   "execution_count": 38,
   "metadata": {},
   "outputs": [
    {
     "data": {
      "text/html": [
       "<div>\n",
       "<style>\n",
       "    .dataframe thead tr:only-child th {\n",
       "        text-align: right;\n",
       "    }\n",
       "\n",
       "    .dataframe thead th {\n",
       "        text-align: left;\n",
       "    }\n",
       "\n",
       "    .dataframe tbody tr th {\n",
       "        vertical-align: top;\n",
       "    }\n",
       "</style>\n",
       "<table border=\"1\" class=\"dataframe\">\n",
       "  <thead>\n",
       "    <tr style=\"text-align: right;\">\n",
       "      <th></th>\n",
       "      <th>fixed acidity</th>\n",
       "      <th>volatile acidity</th>\n",
       "      <th>citric acid</th>\n",
       "      <th>residual sugar</th>\n",
       "      <th>chlorides</th>\n",
       "      <th>free sulfur dioxide</th>\n",
       "      <th>total sulfur dioxide</th>\n",
       "      <th>density</th>\n",
       "      <th>pH</th>\n",
       "      <th>sulphates</th>\n",
       "      <th>alcohol</th>\n",
       "      <th>quality</th>\n",
       "    </tr>\n",
       "  </thead>\n",
       "  <tbody>\n",
       "    <tr>\n",
       "      <th>0</th>\n",
       "      <td>7.0</td>\n",
       "      <td>0.27</td>\n",
       "      <td>0.36</td>\n",
       "      <td>20.7</td>\n",
       "      <td>0.045</td>\n",
       "      <td>45.0</td>\n",
       "      <td>170.0</td>\n",
       "      <td>1.0010</td>\n",
       "      <td>3.00</td>\n",
       "      <td>0.45</td>\n",
       "      <td>8.8</td>\n",
       "      <td>6</td>\n",
       "    </tr>\n",
       "    <tr>\n",
       "      <th>1</th>\n",
       "      <td>6.3</td>\n",
       "      <td>0.30</td>\n",
       "      <td>0.34</td>\n",
       "      <td>1.6</td>\n",
       "      <td>0.049</td>\n",
       "      <td>14.0</td>\n",
       "      <td>132.0</td>\n",
       "      <td>0.9940</td>\n",
       "      <td>3.30</td>\n",
       "      <td>0.49</td>\n",
       "      <td>9.5</td>\n",
       "      <td>6</td>\n",
       "    </tr>\n",
       "    <tr>\n",
       "      <th>2</th>\n",
       "      <td>8.1</td>\n",
       "      <td>0.28</td>\n",
       "      <td>0.40</td>\n",
       "      <td>6.9</td>\n",
       "      <td>0.050</td>\n",
       "      <td>30.0</td>\n",
       "      <td>97.0</td>\n",
       "      <td>0.9951</td>\n",
       "      <td>3.26</td>\n",
       "      <td>0.44</td>\n",
       "      <td>10.1</td>\n",
       "      <td>6</td>\n",
       "    </tr>\n",
       "    <tr>\n",
       "      <th>3</th>\n",
       "      <td>7.2</td>\n",
       "      <td>0.23</td>\n",
       "      <td>0.32</td>\n",
       "      <td>8.5</td>\n",
       "      <td>0.058</td>\n",
       "      <td>47.0</td>\n",
       "      <td>186.0</td>\n",
       "      <td>0.9956</td>\n",
       "      <td>3.19</td>\n",
       "      <td>0.40</td>\n",
       "      <td>9.9</td>\n",
       "      <td>6</td>\n",
       "    </tr>\n",
       "    <tr>\n",
       "      <th>4</th>\n",
       "      <td>7.2</td>\n",
       "      <td>0.23</td>\n",
       "      <td>0.32</td>\n",
       "      <td>8.5</td>\n",
       "      <td>0.058</td>\n",
       "      <td>47.0</td>\n",
       "      <td>186.0</td>\n",
       "      <td>0.9956</td>\n",
       "      <td>3.19</td>\n",
       "      <td>0.40</td>\n",
       "      <td>9.9</td>\n",
       "      <td>6</td>\n",
       "    </tr>\n",
       "  </tbody>\n",
       "</table>\n",
       "</div>"
      ],
      "text/plain": [
       "   fixed acidity  volatile acidity  citric acid  residual sugar  chlorides  \\\n",
       "0            7.0              0.27         0.36            20.7      0.045   \n",
       "1            6.3              0.30         0.34             1.6      0.049   \n",
       "2            8.1              0.28         0.40             6.9      0.050   \n",
       "3            7.2              0.23         0.32             8.5      0.058   \n",
       "4            7.2              0.23         0.32             8.5      0.058   \n",
       "\n",
       "   free sulfur dioxide  total sulfur dioxide  density    pH  sulphates  \\\n",
       "0                 45.0                 170.0   1.0010  3.00       0.45   \n",
       "1                 14.0                 132.0   0.9940  3.30       0.49   \n",
       "2                 30.0                  97.0   0.9951  3.26       0.44   \n",
       "3                 47.0                 186.0   0.9956  3.19       0.40   \n",
       "4                 47.0                 186.0   0.9956  3.19       0.40   \n",
       "\n",
       "   alcohol  quality  \n",
       "0      8.8        6  \n",
       "1      9.5        6  \n",
       "2     10.1        6  \n",
       "3      9.9        6  \n",
       "4      9.9        6  "
      ]
     },
     "execution_count": 38,
     "metadata": {},
     "output_type": "execute_result"
    }
   ],
   "source": [
    "df.head()"
   ]
  },
  {
   "cell_type": "code",
   "execution_count": 39,
   "metadata": {},
   "outputs": [
    {
     "name": "stderr",
     "output_type": "stream",
     "text": [
      "/anaconda/envs/py35/lib/python3.5/site-packages/ipykernel_launcher.py:3: DeprecationWarning: \n",
      ".ix is deprecated. Please use\n",
      ".loc for label based indexing or\n",
      ".iloc for positional indexing\n",
      "\n",
      "See the documentation here:\n",
      "http://pandas.pydata.org/pandas-docs/stable/indexing.html#deprecate_ix\n",
      "  This is separate from the ipykernel package so we can avoid doing imports until\n"
     ]
    }
   ],
   "source": [
    "# Training Set\n",
    "#\n",
    "df = df.ix[0:3000,]\n",
    "#\n",
    "df1 = df\n",
    "df1 = order(df1,['alcohol'])\n",
    "df1=df1.loc[:, \"fixed acidity\":\"quality\"]"
   ]
  },
  {
   "cell_type": "code",
   "execution_count": 40,
   "metadata": {},
   "outputs": [
    {
     "data": {
      "text/html": [
       "<div>\n",
       "<style>\n",
       "    .dataframe thead tr:only-child th {\n",
       "        text-align: right;\n",
       "    }\n",
       "\n",
       "    .dataframe thead th {\n",
       "        text-align: left;\n",
       "    }\n",
       "\n",
       "    .dataframe tbody tr th {\n",
       "        vertical-align: top;\n",
       "    }\n",
       "</style>\n",
       "<table border=\"1\" class=\"dataframe\">\n",
       "  <thead>\n",
       "    <tr style=\"text-align: right;\">\n",
       "      <th></th>\n",
       "      <th>fixed acidity</th>\n",
       "      <th>volatile acidity</th>\n",
       "      <th>citric acid</th>\n",
       "      <th>residual sugar</th>\n",
       "      <th>chlorides</th>\n",
       "      <th>free sulfur dioxide</th>\n",
       "      <th>total sulfur dioxide</th>\n",
       "      <th>density</th>\n",
       "      <th>pH</th>\n",
       "      <th>sulphates</th>\n",
       "      <th>quality</th>\n",
       "    </tr>\n",
       "  </thead>\n",
       "  <tbody>\n",
       "    <tr>\n",
       "      <th>0</th>\n",
       "      <td>7.0</td>\n",
       "      <td>0.27</td>\n",
       "      <td>0.36</td>\n",
       "      <td>20.7</td>\n",
       "      <td>0.045</td>\n",
       "      <td>45.0</td>\n",
       "      <td>170.0</td>\n",
       "      <td>1.0010</td>\n",
       "      <td>3.00</td>\n",
       "      <td>0.45</td>\n",
       "      <td>6</td>\n",
       "    </tr>\n",
       "    <tr>\n",
       "      <th>1</th>\n",
       "      <td>6.3</td>\n",
       "      <td>0.30</td>\n",
       "      <td>0.34</td>\n",
       "      <td>1.6</td>\n",
       "      <td>0.049</td>\n",
       "      <td>14.0</td>\n",
       "      <td>132.0</td>\n",
       "      <td>0.9940</td>\n",
       "      <td>3.30</td>\n",
       "      <td>0.49</td>\n",
       "      <td>6</td>\n",
       "    </tr>\n",
       "    <tr>\n",
       "      <th>2</th>\n",
       "      <td>8.1</td>\n",
       "      <td>0.28</td>\n",
       "      <td>0.40</td>\n",
       "      <td>6.9</td>\n",
       "      <td>0.050</td>\n",
       "      <td>30.0</td>\n",
       "      <td>97.0</td>\n",
       "      <td>0.9951</td>\n",
       "      <td>3.26</td>\n",
       "      <td>0.44</td>\n",
       "      <td>6</td>\n",
       "    </tr>\n",
       "    <tr>\n",
       "      <th>3</th>\n",
       "      <td>7.2</td>\n",
       "      <td>0.23</td>\n",
       "      <td>0.32</td>\n",
       "      <td>8.5</td>\n",
       "      <td>0.058</td>\n",
       "      <td>47.0</td>\n",
       "      <td>186.0</td>\n",
       "      <td>0.9956</td>\n",
       "      <td>3.19</td>\n",
       "      <td>0.40</td>\n",
       "      <td>6</td>\n",
       "    </tr>\n",
       "    <tr>\n",
       "      <th>4</th>\n",
       "      <td>7.2</td>\n",
       "      <td>0.23</td>\n",
       "      <td>0.32</td>\n",
       "      <td>8.5</td>\n",
       "      <td>0.058</td>\n",
       "      <td>47.0</td>\n",
       "      <td>186.0</td>\n",
       "      <td>0.9956</td>\n",
       "      <td>3.19</td>\n",
       "      <td>0.40</td>\n",
       "      <td>6</td>\n",
       "    </tr>\n",
       "  </tbody>\n",
       "</table>\n",
       "</div>"
      ],
      "text/plain": [
       "   fixed acidity  volatile acidity  citric acid  residual sugar  chlorides  \\\n",
       "0            7.0              0.27         0.36            20.7      0.045   \n",
       "1            6.3              0.30         0.34             1.6      0.049   \n",
       "2            8.1              0.28         0.40             6.9      0.050   \n",
       "3            7.2              0.23         0.32             8.5      0.058   \n",
       "4            7.2              0.23         0.32             8.5      0.058   \n",
       "\n",
       "   free sulfur dioxide  total sulfur dioxide  density    pH  sulphates  \\\n",
       "0                 45.0                 170.0   1.0010  3.00       0.45   \n",
       "1                 14.0                 132.0   0.9940  3.30       0.49   \n",
       "2                 30.0                  97.0   0.9951  3.26       0.44   \n",
       "3                 47.0                 186.0   0.9956  3.19       0.40   \n",
       "4                 47.0                 186.0   0.9956  3.19       0.40   \n",
       "\n",
       "   quality  \n",
       "0        6  \n",
       "1        6  \n",
       "2        6  \n",
       "3        6  \n",
       "4        6  "
      ]
     },
     "execution_count": 40,
     "metadata": {},
     "output_type": "execute_result"
    }
   ],
   "source": [
    "df1.head()"
   ]
  },
  {
   "cell_type": "code",
   "execution_count": 41,
   "metadata": {
    "collapsed": true
   },
   "outputs": [],
   "source": [
    "#\n",
    "model = svm.SVR()\n",
    "model = svm.SVR(C=1000, epsilon=0.0001)\n",
    "model = svm.SVR(kernel='linear')\n",
    "model = Lasso(random_state=0)\n",
    "#\n",
    "model = Lasso(alpha = 0.1)\n",
    "model = ElasticNet(alpha=10, l1_ratio=1)\n",
    "model = ElasticNetCV(max_iter=1000, cv=20, l1_ratio = [.1, .5, .7, .9, .95, .99, 1])\n",
    "model = linear_model.LinearRegression()\n",
    "#"
   ]
  },
  {
   "cell_type": "code",
   "execution_count": 42,
   "metadata": {},
   "outputs": [
    {
     "name": "stdout",
     "output_type": "stream",
     "text": [
      "Results for Training data: Before running, make sure to only collect Training Set \n",
      "\n",
      "Variance Score on Training: 0.81897788\n",
      "R^2  on Training data     : 0.81897788\n",
      "MAPE on Training data     : 3.0987\n",
      "MSE  on Training data     : 0.2298 \n",
      "\n",
      "Coefficients: 0.516602699716 \n",
      "\n",
      "Intercept:    614.017622 \n",
      "\n",
      "Results:                                OLS Regression Results                            \n",
      "==============================================================================\n",
      "Dep. Variable:                alcohol   R-squared:                       0.819\n",
      "Model:                            OLS   Adj. R-squared:                  0.818\n",
      "Method:                 Least Squares   F-statistic:                     1229.\n",
      "Date:                Sun, 05 Nov 2017   Prob (F-statistic):               0.00\n",
      "Time:                        10:11:56   Log-Likelihood:                -2051.4\n",
      "No. Observations:                3001   AIC:                             4127.\n",
      "Df Residuals:                    2989   BIC:                             4199.\n",
      "Df Model:                          11                                         \n",
      "Covariance Type:            nonrobust                                         \n",
      "========================================================================================\n",
      "                           coef    std err          t      P>|t|      [0.025      0.975]\n",
      "----------------------------------------------------------------------------------------\n",
      "const                  614.0176      8.023     76.530      0.000     598.286     629.749\n",
      "fixed acidity            0.5166      0.013     38.985      0.000       0.491       0.543\n",
      "volatile acidity         1.0042      0.092     10.892      0.000       0.823       1.185\n",
      "citric acid              0.3764      0.074      5.075      0.000       0.231       0.522\n",
      "residual sugar           0.2124      0.004     50.710      0.000       0.204       0.221\n",
      "chlorides               -0.1434      0.425     -0.337      0.736      -0.977       0.690\n",
      "free sulfur dioxide     -0.0051      0.001     -7.106      0.000      -0.006      -0.004\n",
      "total sulfur dioxide     0.0005      0.000      1.646      0.100    -9.4e-05       0.001\n",
      "density               -621.0413      8.202    -75.719      0.000    -637.123    -604.959\n",
      "pH                       2.3810      0.072     33.176      0.000       2.240       2.522\n",
      "sulphates                0.9627      0.081     11.947      0.000       0.805       1.121\n",
      "quality                  0.0905      0.011      8.001      0.000       0.068       0.113\n",
      "==============================================================================\n",
      "Omnibus:                     4698.956   Durbin-Watson:                   1.679\n",
      "Prob(Omnibus):                  0.000   Jarque-Bera (JB):          9364459.440\n",
      "Skew:                           9.244   Prob(JB):                         0.00\n",
      "Kurtosis:                     276.036   Cond. No.                     2.04e+05\n",
      "==============================================================================\n",
      "\n",
      "Warnings:\n",
      "[1] Standard Errors assume that the covariance matrix of the errors is correctly specified.\n",
      "[2] The condition number is large, 2.04e+05. This might indicate that there are\n",
      "strong multicollinearity or other numerical problems. \n",
      "\n",
      "Cross-Validation Results: \n",
      "\n",
      "R^2  for Cross-Validation Result: 0.8503\n",
      "MAPE for Cross-Validation Result: 3.2375\n",
      "MSE  for Cross-Validation Result: 0.1837\n"
     ]
    }
   ],
   "source": [
    "outcome_var = 'alcohol'\n",
    "predictor_var = list(df1.columns.values)\n",
    "\n",
    "regression_model(model, df,predictor_var,outcome_var)"
   ]
  },
  {
   "cell_type": "code",
   "execution_count": 43,
   "metadata": {},
   "outputs": [
    {
     "data": {
      "text/plain": [
       "['fixed acidity',\n",
       " 'volatile acidity',\n",
       " 'citric acid',\n",
       " 'residual sugar',\n",
       " 'chlorides',\n",
       " 'free sulfur dioxide',\n",
       " 'total sulfur dioxide',\n",
       " 'density',\n",
       " 'pH',\n",
       " 'sulphates',\n",
       " 'quality']"
      ]
     },
     "execution_count": 43,
     "metadata": {},
     "output_type": "execute_result"
    }
   ],
   "source": [
    "list(df1.columns.values)"
   ]
  },
  {
   "cell_type": "code",
   "execution_count": 44,
   "metadata": {},
   "outputs": [
    {
     "name": "stdout",
     "output_type": "stream",
     "text": [
      "Score     : [ 0.90883208  0.90954478  0.93343532  0.93031479  0.92495234  0.92150029\n",
      "  0.91505209  0.91845046  0.93731309  0.94453579]\n",
      "Mean Score: 0.9244\n"
     ]
    },
    {
     "name": "stderr",
     "output_type": "stream",
     "text": [
      "/anaconda/envs/py35/lib/python3.5/site-packages/sklearn/metrics/scorer.py:100: DeprecationWarning: Scoring method mean_squared_error was renamed to neg_mean_squared_error in version 0.18 and will be removed in 0.20.\n",
      "  sample_weight=sample_weight)\n",
      "/anaconda/envs/py35/lib/python3.5/site-packages/sklearn/metrics/scorer.py:100: DeprecationWarning: Scoring method mean_squared_error was renamed to neg_mean_squared_error in version 0.18 and will be removed in 0.20.\n",
      "  sample_weight=sample_weight)\n",
      "/anaconda/envs/py35/lib/python3.5/site-packages/sklearn/metrics/scorer.py:100: DeprecationWarning: Scoring method mean_squared_error was renamed to neg_mean_squared_error in version 0.18 and will be removed in 0.20.\n",
      "  sample_weight=sample_weight)\n",
      "/anaconda/envs/py35/lib/python3.5/site-packages/sklearn/metrics/scorer.py:100: DeprecationWarning: Scoring method mean_squared_error was renamed to neg_mean_squared_error in version 0.18 and will be removed in 0.20.\n",
      "  sample_weight=sample_weight)\n",
      "/anaconda/envs/py35/lib/python3.5/site-packages/sklearn/metrics/scorer.py:100: DeprecationWarning: Scoring method mean_squared_error was renamed to neg_mean_squared_error in version 0.18 and will be removed in 0.20.\n",
      "  sample_weight=sample_weight)\n",
      "/anaconda/envs/py35/lib/python3.5/site-packages/sklearn/metrics/scorer.py:100: DeprecationWarning: Scoring method mean_squared_error was renamed to neg_mean_squared_error in version 0.18 and will be removed in 0.20.\n",
      "  sample_weight=sample_weight)\n",
      "/anaconda/envs/py35/lib/python3.5/site-packages/sklearn/metrics/scorer.py:100: DeprecationWarning: Scoring method mean_squared_error was renamed to neg_mean_squared_error in version 0.18 and will be removed in 0.20.\n",
      "  sample_weight=sample_weight)\n",
      "/anaconda/envs/py35/lib/python3.5/site-packages/sklearn/metrics/scorer.py:100: DeprecationWarning: Scoring method mean_squared_error was renamed to neg_mean_squared_error in version 0.18 and will be removed in 0.20.\n",
      "  sample_weight=sample_weight)\n",
      "/anaconda/envs/py35/lib/python3.5/site-packages/sklearn/metrics/scorer.py:100: DeprecationWarning: Scoring method mean_squared_error was renamed to neg_mean_squared_error in version 0.18 and will be removed in 0.20.\n",
      "  sample_weight=sample_weight)\n",
      "/anaconda/envs/py35/lib/python3.5/site-packages/sklearn/metrics/scorer.py:100: DeprecationWarning: Scoring method mean_squared_error was renamed to neg_mean_squared_error in version 0.18 and will be removed in 0.20.\n",
      "  sample_weight=sample_weight)\n"
     ]
    },
    {
     "name": "stdout",
     "output_type": "stream",
     "text": [
      "Score          : [-0.11541732 -0.11475516 -0.11723394 -0.11291456 -0.10904763 -0.12086408\n",
      " -0.10272812 -0.11511099 -0.13476564 -0.09030585]\n",
      "MSE: -0.1133 (+/- 0.01)\n"
     ]
    },
    {
     "name": "stderr",
     "output_type": "stream",
     "text": [
      "/anaconda/envs/py35/lib/python3.5/site-packages/sklearn/metrics/scorer.py:100: DeprecationWarning: Scoring method mean_absolute_error was renamed to neg_mean_absolute_error in version 0.18 and will be removed in 0.20.\n",
      "  sample_weight=sample_weight)\n",
      "/anaconda/envs/py35/lib/python3.5/site-packages/sklearn/metrics/scorer.py:100: DeprecationWarning: Scoring method mean_absolute_error was renamed to neg_mean_absolute_error in version 0.18 and will be removed in 0.20.\n",
      "  sample_weight=sample_weight)\n",
      "/anaconda/envs/py35/lib/python3.5/site-packages/sklearn/metrics/scorer.py:100: DeprecationWarning: Scoring method mean_absolute_error was renamed to neg_mean_absolute_error in version 0.18 and will be removed in 0.20.\n",
      "  sample_weight=sample_weight)\n",
      "/anaconda/envs/py35/lib/python3.5/site-packages/sklearn/metrics/scorer.py:100: DeprecationWarning: Scoring method mean_absolute_error was renamed to neg_mean_absolute_error in version 0.18 and will be removed in 0.20.\n",
      "  sample_weight=sample_weight)\n",
      "/anaconda/envs/py35/lib/python3.5/site-packages/sklearn/metrics/scorer.py:100: DeprecationWarning: Scoring method mean_absolute_error was renamed to neg_mean_absolute_error in version 0.18 and will be removed in 0.20.\n",
      "  sample_weight=sample_weight)\n",
      "/anaconda/envs/py35/lib/python3.5/site-packages/sklearn/metrics/scorer.py:100: DeprecationWarning: Scoring method mean_absolute_error was renamed to neg_mean_absolute_error in version 0.18 and will be removed in 0.20.\n",
      "  sample_weight=sample_weight)\n",
      "/anaconda/envs/py35/lib/python3.5/site-packages/sklearn/metrics/scorer.py:100: DeprecationWarning: Scoring method mean_absolute_error was renamed to neg_mean_absolute_error in version 0.18 and will be removed in 0.20.\n",
      "  sample_weight=sample_weight)\n",
      "/anaconda/envs/py35/lib/python3.5/site-packages/sklearn/metrics/scorer.py:100: DeprecationWarning: Scoring method mean_absolute_error was renamed to neg_mean_absolute_error in version 0.18 and will be removed in 0.20.\n",
      "  sample_weight=sample_weight)\n",
      "/anaconda/envs/py35/lib/python3.5/site-packages/sklearn/metrics/scorer.py:100: DeprecationWarning: Scoring method mean_absolute_error was renamed to neg_mean_absolute_error in version 0.18 and will be removed in 0.20.\n",
      "  sample_weight=sample_weight)\n"
     ]
    },
    {
     "name": "stdout",
     "output_type": "stream",
     "text": [
      "Score          : [-0.23711782 -0.22132034 -0.24563577 -0.2307915  -0.23474208 -0.23255109\n",
      " -0.22620586 -0.23704988 -0.25397175 -0.21259563]\n",
      "MAE: -0.2332 (+/- 0.01)\n"
     ]
    },
    {
     "name": "stderr",
     "output_type": "stream",
     "text": [
      "/anaconda/envs/py35/lib/python3.5/site-packages/sklearn/metrics/scorer.py:100: DeprecationWarning: Scoring method mean_absolute_error was renamed to neg_mean_absolute_error in version 0.18 and will be removed in 0.20.\n",
      "  sample_weight=sample_weight)\n"
     ]
    }
   ],
   "source": [
    "############################################################# Cross-Validation (Check) winequality-white (--> predict alcohol)\n",
    "from sklearn.cross_validation import train_test_split\n",
    "#\n",
    "df = pd.read_csv(\"/Users/cesare.chung/Dropbox/2017ML/EXCEL/winequality-white.csv\")\n",
    "df = order(df,['alcohol'])\n",
    "#\n",
    "X = df.iloc[:, 1:].values\n",
    "y = df.iloc[:, 0].values\n",
    "#\n",
    "X_train, X_test, y_train, y_test = train_test_split(X, y, test_size=0.2, random_state=0)\n",
    "#\n",
    "model = linear_model.LinearRegression()\n",
    "model = RandomForestRegressor(n_estimators=100,random_state=0,n_jobs=-1)\n",
    "#\n",
    "# CV\n",
    "shuffle = cross_validation.KFold(len(X_train), n_folds=10, shuffle=True)\n",
    "# CV R^2\n",
    "scores = cross_validation.cross_val_score(model, X_train, y_train, cv=shuffle)\n",
    "scores = cross_validation.cross_val_score(model, X_train, y_train, cv=10)\n",
    "print('Score     : %s'    % (scores))\n",
    "print(\"Mean Score: %0.4f\" % (np.mean(scores)))\n",
    "#\n",
    "# CV - MSE\n",
    "scores_mse = cross_validation.cross_val_score(model, X_train, y_train, scoring = 'mean_squared_error' ,cv=shuffle)\n",
    "print('Score          : %s'    % (scores_mse))\n",
    "print(\"MSE: %0.4f (+/- %0.2f)\" % (scores_mse.mean(), scores_mse.std()))\n",
    "# CV - MAE\n",
    "scores_mae = cross_validation.cross_val_score(model, X_train, y_train, scoring = 'mean_absolute_error',cv=shuffle)\n",
    "print('Score          : %s'    % (scores_mae))\n",
    "print(\"MAE: %0.4f (+/- %0.2f)\" % (scores_mae.mean(), scores_mae.std()))\n",
    "#\n"
   ]
  },
  {
   "cell_type": "code",
   "execution_count": 45,
   "metadata": {},
   "outputs": [
    {
     "name": "stderr",
     "output_type": "stream",
     "text": [
      "/anaconda/envs/py35/lib/python3.5/site-packages/sklearn/metrics/scorer.py:100: DeprecationWarning: Scoring method mean_squared_error was renamed to neg_mean_squared_error in version 0.18 and will be removed in 0.20.\n",
      "  sample_weight=sample_weight)\n",
      "/anaconda/envs/py35/lib/python3.5/site-packages/sklearn/metrics/scorer.py:100: DeprecationWarning: Scoring method mean_squared_error was renamed to neg_mean_squared_error in version 0.18 and will be removed in 0.20.\n",
      "  sample_weight=sample_weight)\n",
      "/anaconda/envs/py35/lib/python3.5/site-packages/sklearn/metrics/scorer.py:100: DeprecationWarning: Scoring method mean_squared_error was renamed to neg_mean_squared_error in version 0.18 and will be removed in 0.20.\n",
      "  sample_weight=sample_weight)\n",
      "/anaconda/envs/py35/lib/python3.5/site-packages/sklearn/metrics/scorer.py:100: DeprecationWarning: Scoring method mean_squared_error was renamed to neg_mean_squared_error in version 0.18 and will be removed in 0.20.\n",
      "  sample_weight=sample_weight)\n",
      "/anaconda/envs/py35/lib/python3.5/site-packages/sklearn/metrics/scorer.py:100: DeprecationWarning: Scoring method mean_squared_error was renamed to neg_mean_squared_error in version 0.18 and will be removed in 0.20.\n",
      "  sample_weight=sample_weight)\n",
      "/anaconda/envs/py35/lib/python3.5/site-packages/sklearn/metrics/scorer.py:100: DeprecationWarning: Scoring method mean_squared_error was renamed to neg_mean_squared_error in version 0.18 and will be removed in 0.20.\n",
      "  sample_weight=sample_weight)\n",
      "/anaconda/envs/py35/lib/python3.5/site-packages/sklearn/metrics/scorer.py:100: DeprecationWarning: Scoring method mean_squared_error was renamed to neg_mean_squared_error in version 0.18 and will be removed in 0.20.\n",
      "  sample_weight=sample_weight)\n",
      "/anaconda/envs/py35/lib/python3.5/site-packages/sklearn/metrics/scorer.py:100: DeprecationWarning: Scoring method mean_squared_error was renamed to neg_mean_squared_error in version 0.18 and will be removed in 0.20.\n",
      "  sample_weight=sample_weight)\n",
      "/anaconda/envs/py35/lib/python3.5/site-packages/sklearn/metrics/scorer.py:100: DeprecationWarning: Scoring method mean_squared_error was renamed to neg_mean_squared_error in version 0.18 and will be removed in 0.20.\n",
      "  sample_weight=sample_weight)\n",
      "/anaconda/envs/py35/lib/python3.5/site-packages/sklearn/metrics/scorer.py:100: DeprecationWarning: Scoring method mean_squared_error was renamed to neg_mean_squared_error in version 0.18 and will be removed in 0.20.\n",
      "  sample_weight=sample_weight)\n"
     ]
    },
    {
     "name": "stdout",
     "output_type": "stream",
     "text": [
      "MSE: -0.1326 (+/- 0.02)\n"
     ]
    },
    {
     "name": "stderr",
     "output_type": "stream",
     "text": [
      "/anaconda/envs/py35/lib/python3.5/site-packages/sklearn/metrics/scorer.py:100: DeprecationWarning: Scoring method mean_squared_error was renamed to neg_mean_squared_error in version 0.18 and will be removed in 0.20.\n",
      "  sample_weight=sample_weight)\n",
      "/anaconda/envs/py35/lib/python3.5/site-packages/sklearn/metrics/scorer.py:100: DeprecationWarning: Scoring method mean_squared_error was renamed to neg_mean_squared_error in version 0.18 and will be removed in 0.20.\n",
      "  sample_weight=sample_weight)\n",
      "/anaconda/envs/py35/lib/python3.5/site-packages/sklearn/metrics/scorer.py:100: DeprecationWarning: Scoring method mean_squared_error was renamed to neg_mean_squared_error in version 0.18 and will be removed in 0.20.\n",
      "  sample_weight=sample_weight)\n",
      "/anaconda/envs/py35/lib/python3.5/site-packages/sklearn/metrics/scorer.py:100: DeprecationWarning: Scoring method mean_squared_error was renamed to neg_mean_squared_error in version 0.18 and will be removed in 0.20.\n",
      "  sample_weight=sample_weight)\n",
      "/anaconda/envs/py35/lib/python3.5/site-packages/sklearn/metrics/scorer.py:100: DeprecationWarning: Scoring method mean_squared_error was renamed to neg_mean_squared_error in version 0.18 and will be removed in 0.20.\n",
      "  sample_weight=sample_weight)\n",
      "/anaconda/envs/py35/lib/python3.5/site-packages/sklearn/metrics/scorer.py:100: DeprecationWarning: Scoring method mean_squared_error was renamed to neg_mean_squared_error in version 0.18 and will be removed in 0.20.\n",
      "  sample_weight=sample_weight)\n",
      "/anaconda/envs/py35/lib/python3.5/site-packages/sklearn/metrics/scorer.py:100: DeprecationWarning: Scoring method mean_squared_error was renamed to neg_mean_squared_error in version 0.18 and will be removed in 0.20.\n",
      "  sample_weight=sample_weight)\n",
      "/anaconda/envs/py35/lib/python3.5/site-packages/sklearn/metrics/scorer.py:100: DeprecationWarning: Scoring method mean_squared_error was renamed to neg_mean_squared_error in version 0.18 and will be removed in 0.20.\n",
      "  sample_weight=sample_weight)\n",
      "/anaconda/envs/py35/lib/python3.5/site-packages/sklearn/metrics/scorer.py:100: DeprecationWarning: Scoring method mean_squared_error was renamed to neg_mean_squared_error in version 0.18 and will be removed in 0.20.\n",
      "  sample_weight=sample_weight)\n",
      "/anaconda/envs/py35/lib/python3.5/site-packages/sklearn/metrics/scorer.py:100: DeprecationWarning: Scoring method mean_squared_error was renamed to neg_mean_squared_error in version 0.18 and will be removed in 0.20.\n",
      "  sample_weight=sample_weight)\n"
     ]
    },
    {
     "name": "stdout",
     "output_type": "stream",
     "text": [
      "MSE: -0.1133 (+/- 0.01)\n"
     ]
    },
    {
     "name": "stderr",
     "output_type": "stream",
     "text": [
      "/anaconda/envs/py35/lib/python3.5/site-packages/sklearn/metrics/scorer.py:100: DeprecationWarning: Scoring method mean_squared_error was renamed to neg_mean_squared_error in version 0.18 and will be removed in 0.20.\n",
      "  sample_weight=sample_weight)\n",
      "/anaconda/envs/py35/lib/python3.5/site-packages/sklearn/metrics/scorer.py:100: DeprecationWarning: Scoring method mean_squared_error was renamed to neg_mean_squared_error in version 0.18 and will be removed in 0.20.\n",
      "  sample_weight=sample_weight)\n",
      "/anaconda/envs/py35/lib/python3.5/site-packages/sklearn/metrics/scorer.py:100: DeprecationWarning: Scoring method mean_squared_error was renamed to neg_mean_squared_error in version 0.18 and will be removed in 0.20.\n",
      "  sample_weight=sample_weight)\n",
      "/anaconda/envs/py35/lib/python3.5/site-packages/sklearn/metrics/scorer.py:100: DeprecationWarning: Scoring method mean_squared_error was renamed to neg_mean_squared_error in version 0.18 and will be removed in 0.20.\n",
      "  sample_weight=sample_weight)\n",
      "/anaconda/envs/py35/lib/python3.5/site-packages/sklearn/metrics/scorer.py:100: DeprecationWarning: Scoring method mean_squared_error was renamed to neg_mean_squared_error in version 0.18 and will be removed in 0.20.\n",
      "  sample_weight=sample_weight)\n",
      "/anaconda/envs/py35/lib/python3.5/site-packages/sklearn/metrics/scorer.py:100: DeprecationWarning: Scoring method mean_squared_error was renamed to neg_mean_squared_error in version 0.18 and will be removed in 0.20.\n",
      "  sample_weight=sample_weight)\n",
      "/anaconda/envs/py35/lib/python3.5/site-packages/sklearn/metrics/scorer.py:100: DeprecationWarning: Scoring method mean_squared_error was renamed to neg_mean_squared_error in version 0.18 and will be removed in 0.20.\n",
      "  sample_weight=sample_weight)\n",
      "/anaconda/envs/py35/lib/python3.5/site-packages/sklearn/metrics/scorer.py:100: DeprecationWarning: Scoring method mean_squared_error was renamed to neg_mean_squared_error in version 0.18 and will be removed in 0.20.\n",
      "  sample_weight=sample_weight)\n",
      "/anaconda/envs/py35/lib/python3.5/site-packages/sklearn/metrics/scorer.py:100: DeprecationWarning: Scoring method mean_squared_error was renamed to neg_mean_squared_error in version 0.18 and will be removed in 0.20.\n",
      "  sample_weight=sample_weight)\n"
     ]
    },
    {
     "name": "stdout",
     "output_type": "stream",
     "text": [
      "MSE: -1.0924 (+/- 0.10)\n",
      "MSE: -0.8909 (+/- 0.04)\n"
     ]
    },
    {
     "name": "stderr",
     "output_type": "stream",
     "text": [
      "/anaconda/envs/py35/lib/python3.5/site-packages/sklearn/metrics/scorer.py:100: DeprecationWarning: Scoring method mean_squared_error was renamed to neg_mean_squared_error in version 0.18 and will be removed in 0.20.\n",
      "  sample_weight=sample_weight)\n",
      "/anaconda/envs/py35/lib/python3.5/site-packages/sklearn/metrics/scorer.py:100: DeprecationWarning: Scoring method mean_squared_error was renamed to neg_mean_squared_error in version 0.18 and will be removed in 0.20.\n",
      "  sample_weight=sample_weight)\n",
      "/anaconda/envs/py35/lib/python3.5/site-packages/sklearn/metrics/scorer.py:100: DeprecationWarning: Scoring method mean_squared_error was renamed to neg_mean_squared_error in version 0.18 and will be removed in 0.20.\n",
      "  sample_weight=sample_weight)\n",
      "/anaconda/envs/py35/lib/python3.5/site-packages/sklearn/metrics/scorer.py:100: DeprecationWarning: Scoring method mean_squared_error was renamed to neg_mean_squared_error in version 0.18 and will be removed in 0.20.\n",
      "  sample_weight=sample_weight)\n",
      "/anaconda/envs/py35/lib/python3.5/site-packages/sklearn/metrics/scorer.py:100: DeprecationWarning: Scoring method mean_squared_error was renamed to neg_mean_squared_error in version 0.18 and will be removed in 0.20.\n",
      "  sample_weight=sample_weight)\n",
      "/anaconda/envs/py35/lib/python3.5/site-packages/sklearn/metrics/scorer.py:100: DeprecationWarning: Scoring method mean_squared_error was renamed to neg_mean_squared_error in version 0.18 and will be removed in 0.20.\n",
      "  sample_weight=sample_weight)\n",
      "/anaconda/envs/py35/lib/python3.5/site-packages/sklearn/metrics/scorer.py:100: DeprecationWarning: Scoring method mean_squared_error was renamed to neg_mean_squared_error in version 0.18 and will be removed in 0.20.\n",
      "  sample_weight=sample_weight)\n",
      "/anaconda/envs/py35/lib/python3.5/site-packages/sklearn/metrics/scorer.py:100: DeprecationWarning: Scoring method mean_squared_error was renamed to neg_mean_squared_error in version 0.18 and will be removed in 0.20.\n",
      "  sample_weight=sample_weight)\n",
      "/anaconda/envs/py35/lib/python3.5/site-packages/sklearn/metrics/scorer.py:100: DeprecationWarning: Scoring method mean_squared_error was renamed to neg_mean_squared_error in version 0.18 and will be removed in 0.20.\n",
      "  sample_weight=sample_weight)\n",
      "/anaconda/envs/py35/lib/python3.5/site-packages/sklearn/metrics/scorer.py:100: DeprecationWarning: Scoring method mean_squared_error was renamed to neg_mean_squared_error in version 0.18 and will be removed in 0.20.\n",
      "  sample_weight=sample_weight)\n",
      "/anaconda/envs/py35/lib/python3.5/site-packages/sklearn/metrics/scorer.py:100: DeprecationWarning: Scoring method mean_squared_error was renamed to neg_mean_squared_error in version 0.18 and will be removed in 0.20.\n",
      "  sample_weight=sample_weight)\n"
     ]
    }
   ],
   "source": [
    "############################################################# Cross-Validation (Check) winequality-white (--> predict alcohol)\n",
    "#\n",
    "def test_regression(model):\n",
    "    scores_mse = cross_validation.cross_val_score(model, X_train , y_train, scoring='mean_squared_error',cv=shuffle)\n",
    "    print(\"MSE: %0.4f (+/- %0.2f)\" % (scores_mse.mean(), scores_mse.std()))\n",
    "#\n",
    "lm = linear_model.LinearRegression()\n",
    "rf = RandomForestRegressor(n_estimators=100,random_state=0,n_jobs=-1)\n",
    "svm = svm.SVR(C=1000, epsilon=0.0001)\n",
    "lasso = Lasso(alpha = 0.1)\n",
    "#\n",
    "test_regression(lm)\n",
    "test_regression(rf)\n",
    "test_regression(svm)\n",
    "test_regression(lasso)\n",
    "#\n"
   ]
  },
  {
   "cell_type": "code",
   "execution_count": null,
   "metadata": {
    "collapsed": true
   },
   "outputs": [],
   "source": []
  }
 ],
 "metadata": {
  "kernelspec": {
   "display_name": "Python 3",
   "language": "python",
   "name": "python3"
  },
  "language_info": {
   "codemirror_mode": {
    "name": "ipython",
    "version": 3
   },
   "file_extension": ".py",
   "mimetype": "text/x-python",
   "name": "python",
   "nbconvert_exporter": "python",
   "pygments_lexer": "ipython3",
   "version": "3.5.3"
  }
 },
 "nbformat": 4,
 "nbformat_minor": 2
}
