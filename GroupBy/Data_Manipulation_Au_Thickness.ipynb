{
 "cells": [
  {
   "cell_type": "code",
   "execution_count": 1,
   "metadata": {
    "collapsed": true
   },
   "outputs": [],
   "source": [
    "#%matplotlib\n",
    "%matplotlib inline\n",
    "import pandas as pd\n",
    "import numpy as np\n",
    "import matplotlib as plt\n",
    "import matplotlib.pyplot as plt\n",
    "import seaborn as sns\n",
    "from pandas.tools.plotting import scatter_matrix\n",
    "#matplotlib.style.use('ggplot')"
   ]
  },
  {
   "cell_type": "code",
   "execution_count": 2,
   "metadata": {
    "collapsed": true
   },
   "outputs": [],
   "source": [
    "df = pd.read_csv(\"/Users/cesare.chung/Dropbox/2017ML/CHPT-NTHU/Working_Directory_/Python/forPYTHON.csv\")"
   ]
  },
  {
   "cell_type": "code",
   "execution_count": 3,
   "metadata": {},
   "outputs": [
    {
     "data": {
      "text/plain": [
       "0.86245914047159056"
      ]
     },
     "execution_count": 3,
     "metadata": {},
     "output_type": "execute_result"
    }
   ],
   "source": [
    "df['AuThick_Average'].corr(df['TIME3132'],method='pearson')\n"
   ]
  },
  {
   "cell_type": "code",
   "execution_count": 4,
   "metadata": {},
   "outputs": [
    {
     "data": {
      "text/plain": [
       "0.97703405138829824"
      ]
     },
     "execution_count": 4,
     "metadata": {},
     "output_type": "execute_result"
    }
   ],
   "source": [
    "df[df.TIME3132 >= 50]['AuThick_Average'].corr(df['TIME3132'],method='pearson')"
   ]
  },
  {
   "cell_type": "code",
   "execution_count": 5,
   "metadata": {},
   "outputs": [
    {
     "data": {
      "text/plain": [
       "Unnamed: 0       0\n",
       "MACHINE_ID       0\n",
       "EVENTDATETIME    0\n",
       "END_TIME         0\n",
       "IN_TIME          0\n",
       "dtype: int64"
      ]
     },
     "execution_count": 5,
     "metadata": {},
     "output_type": "execute_result"
    }
   ],
   "source": [
    "df.apply(lambda x: sum(x.isnull()),axis=0).head()"
   ]
  },
  {
   "cell_type": "code",
   "execution_count": 6,
   "metadata": {},
   "outputs": [
    {
     "data": {
      "text/html": [
       "<div>\n",
       "<style>\n",
       "    .dataframe thead tr:only-child th {\n",
       "        text-align: right;\n",
       "    }\n",
       "\n",
       "    .dataframe thead th {\n",
       "        text-align: left;\n",
       "    }\n",
       "\n",
       "    .dataframe tbody tr th {\n",
       "        vertical-align: top;\n",
       "    }\n",
       "</style>\n",
       "<table border=\"1\" class=\"dataframe\">\n",
       "  <thead>\n",
       "    <tr style=\"text-align: right;\">\n",
       "      <th></th>\n",
       "      <th>AuThick_Average</th>\n",
       "      <th>AC_GOLD_TIME</th>\n",
       "    </tr>\n",
       "  </thead>\n",
       "  <tbody>\n",
       "    <tr>\n",
       "      <th>0</th>\n",
       "      <td>20.958046</td>\n",
       "      <td>2100</td>\n",
       "    </tr>\n",
       "    <tr>\n",
       "      <th>1</th>\n",
       "      <td>21.539106</td>\n",
       "      <td>2200</td>\n",
       "    </tr>\n",
       "    <tr>\n",
       "      <th>2</th>\n",
       "      <td>37.606258</td>\n",
       "      <td>3850</td>\n",
       "    </tr>\n",
       "    <tr>\n",
       "      <th>3</th>\n",
       "      <td>23.053732</td>\n",
       "      <td>2200</td>\n",
       "    </tr>\n",
       "    <tr>\n",
       "      <th>4</th>\n",
       "      <td>20.961532</td>\n",
       "      <td>2200</td>\n",
       "    </tr>\n",
       "  </tbody>\n",
       "</table>\n",
       "</div>"
      ],
      "text/plain": [
       "   AuThick_Average  AC_GOLD_TIME\n",
       "0        20.958046          2100\n",
       "1        21.539106          2200\n",
       "2        37.606258          3850\n",
       "3        23.053732          2200\n",
       "4        20.961532          2200"
      ]
     },
     "execution_count": 6,
     "metadata": {},
     "output_type": "execute_result"
    }
   ],
   "source": [
    "df['AC_GOLD_TIME'].head()\n",
    "df[['AuThick_Average','AC_GOLD_TIME']].head()"
   ]
  },
  {
   "cell_type": "code",
   "execution_count": 8,
   "metadata": {},
   "outputs": [],
   "source": [
    "##FILTERING Records\n",
    "df[df['AC_GOLD_TIME']>5000]\n",
    "df[(df['AC_GOLD_TIME']>3000)&(df['ERP_EAuThick']==30)]\n",
    "df[(df.AC_GOLD_TIME   >3000)&(df.ERP_EAuThick   ==30)]\n",
    "df[(df['AC_GOLD_TIME']>3000)|(df['ERP_EAuThick']==30)].head()"
   ]
  },
  {
   "cell_type": "code",
   "execution_count": 9,
   "metadata": {},
   "outputs": [
    {
     "data": {
      "text/plain": [
       "0    20.958046\n",
       "1    21.539106\n",
       "2    37.606258\n",
       "3    23.053732\n",
       "4    20.961532\n",
       "dtype: float64"
      ]
     },
     "execution_count": 9,
     "metadata": {},
     "output_type": "execute_result"
    }
   ],
   "source": [
    "##FILTERING Records\n",
    "df[:45]\n",
    "df[2:40]\n",
    "df.head(10)\n",
    "df.describe()\n",
    "df.dtypes\n",
    "df.columns\n",
    "len(df)\n",
    "df.shape\n",
    "df.sum()\n",
    "df.sum(axis=1)\n",
    "df.mean()\n",
    "df.mean(axis=1)\n",
    "df[['AUTHICK_01','AUTHICK_02','AUTHICK_03','AUTHICK_04','AUTHICK_05']].mean(axis=1).head()"
   ]
  },
  {
   "cell_type": "code",
   "execution_count": 10,
   "metadata": {},
   "outputs": [
    {
     "data": {
      "text/plain": [
       "<matplotlib.axes._subplots.AxesSubplot at 0x1133ac5c0>"
      ]
     },
     "execution_count": 10,
     "metadata": {},
     "output_type": "execute_result"
    },
    {
     "data": {
      "image/png": "[encoded data removed]",
      "text/plain": [
       "<matplotlib.figure.Figure at 0x1132f92e8>"
      ]
     },
     "metadata": {},
     "output_type": "display_data"
    }
   ],
   "source": [
    "df.boxplot(column='AuThick_Average')\n"
   ]
  },
  {
   "cell_type": "code",
   "execution_count": 11,
   "metadata": {},
   "outputs": [
    {
     "data": {
      "text/plain": [
       "<matplotlib.axes._subplots.AxesSubplot at 0x113e79ba8>"
      ]
     },
     "execution_count": 11,
     "metadata": {},
     "output_type": "execute_result"
    },
    {
     "data": {
      "image/png": "[encoded data removed]",
      "text/plain": [
       "<matplotlib.figure.Figure at 0x113e7fb70>"
      ]
     },
     "metadata": {},
     "output_type": "display_data"
    }
   ],
   "source": [
    "df.boxplot(column='AuThick_Average', by = 'ERP_EAuThick')\n"
   ]
  },
  {
   "cell_type": "code",
   "execution_count": 12,
   "metadata": {},
   "outputs": [
    {
     "data": {
      "text/plain": [
       "<matplotlib.axes._subplots.AxesSubplot at 0x1140ab978>"
      ]
     },
     "execution_count": 12,
     "metadata": {},
     "output_type": "execute_result"
    },
    {
     "data": {
      "image/png": "[encoded data removed]",
      "text/plain": [
       "<matplotlib.figure.Figure at 0x1140a3eb8>"
      ]
     },
     "metadata": {},
     "output_type": "display_data"
    }
   ],
   "source": [
    "df['QUANTITY'].unique()\n",
    "df['QUANTITY'].value_counts()\n",
    "df['ERP_EAuThick'].value_counts()\n",
    "df['range'].hist(bins=50)"
   ]
  },
  {
   "cell_type": "code",
   "execution_count": 13,
   "metadata": {},
   "outputs": [
    {
     "data": {
      "text/plain": [
       "ERP_EAuThick\n",
       "3     Axes(0.125,0.125;0.775x0.755)\n",
       "10    Axes(0.125,0.125;0.775x0.755)\n",
       "15    Axes(0.125,0.125;0.775x0.755)\n",
       "20    Axes(0.125,0.125;0.775x0.755)\n",
       "25    Axes(0.125,0.125;0.775x0.755)\n",
       "30    Axes(0.125,0.125;0.775x0.755)\n",
       "35    Axes(0.125,0.125;0.775x0.755)\n",
       "50    Axes(0.125,0.125;0.775x0.755)\n",
       "Name: AuThick_Average, dtype: object"
      ]
     },
     "execution_count": 13,
     "metadata": {},
     "output_type": "execute_result"
    },
    {
     "data": {
      "image/png": "[encoded data removed]",
      "text/plain": [
       "<matplotlib.figure.Figure at 0x1141bce10>"
      ]
     },
     "metadata": {},
     "output_type": "display_data"
    }
   ],
   "source": [
    "#\n",
    "h = df.groupby(['ERP_EAuThick'])\n",
    "h['AuThick_Average'].hist(bins=60)\n",
    "#"
   ]
  },
  {
   "cell_type": "code",
   "execution_count": 14,
   "metadata": {},
   "outputs": [
    {
     "data": {
      "text/plain": [
       "<matplotlib.axes._subplots.AxesSubplot at 0x117d4f240>"
      ]
     },
     "execution_count": 14,
     "metadata": {},
     "output_type": "execute_result"
    },
    {
     "data": {
      "image/png": "[encoded data removed]",
      "text/plain": [
       "<matplotlib.figure.Figure at 0x11430ceb8>"
      ]
     },
     "metadata": {},
     "output_type": "display_data"
    },
    {
     "data": {
      "image/png": "[encoded data removed]",
      "text/plain": [
       "<matplotlib.figure.Figure at 0x117cedfd0>"
      ]
     },
     "metadata": {},
     "output_type": "display_data"
    },
    {
     "data": {
      "image/png": "[encoded data removed]",
      "text/plain": [
       "<matplotlib.figure.Figure at 0x117d14978>"
      ]
     },
     "metadata": {},
     "output_type": "display_data"
    }
   ],
   "source": [
    "df['range'].diff().hist(bins=50)\n",
    "df.plot.scatter(x='AC_GOLD_TIME', y='AuThick_Average');\n",
    "df[df.ERP_Thick_NEW =='PEAK1'].plot.scatter(x='AC_GOLD_TIME', y='AuThick_Average')"
   ]
  },
  {
   "cell_type": "code",
   "execution_count": 15,
   "metadata": {},
   "outputs": [
    {
     "data": {
      "image/png": "[encoded data removed]",
      "text/plain": [
       "<matplotlib.figure.Figure at 0x117da9ef0>"
      ]
     },
     "metadata": {},
     "output_type": "display_data"
    },
    {
     "data": {
      "image/png": "[encoded data removed]",
      "text/plain": [
       "<matplotlib.figure.Figure at 0x118053e10>"
      ]
     },
     "metadata": {},
     "output_type": "display_data"
    },
    {
     "data": {
      "image/png": "[encoded data removed]",
      "text/plain": [
       "<matplotlib.figure.Figure at 0x118053fd0>"
      ]
     },
     "metadata": {},
     "output_type": "display_data"
    }
   ],
   "source": [
    "df.plot.scatter(x='TIME3132', y='AuThick_Average');\n",
    "df[df.TIME3132>=2].plot.scatter(x='TIME3132', y='AuThick_Average');\n",
    "df[(df.TIME3132>=250) & (df.ERP_EAuThick ==15)].plot.scatter(x='TIME3132', y='AuThick_Average');"
   ]
  },
  {
   "cell_type": "code",
   "execution_count": 16,
   "metadata": {},
   "outputs": [
    {
     "data": {
      "image/png": "[encoded data removed]",
      "text/plain": [
       "<matplotlib.figure.Figure at 0x117b20828>"
      ]
     },
     "metadata": {},
     "output_type": "display_data"
    }
   ],
   "source": [
    "sns.regplot(\"TIME3132\", \"AuThick_Average\", data=df,robust=True, ci=95, color=\"seagreen\")\n",
    "sns.despine()"
   ]
  },
  {
   "cell_type": "code",
   "execution_count": 17,
   "metadata": {},
   "outputs": [
    {
     "data": {
      "image/png": "[encoded data removed]",
      "text/plain": [
       "<matplotlib.figure.Figure at 0x1184d6f98>"
      ]
     },
     "metadata": {},
     "output_type": "display_data"
    }
   ],
   "source": [
    "sns.regplot(\"TIME3132\", \"AuThick_Average\", data=df[df.TIME3132>=25],robust=True, ci=95, color=\"seagreen\")\n",
    "sns.despine()"
   ]
  },
  {
   "cell_type": "code",
   "execution_count": 18,
   "metadata": {},
   "outputs": [
    {
     "data": {
      "text/plain": [
       "ERP_EAuThick\n",
       "3      0.022809\n",
       "10     2.795836\n",
       "15     1.981122\n",
       "20     1.758796\n",
       "25     2.881608\n",
       "30     5.558475\n",
       "35     0.698764\n",
       "50    10.578210\n",
       "Name: AuThick_Average, dtype: float64"
      ]
     },
     "execution_count": 18,
     "metadata": {},
     "output_type": "execute_result"
    }
   ],
   "source": [
    "############################################################# Aggregate == aggregate(AuThick_Average~ERP_EAuThick,data=raw_data,var)\n",
    "g = df.groupby(['ERP_EAuThick'])\n",
    "g['AuThick_Average'].var()\n",
    "##"
   ]
  },
  {
   "cell_type": "code",
   "execution_count": 21,
   "metadata": {},
   "outputs": [
    {
     "data": {
      "text/html": [
       "<div>\n",
       "<style>\n",
       "    .dataframe thead tr:only-child th {\n",
       "        text-align: right;\n",
       "    }\n",
       "\n",
       "    .dataframe thead th {\n",
       "        text-align: left;\n",
       "    }\n",
       "\n",
       "    .dataframe tbody tr th {\n",
       "        vertical-align: top;\n",
       "    }\n",
       "</style>\n",
       "<table border=\"1\" class=\"dataframe\">\n",
       "  <thead>\n",
       "    <tr style=\"text-align: right;\">\n",
       "      <th></th>\n",
       "      <th></th>\n",
       "      <th>Unnamed: 0</th>\n",
       "      <th>TARGET_NO</th>\n",
       "      <th>AREA</th>\n",
       "      <th>ERP_EFrontareaSQ</th>\n",
       "      <th>ERP_EBackareaSQ</th>\n",
       "      <th>GOLD_TIME</th>\n",
       "      <th>AC_GOLD_TIME</th>\n",
       "      <th>PRESENT_DIPPING_12</th>\n",
       "      <th>PRESENT_DIPPING_13</th>\n",
       "      <th>PRESENT_DIPPING_21</th>\n",
       "      <th>...</th>\n",
       "      <th>TEMPERATURE2122</th>\n",
       "      <th>TEMPERATURE2627</th>\n",
       "      <th>TEMPERATURE3132</th>\n",
       "      <th>HEATING2122</th>\n",
       "      <th>HEATING3132</th>\n",
       "      <th>VOLAPP</th>\n",
       "      <th>AU_var</th>\n",
       "      <th>max</th>\n",
       "      <th>min</th>\n",
       "      <th>range</th>\n",
       "    </tr>\n",
       "    <tr>\n",
       "      <th>QUANTITY</th>\n",
       "      <th>ERP_EAuThick</th>\n",
       "      <th></th>\n",
       "      <th></th>\n",
       "      <th></th>\n",
       "      <th></th>\n",
       "      <th></th>\n",
       "      <th></th>\n",
       "      <th></th>\n",
       "      <th></th>\n",
       "      <th></th>\n",
       "      <th></th>\n",
       "      <th></th>\n",
       "      <th></th>\n",
       "      <th></th>\n",
       "      <th></th>\n",
       "      <th></th>\n",
       "      <th></th>\n",
       "      <th></th>\n",
       "      <th></th>\n",
       "      <th></th>\n",
       "      <th></th>\n",
       "      <th></th>\n",
       "    </tr>\n",
       "  </thead>\n",
       "  <tbody>\n",
       "    <tr>\n",
       "      <th rowspan=\"5\" valign=\"top\">1</th>\n",
       "      <th>3</th>\n",
       "      <td>137.000000</td>\n",
       "      <td>1.000000</td>\n",
       "      <td>14.000000</td>\n",
       "      <td>13.538000</td>\n",
       "      <td>0.000000</td>\n",
       "      <td>480.0</td>\n",
       "      <td>300.000000</td>\n",
       "      <td>0.000000</td>\n",
       "      <td>18.000000</td>\n",
       "      <td>1806.000000</td>\n",
       "      <td>...</td>\n",
       "      <td>77.100000</td>\n",
       "      <td>85.300000</td>\n",
       "      <td>50.900000</td>\n",
       "      <td>80.200000</td>\n",
       "      <td>54.700000</td>\n",
       "      <td>0.001195</td>\n",
       "      <td>0.000955</td>\n",
       "      <td>5.247570</td>\n",
       "      <td>5.162870</td>\n",
       "      <td>0.084700</td>\n",
       "    </tr>\n",
       "    <tr>\n",
       "      <th>15</th>\n",
       "      <td>291.333333</td>\n",
       "      <td>1.148148</td>\n",
       "      <td>112.527778</td>\n",
       "      <td>46.881639</td>\n",
       "      <td>66.690361</td>\n",
       "      <td>480.0</td>\n",
       "      <td>2051.388889</td>\n",
       "      <td>4.833333</td>\n",
       "      <td>12.092593</td>\n",
       "      <td>1106.175926</td>\n",
       "      <td>...</td>\n",
       "      <td>71.635185</td>\n",
       "      <td>79.225000</td>\n",
       "      <td>47.958333</td>\n",
       "      <td>74.180556</td>\n",
       "      <td>51.587963</td>\n",
       "      <td>0.036297</td>\n",
       "      <td>0.199348</td>\n",
       "      <td>19.922601</td>\n",
       "      <td>19.133222</td>\n",
       "      <td>0.789379</td>\n",
       "    </tr>\n",
       "    <tr>\n",
       "      <th>20</th>\n",
       "      <td>248.555556</td>\n",
       "      <td>1.444444</td>\n",
       "      <td>50.222222</td>\n",
       "      <td>23.565778</td>\n",
       "      <td>26.725333</td>\n",
       "      <td>480.0</td>\n",
       "      <td>2588.888889</td>\n",
       "      <td>5.777778</td>\n",
       "      <td>7.666667</td>\n",
       "      <td>562.444444</td>\n",
       "      <td>...</td>\n",
       "      <td>51.500000</td>\n",
       "      <td>56.533333</td>\n",
       "      <td>49.322222</td>\n",
       "      <td>53.188889</td>\n",
       "      <td>52.755556</td>\n",
       "      <td>0.018987</td>\n",
       "      <td>0.068663</td>\n",
       "      <td>23.910671</td>\n",
       "      <td>23.322999</td>\n",
       "      <td>0.587673</td>\n",
       "    </tr>\n",
       "    <tr>\n",
       "      <th>25</th>\n",
       "      <td>487.666667</td>\n",
       "      <td>1.000000</td>\n",
       "      <td>89.833333</td>\n",
       "      <td>42.339500</td>\n",
       "      <td>47.581000</td>\n",
       "      <td>480.0</td>\n",
       "      <td>3300.000000</td>\n",
       "      <td>15.833333</td>\n",
       "      <td>5.666667</td>\n",
       "      <td>400.500000</td>\n",
       "      <td>...</td>\n",
       "      <td>77.883333</td>\n",
       "      <td>84.700000</td>\n",
       "      <td>50.916667</td>\n",
       "      <td>80.683333</td>\n",
       "      <td>54.533333</td>\n",
       "      <td>0.041255</td>\n",
       "      <td>0.137397</td>\n",
       "      <td>28.901697</td>\n",
       "      <td>28.092727</td>\n",
       "      <td>0.808970</td>\n",
       "    </tr>\n",
       "    <tr>\n",
       "      <th>30</th>\n",
       "      <td>322.071429</td>\n",
       "      <td>1.035714</td>\n",
       "      <td>149.428571</td>\n",
       "      <td>76.742857</td>\n",
       "      <td>81.810500</td>\n",
       "      <td>480.0</td>\n",
       "      <td>3723.214286</td>\n",
       "      <td>8.250000</td>\n",
       "      <td>10.714286</td>\n",
       "      <td>1033.785714</td>\n",
       "      <td>...</td>\n",
       "      <td>71.967857</td>\n",
       "      <td>78.760714</td>\n",
       "      <td>47.292857</td>\n",
       "      <td>74.557143</td>\n",
       "      <td>50.842857</td>\n",
       "      <td>0.082430</td>\n",
       "      <td>0.372562</td>\n",
       "      <td>34.344555</td>\n",
       "      <td>33.230809</td>\n",
       "      <td>1.113746</td>\n",
       "    </tr>\n",
       "  </tbody>\n",
       "</table>\n",
       "<p>5 rows × 63 columns</p>\n",
       "</div>"
      ],
      "text/plain": [
       "                       Unnamed: 0  TARGET_NO        AREA  ERP_EFrontareaSQ  \\\n",
       "QUANTITY ERP_EAuThick                                                        \n",
       "1        3             137.000000   1.000000   14.000000         13.538000   \n",
       "         15            291.333333   1.148148  112.527778         46.881639   \n",
       "         20            248.555556   1.444444   50.222222         23.565778   \n",
       "         25            487.666667   1.000000   89.833333         42.339500   \n",
       "         30            322.071429   1.035714  149.428571         76.742857   \n",
       "\n",
       "                       ERP_EBackareaSQ  GOLD_TIME  AC_GOLD_TIME  \\\n",
       "QUANTITY ERP_EAuThick                                             \n",
       "1        3                    0.000000      480.0    300.000000   \n",
       "         15                  66.690361      480.0   2051.388889   \n",
       "         20                  26.725333      480.0   2588.888889   \n",
       "         25                  47.581000      480.0   3300.000000   \n",
       "         30                  81.810500      480.0   3723.214286   \n",
       "\n",
       "                       PRESENT_DIPPING_12  PRESENT_DIPPING_13  \\\n",
       "QUANTITY ERP_EAuThick                                           \n",
       "1        3                       0.000000           18.000000   \n",
       "         15                      4.833333           12.092593   \n",
       "         20                      5.777778            7.666667   \n",
       "         25                     15.833333            5.666667   \n",
       "         30                      8.250000           10.714286   \n",
       "\n",
       "                       PRESENT_DIPPING_21    ...     TEMPERATURE2122  \\\n",
       "QUANTITY ERP_EAuThick                        ...                       \n",
       "1        3                    1806.000000    ...           77.100000   \n",
       "         15                   1106.175926    ...           71.635185   \n",
       "         20                    562.444444    ...           51.500000   \n",
       "         25                    400.500000    ...           77.883333   \n",
       "         30                   1033.785714    ...           71.967857   \n",
       "\n",
       "                       TEMPERATURE2627  TEMPERATURE3132  HEATING2122  \\\n",
       "QUANTITY ERP_EAuThick                                                  \n",
       "1        3                   85.300000        50.900000    80.200000   \n",
       "         15                  79.225000        47.958333    74.180556   \n",
       "         20                  56.533333        49.322222    53.188889   \n",
       "         25                  84.700000        50.916667    80.683333   \n",
       "         30                  78.760714        47.292857    74.557143   \n",
       "\n",
       "                       HEATING3132    VOLAPP    AU_var        max        min  \\\n",
       "QUANTITY ERP_EAuThick                                                          \n",
       "1        3               54.700000  0.001195  0.000955   5.247570   5.162870   \n",
       "         15              51.587963  0.036297  0.199348  19.922601  19.133222   \n",
       "         20              52.755556  0.018987  0.068663  23.910671  23.322999   \n",
       "         25              54.533333  0.041255  0.137397  28.901697  28.092727   \n",
       "         30              50.842857  0.082430  0.372562  34.344555  33.230809   \n",
       "\n",
       "                          range  \n",
       "QUANTITY ERP_EAuThick            \n",
       "1        3             0.084700  \n",
       "         15            0.789379  \n",
       "         20            0.587673  \n",
       "         25            0.808970  \n",
       "         30            1.113746  \n",
       "\n",
       "[5 rows x 63 columns]"
      ]
     },
     "execution_count": 21,
     "metadata": {},
     "output_type": "execute_result"
    }
   ],
   "source": [
    "df.groupby(['QUANTITY','ERP_EAuThick']).mean().head()"
   ]
  },
  {
   "cell_type": "code",
   "execution_count": 22,
   "metadata": {},
   "outputs": [
    {
     "data": {
      "text/html": [
       "<div>\n",
       "<style>\n",
       "    .dataframe thead tr:only-child th {\n",
       "        text-align: right;\n",
       "    }\n",
       "\n",
       "    .dataframe thead th {\n",
       "        text-align: left;\n",
       "    }\n",
       "\n",
       "    .dataframe tbody tr th {\n",
       "        vertical-align: top;\n",
       "    }\n",
       "</style>\n",
       "<table border=\"1\" class=\"dataframe\">\n",
       "  <thead>\n",
       "    <tr style=\"text-align: right;\">\n",
       "      <th></th>\n",
       "      <th>Unnamed: 0</th>\n",
       "      <th>QUANTITY</th>\n",
       "      <th>TARGET_NO</th>\n",
       "      <th>AREA</th>\n",
       "      <th>ERP_EFrontareaSQ</th>\n",
       "      <th>ERP_EBackareaSQ</th>\n",
       "      <th>GOLD_TIME</th>\n",
       "      <th>AC_GOLD_TIME</th>\n",
       "      <th>PRESENT_DIPPING_12</th>\n",
       "      <th>PRESENT_DIPPING_13</th>\n",
       "      <th>...</th>\n",
       "      <th>TEMPERATURE2122</th>\n",
       "      <th>TEMPERATURE2627</th>\n",
       "      <th>TEMPERATURE3132</th>\n",
       "      <th>HEATING2122</th>\n",
       "      <th>HEATING3132</th>\n",
       "      <th>VOLAPP</th>\n",
       "      <th>AU_var</th>\n",
       "      <th>max</th>\n",
       "      <th>min</th>\n",
       "      <th>range</th>\n",
       "    </tr>\n",
       "    <tr>\n",
       "      <th>ERP_EAuThick</th>\n",
       "      <th></th>\n",
       "      <th></th>\n",
       "      <th></th>\n",
       "      <th></th>\n",
       "      <th></th>\n",
       "      <th></th>\n",
       "      <th></th>\n",
       "      <th></th>\n",
       "      <th></th>\n",
       "      <th></th>\n",
       "      <th></th>\n",
       "      <th></th>\n",
       "      <th></th>\n",
       "      <th></th>\n",
       "      <th></th>\n",
       "      <th></th>\n",
       "      <th></th>\n",
       "      <th></th>\n",
       "      <th></th>\n",
       "      <th></th>\n",
       "      <th></th>\n",
       "    </tr>\n",
       "  </thead>\n",
       "  <tbody>\n",
       "    <tr>\n",
       "      <th>3</th>\n",
       "      <td>135.333333</td>\n",
       "      <td>1.666667</td>\n",
       "      <td>1.333333</td>\n",
       "      <td>22.666667</td>\n",
       "      <td>13.538000</td>\n",
       "      <td>0.000000</td>\n",
       "      <td>480.0</td>\n",
       "      <td>300.000000</td>\n",
       "      <td>0.000000</td>\n",
       "      <td>17.333333</td>\n",
       "      <td>...</td>\n",
       "      <td>77.166667</td>\n",
       "      <td>85.166667</td>\n",
       "      <td>50.833333</td>\n",
       "      <td>79.966667</td>\n",
       "      <td>54.600000</td>\n",
       "      <td>0.001859</td>\n",
       "      <td>0.004726</td>\n",
       "      <td>5.136705</td>\n",
       "      <td>4.968900</td>\n",
       "      <td>0.167805</td>\n",
       "    </tr>\n",
       "    <tr>\n",
       "      <th>10</th>\n",
       "      <td>616.750000</td>\n",
       "      <td>2.250000</td>\n",
       "      <td>1.500000</td>\n",
       "      <td>386.750000</td>\n",
       "      <td>90.170000</td>\n",
       "      <td>89.607500</td>\n",
       "      <td>480.0</td>\n",
       "      <td>1512.500000</td>\n",
       "      <td>10.750000</td>\n",
       "      <td>0.000000</td>\n",
       "      <td>...</td>\n",
       "      <td>39.075000</td>\n",
       "      <td>42.525000</td>\n",
       "      <td>38.000000</td>\n",
       "      <td>40.425000</td>\n",
       "      <td>40.900000</td>\n",
       "      <td>0.082379</td>\n",
       "      <td>0.181294</td>\n",
       "      <td>13.351630</td>\n",
       "      <td>12.470503</td>\n",
       "      <td>0.881127</td>\n",
       "    </tr>\n",
       "    <tr>\n",
       "      <th>15</th>\n",
       "      <td>328.196078</td>\n",
       "      <td>1.647059</td>\n",
       "      <td>1.101961</td>\n",
       "      <td>193.611765</td>\n",
       "      <td>52.437157</td>\n",
       "      <td>69.288698</td>\n",
       "      <td>480.0</td>\n",
       "      <td>2049.411765</td>\n",
       "      <td>7.137255</td>\n",
       "      <td>10.807843</td>\n",
       "      <td>...</td>\n",
       "      <td>74.041569</td>\n",
       "      <td>81.069412</td>\n",
       "      <td>49.234118</td>\n",
       "      <td>76.641569</td>\n",
       "      <td>52.961961</td>\n",
       "      <td>0.060176</td>\n",
       "      <td>0.209812</td>\n",
       "      <td>19.456830</td>\n",
       "      <td>18.635842</td>\n",
       "      <td>0.820988</td>\n",
       "    </tr>\n",
       "    <tr>\n",
       "      <th>20</th>\n",
       "      <td>356.300000</td>\n",
       "      <td>1.750000</td>\n",
       "      <td>1.200000</td>\n",
       "      <td>142.750000</td>\n",
       "      <td>33.140950</td>\n",
       "      <td>40.973650</td>\n",
       "      <td>480.0</td>\n",
       "      <td>2630.000000</td>\n",
       "      <td>10.700000</td>\n",
       "      <td>6.000000</td>\n",
       "      <td>...</td>\n",
       "      <td>61.805000</td>\n",
       "      <td>67.870000</td>\n",
       "      <td>47.635000</td>\n",
       "      <td>64.025000</td>\n",
       "      <td>51.080000</td>\n",
       "      <td>0.054330</td>\n",
       "      <td>0.087684</td>\n",
       "      <td>23.868738</td>\n",
       "      <td>23.196908</td>\n",
       "      <td>0.671830</td>\n",
       "    </tr>\n",
       "    <tr>\n",
       "      <th>25</th>\n",
       "      <td>464.687500</td>\n",
       "      <td>1.812500</td>\n",
       "      <td>1.062500</td>\n",
       "      <td>164.125000</td>\n",
       "      <td>45.337938</td>\n",
       "      <td>49.867312</td>\n",
       "      <td>480.0</td>\n",
       "      <td>3275.000000</td>\n",
       "      <td>14.937500</td>\n",
       "      <td>4.312500</td>\n",
       "      <td>...</td>\n",
       "      <td>68.200000</td>\n",
       "      <td>73.906250</td>\n",
       "      <td>44.562500</td>\n",
       "      <td>70.631250</td>\n",
       "      <td>47.825000</td>\n",
       "      <td>0.076111</td>\n",
       "      <td>0.156324</td>\n",
       "      <td>28.802327</td>\n",
       "      <td>27.950200</td>\n",
       "      <td>0.852127</td>\n",
       "    </tr>\n",
       "    <tr>\n",
       "      <th>30</th>\n",
       "      <td>357.621212</td>\n",
       "      <td>1.696970</td>\n",
       "      <td>1.075758</td>\n",
       "      <td>221.469697</td>\n",
       "      <td>66.544500</td>\n",
       "      <td>75.410030</td>\n",
       "      <td>480.0</td>\n",
       "      <td>3749.242424</td>\n",
       "      <td>8.318182</td>\n",
       "      <td>10.287879</td>\n",
       "      <td>...</td>\n",
       "      <td>72.768182</td>\n",
       "      <td>79.637879</td>\n",
       "      <td>47.069697</td>\n",
       "      <td>75.403030</td>\n",
       "      <td>50.557576</td>\n",
       "      <td>0.120690</td>\n",
       "      <td>0.570352</td>\n",
       "      <td>33.975070</td>\n",
       "      <td>32.790398</td>\n",
       "      <td>1.184672</td>\n",
       "    </tr>\n",
       "    <tr>\n",
       "      <th>35</th>\n",
       "      <td>266.000000</td>\n",
       "      <td>1.333333</td>\n",
       "      <td>1.000000</td>\n",
       "      <td>121.333333</td>\n",
       "      <td>43.632000</td>\n",
       "      <td>43.378000</td>\n",
       "      <td>480.0</td>\n",
       "      <td>4300.000000</td>\n",
       "      <td>0.000000</td>\n",
       "      <td>17.666667</td>\n",
       "      <td>...</td>\n",
       "      <td>76.766667</td>\n",
       "      <td>84.800000</td>\n",
       "      <td>50.933333</td>\n",
       "      <td>79.266667</td>\n",
       "      <td>54.466667</td>\n",
       "      <td>0.076366</td>\n",
       "      <td>0.842804</td>\n",
       "      <td>39.570950</td>\n",
       "      <td>37.487750</td>\n",
       "      <td>2.083200</td>\n",
       "    </tr>\n",
       "    <tr>\n",
       "      <th>50</th>\n",
       "      <td>328.196721</td>\n",
       "      <td>1.180328</td>\n",
       "      <td>1.081967</td>\n",
       "      <td>187.950820</td>\n",
       "      <td>76.581590</td>\n",
       "      <td>80.666525</td>\n",
       "      <td>480.0</td>\n",
       "      <td>6132.786885</td>\n",
       "      <td>5.786885</td>\n",
       "      <td>11.278689</td>\n",
       "      <td>...</td>\n",
       "      <td>74.727869</td>\n",
       "      <td>80.159016</td>\n",
       "      <td>48.462295</td>\n",
       "      <td>77.459016</td>\n",
       "      <td>51.939344</td>\n",
       "      <td>0.162284</td>\n",
       "      <td>2.268431</td>\n",
       "      <td>53.795057</td>\n",
       "      <td>51.053355</td>\n",
       "      <td>2.741702</td>\n",
       "    </tr>\n",
       "  </tbody>\n",
       "</table>\n",
       "<p>8 rows × 64 columns</p>\n",
       "</div>"
      ],
      "text/plain": [
       "              Unnamed: 0  QUANTITY  TARGET_NO        AREA  ERP_EFrontareaSQ  \\\n",
       "ERP_EAuThick                                                                  \n",
       "3             135.333333  1.666667   1.333333   22.666667         13.538000   \n",
       "10            616.750000  2.250000   1.500000  386.750000         90.170000   \n",
       "15            328.196078  1.647059   1.101961  193.611765         52.437157   \n",
       "20            356.300000  1.750000   1.200000  142.750000         33.140950   \n",
       "25            464.687500  1.812500   1.062500  164.125000         45.337938   \n",
       "30            357.621212  1.696970   1.075758  221.469697         66.544500   \n",
       "35            266.000000  1.333333   1.000000  121.333333         43.632000   \n",
       "50            328.196721  1.180328   1.081967  187.950820         76.581590   \n",
       "\n",
       "              ERP_EBackareaSQ  GOLD_TIME  AC_GOLD_TIME  PRESENT_DIPPING_12  \\\n",
       "ERP_EAuThick                                                                 \n",
       "3                    0.000000      480.0    300.000000            0.000000   \n",
       "10                  89.607500      480.0   1512.500000           10.750000   \n",
       "15                  69.288698      480.0   2049.411765            7.137255   \n",
       "20                  40.973650      480.0   2630.000000           10.700000   \n",
       "25                  49.867312      480.0   3275.000000           14.937500   \n",
       "30                  75.410030      480.0   3749.242424            8.318182   \n",
       "35                  43.378000      480.0   4300.000000            0.000000   \n",
       "50                  80.666525      480.0   6132.786885            5.786885   \n",
       "\n",
       "              PRESENT_DIPPING_13    ...     TEMPERATURE2122  TEMPERATURE2627  \\\n",
       "ERP_EAuThick                        ...                                        \n",
       "3                      17.333333    ...           77.166667        85.166667   \n",
       "10                      0.000000    ...           39.075000        42.525000   \n",
       "15                     10.807843    ...           74.041569        81.069412   \n",
       "20                      6.000000    ...           61.805000        67.870000   \n",
       "25                      4.312500    ...           68.200000        73.906250   \n",
       "30                     10.287879    ...           72.768182        79.637879   \n",
       "35                     17.666667    ...           76.766667        84.800000   \n",
       "50                     11.278689    ...           74.727869        80.159016   \n",
       "\n",
       "              TEMPERATURE3132  HEATING2122  HEATING3132    VOLAPP    AU_var  \\\n",
       "ERP_EAuThick                                                                  \n",
       "3                   50.833333    79.966667    54.600000  0.001859  0.004726   \n",
       "10                  38.000000    40.425000    40.900000  0.082379  0.181294   \n",
       "15                  49.234118    76.641569    52.961961  0.060176  0.209812   \n",
       "20                  47.635000    64.025000    51.080000  0.054330  0.087684   \n",
       "25                  44.562500    70.631250    47.825000  0.076111  0.156324   \n",
       "30                  47.069697    75.403030    50.557576  0.120690  0.570352   \n",
       "35                  50.933333    79.266667    54.466667  0.076366  0.842804   \n",
       "50                  48.462295    77.459016    51.939344  0.162284  2.268431   \n",
       "\n",
       "                    max        min     range  \n",
       "ERP_EAuThick                                  \n",
       "3              5.136705   4.968900  0.167805  \n",
       "10            13.351630  12.470503  0.881127  \n",
       "15            19.456830  18.635842  0.820988  \n",
       "20            23.868738  23.196908  0.671830  \n",
       "25            28.802327  27.950200  0.852127  \n",
       "30            33.975070  32.790398  1.184672  \n",
       "35            39.570950  37.487750  2.083200  \n",
       "50            53.795057  51.053355  2.741702  \n",
       "\n",
       "[8 rows x 64 columns]"
      ]
     },
     "execution_count": 22,
     "metadata": {},
     "output_type": "execute_result"
    }
   ],
   "source": [
    "grpagg = df.groupby('ERP_EAuThick').aggregate(np.mean)\n",
    "grpagg"
   ]
  },
  {
   "cell_type": "code",
   "execution_count": 23,
   "metadata": {},
   "outputs": [
    {
     "data": {
      "text/plain": [
       "AC_GOLD_TIME         int64\n",
       "AuThick_Average    float64\n",
       "ERP_EAuThick         int64\n",
       "max                float64\n",
       "min                float64\n",
       "AUTHICK_02         float64\n",
       "AUTHICK_04         float64\n",
       "dtype: object"
      ]
     },
     "execution_count": 23,
     "metadata": {},
     "output_type": "execute_result"
    }
   ],
   "source": [
    "############################################################# Subset == df[df$a <= df$b,]\n",
    "df2 = df[['AC_GOLD_TIME','AuThick_Average','ERP_EAuThick','max','min','AUTHICK_02','AUTHICK_04']]\n",
    "df2.dtypes"
   ]
  },
  {
   "cell_type": "code",
   "execution_count": 24,
   "metadata": {},
   "outputs": [
    {
     "data": {
      "text/html": [
       "<div>\n",
       "<style>\n",
       "    .dataframe thead tr:only-child th {\n",
       "        text-align: right;\n",
       "    }\n",
       "\n",
       "    .dataframe thead th {\n",
       "        text-align: left;\n",
       "    }\n",
       "\n",
       "    .dataframe tbody tr th {\n",
       "        vertical-align: top;\n",
       "    }\n",
       "</style>\n",
       "<table border=\"1\" class=\"dataframe\">\n",
       "  <thead>\n",
       "    <tr style=\"text-align: right;\">\n",
       "      <th></th>\n",
       "      <th>AC_GOLD_TIME</th>\n",
       "      <th>AuThick_Average</th>\n",
       "      <th>ERP_EAuThick</th>\n",
       "      <th>max</th>\n",
       "      <th>min</th>\n",
       "      <th>AUTHICK_02</th>\n",
       "      <th>AUTHICK_04</th>\n",
       "    </tr>\n",
       "  </thead>\n",
       "  <tbody>\n",
       "    <tr>\n",
       "      <th>49</th>\n",
       "      <td>2750</td>\n",
       "      <td>25.233568</td>\n",
       "      <td>20</td>\n",
       "      <td>25.40288</td>\n",
       "      <td>25.07927</td>\n",
       "      <td>25.12465</td>\n",
       "      <td>25.40288</td>\n",
       "    </tr>\n",
       "    <tr>\n",
       "      <th>50</th>\n",
       "      <td>2750</td>\n",
       "      <td>23.816776</td>\n",
       "      <td>20</td>\n",
       "      <td>23.96066</td>\n",
       "      <td>23.70153</td>\n",
       "      <td>23.96066</td>\n",
       "      <td>23.95850</td>\n",
       "    </tr>\n",
       "    <tr>\n",
       "      <th>63</th>\n",
       "      <td>2550</td>\n",
       "      <td>24.660304</td>\n",
       "      <td>20</td>\n",
       "      <td>24.98803</td>\n",
       "      <td>24.13260</td>\n",
       "      <td>24.89762</td>\n",
       "      <td>24.98803</td>\n",
       "    </tr>\n",
       "    <tr>\n",
       "      <th>64</th>\n",
       "      <td>2550</td>\n",
       "      <td>24.792230</td>\n",
       "      <td>20</td>\n",
       "      <td>NaN</td>\n",
       "      <td>NaN</td>\n",
       "      <td>24.47551</td>\n",
       "      <td>24.80776</td>\n",
       "    </tr>\n",
       "    <tr>\n",
       "      <th>65</th>\n",
       "      <td>2550</td>\n",
       "      <td>24.757100</td>\n",
       "      <td>20</td>\n",
       "      <td>NaN</td>\n",
       "      <td>NaN</td>\n",
       "      <td>24.98803</td>\n",
       "      <td>NaN</td>\n",
       "    </tr>\n",
       "  </tbody>\n",
       "</table>\n",
       "</div>"
      ],
      "text/plain": [
       "    AC_GOLD_TIME  AuThick_Average  ERP_EAuThick       max       min  \\\n",
       "49          2750        25.233568            20  25.40288  25.07927   \n",
       "50          2750        23.816776            20  23.96066  23.70153   \n",
       "63          2550        24.660304            20  24.98803  24.13260   \n",
       "64          2550        24.792230            20       NaN       NaN   \n",
       "65          2550        24.757100            20       NaN       NaN   \n",
       "\n",
       "    AUTHICK_02  AUTHICK_04  \n",
       "49    25.12465    25.40288  \n",
       "50    23.96066    23.95850  \n",
       "63    24.89762    24.98803  \n",
       "64    24.47551    24.80776  \n",
       "65    24.98803         NaN  "
      ]
     },
     "execution_count": 24,
     "metadata": {},
     "output_type": "execute_result"
    }
   ],
   "source": [
    "df2[df2.ERP_EAuThick ==20].head()"
   ]
  },
  {
   "cell_type": "code",
   "execution_count": 25,
   "metadata": {},
   "outputs": [
    {
     "data": {
      "text/html": [
       "<div>\n",
       "<style>\n",
       "    .dataframe thead tr:only-child th {\n",
       "        text-align: right;\n",
       "    }\n",
       "\n",
       "    .dataframe thead th {\n",
       "        text-align: left;\n",
       "    }\n",
       "\n",
       "    .dataframe tbody tr th {\n",
       "        vertical-align: top;\n",
       "    }\n",
       "</style>\n",
       "<table border=\"1\" class=\"dataframe\">\n",
       "  <thead>\n",
       "    <tr style=\"text-align: right;\">\n",
       "      <th></th>\n",
       "      <th>TIME3132</th>\n",
       "      <th>CONDUCTIVITY_30</th>\n",
       "      <th>CONDUCTIVITY_35</th>\n",
       "      <th>AU_var</th>\n",
       "      <th>range</th>\n",
       "      <th>ERP_EAuThick</th>\n",
       "    </tr>\n",
       "  </thead>\n",
       "  <tbody>\n",
       "    <tr>\n",
       "      <th>18</th>\n",
       "      <td>0</td>\n",
       "      <td>0.0</td>\n",
       "      <td>0.0</td>\n",
       "      <td>0.014342</td>\n",
       "      <td>0.27477</td>\n",
       "      <td>30</td>\n",
       "    </tr>\n",
       "    <tr>\n",
       "      <th>26</th>\n",
       "      <td>0</td>\n",
       "      <td>0.0</td>\n",
       "      <td>0.0</td>\n",
       "      <td>0.103690</td>\n",
       "      <td>0.62730</td>\n",
       "      <td>15</td>\n",
       "    </tr>\n",
       "    <tr>\n",
       "      <th>32</th>\n",
       "      <td>0</td>\n",
       "      <td>0.0</td>\n",
       "      <td>0.0</td>\n",
       "      <td>2.059907</td>\n",
       "      <td>3.29442</td>\n",
       "      <td>15</td>\n",
       "    </tr>\n",
       "    <tr>\n",
       "      <th>46</th>\n",
       "      <td>0</td>\n",
       "      <td>0.0</td>\n",
       "      <td>0.0</td>\n",
       "      <td>0.203393</td>\n",
       "      <td>1.09062</td>\n",
       "      <td>50</td>\n",
       "    </tr>\n",
       "    <tr>\n",
       "      <th>65</th>\n",
       "      <td>0</td>\n",
       "      <td>0.0</td>\n",
       "      <td>0.0</td>\n",
       "      <td>NaN</td>\n",
       "      <td>NaN</td>\n",
       "      <td>20</td>\n",
       "    </tr>\n",
       "  </tbody>\n",
       "</table>\n",
       "</div>"
      ],
      "text/plain": [
       "    TIME3132  CONDUCTIVITY_30  CONDUCTIVITY_35    AU_var    range  \\\n",
       "18         0              0.0              0.0  0.014342  0.27477   \n",
       "26         0              0.0              0.0  0.103690  0.62730   \n",
       "32         0              0.0              0.0  2.059907  3.29442   \n",
       "46         0              0.0              0.0  0.203393  1.09062   \n",
       "65         0              0.0              0.0       NaN      NaN   \n",
       "\n",
       "    ERP_EAuThick  \n",
       "18            30  \n",
       "26            15  \n",
       "32            15  \n",
       "46            50  \n",
       "65            20  "
      ]
     },
     "execution_count": 25,
     "metadata": {},
     "output_type": "execute_result"
    }
   ],
   "source": [
    "df2 = df[['TIME3132','CONDUCTIVITY_30','CONDUCTIVITY_35','AU_var','range','ERP_EAuThick']]\n",
    "df2[df2.TIME3132 == 0].head()"
   ]
  },
  {
   "cell_type": "code",
   "execution_count": 31,
   "metadata": {},
   "outputs": [
    {
     "data": {
      "text/html": [
       "<div>\n",
       "<style>\n",
       "    .dataframe thead tr:only-child th {\n",
       "        text-align: right;\n",
       "    }\n",
       "\n",
       "    .dataframe thead th {\n",
       "        text-align: left;\n",
       "    }\n",
       "\n",
       "    .dataframe tbody tr th {\n",
       "        vertical-align: top;\n",
       "    }\n",
       "</style>\n",
       "<table border=\"1\" class=\"dataframe\">\n",
       "  <thead>\n",
       "    <tr style=\"text-align: right;\">\n",
       "      <th></th>\n",
       "      <th>QUANTITY</th>\n",
       "      <th>range</th>\n",
       "    </tr>\n",
       "  </thead>\n",
       "  <tbody>\n",
       "    <tr>\n",
       "      <th>24</th>\n",
       "      <td>1</td>\n",
       "      <td>0.68941</td>\n",
       "    </tr>\n",
       "    <tr>\n",
       "      <th>31</th>\n",
       "      <td>1</td>\n",
       "      <td>1.64941</td>\n",
       "    </tr>\n",
       "    <tr>\n",
       "      <th>42</th>\n",
       "      <td>2</td>\n",
       "      <td>0.78047</td>\n",
       "    </tr>\n",
       "  </tbody>\n",
       "</table>\n",
       "</div>"
      ],
      "text/plain": [
       "    QUANTITY    range\n",
       "24         1  0.68941\n",
       "31         1  1.64941\n",
       "42         2  0.78047"
      ]
     },
     "execution_count": 31,
     "metadata": {},
     "output_type": "execute_result"
    }
   ],
   "source": [
    "df[[\"QUANTITY\",\"range\"]][(df.PART_NUMBER==\"RD-2016070003\")&(df.range>=0.6)]\n"
   ]
  },
  {
   "cell_type": "code",
   "execution_count": 34,
   "metadata": {},
   "outputs": [
    {
     "data": {
      "text/html": [
       "<div>\n",
       "<style>\n",
       "    .dataframe thead tr:only-child th {\n",
       "        text-align: right;\n",
       "    }\n",
       "\n",
       "    .dataframe thead th {\n",
       "        text-align: left;\n",
       "    }\n",
       "\n",
       "    .dataframe tbody tr th {\n",
       "        vertical-align: top;\n",
       "    }\n",
       "</style>\n",
       "<table border=\"1\" class=\"dataframe\">\n",
       "  <thead>\n",
       "    <tr style=\"text-align: right;\">\n",
       "      <th></th>\n",
       "      <th>PART_NUMBER</th>\n",
       "      <th>QUANTITY</th>\n",
       "      <th>range</th>\n",
       "    </tr>\n",
       "  </thead>\n",
       "  <tbody>\n",
       "    <tr>\n",
       "      <th>42</th>\n",
       "      <td>RD-2016070003</td>\n",
       "      <td>2</td>\n",
       "      <td>0.78047</td>\n",
       "    </tr>\n",
       "  </tbody>\n",
       "</table>\n",
       "</div>"
      ],
      "text/plain": [
       "      PART_NUMBER  QUANTITY    range\n",
       "42  RD-2016070003         2  0.78047"
      ]
     },
     "execution_count": 34,
     "metadata": {},
     "output_type": "execute_result"
    }
   ],
   "source": [
    "df[[\"PART_NUMBER\",\"QUANTITY\",\"range\"]][(df.PART_NUMBER==\"RD-2016070003\")&(df.QUANTITY==2)]\n"
   ]
  },
  {
   "cell_type": "code",
   "execution_count": 37,
   "metadata": {},
   "outputs": [
    {
     "data": {
      "text/html": [
       "<div>\n",
       "<style>\n",
       "    .dataframe thead tr:only-child th {\n",
       "        text-align: right;\n",
       "    }\n",
       "\n",
       "    .dataframe thead th {\n",
       "        text-align: left;\n",
       "    }\n",
       "\n",
       "    .dataframe tbody tr th {\n",
       "        vertical-align: top;\n",
       "    }\n",
       "</style>\n",
       "<table border=\"1\" class=\"dataframe\">\n",
       "  <thead>\n",
       "    <tr style=\"text-align: right;\">\n",
       "      <th></th>\n",
       "      <th>QUANTITY</th>\n",
       "      <th>ERP_EAuThick</th>\n",
       "    </tr>\n",
       "  </thead>\n",
       "  <tbody>\n",
       "    <tr>\n",
       "      <th>16</th>\n",
       "      <td>1</td>\n",
       "      <td>15</td>\n",
       "    </tr>\n",
       "    <tr>\n",
       "      <th>17</th>\n",
       "      <td>2</td>\n",
       "      <td>15</td>\n",
       "    </tr>\n",
       "  </tbody>\n",
       "</table>\n",
       "</div>"
      ],
      "text/plain": [
       "    QUANTITY  ERP_EAuThick\n",
       "16         1            15\n",
       "17         2            15"
      ]
     },
     "execution_count": 37,
     "metadata": {},
     "output_type": "execute_result"
    }
   ],
   "source": [
    "df.loc[(df[\"PART_NUMBER\"]==\"TSMC-DD007A\")&(df[\"LOTNO\"]==\"2016060159-2-1-2\"), [\"QUANTITY\",\"ERP_EAuThick\"]]"
   ]
  },
  {
   "cell_type": "code",
   "execution_count": 38,
   "metadata": {},
   "outputs": [
    {
     "data": {
      "text/plain": [
       "count     428.000000\n",
       "mean     2780.156542\n",
       "std      1589.901626\n",
       "min         0.000000\n",
       "25%      2004.000000\n",
       "50%      2102.000000\n",
       "75%      3605.000000\n",
       "max      6512.000000\n",
       "Name: TIME3132, dtype: float64"
      ]
     },
     "execution_count": 38,
     "metadata": {},
     "output_type": "execute_result"
    }
   ],
   "source": [
    "df['TIME3132'].describe()"
   ]
  },
  {
   "cell_type": "code",
   "execution_count": 39,
   "metadata": {},
   "outputs": [
    {
     "data": {
      "text/html": [
       "<div>\n",
       "<style>\n",
       "    .dataframe thead tr:only-child th {\n",
       "        text-align: right;\n",
       "    }\n",
       "\n",
       "    .dataframe thead th {\n",
       "        text-align: left;\n",
       "    }\n",
       "\n",
       "    .dataframe tbody tr th {\n",
       "        vertical-align: top;\n",
       "    }\n",
       "</style>\n",
       "<table border=\"1\" class=\"dataframe\">\n",
       "  <thead>\n",
       "    <tr style=\"text-align: right;\">\n",
       "      <th></th>\n",
       "      <th>TIME3132</th>\n",
       "      <th>TEMPERATURE3132</th>\n",
       "      <th>HEATING2122</th>\n",
       "    </tr>\n",
       "  </thead>\n",
       "  <tbody>\n",
       "    <tr>\n",
       "      <th>18</th>\n",
       "      <td>0</td>\n",
       "      <td>0.0</td>\n",
       "      <td>0.0</td>\n",
       "    </tr>\n",
       "    <tr>\n",
       "      <th>26</th>\n",
       "      <td>0</td>\n",
       "      <td>0.0</td>\n",
       "      <td>0.0</td>\n",
       "    </tr>\n",
       "    <tr>\n",
       "      <th>32</th>\n",
       "      <td>0</td>\n",
       "      <td>0.0</td>\n",
       "      <td>0.0</td>\n",
       "    </tr>\n",
       "    <tr>\n",
       "      <th>46</th>\n",
       "      <td>0</td>\n",
       "      <td>0.0</td>\n",
       "      <td>0.0</td>\n",
       "    </tr>\n",
       "    <tr>\n",
       "      <th>65</th>\n",
       "      <td>0</td>\n",
       "      <td>0.0</td>\n",
       "      <td>0.0</td>\n",
       "    </tr>\n",
       "    <tr>\n",
       "      <th>101</th>\n",
       "      <td>0</td>\n",
       "      <td>0.0</td>\n",
       "      <td>73.4</td>\n",
       "    </tr>\n",
       "    <tr>\n",
       "      <th>118</th>\n",
       "      <td>0</td>\n",
       "      <td>0.0</td>\n",
       "      <td>0.0</td>\n",
       "    </tr>\n",
       "    <tr>\n",
       "      <th>119</th>\n",
       "      <td>0</td>\n",
       "      <td>0.0</td>\n",
       "      <td>0.0</td>\n",
       "    </tr>\n",
       "    <tr>\n",
       "      <th>141</th>\n",
       "      <td>0</td>\n",
       "      <td>0.0</td>\n",
       "      <td>0.0</td>\n",
       "    </tr>\n",
       "    <tr>\n",
       "      <th>142</th>\n",
       "      <td>0</td>\n",
       "      <td>0.0</td>\n",
       "      <td>0.0</td>\n",
       "    </tr>\n",
       "    <tr>\n",
       "      <th>148</th>\n",
       "      <td>0</td>\n",
       "      <td>0.0</td>\n",
       "      <td>0.0</td>\n",
       "    </tr>\n",
       "    <tr>\n",
       "      <th>155</th>\n",
       "      <td>0</td>\n",
       "      <td>0.0</td>\n",
       "      <td>0.0</td>\n",
       "    </tr>\n",
       "    <tr>\n",
       "      <th>160</th>\n",
       "      <td>0</td>\n",
       "      <td>0.0</td>\n",
       "      <td>0.0</td>\n",
       "    </tr>\n",
       "    <tr>\n",
       "      <th>186</th>\n",
       "      <td>0</td>\n",
       "      <td>0.0</td>\n",
       "      <td>80.1</td>\n",
       "    </tr>\n",
       "    <tr>\n",
       "      <th>188</th>\n",
       "      <td>0</td>\n",
       "      <td>0.0</td>\n",
       "      <td>0.0</td>\n",
       "    </tr>\n",
       "    <tr>\n",
       "      <th>208</th>\n",
       "      <td>0</td>\n",
       "      <td>0.0</td>\n",
       "      <td>0.0</td>\n",
       "    </tr>\n",
       "    <tr>\n",
       "      <th>217</th>\n",
       "      <td>0</td>\n",
       "      <td>0.0</td>\n",
       "      <td>0.0</td>\n",
       "    </tr>\n",
       "    <tr>\n",
       "      <th>292</th>\n",
       "      <td>0</td>\n",
       "      <td>0.0</td>\n",
       "      <td>79.8</td>\n",
       "    </tr>\n",
       "    <tr>\n",
       "      <th>389</th>\n",
       "      <td>0</td>\n",
       "      <td>0.0</td>\n",
       "      <td>0.0</td>\n",
       "    </tr>\n",
       "    <tr>\n",
       "      <th>392</th>\n",
       "      <td>0</td>\n",
       "      <td>0.0</td>\n",
       "      <td>0.0</td>\n",
       "    </tr>\n",
       "    <tr>\n",
       "      <th>416</th>\n",
       "      <td>0</td>\n",
       "      <td>0.0</td>\n",
       "      <td>0.0</td>\n",
       "    </tr>\n",
       "  </tbody>\n",
       "</table>\n",
       "</div>"
      ],
      "text/plain": [
       "     TIME3132  TEMPERATURE3132  HEATING2122\n",
       "18          0              0.0          0.0\n",
       "26          0              0.0          0.0\n",
       "32          0              0.0          0.0\n",
       "46          0              0.0          0.0\n",
       "65          0              0.0          0.0\n",
       "101         0              0.0         73.4\n",
       "118         0              0.0          0.0\n",
       "119         0              0.0          0.0\n",
       "141         0              0.0          0.0\n",
       "142         0              0.0          0.0\n",
       "148         0              0.0          0.0\n",
       "155         0              0.0          0.0\n",
       "160         0              0.0          0.0\n",
       "186         0              0.0         80.1\n",
       "188         0              0.0          0.0\n",
       "208         0              0.0          0.0\n",
       "217         0              0.0          0.0\n",
       "292         0              0.0         79.8\n",
       "389         0              0.0          0.0\n",
       "392         0              0.0          0.0\n",
       "416         0              0.0          0.0"
      ]
     },
     "execution_count": 39,
     "metadata": {},
     "output_type": "execute_result"
    }
   ],
   "source": [
    "df[['TIME3132','TEMPERATURE3132','HEATING2122']][df.TIME3132 == 0]"
   ]
  },
  {
   "cell_type": "code",
   "execution_count": 40,
   "metadata": {},
   "outputs": [
    {
     "data": {
      "text/plain": [
       "15    255\n",
       "30     66\n",
       "50     61\n",
       "20     20\n",
       "25     16\n",
       "10      4\n",
       "35      3\n",
       "3       3\n",
       "Name: ERP_EAuThick, dtype: int64"
      ]
     },
     "execution_count": 40,
     "metadata": {},
     "output_type": "execute_result"
    }
   ],
   "source": [
    "df['ERP_EAuThick'].value_counts()\n"
   ]
  },
  {
   "cell_type": "code",
   "execution_count": 41,
   "metadata": {
    "collapsed": true
   },
   "outputs": [],
   "source": [
    "#\n",
    "def group_ERP_Thick(old):\n",
    " if old == 'PEAK1':\n",
    "    return('P1')\n",
    " else:\n",
    "    if old == 'PEAK2':\n",
    "       return('P2')       \n",
    "    else:\n",
    "       if old == 'PEAK3':\n",
    "          return('P3')       \n",
    "       else:\n",
    "          return('ERP_3')\n",
    "#"
   ]
  },
  {
   "cell_type": "code",
   "execution_count": 42,
   "metadata": {
    "collapsed": true
   },
   "outputs": [],
   "source": [
    "df2 = pd.DataFrame({'New_ERP_Thick_NEW':df['ERP_Thick_NEW'].apply(group_ERP_Thick)})\n"
   ]
  },
  {
   "cell_type": "code",
   "execution_count": 44,
   "metadata": {},
   "outputs": [
    {
     "data": {
      "text/plain": [
       "<matplotlib.axes._subplots.AxesSubplot at 0x118717c18>"
      ]
     },
     "execution_count": 44,
     "metadata": {},
     "output_type": "execute_result"
    },
    {
     "data": {
      "image/png": "[encoded data removed]",
      "text/plain": [
       "<matplotlib.figure.Figure at 0x1184cee80>"
      ]
     },
     "metadata": {},
     "output_type": "display_data"
    },
    {
     "data": {
      "image/png": "[encoded data removed]",
      "text/plain": [
       "<matplotlib.figure.Figure at 0x1184cec88>"
      ]
     },
     "metadata": {},
     "output_type": "display_data"
    }
   ],
   "source": [
    "df =  pd.merge(df, df2, left_index = True, right_index = True)\n",
    "\n",
    "temp1 = df.groupby('ERP_Thick_NEW').ERP_EAuThick.count()\n",
    "temp1\n",
    "\n",
    "temp1 = df2.groupby('New_ERP_Thick_NEW').count()\n",
    "temp1\n",
    "df.boxplot(column='AuThick_Average', by = 'New_ERP_Thick_NEW')\n",
    "df.boxplot(column='AuThick_Average', by =['New_ERP_Thick_NEW','ERP_EAuThick'])"
   ]
  },
  {
   "cell_type": "code",
   "execution_count": 45,
   "metadata": {
    "collapsed": true
   },
   "outputs": [],
   "source": [
    "#\n",
    "def TEST (xx):\n",
    " if xx == 'TSMC-DD007C':\n",
    "    return('XX')\n",
    " else:\n",
    "    if xx == 'ADVT-OT000H':\n",
    "       return('YY')       \n",
    "    else:\n",
    "          return('OTHERS')\n",
    "#\n",
    "df2 = pd.DataFrame({'New_PART':df['PART_NUMBER'].apply(TEST)})"
   ]
  },
  {
   "cell_type": "code",
   "execution_count": 46,
   "metadata": {
    "collapsed": true
   },
   "outputs": [],
   "source": [
    "############################################################# FUN\n",
    "#df['ERP_EAuThick'] = df['ERP_EAuThick'].astype('object')\n",
    "df['ERP_EAuThick'].value_counts()\n",
    "df.dtypes\n",
    "#\n",
    "def PEAK (xx):\n",
    " if xx == 3:\n",
    "    return('ERP_3')\n",
    " else:       \n",
    "    if xx in [10,15,20]:        \n",
    "       return('PEAK1')       \n",
    "    else:\n",
    "       if xx in [25,30,35]:\n",
    "          return('PEAK2')       \n",
    "       else:\n",
    "          return('PEAK3')\n",
    "#\n",
    "df2 = pd.DataFrame({'New_ERP_EAuThick':df['ERP_EAuThick'].apply(PEAK)})\n",
    "df =  pd.merge(df, df2, left_index = True, right_index = True)"
   ]
  },
  {
   "cell_type": "code",
   "execution_count": 49,
   "metadata": {},
   "outputs": [
    {
     "data": {
      "text/html": [
       "<div>\n",
       "<style>\n",
       "    .dataframe thead tr:only-child th {\n",
       "        text-align: right;\n",
       "    }\n",
       "\n",
       "    .dataframe thead th {\n",
       "        text-align: left;\n",
       "    }\n",
       "\n",
       "    .dataframe tbody tr th {\n",
       "        vertical-align: top;\n",
       "    }\n",
       "</style>\n",
       "<table border=\"1\" class=\"dataframe\">\n",
       "  <thead>\n",
       "    <tr style=\"text-align: right;\">\n",
       "      <th></th>\n",
       "      <th>ERP_Thick_NEW</th>\n",
       "      <th>New_ERP_Thick_NEW</th>\n",
       "      <th>New_ERP_EAuThick</th>\n",
       "    </tr>\n",
       "  </thead>\n",
       "  <tbody>\n",
       "    <tr>\n",
       "      <th>0</th>\n",
       "      <td>PEAK1</td>\n",
       "      <td>P1</td>\n",
       "      <td>PEAK1</td>\n",
       "    </tr>\n",
       "    <tr>\n",
       "      <th>1</th>\n",
       "      <td>PEAK1</td>\n",
       "      <td>P1</td>\n",
       "      <td>PEAK1</td>\n",
       "    </tr>\n",
       "    <tr>\n",
       "      <th>2</th>\n",
       "      <td>PEAK2</td>\n",
       "      <td>P2</td>\n",
       "      <td>PEAK2</td>\n",
       "    </tr>\n",
       "    <tr>\n",
       "      <th>3</th>\n",
       "      <td>PEAK1</td>\n",
       "      <td>P1</td>\n",
       "      <td>PEAK1</td>\n",
       "    </tr>\n",
       "    <tr>\n",
       "      <th>4</th>\n",
       "      <td>PEAK1</td>\n",
       "      <td>P1</td>\n",
       "      <td>PEAK1</td>\n",
       "    </tr>\n",
       "  </tbody>\n",
       "</table>\n",
       "</div>"
      ],
      "text/plain": [
       "  ERP_Thick_NEW New_ERP_Thick_NEW New_ERP_EAuThick\n",
       "0         PEAK1                P1            PEAK1\n",
       "1         PEAK1                P1            PEAK1\n",
       "2         PEAK2                P2            PEAK2\n",
       "3         PEAK1                P1            PEAK1\n",
       "4         PEAK1                P1            PEAK1"
      ]
     },
     "execution_count": 49,
     "metadata": {},
     "output_type": "execute_result"
    }
   ],
   "source": [
    "df[[\"ERP_Thick_NEW\",\"New_ERP_Thick_NEW\",\"New_ERP_EAuThick\"]].head()"
   ]
  },
  {
   "cell_type": "code",
   "execution_count": null,
   "metadata": {
    "collapsed": true
   },
   "outputs": [],
   "source": []
  }
 ],
 "metadata": {
  "kernelspec": {
   "display_name": "Python 3",
   "language": "python",
   "name": "python3"
  },
  "language_info": {
   "codemirror_mode": {
    "name": "ipython",
    "version": 3
   },
   "file_extension": ".py",
   "mimetype": "text/x-python",
   "name": "python",
   "nbconvert_exporter": "python",
   "pygments_lexer": "ipython3",
   "version": "3.5.3"
  }
 },
 "nbformat": 4,
 "nbformat_minor": 2
}
