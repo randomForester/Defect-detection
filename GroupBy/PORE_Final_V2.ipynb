{
 "cells": [
  {
   "cell_type": "code",
   "execution_count": 1,
   "metadata": {
    "collapsed": true
   },
   "outputs": [],
   "source": [
    "from pandas import DataFrame\n",
    "import pandas as pd\n",
    "import numpy as np"
   ]
  },
  {
   "cell_type": "code",
   "execution_count": 2,
   "metadata": {},
   "outputs": [
    {
     "name": "stdout",
     "output_type": "stream",
     "text": [
      "/Users/cesare.chung/Downloads/AR\n"
     ]
    }
   ],
   "source": [
    "import os;\n",
    "os.chdir(\"/Users/cesare.chung/Downloads/AR/\")\n",
    "\n",
    "print (os.getcwd());"
   ]
  },
  {
   "cell_type": "code",
   "execution_count": 3,
   "metadata": {
    "collapsed": true
   },
   "outputs": [],
   "source": [
    "int_data  = pd.read_csv(\"Temp.csv\")"
   ]
  },
  {
   "cell_type": "markdown",
   "metadata": {},
   "source": [
    "# Preprocess"
   ]
  },
  {
   "cell_type": "code",
   "execution_count": 4,
   "metadata": {},
   "outputs": [
    {
     "data": {
      "text/html": [
       "<div>\n",
       "<style>\n",
       "    .dataframe thead tr:only-child th {\n",
       "        text-align: right;\n",
       "    }\n",
       "\n",
       "    .dataframe thead th {\n",
       "        text-align: left;\n",
       "    }\n",
       "\n",
       "    .dataframe tbody tr th {\n",
       "        vertical-align: top;\n",
       "    }\n",
       "</style>\n",
       "<table border=\"1\" class=\"dataframe\">\n",
       "  <thead>\n",
       "    <tr style=\"text-align: right;\">\n",
       "      <th></th>\n",
       "      <th>Topics</th>\n",
       "      <th>Name</th>\n",
       "      <th>Score</th>\n",
       "      <th>Strategy</th>\n",
       "      <th>Innovation</th>\n",
       "      <th>Member</th>\n",
       "      <th>Resource</th>\n",
       "      <th>Complete</th>\n",
       "      <th>Report</th>\n",
       "      <th>Section</th>\n",
       "    </tr>\n",
       "  </thead>\n",
       "  <tbody>\n",
       "    <tr>\n",
       "      <th>0</th>\n",
       "      <td>背板製程開發</td>\n",
       "      <td>YT1</td>\n",
       "      <td>82.95</td>\n",
       "      <td>89.17</td>\n",
       "      <td>70.0</td>\n",
       "      <td>81.67</td>\n",
       "      <td>76.67</td>\n",
       "      <td>77.5</td>\n",
       "      <td>7.98</td>\n",
       "      <td>S</td>\n",
       "    </tr>\n",
       "  </tbody>\n",
       "</table>\n",
       "</div>"
      ],
      "text/plain": [
       "   Topics Name  Score  Strategy  Innovation  Member  Resource  Complete  \\\n",
       "0  背板製程開發  YT1  82.95     89.17        70.0   81.67     76.67      77.5   \n",
       "\n",
       "   Report Section  \n",
       "0    7.98       S  "
      ]
     },
     "execution_count": 4,
     "metadata": {},
     "output_type": "execute_result"
    }
   ],
   "source": [
    "int_data.head(1)"
   ]
  },
  {
   "cell_type": "code",
   "execution_count": 5,
   "metadata": {
    "collapsed": true
   },
   "outputs": [],
   "source": [
    "int_data.drop('Topics', axis=1, inplace=True)"
   ]
  },
  {
   "cell_type": "code",
   "execution_count": 6,
   "metadata": {},
   "outputs": [
    {
     "data": {
      "text/html": [
       "<div>\n",
       "<style>\n",
       "    .dataframe thead tr:only-child th {\n",
       "        text-align: right;\n",
       "    }\n",
       "\n",
       "    .dataframe thead th {\n",
       "        text-align: left;\n",
       "    }\n",
       "\n",
       "    .dataframe tbody tr th {\n",
       "        vertical-align: top;\n",
       "    }\n",
       "</style>\n",
       "<table border=\"1\" class=\"dataframe\">\n",
       "  <thead>\n",
       "    <tr style=\"text-align: right;\">\n",
       "      <th></th>\n",
       "      <th>Name</th>\n",
       "      <th>Score</th>\n",
       "      <th>Strategy</th>\n",
       "      <th>Innovation</th>\n",
       "      <th>Member</th>\n",
       "      <th>Resource</th>\n",
       "      <th>Complete</th>\n",
       "      <th>Report</th>\n",
       "      <th>Section</th>\n",
       "    </tr>\n",
       "  </thead>\n",
       "  <tbody>\n",
       "    <tr>\n",
       "      <th>0</th>\n",
       "      <td>YT1</td>\n",
       "      <td>82.95</td>\n",
       "      <td>89.17</td>\n",
       "      <td>70.00</td>\n",
       "      <td>81.67</td>\n",
       "      <td>76.67</td>\n",
       "      <td>77.50</td>\n",
       "      <td>7.98</td>\n",
       "      <td>S</td>\n",
       "    </tr>\n",
       "    <tr>\n",
       "      <th>1</th>\n",
       "      <td>Liam</td>\n",
       "      <td>79.34</td>\n",
       "      <td>88.83</td>\n",
       "      <td>52.50</td>\n",
       "      <td>86.67</td>\n",
       "      <td>60.00</td>\n",
       "      <td>75.00</td>\n",
       "      <td>7.34</td>\n",
       "      <td>S</td>\n",
       "    </tr>\n",
       "    <tr>\n",
       "      <th>2</th>\n",
       "      <td>YC</td>\n",
       "      <td>76.13</td>\n",
       "      <td>86.67</td>\n",
       "      <td>63.33</td>\n",
       "      <td>66.67</td>\n",
       "      <td>55.00</td>\n",
       "      <td>63.33</td>\n",
       "      <td>6.48</td>\n",
       "      <td>S</td>\n",
       "    </tr>\n",
       "    <tr>\n",
       "      <th>3</th>\n",
       "      <td>Catherine</td>\n",
       "      <td>76.14</td>\n",
       "      <td>85.83</td>\n",
       "      <td>61.67</td>\n",
       "      <td>64.17</td>\n",
       "      <td>68.33</td>\n",
       "      <td>61.67</td>\n",
       "      <td>6.78</td>\n",
       "      <td>D</td>\n",
       "    </tr>\n",
       "    <tr>\n",
       "      <th>4</th>\n",
       "      <td>Moro</td>\n",
       "      <td>74.96</td>\n",
       "      <td>85.83</td>\n",
       "      <td>62.50</td>\n",
       "      <td>65.00</td>\n",
       "      <td>60.83</td>\n",
       "      <td>58.33</td>\n",
       "      <td>6.08</td>\n",
       "      <td>S</td>\n",
       "    </tr>\n",
       "    <tr>\n",
       "      <th>5</th>\n",
       "      <td>YT2</td>\n",
       "      <td>79.46</td>\n",
       "      <td>84.17</td>\n",
       "      <td>70.83</td>\n",
       "      <td>80.00</td>\n",
       "      <td>78.33</td>\n",
       "      <td>69.17</td>\n",
       "      <td>7.71</td>\n",
       "      <td>S</td>\n",
       "    </tr>\n",
       "    <tr>\n",
       "      <th>6</th>\n",
       "      <td>James</td>\n",
       "      <td>72.03</td>\n",
       "      <td>83.33</td>\n",
       "      <td>51.67</td>\n",
       "      <td>50.00</td>\n",
       "      <td>35.00</td>\n",
       "      <td>57.50</td>\n",
       "      <td>6.79</td>\n",
       "      <td>Eco</td>\n",
       "    </tr>\n",
       "    <tr>\n",
       "      <th>7</th>\n",
       "      <td>KS</td>\n",
       "      <td>73.73</td>\n",
       "      <td>80.00</td>\n",
       "      <td>60.83</td>\n",
       "      <td>67.50</td>\n",
       "      <td>78.33</td>\n",
       "      <td>65.00</td>\n",
       "      <td>7.34</td>\n",
       "      <td>D</td>\n",
       "    </tr>\n",
       "    <tr>\n",
       "      <th>8</th>\n",
       "      <td>Angela</td>\n",
       "      <td>68.46</td>\n",
       "      <td>77.50</td>\n",
       "      <td>56.00</td>\n",
       "      <td>66.67</td>\n",
       "      <td>38.33</td>\n",
       "      <td>60.00</td>\n",
       "      <td>6.65</td>\n",
       "      <td>D</td>\n",
       "    </tr>\n",
       "    <tr>\n",
       "      <th>9</th>\n",
       "      <td>Daniel</td>\n",
       "      <td>60.40</td>\n",
       "      <td>77.50</td>\n",
       "      <td>25.00</td>\n",
       "      <td>51.67</td>\n",
       "      <td>46.67</td>\n",
       "      <td>41.67</td>\n",
       "      <td>4.55</td>\n",
       "      <td>S</td>\n",
       "    </tr>\n",
       "    <tr>\n",
       "      <th>10</th>\n",
       "      <td>Hugh</td>\n",
       "      <td>61.02</td>\n",
       "      <td>75.83</td>\n",
       "      <td>23.33</td>\n",
       "      <td>53.33</td>\n",
       "      <td>41.67</td>\n",
       "      <td>38.33</td>\n",
       "      <td>5.00</td>\n",
       "      <td>D</td>\n",
       "    </tr>\n",
       "    <tr>\n",
       "      <th>11</th>\n",
       "      <td>HM2</td>\n",
       "      <td>64.98</td>\n",
       "      <td>75.83</td>\n",
       "      <td>30.00</td>\n",
       "      <td>46.67</td>\n",
       "      <td>46.67</td>\n",
       "      <td>33.33</td>\n",
       "      <td>7.50</td>\n",
       "      <td>S</td>\n",
       "    </tr>\n",
       "    <tr>\n",
       "      <th>12</th>\n",
       "      <td>SM</td>\n",
       "      <td>62.33</td>\n",
       "      <td>74.17</td>\n",
       "      <td>35.00</td>\n",
       "      <td>66.67</td>\n",
       "      <td>53.33</td>\n",
       "      <td>45.00</td>\n",
       "      <td>5.33</td>\n",
       "      <td>S</td>\n",
       "    </tr>\n",
       "    <tr>\n",
       "      <th>13</th>\n",
       "      <td>Cesare</td>\n",
       "      <td>56.70</td>\n",
       "      <td>64.17</td>\n",
       "      <td>30.00</td>\n",
       "      <td>45.00</td>\n",
       "      <td>38.33</td>\n",
       "      <td>38.33</td>\n",
       "      <td>6.15</td>\n",
       "      <td>S</td>\n",
       "    </tr>\n",
       "    <tr>\n",
       "      <th>14</th>\n",
       "      <td>Javier</td>\n",
       "      <td>61.05</td>\n",
       "      <td>59.17</td>\n",
       "      <td>55.00</td>\n",
       "      <td>80.00</td>\n",
       "      <td>63.33</td>\n",
       "      <td>61.67</td>\n",
       "      <td>6.58</td>\n",
       "      <td>S</td>\n",
       "    </tr>\n",
       "    <tr>\n",
       "      <th>15</th>\n",
       "      <td>Killer</td>\n",
       "      <td>56.25</td>\n",
       "      <td>57.50</td>\n",
       "      <td>37.50</td>\n",
       "      <td>74.17</td>\n",
       "      <td>51.67</td>\n",
       "      <td>55.83</td>\n",
       "      <td>6.34</td>\n",
       "      <td>S</td>\n",
       "    </tr>\n",
       "    <tr>\n",
       "      <th>16</th>\n",
       "      <td>JK</td>\n",
       "      <td>50.67</td>\n",
       "      <td>43.33</td>\n",
       "      <td>37.50</td>\n",
       "      <td>67.50</td>\n",
       "      <td>71.67</td>\n",
       "      <td>62.50</td>\n",
       "      <td>6.55</td>\n",
       "      <td>D</td>\n",
       "    </tr>\n",
       "    <tr>\n",
       "      <th>17</th>\n",
       "      <td>HM1</td>\n",
       "      <td>0.00</td>\n",
       "      <td>0.00</td>\n",
       "      <td>0.00</td>\n",
       "      <td>0.00</td>\n",
       "      <td>0.00</td>\n",
       "      <td>0.00</td>\n",
       "      <td>0.00</td>\n",
       "      <td>S</td>\n",
       "    </tr>\n",
       "  </tbody>\n",
       "</table>\n",
       "</div>"
      ],
      "text/plain": [
       "         Name  Score  Strategy  Innovation  Member  Resource  Complete  \\\n",
       "0         YT1  82.95     89.17       70.00   81.67     76.67     77.50   \n",
       "1        Liam  79.34     88.83       52.50   86.67     60.00     75.00   \n",
       "2          YC  76.13     86.67       63.33   66.67     55.00     63.33   \n",
       "3   Catherine  76.14     85.83       61.67   64.17     68.33     61.67   \n",
       "4        Moro  74.96     85.83       62.50   65.00     60.83     58.33   \n",
       "5         YT2  79.46     84.17       70.83   80.00     78.33     69.17   \n",
       "6       James  72.03     83.33       51.67   50.00     35.00     57.50   \n",
       "7          KS  73.73     80.00       60.83   67.50     78.33     65.00   \n",
       "8      Angela  68.46     77.50       56.00   66.67     38.33     60.00   \n",
       "9      Daniel  60.40     77.50       25.00   51.67     46.67     41.67   \n",
       "10       Hugh  61.02     75.83       23.33   53.33     41.67     38.33   \n",
       "11        HM2  64.98     75.83       30.00   46.67     46.67     33.33   \n",
       "12         SM  62.33     74.17       35.00   66.67     53.33     45.00   \n",
       "13     Cesare  56.70     64.17       30.00   45.00     38.33     38.33   \n",
       "14     Javier  61.05     59.17       55.00   80.00     63.33     61.67   \n",
       "15     Killer  56.25     57.50       37.50   74.17     51.67     55.83   \n",
       "16         JK  50.67     43.33       37.50   67.50     71.67     62.50   \n",
       "17        HM1   0.00      0.00        0.00    0.00      0.00      0.00   \n",
       "\n",
       "    Report Section  \n",
       "0     7.98       S  \n",
       "1     7.34       S  \n",
       "2     6.48       S  \n",
       "3     6.78       D  \n",
       "4     6.08       S  \n",
       "5     7.71       S  \n",
       "6     6.79     Eco  \n",
       "7     7.34       D  \n",
       "8     6.65       D  \n",
       "9     4.55       S  \n",
       "10    5.00       D  \n",
       "11    7.50       S  \n",
       "12    5.33       S  \n",
       "13    6.15       S  \n",
       "14    6.58       S  \n",
       "15    6.34       S  \n",
       "16    6.55       D  \n",
       "17    0.00       S  "
      ]
     },
     "execution_count": 6,
     "metadata": {},
     "output_type": "execute_result"
    }
   ],
   "source": [
    "int_data2 = int_data\n",
    "int_data2.head(18)"
   ]
  },
  {
   "cell_type": "code",
   "execution_count": 7,
   "metadata": {},
   "outputs": [
    {
     "data": {
      "text/plain": [
       "Name          8\n",
       "Score         8\n",
       "Strategy      8\n",
       "Innovation    8\n",
       "Member        8\n",
       "Resource      8\n",
       "Complete      8\n",
       "Report        8\n",
       "Section       8\n",
       "dtype: int64"
      ]
     },
     "execution_count": 7,
     "metadata": {},
     "output_type": "execute_result"
    }
   ],
   "source": [
    "int_data2.isnull().sum()"
   ]
  },
  {
   "cell_type": "code",
   "execution_count": 8,
   "metadata": {},
   "outputs": [
    {
     "data": {
      "text/plain": [
       "(26, 9)"
      ]
     },
     "execution_count": 8,
     "metadata": {},
     "output_type": "execute_result"
    }
   ],
   "source": [
    "int_data2.shape"
   ]
  },
  {
   "cell_type": "code",
   "execution_count": 9,
   "metadata": {
    "collapsed": true
   },
   "outputs": [],
   "source": [
    "int_data2.dropna(inplace=True)"
   ]
  },
  {
   "cell_type": "code",
   "execution_count": 10,
   "metadata": {},
   "outputs": [
    {
     "data": {
      "text/plain": [
       "(18, 9)"
      ]
     },
     "execution_count": 10,
     "metadata": {},
     "output_type": "execute_result"
    }
   ],
   "source": [
    "int_data2.shape"
   ]
  },
  {
   "cell_type": "code",
   "execution_count": 11,
   "metadata": {},
   "outputs": [
    {
     "data": {
      "text/html": [
       "<div>\n",
       "<style>\n",
       "    .dataframe thead tr:only-child th {\n",
       "        text-align: right;\n",
       "    }\n",
       "\n",
       "    .dataframe thead th {\n",
       "        text-align: left;\n",
       "    }\n",
       "\n",
       "    .dataframe tbody tr th {\n",
       "        vertical-align: top;\n",
       "    }\n",
       "</style>\n",
       "<table border=\"1\" class=\"dataframe\">\n",
       "  <thead>\n",
       "    <tr style=\"text-align: right;\">\n",
       "      <th></th>\n",
       "      <th>Name</th>\n",
       "      <th>Score</th>\n",
       "      <th>Strategy</th>\n",
       "      <th>Innovation</th>\n",
       "      <th>Member</th>\n",
       "      <th>Resource</th>\n",
       "      <th>Complete</th>\n",
       "      <th>Report</th>\n",
       "      <th>Section</th>\n",
       "    </tr>\n",
       "  </thead>\n",
       "  <tbody>\n",
       "    <tr>\n",
       "      <th>0</th>\n",
       "      <td>YT1</td>\n",
       "      <td>82.95</td>\n",
       "      <td>89.17</td>\n",
       "      <td>70.00</td>\n",
       "      <td>81.67</td>\n",
       "      <td>76.67</td>\n",
       "      <td>77.50</td>\n",
       "      <td>7.98</td>\n",
       "      <td>S</td>\n",
       "    </tr>\n",
       "    <tr>\n",
       "      <th>1</th>\n",
       "      <td>Liam</td>\n",
       "      <td>79.34</td>\n",
       "      <td>88.83</td>\n",
       "      <td>52.50</td>\n",
       "      <td>86.67</td>\n",
       "      <td>60.00</td>\n",
       "      <td>75.00</td>\n",
       "      <td>7.34</td>\n",
       "      <td>S</td>\n",
       "    </tr>\n",
       "    <tr>\n",
       "      <th>2</th>\n",
       "      <td>YC</td>\n",
       "      <td>76.13</td>\n",
       "      <td>86.67</td>\n",
       "      <td>63.33</td>\n",
       "      <td>66.67</td>\n",
       "      <td>55.00</td>\n",
       "      <td>63.33</td>\n",
       "      <td>6.48</td>\n",
       "      <td>S</td>\n",
       "    </tr>\n",
       "    <tr>\n",
       "      <th>3</th>\n",
       "      <td>Catherine</td>\n",
       "      <td>76.14</td>\n",
       "      <td>85.83</td>\n",
       "      <td>61.67</td>\n",
       "      <td>64.17</td>\n",
       "      <td>68.33</td>\n",
       "      <td>61.67</td>\n",
       "      <td>6.78</td>\n",
       "      <td>D</td>\n",
       "    </tr>\n",
       "    <tr>\n",
       "      <th>4</th>\n",
       "      <td>Moro</td>\n",
       "      <td>74.96</td>\n",
       "      <td>85.83</td>\n",
       "      <td>62.50</td>\n",
       "      <td>65.00</td>\n",
       "      <td>60.83</td>\n",
       "      <td>58.33</td>\n",
       "      <td>6.08</td>\n",
       "      <td>S</td>\n",
       "    </tr>\n",
       "    <tr>\n",
       "      <th>5</th>\n",
       "      <td>YT2</td>\n",
       "      <td>79.46</td>\n",
       "      <td>84.17</td>\n",
       "      <td>70.83</td>\n",
       "      <td>80.00</td>\n",
       "      <td>78.33</td>\n",
       "      <td>69.17</td>\n",
       "      <td>7.71</td>\n",
       "      <td>S</td>\n",
       "    </tr>\n",
       "    <tr>\n",
       "      <th>6</th>\n",
       "      <td>James</td>\n",
       "      <td>72.03</td>\n",
       "      <td>83.33</td>\n",
       "      <td>51.67</td>\n",
       "      <td>50.00</td>\n",
       "      <td>35.00</td>\n",
       "      <td>57.50</td>\n",
       "      <td>6.79</td>\n",
       "      <td>Eco</td>\n",
       "    </tr>\n",
       "    <tr>\n",
       "      <th>7</th>\n",
       "      <td>KS</td>\n",
       "      <td>73.73</td>\n",
       "      <td>80.00</td>\n",
       "      <td>60.83</td>\n",
       "      <td>67.50</td>\n",
       "      <td>78.33</td>\n",
       "      <td>65.00</td>\n",
       "      <td>7.34</td>\n",
       "      <td>D</td>\n",
       "    </tr>\n",
       "    <tr>\n",
       "      <th>9</th>\n",
       "      <td>Daniel</td>\n",
       "      <td>60.40</td>\n",
       "      <td>77.50</td>\n",
       "      <td>25.00</td>\n",
       "      <td>51.67</td>\n",
       "      <td>46.67</td>\n",
       "      <td>41.67</td>\n",
       "      <td>4.55</td>\n",
       "      <td>S</td>\n",
       "    </tr>\n",
       "    <tr>\n",
       "      <th>8</th>\n",
       "      <td>Angela</td>\n",
       "      <td>68.46</td>\n",
       "      <td>77.50</td>\n",
       "      <td>56.00</td>\n",
       "      <td>66.67</td>\n",
       "      <td>38.33</td>\n",
       "      <td>60.00</td>\n",
       "      <td>6.65</td>\n",
       "      <td>D</td>\n",
       "    </tr>\n",
       "    <tr>\n",
       "      <th>10</th>\n",
       "      <td>Hugh</td>\n",
       "      <td>61.02</td>\n",
       "      <td>75.83</td>\n",
       "      <td>23.33</td>\n",
       "      <td>53.33</td>\n",
       "      <td>41.67</td>\n",
       "      <td>38.33</td>\n",
       "      <td>5.00</td>\n",
       "      <td>D</td>\n",
       "    </tr>\n",
       "    <tr>\n",
       "      <th>11</th>\n",
       "      <td>HM2</td>\n",
       "      <td>64.98</td>\n",
       "      <td>75.83</td>\n",
       "      <td>30.00</td>\n",
       "      <td>46.67</td>\n",
       "      <td>46.67</td>\n",
       "      <td>33.33</td>\n",
       "      <td>7.50</td>\n",
       "      <td>S</td>\n",
       "    </tr>\n",
       "    <tr>\n",
       "      <th>12</th>\n",
       "      <td>SM</td>\n",
       "      <td>62.33</td>\n",
       "      <td>74.17</td>\n",
       "      <td>35.00</td>\n",
       "      <td>66.67</td>\n",
       "      <td>53.33</td>\n",
       "      <td>45.00</td>\n",
       "      <td>5.33</td>\n",
       "      <td>S</td>\n",
       "    </tr>\n",
       "    <tr>\n",
       "      <th>13</th>\n",
       "      <td>Cesare</td>\n",
       "      <td>56.70</td>\n",
       "      <td>64.17</td>\n",
       "      <td>30.00</td>\n",
       "      <td>45.00</td>\n",
       "      <td>38.33</td>\n",
       "      <td>38.33</td>\n",
       "      <td>6.15</td>\n",
       "      <td>S</td>\n",
       "    </tr>\n",
       "    <tr>\n",
       "      <th>14</th>\n",
       "      <td>Javier</td>\n",
       "      <td>61.05</td>\n",
       "      <td>59.17</td>\n",
       "      <td>55.00</td>\n",
       "      <td>80.00</td>\n",
       "      <td>63.33</td>\n",
       "      <td>61.67</td>\n",
       "      <td>6.58</td>\n",
       "      <td>S</td>\n",
       "    </tr>\n",
       "    <tr>\n",
       "      <th>15</th>\n",
       "      <td>Killer</td>\n",
       "      <td>56.25</td>\n",
       "      <td>57.50</td>\n",
       "      <td>37.50</td>\n",
       "      <td>74.17</td>\n",
       "      <td>51.67</td>\n",
       "      <td>55.83</td>\n",
       "      <td>6.34</td>\n",
       "      <td>S</td>\n",
       "    </tr>\n",
       "    <tr>\n",
       "      <th>16</th>\n",
       "      <td>JK</td>\n",
       "      <td>50.67</td>\n",
       "      <td>43.33</td>\n",
       "      <td>37.50</td>\n",
       "      <td>67.50</td>\n",
       "      <td>71.67</td>\n",
       "      <td>62.50</td>\n",
       "      <td>6.55</td>\n",
       "      <td>D</td>\n",
       "    </tr>\n",
       "    <tr>\n",
       "      <th>17</th>\n",
       "      <td>HM1</td>\n",
       "      <td>0.00</td>\n",
       "      <td>0.00</td>\n",
       "      <td>0.00</td>\n",
       "      <td>0.00</td>\n",
       "      <td>0.00</td>\n",
       "      <td>0.00</td>\n",
       "      <td>0.00</td>\n",
       "      <td>S</td>\n",
       "    </tr>\n",
       "  </tbody>\n",
       "</table>\n",
       "</div>"
      ],
      "text/plain": [
       "         Name  Score  Strategy  Innovation  Member  Resource  Complete  \\\n",
       "0         YT1  82.95     89.17       70.00   81.67     76.67     77.50   \n",
       "1        Liam  79.34     88.83       52.50   86.67     60.00     75.00   \n",
       "2          YC  76.13     86.67       63.33   66.67     55.00     63.33   \n",
       "3   Catherine  76.14     85.83       61.67   64.17     68.33     61.67   \n",
       "4        Moro  74.96     85.83       62.50   65.00     60.83     58.33   \n",
       "5         YT2  79.46     84.17       70.83   80.00     78.33     69.17   \n",
       "6       James  72.03     83.33       51.67   50.00     35.00     57.50   \n",
       "7          KS  73.73     80.00       60.83   67.50     78.33     65.00   \n",
       "9      Daniel  60.40     77.50       25.00   51.67     46.67     41.67   \n",
       "8      Angela  68.46     77.50       56.00   66.67     38.33     60.00   \n",
       "10       Hugh  61.02     75.83       23.33   53.33     41.67     38.33   \n",
       "11        HM2  64.98     75.83       30.00   46.67     46.67     33.33   \n",
       "12         SM  62.33     74.17       35.00   66.67     53.33     45.00   \n",
       "13     Cesare  56.70     64.17       30.00   45.00     38.33     38.33   \n",
       "14     Javier  61.05     59.17       55.00   80.00     63.33     61.67   \n",
       "15     Killer  56.25     57.50       37.50   74.17     51.67     55.83   \n",
       "16         JK  50.67     43.33       37.50   67.50     71.67     62.50   \n",
       "17        HM1   0.00      0.00        0.00    0.00      0.00      0.00   \n",
       "\n",
       "    Report Section  \n",
       "0     7.98       S  \n",
       "1     7.34       S  \n",
       "2     6.48       S  \n",
       "3     6.78       D  \n",
       "4     6.08       S  \n",
       "5     7.71       S  \n",
       "6     6.79     Eco  \n",
       "7     7.34       D  \n",
       "9     4.55       S  \n",
       "8     6.65       D  \n",
       "10    5.00       D  \n",
       "11    7.50       S  \n",
       "12    5.33       S  \n",
       "13    6.15       S  \n",
       "14    6.58       S  \n",
       "15    6.34       S  \n",
       "16    6.55       D  \n",
       "17    0.00       S  "
      ]
     },
     "execution_count": 11,
     "metadata": {},
     "output_type": "execute_result"
    }
   ],
   "source": [
    "int_data2.sort_values('Strategy', ascending=False)"
   ]
  },
  {
   "cell_type": "code",
   "execution_count": 12,
   "metadata": {
    "collapsed": true
   },
   "outputs": [],
   "source": [
    "int_data2 = int_data2[int_data2.Name != 'HM1']"
   ]
  },
  {
   "cell_type": "code",
   "execution_count": 13,
   "metadata": {},
   "outputs": [
    {
     "data": {
      "text/plain": [
       "(17, 9)"
      ]
     },
     "execution_count": 13,
     "metadata": {},
     "output_type": "execute_result"
    }
   ],
   "source": [
    "int_data2.shape"
   ]
  },
  {
   "cell_type": "markdown",
   "metadata": {},
   "source": [
    "# Mean"
   ]
  },
  {
   "cell_type": "code",
   "execution_count": 14,
   "metadata": {},
   "outputs": [
    {
     "data": {
      "text/plain": [
       "Score         68.035294\n",
       "Strategy      75.813529\n",
       "Innovation    48.391765\n",
       "Member        65.491765\n",
       "Resource      56.715294\n",
       "Complete      56.715294\n",
       "Report         6.538235\n",
       "dtype: float64"
      ]
     },
     "execution_count": 14,
     "metadata": {},
     "output_type": "execute_result"
    }
   ],
   "source": [
    "int_data2.mean()"
   ]
  },
  {
   "cell_type": "code",
   "execution_count": 15,
   "metadata": {
    "collapsed": true
   },
   "outputs": [],
   "source": [
    "int_data2.mean().to_excel(\"/Users/cesare.chung/Downloads/AR/_PORE_Mean.xlsx\", index=True,encoding=\"big5\")"
   ]
  },
  {
   "cell_type": "markdown",
   "metadata": {},
   "source": [
    "# Groupby"
   ]
  },
  {
   "cell_type": "code",
   "execution_count": 16,
   "metadata": {},
   "outputs": [
    {
     "data": {
      "image/png": "[encoded data removed]",
      "text/plain": [
       "<matplotlib.figure.Figure at 0x116678908>"
      ]
     },
     "metadata": {},
     "output_type": "display_data"
    }
   ],
   "source": [
    "%matplotlib inline\n",
    "import matplotlib.pyplot as plt\n",
    "\n",
    "int_data2.Resource.plot(kind=\"bar\")\n",
    "\n",
    "plt.grid(True)\n",
    "plt.show()"
   ]
  },
  {
   "cell_type": "code",
   "execution_count": 17,
   "metadata": {},
   "outputs": [
    {
     "data": {
      "image/png": "[encoded data removed]",
      "text/plain": [
       "<matplotlib.figure.Figure at 0x116a54c50>"
      ]
     },
     "metadata": {},
     "output_type": "display_data"
    }
   ],
   "source": [
    "plt.hist(int_data2.Resource, bins = [30, 40, 50, 60, 70, 80], rwidth=0.8,alpha=0.55, histtype='barstacked')\n",
    "plt.title('Histogram of Resource')\n",
    "plt.xlabel(\"Resource\")\n",
    "plt.ylabel(\"Frequency\")\n",
    "\n",
    "plt.show()"
   ]
  },
  {
   "cell_type": "code",
   "execution_count": 18,
   "metadata": {},
   "outputs": [
    {
     "data": {
      "image/png": "[encoded data removed]",
      "text/plain": [
       "<matplotlib.figure.Figure at 0x1169db390>"
      ]
     },
     "metadata": {},
     "output_type": "display_data"
    }
   ],
   "source": [
    "int_data2.Member.plot(kind=\"bar\")\n",
    "\n",
    "plt.grid(True)\n",
    "plt.show()"
   ]
  },
  {
   "cell_type": "code",
   "execution_count": 19,
   "metadata": {},
   "outputs": [
    {
     "data": {
      "image/png": "[encoded data removed]",
      "text/plain": [
       "<matplotlib.figure.Figure at 0x116b20240>"
      ]
     },
     "metadata": {},
     "output_type": "display_data"
    }
   ],
   "source": [
    "plt.hist(int_data2.Member, bins = [40, 50, 60, 70, 80, 90], rwidth=0.8,alpha=0.55, histtype='barstacked')\n",
    "plt.title('Histogram of Member')\n",
    "plt.xlabel(\"Member\")\n",
    "plt.ylabel(\"Frequency\")\n",
    "\n",
    "plt.show()"
   ]
  },
  {
   "cell_type": "code",
   "execution_count": 20,
   "metadata": {},
   "outputs": [
    {
     "data": {
      "image/png": "[encoded data removed]",
      "text/plain": [
       "<matplotlib.figure.Figure at 0x1169ce128>"
      ]
     },
     "metadata": {},
     "output_type": "display_data"
    }
   ],
   "source": [
    "plt.hist(int_data2.Complete, bins = [40, 50, 60, 70, 80, 90], rwidth=0.8,alpha=0.55, histtype='barstacked')\n",
    "plt.title('Histogram of Complete')\n",
    "plt.xlabel(\"Complete\")\n",
    "plt.ylabel(\"Frequency\")\n",
    "\n",
    "plt.show()"
   ]
  },
  {
   "cell_type": "code",
   "execution_count": 21,
   "metadata": {},
   "outputs": [
    {
     "data": {
      "image/png": "[encoded data removed]",
      "text/plain": [
       "<matplotlib.figure.Figure at 0x116c01ba8>"
      ]
     },
     "metadata": {},
     "output_type": "display_data"
    }
   ],
   "source": [
    "plt.hist(int_data2.Strategy, bins = [30, 40, 50, 60, 70, 80, 90], rwidth=0.8,alpha=0.55, histtype='barstacked')\n",
    "plt.title('Histogram of Strategy')\n",
    "plt.xlabel(\"Strategy\")\n",
    "plt.ylabel(\"Frequency\")\n",
    "\n",
    "plt.show()"
   ]
  },
  {
   "cell_type": "code",
   "execution_count": 22,
   "metadata": {},
   "outputs": [
    {
     "data": {
      "image/png": "[encoded data removed]",
      "text/plain": [
       "<matplotlib.figure.Figure at 0x116d81828>"
      ]
     },
     "metadata": {},
     "output_type": "display_data"
    }
   ],
   "source": [
    "plt.hist(int_data2.Innovation, bins = [30, 40, 50, 60, 70, 80, 90], rwidth=0.8,alpha=0.55, histtype='barstacked')\n",
    "plt.title('Histogram of Innovation')\n",
    "plt.xlabel(\"Innovation\")\n",
    "plt.ylabel(\"Frequency\")\n",
    "\n",
    "plt.show()"
   ]
  },
  {
   "cell_type": "code",
   "execution_count": 23,
   "metadata": {},
   "outputs": [
    {
     "data": {
      "image/png": "[encoded data removed]",
      "text/plain": [
       "<matplotlib.figure.Figure at 0x116fbf400>"
      ]
     },
     "metadata": {},
     "output_type": "display_data"
    }
   ],
   "source": [
    "plt.hist(int_data2.Report, bins = [3, 4, 5, 6, 7, 8, 9], rwidth=0.8,alpha=0.55, histtype='barstacked')\n",
    "plt.title('Histogram of Report')\n",
    "plt.xlabel(\"Report\")\n",
    "plt.ylabel(\"Frequency\")\n",
    "\n",
    "plt.show()"
   ]
  },
  {
   "cell_type": "markdown",
   "metadata": {},
   "source": [
    "# Functions"
   ]
  },
  {
   "cell_type": "code",
   "execution_count": 24,
   "metadata": {
    "collapsed": true
   },
   "outputs": [],
   "source": [
    "#\n",
    "# H : High; M : Median; L : Low\n",
    "#\n",
    "def Member_FUN(old):\n",
    " if old >= 70:\n",
    "    return('H')\n",
    " else:\n",
    "    if (old >= 60) & (old < 70):\n",
    "       return('M')       \n",
    "    else:\n",
    "       return('L') \n",
    "#"
   ]
  },
  {
   "cell_type": "code",
   "execution_count": 25,
   "metadata": {
    "collapsed": true
   },
   "outputs": [],
   "source": [
    "#\n",
    "def Resource_FUN(old):\n",
    " if old >= 70:\n",
    "    return('H')\n",
    " else:\n",
    "    if (old >= 60) & (old < 70):\n",
    "       return('M')       \n",
    "    else:\n",
    "       return('L') \n",
    "#"
   ]
  },
  {
   "cell_type": "code",
   "execution_count": 26,
   "metadata": {
    "collapsed": true
   },
   "outputs": [],
   "source": [
    "#\n",
    "def Complete_FUN(old):\n",
    " if old >= 70:\n",
    "    return('H')\n",
    " else:\n",
    "    if (old >= 60) & (old < 70):\n",
    "       return('M')       \n",
    "    else:\n",
    "       return('L') \n",
    "#"
   ]
  },
  {
   "cell_type": "code",
   "execution_count": 27,
   "metadata": {
    "collapsed": true
   },
   "outputs": [],
   "source": [
    "#\n",
    "def Section_FUN(old):\n",
    " if old == 'S':\n",
    "    return('Segment')\n",
    " else:\n",
    "    if old == 'D':\n",
    "       return('Domain')       \n",
    "    else:\n",
    "       return('Eco')       \n",
    "#"
   ]
  },
  {
   "cell_type": "code",
   "execution_count": 28,
   "metadata": {
    "collapsed": true
   },
   "outputs": [],
   "source": [
    "#\n",
    "def Strategy_FUN(old):\n",
    " if old >= 80:\n",
    "    return('A')\n",
    " else:\n",
    "    if (old >= 70) & (old < 80):\n",
    "       return('B')       \n",
    "    else:\n",
    "       return('C')       \n",
    "#"
   ]
  },
  {
   "cell_type": "code",
   "execution_count": 29,
   "metadata": {
    "collapsed": true
   },
   "outputs": [],
   "source": [
    "df = pd.DataFrame({'Strategy_NEW':int_data2['Strategy'].apply(Strategy_FUN)})\n",
    "#df"
   ]
  },
  {
   "cell_type": "code",
   "execution_count": 30,
   "metadata": {
    "collapsed": true
   },
   "outputs": [],
   "source": [
    "int_data2 =  pd.merge(int_data2, df, left_index = True, right_index = True)"
   ]
  },
  {
   "cell_type": "code",
   "execution_count": 31,
   "metadata": {
    "collapsed": true
   },
   "outputs": [],
   "source": [
    "dfs = pd.DataFrame({'Section_NEW':int_data2['Section'].apply(Section_FUN)})\n",
    "#dfs"
   ]
  },
  {
   "cell_type": "code",
   "execution_count": 32,
   "metadata": {
    "collapsed": true
   },
   "outputs": [],
   "source": [
    "int_data2 =  pd.merge(int_data2, dfs, left_index = True, right_index = True)"
   ]
  },
  {
   "cell_type": "code",
   "execution_count": 33,
   "metadata": {
    "collapsed": true
   },
   "outputs": [],
   "source": [
    "dfr = pd.DataFrame({'Resource_NEW':int_data2['Resource'].apply(Resource_FUN)})\n",
    "#dfr"
   ]
  },
  {
   "cell_type": "code",
   "execution_count": 34,
   "metadata": {
    "collapsed": true
   },
   "outputs": [],
   "source": [
    "int_data2 =  pd.merge(int_data2, dfr, left_index = True, right_index = True)"
   ]
  },
  {
   "cell_type": "code",
   "execution_count": 35,
   "metadata": {
    "collapsed": true
   },
   "outputs": [],
   "source": [
    "dfc = pd.DataFrame({'Complete_NEW':int_data2['Complete'].apply(Complete_FUN)})"
   ]
  },
  {
   "cell_type": "code",
   "execution_count": 36,
   "metadata": {
    "collapsed": true
   },
   "outputs": [],
   "source": [
    "int_data2 =  pd.merge(int_data2, dfc, left_index = True, right_index = True)"
   ]
  },
  {
   "cell_type": "code",
   "execution_count": 37,
   "metadata": {
    "collapsed": true
   },
   "outputs": [],
   "source": [
    "dfm = pd.DataFrame({'Member_NEW':int_data2['Member'].apply(Member_FUN)})\n",
    "#dfm"
   ]
  },
  {
   "cell_type": "code",
   "execution_count": 38,
   "metadata": {
    "collapsed": true
   },
   "outputs": [],
   "source": [
    "int_data2 =  pd.merge(int_data2, dfm, left_index = True, right_index = True)\n"
   ]
  },
  {
   "cell_type": "code",
   "execution_count": 39,
   "metadata": {},
   "outputs": [
    {
     "data": {
      "text/html": [
       "<div>\n",
       "<style>\n",
       "    .dataframe thead tr:only-child th {\n",
       "        text-align: right;\n",
       "    }\n",
       "\n",
       "    .dataframe thead th {\n",
       "        text-align: left;\n",
       "    }\n",
       "\n",
       "    .dataframe tbody tr th {\n",
       "        vertical-align: top;\n",
       "    }\n",
       "</style>\n",
       "<table border=\"1\" class=\"dataframe\">\n",
       "  <thead>\n",
       "    <tr style=\"text-align: right;\">\n",
       "      <th></th>\n",
       "      <th>Name</th>\n",
       "      <th>Score</th>\n",
       "      <th>Strategy</th>\n",
       "      <th>Innovation</th>\n",
       "      <th>Member</th>\n",
       "      <th>Resource</th>\n",
       "      <th>Complete</th>\n",
       "      <th>Report</th>\n",
       "      <th>Section</th>\n",
       "      <th>Strategy_NEW</th>\n",
       "      <th>Section_NEW</th>\n",
       "      <th>Resource_NEW</th>\n",
       "      <th>Complete_NEW</th>\n",
       "      <th>Member_NEW</th>\n",
       "    </tr>\n",
       "  </thead>\n",
       "  <tbody>\n",
       "    <tr>\n",
       "      <th>0</th>\n",
       "      <td>YT1</td>\n",
       "      <td>82.95</td>\n",
       "      <td>89.17</td>\n",
       "      <td>70.00</td>\n",
       "      <td>81.67</td>\n",
       "      <td>76.67</td>\n",
       "      <td>77.50</td>\n",
       "      <td>7.98</td>\n",
       "      <td>S</td>\n",
       "      <td>A</td>\n",
       "      <td>Segment</td>\n",
       "      <td>H</td>\n",
       "      <td>H</td>\n",
       "      <td>H</td>\n",
       "    </tr>\n",
       "    <tr>\n",
       "      <th>1</th>\n",
       "      <td>Liam</td>\n",
       "      <td>79.34</td>\n",
       "      <td>88.83</td>\n",
       "      <td>52.50</td>\n",
       "      <td>86.67</td>\n",
       "      <td>60.00</td>\n",
       "      <td>75.00</td>\n",
       "      <td>7.34</td>\n",
       "      <td>S</td>\n",
       "      <td>A</td>\n",
       "      <td>Segment</td>\n",
       "      <td>M</td>\n",
       "      <td>H</td>\n",
       "      <td>H</td>\n",
       "    </tr>\n",
       "    <tr>\n",
       "      <th>2</th>\n",
       "      <td>YC</td>\n",
       "      <td>76.13</td>\n",
       "      <td>86.67</td>\n",
       "      <td>63.33</td>\n",
       "      <td>66.67</td>\n",
       "      <td>55.00</td>\n",
       "      <td>63.33</td>\n",
       "      <td>6.48</td>\n",
       "      <td>S</td>\n",
       "      <td>A</td>\n",
       "      <td>Segment</td>\n",
       "      <td>L</td>\n",
       "      <td>M</td>\n",
       "      <td>M</td>\n",
       "    </tr>\n",
       "    <tr>\n",
       "      <th>3</th>\n",
       "      <td>Catherine</td>\n",
       "      <td>76.14</td>\n",
       "      <td>85.83</td>\n",
       "      <td>61.67</td>\n",
       "      <td>64.17</td>\n",
       "      <td>68.33</td>\n",
       "      <td>61.67</td>\n",
       "      <td>6.78</td>\n",
       "      <td>D</td>\n",
       "      <td>A</td>\n",
       "      <td>Domain</td>\n",
       "      <td>M</td>\n",
       "      <td>M</td>\n",
       "      <td>M</td>\n",
       "    </tr>\n",
       "    <tr>\n",
       "      <th>4</th>\n",
       "      <td>Moro</td>\n",
       "      <td>74.96</td>\n",
       "      <td>85.83</td>\n",
       "      <td>62.50</td>\n",
       "      <td>65.00</td>\n",
       "      <td>60.83</td>\n",
       "      <td>58.33</td>\n",
       "      <td>6.08</td>\n",
       "      <td>S</td>\n",
       "      <td>A</td>\n",
       "      <td>Segment</td>\n",
       "      <td>M</td>\n",
       "      <td>L</td>\n",
       "      <td>M</td>\n",
       "    </tr>\n",
       "    <tr>\n",
       "      <th>5</th>\n",
       "      <td>YT2</td>\n",
       "      <td>79.46</td>\n",
       "      <td>84.17</td>\n",
       "      <td>70.83</td>\n",
       "      <td>80.00</td>\n",
       "      <td>78.33</td>\n",
       "      <td>69.17</td>\n",
       "      <td>7.71</td>\n",
       "      <td>S</td>\n",
       "      <td>A</td>\n",
       "      <td>Segment</td>\n",
       "      <td>H</td>\n",
       "      <td>M</td>\n",
       "      <td>H</td>\n",
       "    </tr>\n",
       "    <tr>\n",
       "      <th>6</th>\n",
       "      <td>James</td>\n",
       "      <td>72.03</td>\n",
       "      <td>83.33</td>\n",
       "      <td>51.67</td>\n",
       "      <td>50.00</td>\n",
       "      <td>35.00</td>\n",
       "      <td>57.50</td>\n",
       "      <td>6.79</td>\n",
       "      <td>Eco</td>\n",
       "      <td>A</td>\n",
       "      <td>Eco</td>\n",
       "      <td>L</td>\n",
       "      <td>L</td>\n",
       "      <td>L</td>\n",
       "    </tr>\n",
       "    <tr>\n",
       "      <th>7</th>\n",
       "      <td>KS</td>\n",
       "      <td>73.73</td>\n",
       "      <td>80.00</td>\n",
       "      <td>60.83</td>\n",
       "      <td>67.50</td>\n",
       "      <td>78.33</td>\n",
       "      <td>65.00</td>\n",
       "      <td>7.34</td>\n",
       "      <td>D</td>\n",
       "      <td>A</td>\n",
       "      <td>Domain</td>\n",
       "      <td>H</td>\n",
       "      <td>M</td>\n",
       "      <td>M</td>\n",
       "    </tr>\n",
       "    <tr>\n",
       "      <th>8</th>\n",
       "      <td>Angela</td>\n",
       "      <td>68.46</td>\n",
       "      <td>77.50</td>\n",
       "      <td>56.00</td>\n",
       "      <td>66.67</td>\n",
       "      <td>38.33</td>\n",
       "      <td>60.00</td>\n",
       "      <td>6.65</td>\n",
       "      <td>D</td>\n",
       "      <td>B</td>\n",
       "      <td>Domain</td>\n",
       "      <td>L</td>\n",
       "      <td>M</td>\n",
       "      <td>M</td>\n",
       "    </tr>\n",
       "    <tr>\n",
       "      <th>9</th>\n",
       "      <td>Daniel</td>\n",
       "      <td>60.40</td>\n",
       "      <td>77.50</td>\n",
       "      <td>25.00</td>\n",
       "      <td>51.67</td>\n",
       "      <td>46.67</td>\n",
       "      <td>41.67</td>\n",
       "      <td>4.55</td>\n",
       "      <td>S</td>\n",
       "      <td>B</td>\n",
       "      <td>Segment</td>\n",
       "      <td>L</td>\n",
       "      <td>L</td>\n",
       "      <td>L</td>\n",
       "    </tr>\n",
       "    <tr>\n",
       "      <th>10</th>\n",
       "      <td>Hugh</td>\n",
       "      <td>61.02</td>\n",
       "      <td>75.83</td>\n",
       "      <td>23.33</td>\n",
       "      <td>53.33</td>\n",
       "      <td>41.67</td>\n",
       "      <td>38.33</td>\n",
       "      <td>5.00</td>\n",
       "      <td>D</td>\n",
       "      <td>B</td>\n",
       "      <td>Domain</td>\n",
       "      <td>L</td>\n",
       "      <td>L</td>\n",
       "      <td>L</td>\n",
       "    </tr>\n",
       "    <tr>\n",
       "      <th>11</th>\n",
       "      <td>HM2</td>\n",
       "      <td>64.98</td>\n",
       "      <td>75.83</td>\n",
       "      <td>30.00</td>\n",
       "      <td>46.67</td>\n",
       "      <td>46.67</td>\n",
       "      <td>33.33</td>\n",
       "      <td>7.50</td>\n",
       "      <td>S</td>\n",
       "      <td>B</td>\n",
       "      <td>Segment</td>\n",
       "      <td>L</td>\n",
       "      <td>L</td>\n",
       "      <td>L</td>\n",
       "    </tr>\n",
       "    <tr>\n",
       "      <th>12</th>\n",
       "      <td>SM</td>\n",
       "      <td>62.33</td>\n",
       "      <td>74.17</td>\n",
       "      <td>35.00</td>\n",
       "      <td>66.67</td>\n",
       "      <td>53.33</td>\n",
       "      <td>45.00</td>\n",
       "      <td>5.33</td>\n",
       "      <td>S</td>\n",
       "      <td>B</td>\n",
       "      <td>Segment</td>\n",
       "      <td>L</td>\n",
       "      <td>L</td>\n",
       "      <td>M</td>\n",
       "    </tr>\n",
       "    <tr>\n",
       "      <th>13</th>\n",
       "      <td>Cesare</td>\n",
       "      <td>56.70</td>\n",
       "      <td>64.17</td>\n",
       "      <td>30.00</td>\n",
       "      <td>45.00</td>\n",
       "      <td>38.33</td>\n",
       "      <td>38.33</td>\n",
       "      <td>6.15</td>\n",
       "      <td>S</td>\n",
       "      <td>C</td>\n",
       "      <td>Segment</td>\n",
       "      <td>L</td>\n",
       "      <td>L</td>\n",
       "      <td>L</td>\n",
       "    </tr>\n",
       "    <tr>\n",
       "      <th>14</th>\n",
       "      <td>Javier</td>\n",
       "      <td>61.05</td>\n",
       "      <td>59.17</td>\n",
       "      <td>55.00</td>\n",
       "      <td>80.00</td>\n",
       "      <td>63.33</td>\n",
       "      <td>61.67</td>\n",
       "      <td>6.58</td>\n",
       "      <td>S</td>\n",
       "      <td>C</td>\n",
       "      <td>Segment</td>\n",
       "      <td>M</td>\n",
       "      <td>M</td>\n",
       "      <td>H</td>\n",
       "    </tr>\n",
       "    <tr>\n",
       "      <th>15</th>\n",
       "      <td>Killer</td>\n",
       "      <td>56.25</td>\n",
       "      <td>57.50</td>\n",
       "      <td>37.50</td>\n",
       "      <td>74.17</td>\n",
       "      <td>51.67</td>\n",
       "      <td>55.83</td>\n",
       "      <td>6.34</td>\n",
       "      <td>S</td>\n",
       "      <td>C</td>\n",
       "      <td>Segment</td>\n",
       "      <td>L</td>\n",
       "      <td>L</td>\n",
       "      <td>H</td>\n",
       "    </tr>\n",
       "    <tr>\n",
       "      <th>16</th>\n",
       "      <td>JK</td>\n",
       "      <td>50.67</td>\n",
       "      <td>43.33</td>\n",
       "      <td>37.50</td>\n",
       "      <td>67.50</td>\n",
       "      <td>71.67</td>\n",
       "      <td>62.50</td>\n",
       "      <td>6.55</td>\n",
       "      <td>D</td>\n",
       "      <td>C</td>\n",
       "      <td>Domain</td>\n",
       "      <td>H</td>\n",
       "      <td>M</td>\n",
       "      <td>M</td>\n",
       "    </tr>\n",
       "  </tbody>\n",
       "</table>\n",
       "</div>"
      ],
      "text/plain": [
       "         Name  Score  Strategy  Innovation  Member  Resource  Complete  \\\n",
       "0         YT1  82.95     89.17       70.00   81.67     76.67     77.50   \n",
       "1        Liam  79.34     88.83       52.50   86.67     60.00     75.00   \n",
       "2          YC  76.13     86.67       63.33   66.67     55.00     63.33   \n",
       "3   Catherine  76.14     85.83       61.67   64.17     68.33     61.67   \n",
       "4        Moro  74.96     85.83       62.50   65.00     60.83     58.33   \n",
       "5         YT2  79.46     84.17       70.83   80.00     78.33     69.17   \n",
       "6       James  72.03     83.33       51.67   50.00     35.00     57.50   \n",
       "7          KS  73.73     80.00       60.83   67.50     78.33     65.00   \n",
       "8      Angela  68.46     77.50       56.00   66.67     38.33     60.00   \n",
       "9      Daniel  60.40     77.50       25.00   51.67     46.67     41.67   \n",
       "10       Hugh  61.02     75.83       23.33   53.33     41.67     38.33   \n",
       "11        HM2  64.98     75.83       30.00   46.67     46.67     33.33   \n",
       "12         SM  62.33     74.17       35.00   66.67     53.33     45.00   \n",
       "13     Cesare  56.70     64.17       30.00   45.00     38.33     38.33   \n",
       "14     Javier  61.05     59.17       55.00   80.00     63.33     61.67   \n",
       "15     Killer  56.25     57.50       37.50   74.17     51.67     55.83   \n",
       "16         JK  50.67     43.33       37.50   67.50     71.67     62.50   \n",
       "\n",
       "    Report Section Strategy_NEW Section_NEW Resource_NEW Complete_NEW  \\\n",
       "0     7.98       S            A     Segment            H            H   \n",
       "1     7.34       S            A     Segment            M            H   \n",
       "2     6.48       S            A     Segment            L            M   \n",
       "3     6.78       D            A      Domain            M            M   \n",
       "4     6.08       S            A     Segment            M            L   \n",
       "5     7.71       S            A     Segment            H            M   \n",
       "6     6.79     Eco            A         Eco            L            L   \n",
       "7     7.34       D            A      Domain            H            M   \n",
       "8     6.65       D            B      Domain            L            M   \n",
       "9     4.55       S            B     Segment            L            L   \n",
       "10    5.00       D            B      Domain            L            L   \n",
       "11    7.50       S            B     Segment            L            L   \n",
       "12    5.33       S            B     Segment            L            L   \n",
       "13    6.15       S            C     Segment            L            L   \n",
       "14    6.58       S            C     Segment            M            M   \n",
       "15    6.34       S            C     Segment            L            L   \n",
       "16    6.55       D            C      Domain            H            M   \n",
       "\n",
       "   Member_NEW  \n",
       "0           H  \n",
       "1           H  \n",
       "2           M  \n",
       "3           M  \n",
       "4           M  \n",
       "5           H  \n",
       "6           L  \n",
       "7           M  \n",
       "8           M  \n",
       "9           L  \n",
       "10          L  \n",
       "11          L  \n",
       "12          M  \n",
       "13          L  \n",
       "14          H  \n",
       "15          H  \n",
       "16          M  "
      ]
     },
     "execution_count": 39,
     "metadata": {},
     "output_type": "execute_result"
    }
   ],
   "source": [
    "#int_data2[[\"Topics\",\"Name\",\"Score\",\"Strategy\",\"Innovation\",\"Report\",\"Strategy_NEW\",\"Section_NEW\",\"Resource_NEW\",\"Member_NEW\"]]\n",
    "int_data2"
   ]
  },
  {
   "cell_type": "markdown",
   "metadata": {},
   "source": [
    "# Results"
   ]
  },
  {
   "cell_type": "code",
   "execution_count": 40,
   "metadata": {
    "collapsed": true
   },
   "outputs": [],
   "source": [
    "#\n",
    "int_data2[\"PORE_Results\"] = 'Second'\n",
    "#"
   ]
  },
  {
   "cell_type": "code",
   "execution_count": 41,
   "metadata": {},
   "outputs": [
    {
     "name": "stderr",
     "output_type": "stream",
     "text": [
      "/anaconda/envs/py35/lib/python3.5/site-packages/ipykernel_launcher.py:1: SettingWithCopyWarning: \n",
      "A value is trying to be set on a copy of a slice from a DataFrame\n",
      "\n",
      "See the caveats in the documentation: http://pandas.pydata.org/pandas-docs/stable/indexing.html#indexing-view-versus-copy\n",
      "  \"\"\"Entry point for launching an IPython kernel.\n",
      "/anaconda/envs/py35/lib/python3.5/site-packages/ipykernel_launcher.py:2: SettingWithCopyWarning: \n",
      "A value is trying to be set on a copy of a slice from a DataFrame\n",
      "\n",
      "See the caveats in the documentation: http://pandas.pydata.org/pandas-docs/stable/indexing.html#indexing-view-versus-copy\n",
      "  \n"
     ]
    }
   ],
   "source": [
    "int_data2['PORE_Results'][(int_data2.Strategy >= 80) & (int_data2.Innovation >= 70) & (int_data2.Report >= 7)] = 'Pass'\n",
    "int_data2['PORE_Results'][(int_data2.Strategy <  70)] = 'No Pass'"
   ]
  },
  {
   "cell_type": "code",
   "execution_count": 42,
   "metadata": {},
   "outputs": [
    {
     "data": {
      "text/html": [
       "<div>\n",
       "<style>\n",
       "    .dataframe thead tr:only-child th {\n",
       "        text-align: right;\n",
       "    }\n",
       "\n",
       "    .dataframe thead th {\n",
       "        text-align: left;\n",
       "    }\n",
       "\n",
       "    .dataframe tbody tr th {\n",
       "        vertical-align: top;\n",
       "    }\n",
       "</style>\n",
       "<table border=\"1\" class=\"dataframe\">\n",
       "  <thead>\n",
       "    <tr style=\"text-align: right;\">\n",
       "      <th></th>\n",
       "      <th>Name</th>\n",
       "      <th>Score</th>\n",
       "      <th>Strategy</th>\n",
       "      <th>Innovation</th>\n",
       "      <th>Member</th>\n",
       "      <th>Resource</th>\n",
       "      <th>Complete</th>\n",
       "      <th>Report</th>\n",
       "      <th>Section</th>\n",
       "      <th>Strategy_NEW</th>\n",
       "      <th>Section_NEW</th>\n",
       "      <th>Resource_NEW</th>\n",
       "      <th>Complete_NEW</th>\n",
       "      <th>Member_NEW</th>\n",
       "      <th>PORE_Results</th>\n",
       "    </tr>\n",
       "  </thead>\n",
       "  <tbody>\n",
       "    <tr>\n",
       "      <th>0</th>\n",
       "      <td>YT1</td>\n",
       "      <td>82.95</td>\n",
       "      <td>89.17</td>\n",
       "      <td>70.00</td>\n",
       "      <td>81.67</td>\n",
       "      <td>76.67</td>\n",
       "      <td>77.50</td>\n",
       "      <td>7.98</td>\n",
       "      <td>S</td>\n",
       "      <td>A</td>\n",
       "      <td>Segment</td>\n",
       "      <td>H</td>\n",
       "      <td>H</td>\n",
       "      <td>H</td>\n",
       "      <td>Pass</td>\n",
       "    </tr>\n",
       "    <tr>\n",
       "      <th>1</th>\n",
       "      <td>Liam</td>\n",
       "      <td>79.34</td>\n",
       "      <td>88.83</td>\n",
       "      <td>52.50</td>\n",
       "      <td>86.67</td>\n",
       "      <td>60.00</td>\n",
       "      <td>75.00</td>\n",
       "      <td>7.34</td>\n",
       "      <td>S</td>\n",
       "      <td>A</td>\n",
       "      <td>Segment</td>\n",
       "      <td>M</td>\n",
       "      <td>H</td>\n",
       "      <td>H</td>\n",
       "      <td>Second</td>\n",
       "    </tr>\n",
       "    <tr>\n",
       "      <th>2</th>\n",
       "      <td>YC</td>\n",
       "      <td>76.13</td>\n",
       "      <td>86.67</td>\n",
       "      <td>63.33</td>\n",
       "      <td>66.67</td>\n",
       "      <td>55.00</td>\n",
       "      <td>63.33</td>\n",
       "      <td>6.48</td>\n",
       "      <td>S</td>\n",
       "      <td>A</td>\n",
       "      <td>Segment</td>\n",
       "      <td>L</td>\n",
       "      <td>M</td>\n",
       "      <td>M</td>\n",
       "      <td>Second</td>\n",
       "    </tr>\n",
       "    <tr>\n",
       "      <th>3</th>\n",
       "      <td>Catherine</td>\n",
       "      <td>76.14</td>\n",
       "      <td>85.83</td>\n",
       "      <td>61.67</td>\n",
       "      <td>64.17</td>\n",
       "      <td>68.33</td>\n",
       "      <td>61.67</td>\n",
       "      <td>6.78</td>\n",
       "      <td>D</td>\n",
       "      <td>A</td>\n",
       "      <td>Domain</td>\n",
       "      <td>M</td>\n",
       "      <td>M</td>\n",
       "      <td>M</td>\n",
       "      <td>Second</td>\n",
       "    </tr>\n",
       "    <tr>\n",
       "      <th>4</th>\n",
       "      <td>Moro</td>\n",
       "      <td>74.96</td>\n",
       "      <td>85.83</td>\n",
       "      <td>62.50</td>\n",
       "      <td>65.00</td>\n",
       "      <td>60.83</td>\n",
       "      <td>58.33</td>\n",
       "      <td>6.08</td>\n",
       "      <td>S</td>\n",
       "      <td>A</td>\n",
       "      <td>Segment</td>\n",
       "      <td>M</td>\n",
       "      <td>L</td>\n",
       "      <td>M</td>\n",
       "      <td>Second</td>\n",
       "    </tr>\n",
       "    <tr>\n",
       "      <th>5</th>\n",
       "      <td>YT2</td>\n",
       "      <td>79.46</td>\n",
       "      <td>84.17</td>\n",
       "      <td>70.83</td>\n",
       "      <td>80.00</td>\n",
       "      <td>78.33</td>\n",
       "      <td>69.17</td>\n",
       "      <td>7.71</td>\n",
       "      <td>S</td>\n",
       "      <td>A</td>\n",
       "      <td>Segment</td>\n",
       "      <td>H</td>\n",
       "      <td>M</td>\n",
       "      <td>H</td>\n",
       "      <td>Pass</td>\n",
       "    </tr>\n",
       "    <tr>\n",
       "      <th>6</th>\n",
       "      <td>James</td>\n",
       "      <td>72.03</td>\n",
       "      <td>83.33</td>\n",
       "      <td>51.67</td>\n",
       "      <td>50.00</td>\n",
       "      <td>35.00</td>\n",
       "      <td>57.50</td>\n",
       "      <td>6.79</td>\n",
       "      <td>Eco</td>\n",
       "      <td>A</td>\n",
       "      <td>Eco</td>\n",
       "      <td>L</td>\n",
       "      <td>L</td>\n",
       "      <td>L</td>\n",
       "      <td>Second</td>\n",
       "    </tr>\n",
       "    <tr>\n",
       "      <th>7</th>\n",
       "      <td>KS</td>\n",
       "      <td>73.73</td>\n",
       "      <td>80.00</td>\n",
       "      <td>60.83</td>\n",
       "      <td>67.50</td>\n",
       "      <td>78.33</td>\n",
       "      <td>65.00</td>\n",
       "      <td>7.34</td>\n",
       "      <td>D</td>\n",
       "      <td>A</td>\n",
       "      <td>Domain</td>\n",
       "      <td>H</td>\n",
       "      <td>M</td>\n",
       "      <td>M</td>\n",
       "      <td>Second</td>\n",
       "    </tr>\n",
       "    <tr>\n",
       "      <th>8</th>\n",
       "      <td>Angela</td>\n",
       "      <td>68.46</td>\n",
       "      <td>77.50</td>\n",
       "      <td>56.00</td>\n",
       "      <td>66.67</td>\n",
       "      <td>38.33</td>\n",
       "      <td>60.00</td>\n",
       "      <td>6.65</td>\n",
       "      <td>D</td>\n",
       "      <td>B</td>\n",
       "      <td>Domain</td>\n",
       "      <td>L</td>\n",
       "      <td>M</td>\n",
       "      <td>M</td>\n",
       "      <td>Second</td>\n",
       "    </tr>\n",
       "    <tr>\n",
       "      <th>9</th>\n",
       "      <td>Daniel</td>\n",
       "      <td>60.40</td>\n",
       "      <td>77.50</td>\n",
       "      <td>25.00</td>\n",
       "      <td>51.67</td>\n",
       "      <td>46.67</td>\n",
       "      <td>41.67</td>\n",
       "      <td>4.55</td>\n",
       "      <td>S</td>\n",
       "      <td>B</td>\n",
       "      <td>Segment</td>\n",
       "      <td>L</td>\n",
       "      <td>L</td>\n",
       "      <td>L</td>\n",
       "      <td>Second</td>\n",
       "    </tr>\n",
       "    <tr>\n",
       "      <th>10</th>\n",
       "      <td>Hugh</td>\n",
       "      <td>61.02</td>\n",
       "      <td>75.83</td>\n",
       "      <td>23.33</td>\n",
       "      <td>53.33</td>\n",
       "      <td>41.67</td>\n",
       "      <td>38.33</td>\n",
       "      <td>5.00</td>\n",
       "      <td>D</td>\n",
       "      <td>B</td>\n",
       "      <td>Domain</td>\n",
       "      <td>L</td>\n",
       "      <td>L</td>\n",
       "      <td>L</td>\n",
       "      <td>Second</td>\n",
       "    </tr>\n",
       "    <tr>\n",
       "      <th>11</th>\n",
       "      <td>HM2</td>\n",
       "      <td>64.98</td>\n",
       "      <td>75.83</td>\n",
       "      <td>30.00</td>\n",
       "      <td>46.67</td>\n",
       "      <td>46.67</td>\n",
       "      <td>33.33</td>\n",
       "      <td>7.50</td>\n",
       "      <td>S</td>\n",
       "      <td>B</td>\n",
       "      <td>Segment</td>\n",
       "      <td>L</td>\n",
       "      <td>L</td>\n",
       "      <td>L</td>\n",
       "      <td>Second</td>\n",
       "    </tr>\n",
       "    <tr>\n",
       "      <th>12</th>\n",
       "      <td>SM</td>\n",
       "      <td>62.33</td>\n",
       "      <td>74.17</td>\n",
       "      <td>35.00</td>\n",
       "      <td>66.67</td>\n",
       "      <td>53.33</td>\n",
       "      <td>45.00</td>\n",
       "      <td>5.33</td>\n",
       "      <td>S</td>\n",
       "      <td>B</td>\n",
       "      <td>Segment</td>\n",
       "      <td>L</td>\n",
       "      <td>L</td>\n",
       "      <td>M</td>\n",
       "      <td>Second</td>\n",
       "    </tr>\n",
       "    <tr>\n",
       "      <th>13</th>\n",
       "      <td>Cesare</td>\n",
       "      <td>56.70</td>\n",
       "      <td>64.17</td>\n",
       "      <td>30.00</td>\n",
       "      <td>45.00</td>\n",
       "      <td>38.33</td>\n",
       "      <td>38.33</td>\n",
       "      <td>6.15</td>\n",
       "      <td>S</td>\n",
       "      <td>C</td>\n",
       "      <td>Segment</td>\n",
       "      <td>L</td>\n",
       "      <td>L</td>\n",
       "      <td>L</td>\n",
       "      <td>No Pass</td>\n",
       "    </tr>\n",
       "    <tr>\n",
       "      <th>14</th>\n",
       "      <td>Javier</td>\n",
       "      <td>61.05</td>\n",
       "      <td>59.17</td>\n",
       "      <td>55.00</td>\n",
       "      <td>80.00</td>\n",
       "      <td>63.33</td>\n",
       "      <td>61.67</td>\n",
       "      <td>6.58</td>\n",
       "      <td>S</td>\n",
       "      <td>C</td>\n",
       "      <td>Segment</td>\n",
       "      <td>M</td>\n",
       "      <td>M</td>\n",
       "      <td>H</td>\n",
       "      <td>No Pass</td>\n",
       "    </tr>\n",
       "    <tr>\n",
       "      <th>15</th>\n",
       "      <td>Killer</td>\n",
       "      <td>56.25</td>\n",
       "      <td>57.50</td>\n",
       "      <td>37.50</td>\n",
       "      <td>74.17</td>\n",
       "      <td>51.67</td>\n",
       "      <td>55.83</td>\n",
       "      <td>6.34</td>\n",
       "      <td>S</td>\n",
       "      <td>C</td>\n",
       "      <td>Segment</td>\n",
       "      <td>L</td>\n",
       "      <td>L</td>\n",
       "      <td>H</td>\n",
       "      <td>No Pass</td>\n",
       "    </tr>\n",
       "    <tr>\n",
       "      <th>16</th>\n",
       "      <td>JK</td>\n",
       "      <td>50.67</td>\n",
       "      <td>43.33</td>\n",
       "      <td>37.50</td>\n",
       "      <td>67.50</td>\n",
       "      <td>71.67</td>\n",
       "      <td>62.50</td>\n",
       "      <td>6.55</td>\n",
       "      <td>D</td>\n",
       "      <td>C</td>\n",
       "      <td>Domain</td>\n",
       "      <td>H</td>\n",
       "      <td>M</td>\n",
       "      <td>M</td>\n",
       "      <td>No Pass</td>\n",
       "    </tr>\n",
       "  </tbody>\n",
       "</table>\n",
       "</div>"
      ],
      "text/plain": [
       "         Name  Score  Strategy  Innovation  Member  Resource  Complete  \\\n",
       "0         YT1  82.95     89.17       70.00   81.67     76.67     77.50   \n",
       "1        Liam  79.34     88.83       52.50   86.67     60.00     75.00   \n",
       "2          YC  76.13     86.67       63.33   66.67     55.00     63.33   \n",
       "3   Catherine  76.14     85.83       61.67   64.17     68.33     61.67   \n",
       "4        Moro  74.96     85.83       62.50   65.00     60.83     58.33   \n",
       "5         YT2  79.46     84.17       70.83   80.00     78.33     69.17   \n",
       "6       James  72.03     83.33       51.67   50.00     35.00     57.50   \n",
       "7          KS  73.73     80.00       60.83   67.50     78.33     65.00   \n",
       "8      Angela  68.46     77.50       56.00   66.67     38.33     60.00   \n",
       "9      Daniel  60.40     77.50       25.00   51.67     46.67     41.67   \n",
       "10       Hugh  61.02     75.83       23.33   53.33     41.67     38.33   \n",
       "11        HM2  64.98     75.83       30.00   46.67     46.67     33.33   \n",
       "12         SM  62.33     74.17       35.00   66.67     53.33     45.00   \n",
       "13     Cesare  56.70     64.17       30.00   45.00     38.33     38.33   \n",
       "14     Javier  61.05     59.17       55.00   80.00     63.33     61.67   \n",
       "15     Killer  56.25     57.50       37.50   74.17     51.67     55.83   \n",
       "16         JK  50.67     43.33       37.50   67.50     71.67     62.50   \n",
       "\n",
       "    Report Section Strategy_NEW Section_NEW Resource_NEW Complete_NEW  \\\n",
       "0     7.98       S            A     Segment            H            H   \n",
       "1     7.34       S            A     Segment            M            H   \n",
       "2     6.48       S            A     Segment            L            M   \n",
       "3     6.78       D            A      Domain            M            M   \n",
       "4     6.08       S            A     Segment            M            L   \n",
       "5     7.71       S            A     Segment            H            M   \n",
       "6     6.79     Eco            A         Eco            L            L   \n",
       "7     7.34       D            A      Domain            H            M   \n",
       "8     6.65       D            B      Domain            L            M   \n",
       "9     4.55       S            B     Segment            L            L   \n",
       "10    5.00       D            B      Domain            L            L   \n",
       "11    7.50       S            B     Segment            L            L   \n",
       "12    5.33       S            B     Segment            L            L   \n",
       "13    6.15       S            C     Segment            L            L   \n",
       "14    6.58       S            C     Segment            M            M   \n",
       "15    6.34       S            C     Segment            L            L   \n",
       "16    6.55       D            C      Domain            H            M   \n",
       "\n",
       "   Member_NEW PORE_Results  \n",
       "0           H         Pass  \n",
       "1           H       Second  \n",
       "2           M       Second  \n",
       "3           M       Second  \n",
       "4           M       Second  \n",
       "5           H         Pass  \n",
       "6           L       Second  \n",
       "7           M       Second  \n",
       "8           M       Second  \n",
       "9           L       Second  \n",
       "10          L       Second  \n",
       "11          L       Second  \n",
       "12          M       Second  \n",
       "13          L      No Pass  \n",
       "14          H      No Pass  \n",
       "15          H      No Pass  \n",
       "16          M      No Pass  "
      ]
     },
     "execution_count": 42,
     "metadata": {},
     "output_type": "execute_result"
    }
   ],
   "source": [
    "#int_data2[[\"Topics\",\"Name\",\"Score\",\"Strategy\",\"Innovation\",\"Report\",\"Strategy_NEW\",\"Section_NEW\",\"Resource_NEW\",\"Member_NEW\",\"Complete_NEW\",\"PORE_Results\"]]\n",
    "int_data2"
   ]
  },
  {
   "cell_type": "code",
   "execution_count": 43,
   "metadata": {
    "collapsed": true
   },
   "outputs": [],
   "source": [
    "int_data2.to_excel(\"/Users/cesare.chung/Downloads/AR/_PORE_Results.xlsx\", index=True,encoding=\"big5\")"
   ]
  },
  {
   "cell_type": "code",
   "execution_count": 44,
   "metadata": {},
   "outputs": [
    {
     "data": {
      "text/plain": [
       "A    8\n",
       "B    5\n",
       "C    4\n",
       "Name: Strategy_NEW, dtype: int64"
      ]
     },
     "execution_count": 44,
     "metadata": {},
     "output_type": "execute_result"
    }
   ],
   "source": [
    "int_data2['Strategy_NEW'].value_counts()"
   ]
  },
  {
   "cell_type": "code",
   "execution_count": 45,
   "metadata": {},
   "outputs": [
    {
     "data": {
      "image/png": "[encoded data removed]",
      "text/plain": [
       "<matplotlib.figure.Figure at 0x1170d6400>"
      ]
     },
     "metadata": {},
     "output_type": "display_data"
    }
   ],
   "source": [
    "vals = [8, 5, 4]\n",
    "fig, ax = plt.subplots()\n",
    "labels = 'A', 'B', 'C'\n",
    "colors = ['yellowgreen', 'gold', 'lightskyblue']\n",
    "explode = (0.1, 0, 0)\n",
    "\n",
    "ax.pie(vals, explode=explode, labels=labels, colors=colors,autopct='%1.1f%%', shadow=True, startangle=90,radius=1.2)\n",
    "ax.set(aspect=\"equal\", title='Pie plot for Strategy Levels')\n",
    "\n",
    "plt.show()"
   ]
  },
  {
   "cell_type": "code",
   "execution_count": 46,
   "metadata": {},
   "outputs": [
    {
     "data": {
      "text/plain": [
       "Segment    11\n",
       "Domain      5\n",
       "Eco         1\n",
       "Name: Section_NEW, dtype: int64"
      ]
     },
     "execution_count": 46,
     "metadata": {},
     "output_type": "execute_result"
    }
   ],
   "source": [
    "int_data2['Section_NEW'].value_counts()"
   ]
  },
  {
   "cell_type": "code",
   "execution_count": 47,
   "metadata": {},
   "outputs": [
    {
     "data": {
      "image/png": "[encoded data removed]",
      "text/plain": [
       "<matplotlib.figure.Figure at 0x116e28a58>"
      ]
     },
     "metadata": {},
     "output_type": "display_data"
    }
   ],
   "source": [
    "vals = [11, 5, 1]\n",
    "fig, ax = plt.subplots()\n",
    "labels = 'Segment', 'Domain', 'Eco'\n",
    "colors = ['yellowgreen', 'gold', 'lightskyblue']\n",
    "explode = (0.1, 0, 0)\n",
    "\n",
    "ax.pie(vals, explode=explode, labels=labels, colors=colors,autopct='%1.1f%%', shadow=True, startangle=90,radius=1.2)\n",
    "ax.set(aspect=\"equal\", title='Section')\n",
    "\n",
    "plt.show()"
   ]
  },
  {
   "cell_type": "code",
   "execution_count": 48,
   "metadata": {},
   "outputs": [
    {
     "data": {
      "text/plain": [
       "L    9\n",
       "H    4\n",
       "M    4\n",
       "Name: Resource_NEW, dtype: int64"
      ]
     },
     "execution_count": 48,
     "metadata": {},
     "output_type": "execute_result"
    }
   ],
   "source": [
    "int_data2['Resource_NEW'].value_counts()"
   ]
  },
  {
   "cell_type": "code",
   "execution_count": 49,
   "metadata": {},
   "outputs": [
    {
     "data": {
      "image/png": "[encoded data removed]",
      "text/plain": [
       "<matplotlib.figure.Figure at 0x116bf9ac8>"
      ]
     },
     "metadata": {},
     "output_type": "display_data"
    }
   ],
   "source": [
    "vals = [9, 4, 4]\n",
    "fig, ax = plt.subplots()\n",
    "labels = 'L', 'M', 'H'\n",
    "colors = ['yellowgreen', 'gold', 'lightskyblue']\n",
    "explode = (0.1, 0, 0)\n",
    "\n",
    "ax.pie(vals, explode=explode, labels=labels, colors=colors,autopct='%1.1f%%', shadow=True, startangle=90,radius=1.2)\n",
    "ax.set(aspect=\"equal\", title='Pie plot for Resource Levels')\n",
    "\n",
    "plt.show()"
   ]
  },
  {
   "cell_type": "code",
   "execution_count": 50,
   "metadata": {},
   "outputs": [
    {
     "data": {
      "text/plain": [
       "M    7\n",
       "L    5\n",
       "H    5\n",
       "Name: Member_NEW, dtype: int64"
      ]
     },
     "execution_count": 50,
     "metadata": {},
     "output_type": "execute_result"
    }
   ],
   "source": [
    "int_data2['Member_NEW'].value_counts()"
   ]
  },
  {
   "cell_type": "code",
   "execution_count": 51,
   "metadata": {},
   "outputs": [
    {
     "data": {
      "text/plain": [
       "Second     11\n",
       "No Pass     4\n",
       "Pass        2\n",
       "Name: PORE_Results, dtype: int64"
      ]
     },
     "execution_count": 51,
     "metadata": {},
     "output_type": "execute_result"
    }
   ],
   "source": [
    "int_data2.PORE_Results.value_counts()"
   ]
  },
  {
   "cell_type": "code",
   "execution_count": 52,
   "metadata": {},
   "outputs": [
    {
     "data": {
      "image/png": "[encoded data removed]",
      "text/plain": [
       "<matplotlib.figure.Figure at 0x116a95748>"
      ]
     },
     "metadata": {},
     "output_type": "display_data"
    }
   ],
   "source": [
    "vals = [11, 4, 2]\n",
    "fig, ax = plt.subplots()\n",
    "labels = 'Second', 'No Pass', 'Pass'\n",
    "colors = ['yellowgreen', 'gold', 'lightskyblue']\n",
    "explode = (0.1, 0, 0)\n",
    "\n",
    "ax.pie(vals, explode=explode, labels=labels, colors=colors,autopct='%1.1f%%', shadow=True, startangle=90,radius=1.2)\n",
    "ax.set(aspect=\"equal\", title='Pie plot for Result')\n",
    "\n",
    "plt.show()"
   ]
  },
  {
   "cell_type": "code",
   "execution_count": 53,
   "metadata": {},
   "outputs": [
    {
     "data": {
      "text/html": [
       "<div>\n",
       "<style>\n",
       "    .dataframe thead tr:only-child th {\n",
       "        text-align: right;\n",
       "    }\n",
       "\n",
       "    .dataframe thead th {\n",
       "        text-align: left;\n",
       "    }\n",
       "\n",
       "    .dataframe tbody tr th {\n",
       "        vertical-align: top;\n",
       "    }\n",
       "</style>\n",
       "<table border=\"1\" class=\"dataframe\">\n",
       "  <thead>\n",
       "    <tr style=\"text-align: right;\">\n",
       "      <th></th>\n",
       "      <th></th>\n",
       "      <th></th>\n",
       "      <th></th>\n",
       "      <th></th>\n",
       "      <th></th>\n",
       "      <th></th>\n",
       "      <th>Score</th>\n",
       "      <th>Strategy</th>\n",
       "    </tr>\n",
       "    <tr>\n",
       "      <th>PORE_Results</th>\n",
       "      <th>Strategy_NEW</th>\n",
       "      <th>Resource_NEW</th>\n",
       "      <th>Complete_NEW</th>\n",
       "      <th>Name</th>\n",
       "      <th>Member_NEW</th>\n",
       "      <th>Section_NEW</th>\n",
       "      <th></th>\n",
       "      <th></th>\n",
       "    </tr>\n",
       "  </thead>\n",
       "  <tbody>\n",
       "    <tr>\n",
       "      <th rowspan=\"4\" valign=\"top\">No Pass</th>\n",
       "      <th rowspan=\"4\" valign=\"top\">C</th>\n",
       "      <th>H</th>\n",
       "      <th>M</th>\n",
       "      <th>JK</th>\n",
       "      <th>M</th>\n",
       "      <th>Domain</th>\n",
       "      <td>50.67</td>\n",
       "      <td>43.33</td>\n",
       "    </tr>\n",
       "    <tr>\n",
       "      <th rowspan=\"2\" valign=\"top\">L</th>\n",
       "      <th rowspan=\"2\" valign=\"top\">L</th>\n",
       "      <th>Cesare</th>\n",
       "      <th>L</th>\n",
       "      <th>Segment</th>\n",
       "      <td>56.70</td>\n",
       "      <td>64.17</td>\n",
       "    </tr>\n",
       "    <tr>\n",
       "      <th>Killer</th>\n",
       "      <th>H</th>\n",
       "      <th>Segment</th>\n",
       "      <td>56.25</td>\n",
       "      <td>57.50</td>\n",
       "    </tr>\n",
       "    <tr>\n",
       "      <th>M</th>\n",
       "      <th>M</th>\n",
       "      <th>Javier</th>\n",
       "      <th>H</th>\n",
       "      <th>Segment</th>\n",
       "      <td>61.05</td>\n",
       "      <td>59.17</td>\n",
       "    </tr>\n",
       "    <tr>\n",
       "      <th rowspan=\"2\" valign=\"top\">Pass</th>\n",
       "      <th rowspan=\"2\" valign=\"top\">A</th>\n",
       "      <th rowspan=\"2\" valign=\"top\">H</th>\n",
       "      <th>H</th>\n",
       "      <th>YT1</th>\n",
       "      <th>H</th>\n",
       "      <th>Segment</th>\n",
       "      <td>82.95</td>\n",
       "      <td>89.17</td>\n",
       "    </tr>\n",
       "    <tr>\n",
       "      <th>M</th>\n",
       "      <th>YT2</th>\n",
       "      <th>H</th>\n",
       "      <th>Segment</th>\n",
       "      <td>79.46</td>\n",
       "      <td>84.17</td>\n",
       "    </tr>\n",
       "    <tr>\n",
       "      <th rowspan=\"11\" valign=\"top\">Second</th>\n",
       "      <th rowspan=\"6\" valign=\"top\">A</th>\n",
       "      <th>H</th>\n",
       "      <th>M</th>\n",
       "      <th>KS</th>\n",
       "      <th>M</th>\n",
       "      <th>Domain</th>\n",
       "      <td>73.73</td>\n",
       "      <td>80.00</td>\n",
       "    </tr>\n",
       "    <tr>\n",
       "      <th rowspan=\"2\" valign=\"top\">L</th>\n",
       "      <th>L</th>\n",
       "      <th>James</th>\n",
       "      <th>L</th>\n",
       "      <th>Eco</th>\n",
       "      <td>72.03</td>\n",
       "      <td>83.33</td>\n",
       "    </tr>\n",
       "    <tr>\n",
       "      <th>M</th>\n",
       "      <th>YC</th>\n",
       "      <th>M</th>\n",
       "      <th>Segment</th>\n",
       "      <td>76.13</td>\n",
       "      <td>86.67</td>\n",
       "    </tr>\n",
       "    <tr>\n",
       "      <th rowspan=\"3\" valign=\"top\">M</th>\n",
       "      <th>H</th>\n",
       "      <th>Liam</th>\n",
       "      <th>H</th>\n",
       "      <th>Segment</th>\n",
       "      <td>79.34</td>\n",
       "      <td>88.83</td>\n",
       "    </tr>\n",
       "    <tr>\n",
       "      <th>L</th>\n",
       "      <th>Moro</th>\n",
       "      <th>M</th>\n",
       "      <th>Segment</th>\n",
       "      <td>74.96</td>\n",
       "      <td>85.83</td>\n",
       "    </tr>\n",
       "    <tr>\n",
       "      <th>M</th>\n",
       "      <th>Catherine</th>\n",
       "      <th>M</th>\n",
       "      <th>Domain</th>\n",
       "      <td>76.14</td>\n",
       "      <td>85.83</td>\n",
       "    </tr>\n",
       "    <tr>\n",
       "      <th rowspan=\"5\" valign=\"top\">B</th>\n",
       "      <th rowspan=\"5\" valign=\"top\">L</th>\n",
       "      <th rowspan=\"4\" valign=\"top\">L</th>\n",
       "      <th>Daniel</th>\n",
       "      <th>L</th>\n",
       "      <th>Segment</th>\n",
       "      <td>60.40</td>\n",
       "      <td>77.50</td>\n",
       "    </tr>\n",
       "    <tr>\n",
       "      <th>HM2</th>\n",
       "      <th>L</th>\n",
       "      <th>Segment</th>\n",
       "      <td>64.98</td>\n",
       "      <td>75.83</td>\n",
       "    </tr>\n",
       "    <tr>\n",
       "      <th>Hugh</th>\n",
       "      <th>L</th>\n",
       "      <th>Domain</th>\n",
       "      <td>61.02</td>\n",
       "      <td>75.83</td>\n",
       "    </tr>\n",
       "    <tr>\n",
       "      <th>SM</th>\n",
       "      <th>M</th>\n",
       "      <th>Segment</th>\n",
       "      <td>62.33</td>\n",
       "      <td>74.17</td>\n",
       "    </tr>\n",
       "    <tr>\n",
       "      <th>M</th>\n",
       "      <th>Angela</th>\n",
       "      <th>M</th>\n",
       "      <th>Domain</th>\n",
       "      <td>68.46</td>\n",
       "      <td>77.50</td>\n",
       "    </tr>\n",
       "  </tbody>\n",
       "</table>\n",
       "</div>"
      ],
      "text/plain": [
       "                                                                                      Score  \\\n",
       "PORE_Results Strategy_NEW Resource_NEW Complete_NEW Name      Member_NEW Section_NEW          \n",
       "No Pass      C            H            M            JK        M          Domain       50.67   \n",
       "                          L            L            Cesare    L          Segment      56.70   \n",
       "                                                    Killer    H          Segment      56.25   \n",
       "                          M            M            Javier    H          Segment      61.05   \n",
       "Pass         A            H            H            YT1       H          Segment      82.95   \n",
       "                                       M            YT2       H          Segment      79.46   \n",
       "Second       A            H            M            KS        M          Domain       73.73   \n",
       "                          L            L            James     L          Eco          72.03   \n",
       "                                       M            YC        M          Segment      76.13   \n",
       "                          M            H            Liam      H          Segment      79.34   \n",
       "                                       L            Moro      M          Segment      74.96   \n",
       "                                       M            Catherine M          Domain       76.14   \n",
       "             B            L            L            Daniel    L          Segment      60.40   \n",
       "                                                    HM2       L          Segment      64.98   \n",
       "                                                    Hugh      L          Domain       61.02   \n",
       "                                                    SM        M          Segment      62.33   \n",
       "                                       M            Angela    M          Domain       68.46   \n",
       "\n",
       "                                                                                      Strategy  \n",
       "PORE_Results Strategy_NEW Resource_NEW Complete_NEW Name      Member_NEW Section_NEW            \n",
       "No Pass      C            H            M            JK        M          Domain          43.33  \n",
       "                          L            L            Cesare    L          Segment         64.17  \n",
       "                                                    Killer    H          Segment         57.50  \n",
       "                          M            M            Javier    H          Segment         59.17  \n",
       "Pass         A            H            H            YT1       H          Segment         89.17  \n",
       "                                       M            YT2       H          Segment         84.17  \n",
       "Second       A            H            M            KS        M          Domain          80.00  \n",
       "                          L            L            James     L          Eco             83.33  \n",
       "                                       M            YC        M          Segment         86.67  \n",
       "                          M            H            Liam      H          Segment         88.83  \n",
       "                                       L            Moro      M          Segment         85.83  \n",
       "                                       M            Catherine M          Domain          85.83  \n",
       "             B            L            L            Daniel    L          Segment         77.50  \n",
       "                                                    HM2       L          Segment         75.83  \n",
       "                                                    Hugh      L          Domain          75.83  \n",
       "                                                    SM        M          Segment         74.17  \n",
       "                                       M            Angela    M          Domain          77.50  "
      ]
     },
     "execution_count": 53,
     "metadata": {},
     "output_type": "execute_result"
    }
   ],
   "source": [
    "#tempp=pd.pivot_table(int_data2, index=(\"Strategy_NEW\",\"Resource_NEW\",\"PORE_Results\",\"Name\",\"Topics\",\"Section_NEW\"), values=['Strategy','Score'])\n",
    "#tempp=pd.pivot_table(int_data2, index=(\"PORE_Results\",\"Strategy_NEW\",\"Resource_NEW\",\"Name\",\"Topics\",\"Member_NEW\",\"Section_NEW\"), values=['Strategy','Score'])\n",
    "tempp=pd.pivot_table(int_data2, index=(\"PORE_Results\",\"Strategy_NEW\",\"Resource_NEW\",\"Complete_NEW\",\"Name\",\"Member_NEW\",\"Section_NEW\"), values=['Strategy','Score'])\n",
    "#tempp=pd.pivot_table(int_data2, index=(\"PORE_Results\",\"Strategy_NEW\",\"Complete_NEW\",\"Name\",\"Topics\",\"Member_NEW\",\"Section_NEW\"), values=['Strategy','Score'])\n",
    "tempp"
   ]
  },
  {
   "cell_type": "code",
   "execution_count": 54,
   "metadata": {
    "collapsed": true
   },
   "outputs": [],
   "source": [
    "tempp.to_excel(\"/Users/cesare.chung/Downloads/AR/_PORE_Second.xlsx\", index=True,encoding=\"big5\")"
   ]
  },
  {
   "cell_type": "markdown",
   "metadata": {},
   "source": [
    "# Subset"
   ]
  },
  {
   "cell_type": "code",
   "execution_count": 55,
   "metadata": {},
   "outputs": [
    {
     "data": {
      "text/html": [
       "<div>\n",
       "<style>\n",
       "    .dataframe thead tr:only-child th {\n",
       "        text-align: right;\n",
       "    }\n",
       "\n",
       "    .dataframe thead th {\n",
       "        text-align: left;\n",
       "    }\n",
       "\n",
       "    .dataframe tbody tr th {\n",
       "        vertical-align: top;\n",
       "    }\n",
       "</style>\n",
       "<table border=\"1\" class=\"dataframe\">\n",
       "  <thead>\n",
       "    <tr style=\"text-align: right;\">\n",
       "      <th></th>\n",
       "      <th>Name</th>\n",
       "      <th>Score</th>\n",
       "      <th>Strategy</th>\n",
       "      <th>Innovation</th>\n",
       "      <th>Member</th>\n",
       "      <th>Resource</th>\n",
       "      <th>Complete</th>\n",
       "      <th>Report</th>\n",
       "      <th>Section</th>\n",
       "      <th>Strategy_NEW</th>\n",
       "      <th>Section_NEW</th>\n",
       "      <th>Resource_NEW</th>\n",
       "      <th>Complete_NEW</th>\n",
       "      <th>Member_NEW</th>\n",
       "      <th>PORE_Results</th>\n",
       "    </tr>\n",
       "  </thead>\n",
       "  <tbody>\n",
       "    <tr>\n",
       "      <th>0</th>\n",
       "      <td>YT1</td>\n",
       "      <td>82.95</td>\n",
       "      <td>89.17</td>\n",
       "      <td>70.00</td>\n",
       "      <td>81.67</td>\n",
       "      <td>76.67</td>\n",
       "      <td>77.50</td>\n",
       "      <td>7.98</td>\n",
       "      <td>S</td>\n",
       "      <td>A</td>\n",
       "      <td>Segment</td>\n",
       "      <td>H</td>\n",
       "      <td>H</td>\n",
       "      <td>H</td>\n",
       "      <td>Pass</td>\n",
       "    </tr>\n",
       "    <tr>\n",
       "      <th>5</th>\n",
       "      <td>YT2</td>\n",
       "      <td>79.46</td>\n",
       "      <td>84.17</td>\n",
       "      <td>70.83</td>\n",
       "      <td>80.00</td>\n",
       "      <td>78.33</td>\n",
       "      <td>69.17</td>\n",
       "      <td>7.71</td>\n",
       "      <td>S</td>\n",
       "      <td>A</td>\n",
       "      <td>Segment</td>\n",
       "      <td>H</td>\n",
       "      <td>M</td>\n",
       "      <td>H</td>\n",
       "      <td>Pass</td>\n",
       "    </tr>\n",
       "  </tbody>\n",
       "</table>\n",
       "</div>"
      ],
      "text/plain": [
       "  Name  Score  Strategy  Innovation  Member  Resource  Complete  Report  \\\n",
       "0  YT1  82.95     89.17       70.00   81.67     76.67     77.50    7.98   \n",
       "5  YT2  79.46     84.17       70.83   80.00     78.33     69.17    7.71   \n",
       "\n",
       "  Section Strategy_NEW Section_NEW Resource_NEW Complete_NEW Member_NEW  \\\n",
       "0       S            A     Segment            H            H          H   \n",
       "5       S            A     Segment            H            M          H   \n",
       "\n",
       "  PORE_Results  \n",
       "0         Pass  \n",
       "5         Pass  "
      ]
     },
     "execution_count": 55,
     "metadata": {},
     "output_type": "execute_result"
    }
   ],
   "source": [
    "int_data_Strategy = int_data2[(int_data2.Strategy >= 80) & (int_data2.Innovation >= 70 ) & (int_data2.Report >= 7)]\n",
    "int_data_Strategy = int_data_Strategy.sort_values('Strategy', ascending=False)\n",
    "int_data_Strategy"
   ]
  },
  {
   "cell_type": "markdown",
   "metadata": {},
   "source": [
    "# Plotting"
   ]
  },
  {
   "cell_type": "code",
   "execution_count": 56,
   "metadata": {},
   "outputs": [
    {
     "data": {
      "text/plain": [
       "array([[<matplotlib.axes._subplots.AxesSubplot object at 0x116ebe160>,\n",
       "        <matplotlib.axes._subplots.AxesSubplot object at 0x116e37f28>,\n",
       "        <matplotlib.axes._subplots.AxesSubplot object at 0x116a476d8>,\n",
       "        <matplotlib.axes._subplots.AxesSubplot object at 0x116bd0550>,\n",
       "        <matplotlib.axes._subplots.AxesSubplot object at 0x116a24358>,\n",
       "        <matplotlib.axes._subplots.AxesSubplot object at 0x116c55b00>,\n",
       "        <matplotlib.axes._subplots.AxesSubplot object at 0x116c9ceb8>],\n",
       "       [<matplotlib.axes._subplots.AxesSubplot object at 0x11705bcc0>,\n",
       "        <matplotlib.axes._subplots.AxesSubplot object at 0x1171a8a58>,\n",
       "        <matplotlib.axes._subplots.AxesSubplot object at 0x1171b72e8>,\n",
       "        <matplotlib.axes._subplots.AxesSubplot object at 0x117244a90>,\n",
       "        <matplotlib.axes._subplots.AxesSubplot object at 0x11728ce10>,\n",
       "        <matplotlib.axes._subplots.AxesSubplot object at 0x1172e1be0>,\n",
       "        <matplotlib.axes._subplots.AxesSubplot object at 0x116f5b5c0>],\n",
       "       [<matplotlib.axes._subplots.AxesSubplot object at 0x116a16ba8>,\n",
       "        <matplotlib.axes._subplots.AxesSubplot object at 0x116b324a8>,\n",
       "        <matplotlib.axes._subplots.AxesSubplot object at 0x116e42f98>,\n",
       "        <matplotlib.axes._subplots.AxesSubplot object at 0x116e317f0>,\n",
       "        <matplotlib.axes._subplots.AxesSubplot object at 0x11732d278>,\n",
       "        <matplotlib.axes._subplots.AxesSubplot object at 0x1170150f0>,\n",
       "        <matplotlib.axes._subplots.AxesSubplot object at 0x11701f240>],\n",
       "       [<matplotlib.axes._subplots.AxesSubplot object at 0x11a4e20b8>,\n",
       "        <matplotlib.axes._subplots.AxesSubplot object at 0x11a525588>,\n",
       "        <matplotlib.axes._subplots.AxesSubplot object at 0x11a57c208>,\n",
       "        <matplotlib.axes._subplots.AxesSubplot object at 0x11a5c7588>,\n",
       "        <matplotlib.axes._subplots.AxesSubplot object at 0x11a61dfd0>,\n",
       "        <matplotlib.axes._subplots.AxesSubplot object at 0x11a66c710>,\n",
       "        <matplotlib.axes._subplots.AxesSubplot object at 0x11a69b518>],\n",
       "       [<matplotlib.axes._subplots.AxesSubplot object at 0x11a7081d0>,\n",
       "        <matplotlib.axes._subplots.AxesSubplot object at 0x11a713320>,\n",
       "        <matplotlib.axes._subplots.AxesSubplot object at 0x11a7a4320>,\n",
       "        <matplotlib.axes._subplots.AxesSubplot object at 0x11a7ea668>,\n",
       "        <matplotlib.axes._subplots.AxesSubplot object at 0x11a83f470>,\n",
       "        <matplotlib.axes._subplots.AxesSubplot object at 0x11a8776a0>,\n",
       "        <matplotlib.axes._subplots.AxesSubplot object at 0x11a8d29e8>],\n",
       "       [<matplotlib.axes._subplots.AxesSubplot object at 0x11a918a20>,\n",
       "        <matplotlib.axes._subplots.AxesSubplot object at 0x11a96cdd8>,\n",
       "        <matplotlib.axes._subplots.AxesSubplot object at 0x11a9c1cc0>,\n",
       "        <matplotlib.axes._subplots.AxesSubplot object at 0x11a9ed9b0>,\n",
       "        <matplotlib.axes._subplots.AxesSubplot object at 0x11aa5c780>,\n",
       "        <matplotlib.axes._subplots.AxesSubplot object at 0x11aa678d0>,\n",
       "        <matplotlib.axes._subplots.AxesSubplot object at 0x11aaf88d0>],\n",
       "       [<matplotlib.axes._subplots.AxesSubplot object at 0x11ab3cc18>,\n",
       "        <matplotlib.axes._subplots.AxesSubplot object at 0x11ab92a20>,\n",
       "        <matplotlib.axes._subplots.AxesSubplot object at 0x11abdcc18>,\n",
       "        <matplotlib.axes._subplots.AxesSubplot object at 0x11ac3a6a0>,\n",
       "        <matplotlib.axes._subplots.AxesSubplot object at 0x11ac84da0>,\n",
       "        <matplotlib.axes._subplots.AxesSubplot object at 0x11acb3ba8>,\n",
       "        <matplotlib.axes._subplots.AxesSubplot object at 0x11ad22860>]], dtype=object)"
      ]
     },
     "execution_count": 56,
     "metadata": {},
     "output_type": "execute_result"
    },
    {
     "data": {
      "image/png": "[encoded data removed]",
      "text/plain": [
       "<matplotlib.figure.Figure at 0x116e18eb8>"
      ]
     },
     "metadata": {},
     "output_type": "display_data"
    }
   ],
   "source": [
    "from pandas.plotting import scatter_matrix\n",
    "\n",
    "attributes = [\"Score\", \"Strategy\", \"Innovation\",\"Report\",\"Resource\",\"Member\",\"Complete\"]\n",
    "scatter_matrix(int_data2[attributes], figsize=(12, 8))"
   ]
  },
  {
   "cell_type": "code",
   "execution_count": 57,
   "metadata": {
    "collapsed": true
   },
   "outputs": [],
   "source": [
    "corr_matrix = int_data2.corr()"
   ]
  },
  {
   "cell_type": "code",
   "execution_count": 58,
   "metadata": {},
   "outputs": [
    {
     "data": {
      "text/plain": [
       "Score         1.000000\n",
       "Strategy      0.894465\n",
       "Innovation    0.813168\n",
       "Complete      0.639922\n",
       "Report        0.585208\n",
       "Member        0.424530\n",
       "Resource      0.409003\n",
       "Name: Score, dtype: float64"
      ]
     },
     "execution_count": 58,
     "metadata": {},
     "output_type": "execute_result"
    }
   ],
   "source": [
    "corr_matrix[\"Score\"].sort_values(ascending=False)"
   ]
  },
  {
   "cell_type": "code",
   "execution_count": 59,
   "metadata": {},
   "outputs": [
    {
     "data": {
      "text/plain": [
       "Innovation    1.000000\n",
       "Complete      0.848277\n",
       "Score         0.813168\n",
       "Report        0.671820\n",
       "Member        0.630433\n",
       "Resource      0.613776\n",
       "Strategy      0.515632\n",
       "Name: Innovation, dtype: float64"
      ]
     },
     "execution_count": 59,
     "metadata": {},
     "output_type": "execute_result"
    }
   ],
   "source": [
    "corr_matrix[\"Innovation\"].sort_values(ascending=False)"
   ]
  },
  {
   "cell_type": "code",
   "execution_count": 60,
   "metadata": {},
   "outputs": [
    {
     "data": {
      "text/plain": [
       "Complete      1.000000\n",
       "Innovation    0.848277\n",
       "Member        0.840684\n",
       "Resource      0.680716\n",
       "Score         0.639922\n",
       "Report        0.635863\n",
       "Strategy      0.283419\n",
       "Name: Complete, dtype: float64"
      ]
     },
     "execution_count": 60,
     "metadata": {},
     "output_type": "execute_result"
    }
   ],
   "source": [
    "corr_matrix[\"Complete\"].sort_values(ascending=False)"
   ]
  },
  {
   "cell_type": "code",
   "execution_count": 65,
   "metadata": {},
   "outputs": [
    {
     "data": {
      "image/png": "[encoded data removed]",
      "text/plain": [
       "<matplotlib.figure.Figure at 0x11d553da0>"
      ]
     },
     "metadata": {},
     "output_type": "display_data"
    }
   ],
   "source": [
    "import seaborn as sns\n",
    "\n",
    "cols = [\"Score\", \"Strategy\", \"Innovation\",\"Report\",\"Resource\",\"Member\",\"Complete\"]\n",
    "cm = np.corrcoef(int_data2[cols].values.T)\n",
    "sns.set(font_scale=1.5)\n",
    "hm = sns.heatmap(cm,\n",
    "                 cbar=True,\n",
    "                 annot=True,\n",
    "                 square=True,\n",
    "                 fmt='.2f',\n",
    "                 annot_kws={'size': 15},\n",
    "                 yticklabels=cols,\n",
    "                 xticklabels=cols)\n",
    "plt.show()"
   ]
  },
  {
   "cell_type": "code",
   "execution_count": 67,
   "metadata": {},
   "outputs": [
    {
     "data": {
      "image/png": "[encoded data removed]",
      "text/plain": [
       "<matplotlib.figure.Figure at 0x11e11db00>"
      ]
     },
     "metadata": {},
     "output_type": "display_data"
    }
   ],
   "source": [
    "with plt.xkcd():\n",
    "    plt.plot( int_data2.Strategy, int_data2.Score, \"ro\")\n",
    "\n",
    "    bbox_props = dict(boxstyle=\"round,pad=0.3\", ec=\"b\", lw=2, fc=\"lightblue\")\n",
    "    plt.text(60, 65, \"Corr. :  $\\,\\sim\\, 0.9$\", bbox=bbox_props, ha=\"right\")\n",
    "    \n",
    "    bbox_props = dict(boxstyle=\"round4,pad=1,rounding_size=0.2\", ec=\"black\", fc=\"#EEEEFF\", lw=5)\n",
    "    plt.text(60, 75, \"Scatter Plot\\n$y = f(x)$\", fontsize=20, color='black', ha=\"center\", bbox=bbox_props)\n",
    " \n",
    "    plt.xlabel(\"Strategy\")\n",
    "    plt.ylabel(\"Score\")\n",
    "\n",
    "    plt.show()"
   ]
  },
  {
   "cell_type": "code",
   "execution_count": 68,
   "metadata": {},
   "outputs": [
    {
     "data": {
      "image/png": "[encoded data removed]",
      "text/plain": [
       "<matplotlib.figure.Figure at 0x11b236390>"
      ]
     },
     "metadata": {},
     "output_type": "display_data"
    }
   ],
   "source": [
    "%matplotlib inline\n",
    "import matplotlib.pyplot as plt\n",
    "#int_data2.plot(kind = \"scatter\", x = \"Strategy\", y = \"Report\", s=[40, 120, 200])\n",
    "\n",
    "int_data2.plot(kind = \"scatter\", x = \"Strategy\", y = \"Score\")\n",
    "#int_data2.plot(kind = \"scatter\", x = \"Strategy\", y = \"Report\")\n",
    "#int_data2.plot(kind = \"scatter\", x = \"Strategy\", y = \"Innovation\")\n",
    "\n",
    "plt.show()"
   ]
  },
  {
   "cell_type": "code",
   "execution_count": 62,
   "metadata": {},
   "outputs": [
    {
     "data": {
      "image/png": "[encoded data removed]",
      "text/plain": [
       "<matplotlib.figure.Figure at 0x11b2166d8>"
      ]
     },
     "metadata": {},
     "output_type": "display_data"
    }
   ],
   "source": [
    "#int_data2.plot(kind=\"bar\")\n",
    "int_data2[['Score','Strategy','Resource']].sort_values('Strategy', ascending=False).plot(kind=\"bar\")\n",
    "\n",
    "plt.grid(True)\n",
    "plt.show()"
   ]
  },
  {
   "cell_type": "code",
   "execution_count": 63,
   "metadata": {},
   "outputs": [
    {
     "data": {
      "image/png": "[encoded data removed]",
      "text/plain": [
       "<matplotlib.figure.Figure at 0x11b424fd0>"
      ]
     },
     "metadata": {},
     "output_type": "display_data"
    },
    {
     "data": {
      "image/png": "[encoded data removed]",
      "text/plain": [
       "<matplotlib.figure.Figure at 0x11b420ba8>"
      ]
     },
     "metadata": {},
     "output_type": "display_data"
    },
    {
     "data": {
      "image/png": "[encoded data removed]",
      "text/plain": [
       "<matplotlib.figure.Figure at 0x11b4209b0>"
      ]
     },
     "metadata": {},
     "output_type": "display_data"
    }
   ],
   "source": [
    "#\n",
    "h = int_data2.sort_values('Strategy', ascending=False).groupby(['Strategy_NEW'])\n",
    "h['Score','Strategy','Resource'].plot(kind=\"bar\")\n",
    "#\n",
    "plt.grid(True)\n",
    "plt.show()"
   ]
  },
  {
   "cell_type": "code",
   "execution_count": null,
   "metadata": {
    "collapsed": true
   },
   "outputs": [],
   "source": []
  }
 ],
 "metadata": {
  "kernelspec": {
   "display_name": "Python 3",
   "language": "python",
   "name": "python3"
  },
  "language_info": {
   "codemirror_mode": {
    "name": "ipython",
    "version": 3
   },
   "file_extension": ".py",
   "mimetype": "text/x-python",
   "name": "python",
   "nbconvert_exporter": "python",
   "pygments_lexer": "ipython3",
   "version": "3.5.3"
  }
 },
 "nbformat": 4,
 "nbformat_minor": 2
}
