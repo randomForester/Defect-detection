{
 "cells": [
  {
   "cell_type": "code",
   "execution_count": 1,
   "metadata": {
    "collapsed": true
   },
   "outputs": [],
   "source": [
    "#%matplotlib\n",
    "%matplotlib inline\n",
    "import pandas as pd\n",
    "import numpy as np\n",
    "import matplotlib as plt\n",
    "import matplotlib.pyplot as plt\n",
    "import seaborn as sns\n",
    "from pandas.tools.plotting import scatter_matrix\n",
    "#matplotlib.style.use('ggplot')"
   ]
  },
  {
   "cell_type": "code",
   "execution_count": 2,
   "metadata": {},
   "outputs": [
    {
     "name": "stdout",
     "output_type": "stream",
     "text": [
      "/Users/cesare.chung/Dropbox/2017ML/CHPT-NTHU/Working_Directory_/Rcode/AU2/ENIG\n"
     ]
    }
   ],
   "source": [
    "import os;\n",
    "os.chdir(\"/Users/cesare.chung/Dropbox/2017ML/CHPT-NTHU/Working_Directory_/Rcode/AU2/ENIG/\")\n",
    "print (os.getcwd())"
   ]
  },
  {
   "cell_type": "code",
   "execution_count": 3,
   "metadata": {
    "collapsed": true
   },
   "outputs": [],
   "source": [
    "df = pd.read_csv(\"ENIG.csv\",encoding=\"latin-1\")\n"
   ]
  },
  {
   "cell_type": "code",
   "execution_count": 4,
   "metadata": {
    "collapsed": true
   },
   "outputs": [],
   "source": [
    "df.drop(['WORK_TYPE'], axis=1, inplace=True)\n",
    "\n",
    "df=df[['MACHINE_ID','EVENTDATETIME','END_TIME','IN_TIME','PART_NUMBER','LOTNO','QUANTITY','TARGET_NO','AREA','ERP_EFrontareaSQ',\n",
    "       'ERP_EBackareaSQ','GOLD_TIME','AC_GOLD_TIME','PRESENT_DIPPING_12','PRESENT_DIPPING_13','PRESENT_DIPPING_21','PRESENT_DIPPING_22',\n",
    "       'PRESENT_DIPPING_26','PRESENT_DIPPING_27','PRESENT_DIPPING_31','PRESENT_DIPPING_32','TEMPERATURE_12','TEMPERATURE_13',\n",
    "       'TEMPERATURE_21','TEMPERATURE_22','TEMPERATURE_26','TEMPERATURE_27','TEMPERATURE_31','TEMPERATURE_32','HEATING_31','HEATING_32',\n",
    "       'HEATING_21','HEATING_22','CONDUCTIVITY_20','CONDUCTIVITY_23','CONDUCTIVITY_25','CONDUCTIVITY_30','CONDUCTIVITY_35',\n",
    "       'ERP_EAuThick','AUTHICK_01','AUTHICK_02','AUTHICK_03','AUTHICK_04','AUTHICK_05']]"
   ]
  },
  {
   "cell_type": "code",
   "execution_count": 5,
   "metadata": {
    "collapsed": true
   },
   "outputs": [],
   "source": [
    "#\n",
    "def NAFUN (xx):\n",
    " if xx == 0:\n",
    "    return('nan')\n",
    " else:\n",
    "     return(xx)\n",
    "#     \n"
   ]
  },
  {
   "cell_type": "code",
   "execution_count": 6,
   "metadata": {
    "collapsed": true
   },
   "outputs": [],
   "source": [
    "df2=pd.DataFrame({'New_AUTHICK_01':df['AUTHICK_01'].apply(NAFUN),'New_AUTHICK_02':df['AUTHICK_02'].apply(NAFUN),'New_AUTHICK_03':df['AUTHICK_03'].apply(NAFUN),\n",
    "                  'New_AUTHICK_04':df['AUTHICK_04'].apply(NAFUN),'New_AUTHICK_05':df['AUTHICK_05'].apply(NAFUN)})"
   ]
  },
  {
   "cell_type": "code",
   "execution_count": 7,
   "metadata": {
    "collapsed": true
   },
   "outputs": [],
   "source": [
    "#\n",
    "df = pd.merge(df, df2, left_index = True, right_index = True)\n",
    "#\n",
    "#df.dtypes"
   ]
  },
  {
   "cell_type": "code",
   "execution_count": 8,
   "metadata": {
    "collapsed": true
   },
   "outputs": [],
   "source": [
    "#df.head()\n"
   ]
  },
  {
   "cell_type": "code",
   "execution_count": 9,
   "metadata": {
    "collapsed": true
   },
   "outputs": [],
   "source": [
    "#\n",
    "AUT = ['New_AUTHICK_01','New_AUTHICK_02','New_AUTHICK_03','New_AUTHICK_04','New_AUTHICK_05']\n",
    "\n",
    "for i in AUT:\n",
    "    df[i]=df[i].astype('float64')\n"
   ]
  },
  {
   "cell_type": "code",
   "execution_count": 10,
   "metadata": {
    "collapsed": true
   },
   "outputs": [],
   "source": [
    "#\n",
    "df['AuThick_Average']=df[['New_AUTHICK_01','New_AUTHICK_02','New_AUTHICK_03','New_AUTHICK_04','New_AUTHICK_05']].mean(axis=1)\n"
   ]
  },
  {
   "cell_type": "code",
   "execution_count": 11,
   "metadata": {
    "collapsed": true
   },
   "outputs": [],
   "source": [
    "# REMOVE NA\n",
    "df = df[df.AuThick_Average.notnull()]\n",
    "#\n",
    "df['AuThick_Average'].describe()\n",
    "df.drop(['AUTHICK_01','AUTHICK_02','AUTHICK_03','AUTHICK_04','AUTHICK_05'], axis=1, inplace=True)\n"
   ]
  },
  {
   "cell_type": "code",
   "execution_count": 12,
   "metadata": {
    "collapsed": true
   },
   "outputs": [],
   "source": [
    "#df.head()\n"
   ]
  },
  {
   "cell_type": "code",
   "execution_count": 13,
   "metadata": {
    "collapsed": true
   },
   "outputs": [],
   "source": [
    "############################################################# MES\n",
    "#TIME\n",
    "df['TIME1213'] = df[['PRESENT_DIPPING_12','PRESENT_DIPPING_13']].sum(axis=1)\n",
    "df['TIME2122'] = df[['PRESENT_DIPPING_21','PRESENT_DIPPING_22']].sum(axis=1)\n",
    "df['TIME2627'] = df[['PRESENT_DIPPING_26','PRESENT_DIPPING_27']].sum(axis=1)\n",
    "df['TIME3132'] = df[['PRESENT_DIPPING_31','PRESENT_DIPPING_32']].sum(axis=1)   #0\n",
    "#TEMPERATURE\n",
    "df['TEMPERATURE1213'] = df[['TEMPERATURE_12','TEMPERATURE_13']].sum(axis=1)\n",
    "df['TEMPERATURE2122'] = df[['TEMPERATURE_21','TEMPERATURE_22']].sum(axis=1)\n",
    "df['TEMPERATURE2627'] = df[['TEMPERATURE_26','TEMPERATURE_27']].sum(axis=1)\n",
    "df['TEMPERATURE3132'] = df[['TEMPERATURE_31','TEMPERATURE_32']].sum(axis=1)    #86.8\n",
    "\n",
    "df['HEATING2122'] = df[['HEATING_21','HEATING_22']].sum(axis=1)\n",
    "df['HEATING3132'] = df[['HEATING_31','HEATING_32']].sum(axis=1)\n"
   ]
  },
  {
   "cell_type": "code",
   "execution_count": 14,
   "metadata": {
    "collapsed": true
   },
   "outputs": [],
   "source": [
    "#Neglect data TIME3132 < 600\n",
    "df=df[df['TIME3132']>600]\n"
   ]
  },
  {
   "cell_type": "code",
   "execution_count": 15,
   "metadata": {},
   "outputs": [
    {
     "data": {
      "text/html": [
       "<div>\n",
       "<style>\n",
       "    .dataframe thead tr:only-child th {\n",
       "        text-align: right;\n",
       "    }\n",
       "\n",
       "    .dataframe thead th {\n",
       "        text-align: left;\n",
       "    }\n",
       "\n",
       "    .dataframe tbody tr th {\n",
       "        vertical-align: top;\n",
       "    }\n",
       "</style>\n",
       "<table border=\"1\" class=\"dataframe\">\n",
       "  <thead>\n",
       "    <tr style=\"text-align: right;\">\n",
       "      <th></th>\n",
       "      <th>TEMPERATURE_31</th>\n",
       "      <th>TEMPERATURE_32</th>\n",
       "    </tr>\n",
       "  </thead>\n",
       "  <tbody>\n",
       "    <tr>\n",
       "      <th>0</th>\n",
       "      <td>0.0</td>\n",
       "      <td>51.1</td>\n",
       "    </tr>\n",
       "    <tr>\n",
       "      <th>1</th>\n",
       "      <td>0.0</td>\n",
       "      <td>51.2</td>\n",
       "    </tr>\n",
       "    <tr>\n",
       "      <th>3</th>\n",
       "      <td>0.0</td>\n",
       "      <td>51.2</td>\n",
       "    </tr>\n",
       "    <tr>\n",
       "      <th>5</th>\n",
       "      <td>0.0</td>\n",
       "      <td>51.1</td>\n",
       "    </tr>\n",
       "    <tr>\n",
       "      <th>6</th>\n",
       "      <td>0.0</td>\n",
       "      <td>51.1</td>\n",
       "    </tr>\n",
       "  </tbody>\n",
       "</table>\n",
       "</div>"
      ],
      "text/plain": [
       "   TEMPERATURE_31  TEMPERATURE_32\n",
       "0             0.0            51.1\n",
       "1             0.0            51.2\n",
       "3             0.0            51.2\n",
       "5             0.0            51.1\n",
       "6             0.0            51.1"
      ]
     },
     "execution_count": 15,
     "metadata": {},
     "output_type": "execute_result"
    }
   ],
   "source": [
    "df[['TEMPERATURE_31','TEMPERATURE_32']][(df.TEMPERATURE_31>0)&(df.TEMPERATURE_32>0)]\n",
    "df[['TEMPERATURE_31','TEMPERATURE_32']].head()"
   ]
  },
  {
   "cell_type": "code",
   "execution_count": 16,
   "metadata": {},
   "outputs": [
    {
     "data": {
      "text/plain": [
       "count    399.000000\n",
       "mean       0.079227\n",
       "std        0.072290\n",
       "min        0.000000\n",
       "25%        0.026962\n",
       "50%        0.053153\n",
       "75%        0.106915\n",
       "max        0.439027\n",
       "Name: VOLAPP, dtype: float64"
      ]
     },
     "execution_count": 16,
     "metadata": {},
     "output_type": "execute_result"
    }
   ],
   "source": [
    "#\n",
    "############################################################# MES\n",
    "# VOLUMN # inch^3 ==> cm^3\n",
    "df['VOLAPP'] = df['AuThick_Average'] * df['AREA'] \n",
    "#df.loc[:, 'VOLAPP'] *= pow(2.54,3) * pow(10,-6)    ## cm^3\n",
    "df['VOLAPP'] = df['VOLAPP'].apply(lambda x: x*pow(2.54,3) * pow(10,-6))   ## cm^3\n",
    "df['VOLAPP'].describe()\n"
   ]
  },
  {
   "cell_type": "code",
   "execution_count": 17,
   "metadata": {},
   "outputs": [
    {
     "name": "stderr",
     "output_type": "stream",
     "text": [
      "/anaconda/envs/py35/lib/python3.5/site-packages/ipykernel_launcher.py:6: DeprecationWarning: \n",
      ".ix is deprecated. Please use\n",
      ".loc for label based indexing or\n",
      ".iloc for positional indexing\n",
      "\n",
      "See the documentation here:\n",
      "http://pandas.pydata.org/pandas-docs/stable/indexing.html#deprecate_ix\n",
      "  \n",
      "/anaconda/envs/py35/lib/python3.5/site-packages/ipykernel_launcher.py:6: SettingWithCopyWarning: \n",
      "A value is trying to be set on a copy of a slice from a DataFrame.\n",
      "Try using .loc[row_indexer,col_indexer] = value instead\n",
      "\n",
      "See the caveats in the documentation: http://pandas.pydata.org/pandas-docs/stable/indexing.html#indexing-view-versus-copy\n",
      "  \n",
      "/anaconda/envs/py35/lib/python3.5/site-packages/ipykernel_launcher.py:7: SettingWithCopyWarning: \n",
      "A value is trying to be set on a copy of a slice from a DataFrame.\n",
      "Try using .loc[row_indexer,col_indexer] = value instead\n",
      "\n",
      "See the caveats in the documentation: http://pandas.pydata.org/pandas-docs/stable/indexing.html#indexing-view-versus-copy\n",
      "  import sys\n",
      "/anaconda/envs/py35/lib/python3.5/site-packages/ipykernel_launcher.py:9: SettingWithCopyWarning: \n",
      "A value is trying to be set on a copy of a slice from a DataFrame.\n",
      "Try using .loc[row_indexer,col_indexer] = value instead\n",
      "\n",
      "See the caveats in the documentation: http://pandas.pydata.org/pandas-docs/stable/indexing.html#indexing-view-versus-copy\n",
      "  if __name__ == '__main__':\n",
      "/anaconda/envs/py35/lib/python3.5/site-packages/ipykernel_launcher.py:10: SettingWithCopyWarning: \n",
      "A value is trying to be set on a copy of a slice from a DataFrame.\n",
      "Try using .loc[row_indexer,col_indexer] = value instead\n",
      "\n",
      "See the caveats in the documentation: http://pandas.pydata.org/pandas-docs/stable/indexing.html#indexing-view-versus-copy\n",
      "  # Remove the CWD from sys.path while we load stuff.\n",
      "/anaconda/envs/py35/lib/python3.5/site-packages/ipykernel_launcher.py:16: SettingWithCopyWarning: \n",
      "A value is trying to be set on a copy of a slice from a DataFrame.\n",
      "Try using .loc[row_indexer,col_indexer] = value instead\n",
      "\n",
      "See the caveats in the documentation: http://pandas.pydata.org/pandas-docs/stable/indexing.html#indexing-view-versus-copy\n",
      "  app.launch_new_instance()\n"
     ]
    }
   ],
   "source": [
    "############################################################# Pre-Analysis - 1\n",
    "# Calculate Variance and Range\n",
    "df_=df[['New_AUTHICK_01','New_AUTHICK_02','New_AUTHICK_03','New_AUTHICK_04','New_AUTHICK_05','PART_NUMBER','LOTNO']]\n",
    "\n",
    "# Calculate variance by LOT\n",
    "df_['AU_var'] = df_.ix[:,0:5].var(axis=1)\n",
    "df_['AU_var2'] = df_[['New_AUTHICK_01','New_AUTHICK_02','New_AUTHICK_03','New_AUTHICK_04','New_AUTHICK_05']].var(axis=1)\n",
    "\n",
    "df_['NEW_max'] = df_.ix[:,0:5].max(axis=1)\n",
    "df_['NEW_min'] = df_.ix[:,0:5].min(axis=1)\n",
    "\n",
    "#Create a new function:\n",
    "def NEW_range (x):\n",
    "  return x.max() - x.min()\n",
    "\n",
    "df_['range'] = df_.ix[:,0:5].apply(NEW_range, axis=1)\n"
   ]
  },
  {
   "cell_type": "code",
   "execution_count": 18,
   "metadata": {},
   "outputs": [
    {
     "data": {
      "text/plain": [
       "0.6303100000000015"
      ]
     },
     "execution_count": 18,
     "metadata": {},
     "output_type": "execute_result"
    }
   ],
   "source": [
    "#############################################################\n",
    "df_['AU_var'] / df_['AU_var2']\n",
    "\n",
    "df = pd.concat([df,df_.ix[:,7:12]], axis=1)\n",
    "df.drop(['AU_var2'], axis=1, inplace=True)\n",
    "\n",
    "df.AU_var.describe()\n",
    "df.NEW_max.describe()\n",
    "df.NEW_min.describe()\n",
    "df.range.describe()\n",
    "#\n",
    "\n",
    "df.range.argmax()\n",
    "df.range.argmin()\n",
    "df.range.idxmax()\n",
    "df.range.idxmin()\n",
    "df.index\n",
    "\n",
    "df.range.quantile()\n"
   ]
  },
  {
   "cell_type": "code",
   "execution_count": 20,
   "metadata": {},
   "outputs": [
    {
     "data": {
      "text/plain": [
       "MACHINE_ID             0\n",
       "EVENTDATETIME          0\n",
       "END_TIME               0\n",
       "IN_TIME                0\n",
       "PART_NUMBER            0\n",
       "LOTNO                  0\n",
       "QUANTITY               0\n",
       "TARGET_NO              0\n",
       "AREA                   0\n",
       "ERP_EFrontareaSQ       0\n",
       "ERP_EBackareaSQ        0\n",
       "GOLD_TIME              0\n",
       "AC_GOLD_TIME           0\n",
       "PRESENT_DIPPING_12     0\n",
       "PRESENT_DIPPING_13     0\n",
       "PRESENT_DIPPING_21     0\n",
       "PRESENT_DIPPING_22     0\n",
       "PRESENT_DIPPING_26     0\n",
       "PRESENT_DIPPING_27     0\n",
       "PRESENT_DIPPING_31     0\n",
       "PRESENT_DIPPING_32     0\n",
       "TEMPERATURE_12         0\n",
       "TEMPERATURE_13         0\n",
       "TEMPERATURE_21         0\n",
       "TEMPERATURE_22         0\n",
       "TEMPERATURE_26         0\n",
       "TEMPERATURE_27         0\n",
       "TEMPERATURE_31         0\n",
       "TEMPERATURE_32         0\n",
       "HEATING_31             0\n",
       "HEATING_32             0\n",
       "HEATING_21             0\n",
       "HEATING_22             0\n",
       "CONDUCTIVITY_20        0\n",
       "CONDUCTIVITY_23        0\n",
       "CONDUCTIVITY_25        0\n",
       "CONDUCTIVITY_30        0\n",
       "CONDUCTIVITY_35        0\n",
       "ERP_EAuThick           0\n",
       "New_AUTHICK_01         0\n",
       "New_AUTHICK_02         7\n",
       "New_AUTHICK_03        13\n",
       "New_AUTHICK_04        17\n",
       "New_AUTHICK_05        42\n",
       "AuThick_Average        0\n",
       "TIME1213               0\n",
       "TIME2122               0\n",
       "TIME2627               0\n",
       "TIME3132               0\n",
       "TEMPERATURE1213        0\n",
       "TEMPERATURE2122        0\n",
       "TEMPERATURE2627        0\n",
       "TEMPERATURE3132        0\n",
       "HEATING2122            0\n",
       "HEATING3132            0\n",
       "VOLAPP                 0\n",
       "AU_var                 7\n",
       "NEW_max                0\n",
       "NEW_min                0\n",
       "range                  0\n",
       "dtype: int64"
      ]
     },
     "execution_count": 20,
     "metadata": {},
     "output_type": "execute_result"
    }
   ],
   "source": [
    "############################################################# Pre-Analysis - 2\n",
    "df['AU_var'].corr(df['range'],method='pearson')\n",
    "df['AuThick_Average'].corr(df['TIME3132'],method='pearson')\n",
    "df['AuThick_Average'].corr(df['AC_GOLD_TIME'],method='pearson')\n",
    "\n",
    "df.apply(lambda x: sum(x.isnull()),axis=0) \n"
   ]
  },
  {
   "cell_type": "code",
   "execution_count": 21,
   "metadata": {},
   "outputs": [
    {
     "data": {
      "text/plain": [
       "(399, 60)"
      ]
     },
     "execution_count": 21,
     "metadata": {},
     "output_type": "execute_result"
    }
   ],
   "source": [
    "##FILTERING Records\n",
    "df[(df['AC_GOLD_TIME']>3000)&(df['ERP_EAuThick']==30)]\n",
    "df[(df.AC_GOLD_TIME>3000)&(df.ERP_EAuThick==30)]\n",
    "##FILTERING Records\n",
    "df[:45]\n",
    "df[2:40]\n",
    "df.head(10)\n",
    "df.describe()\n",
    "df.dtypes\n",
    "df.columns\n",
    "len(df)\n",
    "df.shape\n"
   ]
  },
  {
   "cell_type": "code",
   "execution_count": 22,
   "metadata": {},
   "outputs": [
    {
     "data": {
      "text/plain": [
       "<matplotlib.axes._subplots.AxesSubplot at 0x115c94550>"
      ]
     },
     "execution_count": 22,
     "metadata": {},
     "output_type": "execute_result"
    },
    {
     "data": {
      "image/png": "[encoded data removed]",
      "text/plain": [
       "<matplotlib.figure.Figure at 0x11256b0b8>"
      ]
     },
     "metadata": {},
     "output_type": "display_data"
    },
    {
     "data": {
      "image/png": "[encoded data removed]",
      "text/plain": [
       "<matplotlib.figure.Figure at 0x115c6e9e8>"
      ]
     },
     "metadata": {},
     "output_type": "display_data"
    }
   ],
   "source": [
    "df.boxplot(column='range')\n",
    "df.boxplot(column='AuThick_Average')\n",
    "df.boxplot(column='AuThick_Average', by = 'ERP_EAuThick')\n"
   ]
  },
  {
   "cell_type": "code",
   "execution_count": 23,
   "metadata": {},
   "outputs": [
    {
     "data": {
      "text/plain": [
       "<matplotlib.axes._subplots.AxesSubplot at 0x115e04550>"
      ]
     },
     "execution_count": 23,
     "metadata": {},
     "output_type": "execute_result"
    },
    {
     "data": {
      "image/png": "[encoded data removed]",
      "text/plain": [
       "<matplotlib.figure.Figure at 0x115dfe978>"
      ]
     },
     "metadata": {},
     "output_type": "display_data"
    }
   ],
   "source": [
    "df['QUANTITY'].unique()\n",
    "df['QUANTITY'].value_counts()\n",
    "df['ERP_EAuThick'].value_counts()\n",
    "#df['range'].hist(bins=50)\n",
    "df['AuThick_Average'].hist(bins=50)\n"
   ]
  },
  {
   "cell_type": "code",
   "execution_count": 24,
   "metadata": {},
   "outputs": [
    {
     "data": {
      "text/plain": [
       "<matplotlib.axes._subplots.AxesSubplot at 0x115f43d30>"
      ]
     },
     "execution_count": 24,
     "metadata": {},
     "output_type": "execute_result"
    },
    {
     "data": {
      "image/png": "[encoded data removed]",
      "text/plain": [
       "<matplotlib.figure.Figure at 0x115f27898>"
      ]
     },
     "metadata": {},
     "output_type": "display_data"
    }
   ],
   "source": [
    "#\n",
    "hh=df['TIME3132'] / df['AC_GOLD_TIME']\n",
    "hh[hh !=0].describe()\n",
    "hh.describe()\n",
    "hh.hist(bins=10)\n",
    "#\n"
   ]
  },
  {
   "cell_type": "code",
   "execution_count": 25,
   "metadata": {},
   "outputs": [
    {
     "data": {
      "text/plain": [
       "15    244\n",
       "30     61\n",
       "50     58\n",
       "20     16\n",
       "25     14\n",
       "35      3\n",
       "10      3\n",
       "Name: ERP_EAuThick, dtype: int64"
      ]
     },
     "execution_count": 25,
     "metadata": {},
     "output_type": "execute_result"
    }
   ],
   "source": [
    "#\n",
    "df['ERP_EAuThick'].value_counts()"
   ]
  },
  {
   "cell_type": "code",
   "execution_count": 26,
   "metadata": {
    "collapsed": true
   },
   "outputs": [],
   "source": [
    "#\n",
    "def PEAK (xx):\n",
    "    if xx in [10,15,20]:        \n",
    "       return('PEAK1')       \n",
    "    else:\n",
    "       if xx in [25,30,35]:\n",
    "          return('PEAK2')       \n",
    "       else:\n",
    "          return('PEAK3')\n"
   ]
  },
  {
   "cell_type": "code",
   "execution_count": 27,
   "metadata": {},
   "outputs": [
    {
     "data": {
      "text/plain": [
       "PEAK1    263\n",
       "PEAK2     78\n",
       "PEAK3     58\n",
       "Name: New_ERP_EAuThick, dtype: int64"
      ]
     },
     "execution_count": 27,
     "metadata": {},
     "output_type": "execute_result"
    }
   ],
   "source": [
    "df2 = pd.DataFrame({'New_ERP_EAuThick':df['ERP_EAuThick'].apply(PEAK)})\n",
    "df =  pd.merge(df, df2, left_index = True, right_index = True)\n",
    "df['New_ERP_EAuThick'].value_counts()\n"
   ]
  },
  {
   "cell_type": "code",
   "execution_count": 28,
   "metadata": {},
   "outputs": [
    {
     "data": {
      "image/png": "[encoded data removed]",
      "text/plain": [
       "<matplotlib.figure.Figure at 0x116036b38>"
      ]
     },
     "metadata": {},
     "output_type": "display_data"
    },
    {
     "data": {
      "image/png": "[encoded data removed]",
      "text/plain": [
       "<matplotlib.figure.Figure at 0x116209fd0>"
      ]
     },
     "metadata": {},
     "output_type": "display_data"
    },
    {
     "data": {
      "image/png": "[encoded data removed]",
      "text/plain": [
       "<matplotlib.figure.Figure at 0x116209f60>"
      ]
     },
     "metadata": {},
     "output_type": "display_data"
    }
   ],
   "source": [
    "df['range'].diff().hist(bins=50)\n",
    "df.plot.scatter(x='AC_GOLD_TIME', y='AuThick_Average');\n",
    "df.plot.scatter(x='TIME3132', y='AuThick_Average');\n"
   ]
  },
  {
   "cell_type": "code",
   "execution_count": 29,
   "metadata": {},
   "outputs": [
    {
     "data": {
      "text/plain": [
       "ERP_EAuThick\n",
       "10    Axes(0.125,0.125;0.775x0.755)\n",
       "15    Axes(0.125,0.125;0.775x0.755)\n",
       "20    Axes(0.125,0.125;0.775x0.755)\n",
       "25    Axes(0.125,0.125;0.775x0.755)\n",
       "30    Axes(0.125,0.125;0.775x0.755)\n",
       "35    Axes(0.125,0.125;0.775x0.755)\n",
       "50    Axes(0.125,0.125;0.775x0.755)\n",
       "Name: AuThick_Average, dtype: object"
      ]
     },
     "execution_count": 29,
     "metadata": {},
     "output_type": "execute_result"
    },
    {
     "data": {
      "image/png": "[encoded data removed]",
      "text/plain": [
       "<matplotlib.figure.Figure at 0x1162ffda0>"
      ]
     },
     "metadata": {},
     "output_type": "display_data"
    }
   ],
   "source": [
    "#\n",
    "h = df.groupby(['ERP_EAuThick'])\n",
    "h['AuThick_Average'].hist(bins=60)\n",
    "#h['AC_GOLD_TIME'].hist(bins=5)\n",
    "#h['TIME3132'].hist(bins=10)\n",
    "#\n"
   ]
  },
  {
   "cell_type": "code",
   "execution_count": 30,
   "metadata": {},
   "outputs": [
    {
     "data": {
      "image/png": "[encoded data removed]",
      "text/plain": [
       "<matplotlib.figure.Figure at 0x1165eb9b0>"
      ]
     },
     "metadata": {},
     "output_type": "display_data"
    },
    {
     "data": {
      "image/png": "[encoded data removed]",
      "text/plain": [
       "<matplotlib.figure.Figure at 0x1165e6c50>"
      ]
     },
     "metadata": {},
     "output_type": "display_data"
    },
    {
     "data": {
      "image/png": "[encoded data removed]",
      "text/plain": [
       "<matplotlib.figure.Figure at 0x115d97c50>"
      ]
     },
     "metadata": {},
     "output_type": "display_data"
    }
   ],
   "source": [
    "df[df.New_ERP_EAuThick =='PEAK2'].plot.scatter(x='AC_GOLD_TIME', y='AuThick_Average');\n",
    "df[df.New_ERP_EAuThick =='PEAK2'].plot.scatter(x='TIME3132', y='AuThick_Average');\n",
    "\n",
    "df[(df.TIME3132>=250) &(df.New_ERP_EAuThick =='PEAK1')].plot.scatter(x='TIME3132', y='AuThick_Average');\n",
    "\n",
    "#\n",
    "sns.regplot(\"TIME3132\",\"AuThick_Average\",data=df[df.New_ERP_EAuThick=='PEAK1'],robust=True, ci=95, color=\"seagreen\")\n",
    "sns.despine()\n"
   ]
  },
  {
   "cell_type": "code",
   "execution_count": 31,
   "metadata": {},
   "outputs": [
    {
     "data": {
      "text/html": [
       "<div>\n",
       "<style>\n",
       "    .dataframe thead tr:only-child th {\n",
       "        text-align: right;\n",
       "    }\n",
       "\n",
       "    .dataframe thead th {\n",
       "        text-align: left;\n",
       "    }\n",
       "\n",
       "    .dataframe tbody tr th {\n",
       "        vertical-align: top;\n",
       "    }\n",
       "</style>\n",
       "<table border=\"1\" class=\"dataframe\">\n",
       "  <thead>\n",
       "    <tr style=\"text-align: right;\">\n",
       "      <th></th>\n",
       "      <th>QUANTITY</th>\n",
       "      <th>TARGET_NO</th>\n",
       "      <th>AREA</th>\n",
       "      <th>ERP_EFrontareaSQ</th>\n",
       "      <th>ERP_EBackareaSQ</th>\n",
       "      <th>GOLD_TIME</th>\n",
       "      <th>AC_GOLD_TIME</th>\n",
       "      <th>PRESENT_DIPPING_12</th>\n",
       "      <th>PRESENT_DIPPING_13</th>\n",
       "      <th>PRESENT_DIPPING_21</th>\n",
       "      <th>...</th>\n",
       "      <th>TEMPERATURE2122</th>\n",
       "      <th>TEMPERATURE2627</th>\n",
       "      <th>TEMPERATURE3132</th>\n",
       "      <th>HEATING2122</th>\n",
       "      <th>HEATING3132</th>\n",
       "      <th>VOLAPP</th>\n",
       "      <th>AU_var</th>\n",
       "      <th>NEW_max</th>\n",
       "      <th>NEW_min</th>\n",
       "      <th>range</th>\n",
       "    </tr>\n",
       "    <tr>\n",
       "      <th>ERP_EAuThick</th>\n",
       "      <th></th>\n",
       "      <th></th>\n",
       "      <th></th>\n",
       "      <th></th>\n",
       "      <th></th>\n",
       "      <th></th>\n",
       "      <th></th>\n",
       "      <th></th>\n",
       "      <th></th>\n",
       "      <th></th>\n",
       "      <th></th>\n",
       "      <th></th>\n",
       "      <th></th>\n",
       "      <th></th>\n",
       "      <th></th>\n",
       "      <th></th>\n",
       "      <th></th>\n",
       "      <th></th>\n",
       "      <th></th>\n",
       "      <th></th>\n",
       "      <th></th>\n",
       "    </tr>\n",
       "  </thead>\n",
       "  <tbody>\n",
       "    <tr>\n",
       "      <th>10</th>\n",
       "      <td>2.000000</td>\n",
       "      <td>1.666667</td>\n",
       "      <td>407.000000</td>\n",
       "      <td>101.512333</td>\n",
       "      <td>101.914333</td>\n",
       "      <td>480.0</td>\n",
       "      <td>1500.000000</td>\n",
       "      <td>14.333333</td>\n",
       "      <td>0.000000</td>\n",
       "      <td>800.666667</td>\n",
       "      <td>...</td>\n",
       "      <td>52.100000</td>\n",
       "      <td>56.700000</td>\n",
       "      <td>50.666667</td>\n",
       "      <td>53.900000</td>\n",
       "      <td>54.533333</td>\n",
       "      <td>0.082010</td>\n",
       "      <td>0.181294</td>\n",
       "      <td>13.351630</td>\n",
       "      <td>12.470503</td>\n",
       "      <td>0.881127</td>\n",
       "    </tr>\n",
       "    <tr>\n",
       "      <th>15</th>\n",
       "      <td>1.659836</td>\n",
       "      <td>1.053279</td>\n",
       "      <td>167.745902</td>\n",
       "      <td>45.709533</td>\n",
       "      <td>62.854594</td>\n",
       "      <td>480.0</td>\n",
       "      <td>2046.721311</td>\n",
       "      <td>7.459016</td>\n",
       "      <td>11.155738</td>\n",
       "      <td>1182.159836</td>\n",
       "      <td>...</td>\n",
       "      <td>77.080738</td>\n",
       "      <td>84.378689</td>\n",
       "      <td>50.827869</td>\n",
       "      <td>79.795902</td>\n",
       "      <td>54.678279</td>\n",
       "      <td>0.051430</td>\n",
       "      <td>0.187438</td>\n",
       "      <td>19.360374</td>\n",
       "      <td>18.593630</td>\n",
       "      <td>0.766744</td>\n",
       "    </tr>\n",
       "    <tr>\n",
       "      <th>20</th>\n",
       "      <td>1.875000</td>\n",
       "      <td>1.000000</td>\n",
       "      <td>157.937500</td>\n",
       "      <td>35.107125</td>\n",
       "      <td>42.588687</td>\n",
       "      <td>480.0</td>\n",
       "      <td>2640.625000</td>\n",
       "      <td>13.375000</td>\n",
       "      <td>7.500000</td>\n",
       "      <td>942.500000</td>\n",
       "      <td>...</td>\n",
       "      <td>77.256250</td>\n",
       "      <td>84.837500</td>\n",
       "      <td>50.937500</td>\n",
       "      <td>80.031250</td>\n",
       "      <td>54.675000</td>\n",
       "      <td>0.060345</td>\n",
       "      <td>0.115606</td>\n",
       "      <td>24.029347</td>\n",
       "      <td>23.277394</td>\n",
       "      <td>0.751953</td>\n",
       "    </tr>\n",
       "    <tr>\n",
       "      <th>25</th>\n",
       "      <td>1.785714</td>\n",
       "      <td>1.071429</td>\n",
       "      <td>126.214286</td>\n",
       "      <td>37.301643</td>\n",
       "      <td>40.841143</td>\n",
       "      <td>480.0</td>\n",
       "      <td>3271.428571</td>\n",
       "      <td>17.071429</td>\n",
       "      <td>4.928571</td>\n",
       "      <td>701.000000</td>\n",
       "      <td>...</td>\n",
       "      <td>77.942857</td>\n",
       "      <td>84.464286</td>\n",
       "      <td>50.928571</td>\n",
       "      <td>80.721429</td>\n",
       "      <td>54.657143</td>\n",
       "      <td>0.057767</td>\n",
       "      <td>0.172275</td>\n",
       "      <td>28.598293</td>\n",
       "      <td>27.696069</td>\n",
       "      <td>0.902224</td>\n",
       "    </tr>\n",
       "    <tr>\n",
       "      <th>30</th>\n",
       "      <td>1.688525</td>\n",
       "      <td>1.065574</td>\n",
       "      <td>221.081967</td>\n",
       "      <td>66.918148</td>\n",
       "      <td>75.233967</td>\n",
       "      <td>480.0</td>\n",
       "      <td>3747.540984</td>\n",
       "      <td>9.000000</td>\n",
       "      <td>10.573770</td>\n",
       "      <td>1242.704918</td>\n",
       "      <td>...</td>\n",
       "      <td>77.465574</td>\n",
       "      <td>84.778689</td>\n",
       "      <td>50.927869</td>\n",
       "      <td>80.270492</td>\n",
       "      <td>54.701639</td>\n",
       "      <td>0.120333</td>\n",
       "      <td>0.577118</td>\n",
       "      <td>33.674687</td>\n",
       "      <td>32.566530</td>\n",
       "      <td>1.108158</td>\n",
       "    </tr>\n",
       "    <tr>\n",
       "      <th>35</th>\n",
       "      <td>1.333333</td>\n",
       "      <td>1.000000</td>\n",
       "      <td>121.333333</td>\n",
       "      <td>43.632000</td>\n",
       "      <td>43.378000</td>\n",
       "      <td>480.0</td>\n",
       "      <td>4300.000000</td>\n",
       "      <td>0.000000</td>\n",
       "      <td>17.666667</td>\n",
       "      <td>2402.333333</td>\n",
       "      <td>...</td>\n",
       "      <td>76.766667</td>\n",
       "      <td>84.800000</td>\n",
       "      <td>50.933333</td>\n",
       "      <td>79.266667</td>\n",
       "      <td>54.466667</td>\n",
       "      <td>0.076366</td>\n",
       "      <td>0.858346</td>\n",
       "      <td>39.607417</td>\n",
       "      <td>37.458853</td>\n",
       "      <td>2.148563</td>\n",
       "    </tr>\n",
       "    <tr>\n",
       "      <th>50</th>\n",
       "      <td>1.172414</td>\n",
       "      <td>1.051724</td>\n",
       "      <td>187.500000</td>\n",
       "      <td>77.666879</td>\n",
       "      <td>81.053328</td>\n",
       "      <td>480.0</td>\n",
       "      <td>6138.793103</td>\n",
       "      <td>6.086207</td>\n",
       "      <td>11.862069</td>\n",
       "      <td>1022.051724</td>\n",
       "      <td>...</td>\n",
       "      <td>77.251724</td>\n",
       "      <td>84.305172</td>\n",
       "      <td>50.968966</td>\n",
       "      <td>80.089655</td>\n",
       "      <td>54.625862</td>\n",
       "      <td>0.163326</td>\n",
       "      <td>2.140365</td>\n",
       "      <td>54.066924</td>\n",
       "      <td>51.472311</td>\n",
       "      <td>2.594613</td>\n",
       "    </tr>\n",
       "  </tbody>\n",
       "</table>\n",
       "<p>7 rows × 53 columns</p>\n",
       "</div>"
      ],
      "text/plain": [
       "              QUANTITY  TARGET_NO        AREA  ERP_EFrontareaSQ  \\\n",
       "ERP_EAuThick                                                      \n",
       "10            2.000000   1.666667  407.000000        101.512333   \n",
       "15            1.659836   1.053279  167.745902         45.709533   \n",
       "20            1.875000   1.000000  157.937500         35.107125   \n",
       "25            1.785714   1.071429  126.214286         37.301643   \n",
       "30            1.688525   1.065574  221.081967         66.918148   \n",
       "35            1.333333   1.000000  121.333333         43.632000   \n",
       "50            1.172414   1.051724  187.500000         77.666879   \n",
       "\n",
       "              ERP_EBackareaSQ  GOLD_TIME  AC_GOLD_TIME  PRESENT_DIPPING_12  \\\n",
       "ERP_EAuThick                                                                 \n",
       "10                 101.914333      480.0   1500.000000           14.333333   \n",
       "15                  62.854594      480.0   2046.721311            7.459016   \n",
       "20                  42.588687      480.0   2640.625000           13.375000   \n",
       "25                  40.841143      480.0   3271.428571           17.071429   \n",
       "30                  75.233967      480.0   3747.540984            9.000000   \n",
       "35                  43.378000      480.0   4300.000000            0.000000   \n",
       "50                  81.053328      480.0   6138.793103            6.086207   \n",
       "\n",
       "              PRESENT_DIPPING_13  PRESENT_DIPPING_21    ...     \\\n",
       "ERP_EAuThick                                            ...      \n",
       "10                      0.000000          800.666667    ...      \n",
       "15                     11.155738         1182.159836    ...      \n",
       "20                      7.500000          942.500000    ...      \n",
       "25                      4.928571          701.000000    ...      \n",
       "30                     10.573770         1242.704918    ...      \n",
       "35                     17.666667         2402.333333    ...      \n",
       "50                     11.862069         1022.051724    ...      \n",
       "\n",
       "              TEMPERATURE2122  TEMPERATURE2627  TEMPERATURE3132  HEATING2122  \\\n",
       "ERP_EAuThick                                                                   \n",
       "10                  52.100000        56.700000        50.666667    53.900000   \n",
       "15                  77.080738        84.378689        50.827869    79.795902   \n",
       "20                  77.256250        84.837500        50.937500    80.031250   \n",
       "25                  77.942857        84.464286        50.928571    80.721429   \n",
       "30                  77.465574        84.778689        50.927869    80.270492   \n",
       "35                  76.766667        84.800000        50.933333    79.266667   \n",
       "50                  77.251724        84.305172        50.968966    80.089655   \n",
       "\n",
       "              HEATING3132    VOLAPP    AU_var    NEW_max    NEW_min     range  \n",
       "ERP_EAuThick                                                                   \n",
       "10              54.533333  0.082010  0.181294  13.351630  12.470503  0.881127  \n",
       "15              54.678279  0.051430  0.187438  19.360374  18.593630  0.766744  \n",
       "20              54.675000  0.060345  0.115606  24.029347  23.277394  0.751953  \n",
       "25              54.657143  0.057767  0.172275  28.598293  27.696069  0.902224  \n",
       "30              54.701639  0.120333  0.577118  33.674687  32.566530  1.108158  \n",
       "35              54.466667  0.076366  0.858346  39.607417  37.458853  2.148563  \n",
       "50              54.625862  0.163326  2.140365  54.066924  51.472311  2.594613  \n",
       "\n",
       "[7 rows x 53 columns]"
      ]
     },
     "execution_count": 31,
     "metadata": {},
     "output_type": "execute_result"
    }
   ],
   "source": [
    "############################################################# Aggregate\n",
    "g = df.groupby(['ERP_EAuThick'])\n",
    "g['AuThick_Average'].var()\n",
    "##\n",
    "df.groupby(['QUANTITY','ERP_EAuThick']).mean()\n",
    "\n",
    "grpagg = df.groupby('ERP_EAuThick').aggregate(np.mean)\n",
    "grpagg\n",
    "\n",
    "#grpsum = df.groupby('ERP_EAuThick').aggregate(np.sum)\n",
    "#grpsum"
   ]
  },
  {
   "cell_type": "code",
   "execution_count": 32,
   "metadata": {},
   "outputs": [
    {
     "data": {
      "text/plain": [
       "AC_GOLD_TIME         int64\n",
       "AuThick_Average    float64\n",
       "ERP_EAuThick         int64\n",
       "New_AUTHICK_02     float64\n",
       "New_AUTHICK_04     float64\n",
       "dtype: object"
      ]
     },
     "execution_count": 32,
     "metadata": {},
     "output_type": "execute_result"
    }
   ],
   "source": [
    "############################################################# Subset\n",
    "from pandas import DataFrame\n",
    "\n",
    "df2 = pd.DataFrame(data = df, columns = ['AC_GOLD_TIME','AuThick_Average','ERP_EAuThick','New_AUTHICK_02','New_AUTHICK_04'])\n",
    "df2.dtypes\n"
   ]
  },
  {
   "cell_type": "code",
   "execution_count": 33,
   "metadata": {},
   "outputs": [
    {
     "data": {
      "text/html": [
       "<div>\n",
       "<style>\n",
       "    .dataframe thead tr:only-child th {\n",
       "        text-align: right;\n",
       "    }\n",
       "\n",
       "    .dataframe thead th {\n",
       "        text-align: left;\n",
       "    }\n",
       "\n",
       "    .dataframe tbody tr th {\n",
       "        vertical-align: top;\n",
       "    }\n",
       "</style>\n",
       "<table border=\"1\" class=\"dataframe\">\n",
       "  <thead>\n",
       "    <tr style=\"text-align: right;\">\n",
       "      <th></th>\n",
       "      <th>AC_GOLD_TIME</th>\n",
       "      <th>AuThick_Average</th>\n",
       "      <th>ERP_EAuThick</th>\n",
       "      <th>New_AUTHICK_02</th>\n",
       "      <th>New_AUTHICK_04</th>\n",
       "    </tr>\n",
       "  </thead>\n",
       "  <tbody>\n",
       "    <tr>\n",
       "      <th>75</th>\n",
       "      <td>2750</td>\n",
       "      <td>25.233568</td>\n",
       "      <td>20</td>\n",
       "      <td>25.12465</td>\n",
       "      <td>25.40288</td>\n",
       "    </tr>\n",
       "    <tr>\n",
       "      <th>76</th>\n",
       "      <td>2750</td>\n",
       "      <td>23.816776</td>\n",
       "      <td>20</td>\n",
       "      <td>23.96066</td>\n",
       "      <td>23.95850</td>\n",
       "    </tr>\n",
       "    <tr>\n",
       "      <th>91</th>\n",
       "      <td>2550</td>\n",
       "      <td>24.660304</td>\n",
       "      <td>20</td>\n",
       "      <td>24.89762</td>\n",
       "      <td>24.98803</td>\n",
       "    </tr>\n",
       "    <tr>\n",
       "      <th>105</th>\n",
       "      <td>2500</td>\n",
       "      <td>25.244272</td>\n",
       "      <td>20</td>\n",
       "      <td>24.97639</td>\n",
       "      <td>25.60806</td>\n",
       "    </tr>\n",
       "    <tr>\n",
       "      <th>244</th>\n",
       "      <td>2750</td>\n",
       "      <td>24.772354</td>\n",
       "      <td>20</td>\n",
       "      <td>24.66195</td>\n",
       "      <td>24.79846</td>\n",
       "    </tr>\n",
       "  </tbody>\n",
       "</table>\n",
       "</div>"
      ],
      "text/plain": [
       "     AC_GOLD_TIME  AuThick_Average  ERP_EAuThick  New_AUTHICK_02  \\\n",
       "75           2750        25.233568            20        25.12465   \n",
       "76           2750        23.816776            20        23.96066   \n",
       "91           2550        24.660304            20        24.89762   \n",
       "105          2500        25.244272            20        24.97639   \n",
       "244          2750        24.772354            20        24.66195   \n",
       "\n",
       "     New_AUTHICK_04  \n",
       "75         25.40288  \n",
       "76         23.95850  \n",
       "91         24.98803  \n",
       "105        25.60806  \n",
       "244        24.79846  "
      ]
     },
     "execution_count": 33,
     "metadata": {},
     "output_type": "execute_result"
    }
   ],
   "source": [
    "df2.query('New_AUTHICK_02 >= New_AUTHICK_04')\n",
    "df2[df2.New_AUTHICK_02 >= df2.New_AUTHICK_04]\n",
    "df2.loc[df2.New_AUTHICK_02 >= df2.New_AUTHICK_04]\n",
    "df2[df2.ERP_EAuThick ==20].head()"
   ]
  },
  {
   "cell_type": "code",
   "execution_count": 34,
   "metadata": {},
   "outputs": [
    {
     "data": {
      "text/html": [
       "<div>\n",
       "<style>\n",
       "    .dataframe thead tr:only-child th {\n",
       "        text-align: right;\n",
       "    }\n",
       "\n",
       "    .dataframe thead th {\n",
       "        text-align: left;\n",
       "    }\n",
       "\n",
       "    .dataframe tbody tr th {\n",
       "        vertical-align: top;\n",
       "    }\n",
       "</style>\n",
       "<table border=\"1\" class=\"dataframe\">\n",
       "  <thead>\n",
       "    <tr style=\"text-align: right;\">\n",
       "      <th></th>\n",
       "      <th>AuThick_Average</th>\n",
       "      <th>TIME3132</th>\n",
       "    </tr>\n",
       "  </thead>\n",
       "  <tbody>\n",
       "    <tr>\n",
       "      <th>0</th>\n",
       "      <td>20.958046</td>\n",
       "      <td>2101</td>\n",
       "    </tr>\n",
       "    <tr>\n",
       "      <th>1</th>\n",
       "      <td>21.539106</td>\n",
       "      <td>2201</td>\n",
       "    </tr>\n",
       "    <tr>\n",
       "      <th>5</th>\n",
       "      <td>23.053732</td>\n",
       "      <td>2202</td>\n",
       "    </tr>\n",
       "    <tr>\n",
       "      <th>6</th>\n",
       "      <td>20.961532</td>\n",
       "      <td>2202</td>\n",
       "    </tr>\n",
       "    <tr>\n",
       "      <th>7</th>\n",
       "      <td>21.112462</td>\n",
       "      <td>2202</td>\n",
       "    </tr>\n",
       "  </tbody>\n",
       "</table>\n",
       "</div>"
      ],
      "text/plain": [
       "   AuThick_Average  TIME3132\n",
       "0        20.958046      2101\n",
       "1        21.539106      2201\n",
       "5        23.053732      2202\n",
       "6        20.961532      2202\n",
       "7        21.112462      2202"
      ]
     },
     "execution_count": 34,
     "metadata": {},
     "output_type": "execute_result"
    }
   ],
   "source": [
    "df[[\"PART_NUMBER\",\"LOTNO\",\"QUANTITY\",\"range\"]][(df.PART_NUMBER==\"TSMC-DD007A\")&(df.range>=0.6)]\n",
    "df[[\"PART_NUMBER\",\"LOTNO\",\"QUANTITY\",\"range\"]][(df.PART_NUMBER==\"TSMC-DD007A\")&(df.QUANTITY==2)]\n",
    "\n",
    "df[df['New_ERP_EAuThick']=='PEAK1']['AuThick_Average']\n",
    "df[df['New_ERP_EAuThick']=='PEAK2']['AuThick_Average']\n",
    "\n",
    "df[df['New_ERP_EAuThick']=='PEAK1'][['AuThick_Average','TIME3132']].head()"
   ]
  },
  {
   "cell_type": "code",
   "execution_count": 35,
   "metadata": {},
   "outputs": [
    {
     "data": {
      "text/html": [
       "<div>\n",
       "<style>\n",
       "    .dataframe thead tr:only-child th {\n",
       "        text-align: right;\n",
       "    }\n",
       "\n",
       "    .dataframe thead th {\n",
       "        text-align: left;\n",
       "    }\n",
       "\n",
       "    .dataframe tbody tr th {\n",
       "        vertical-align: top;\n",
       "    }\n",
       "</style>\n",
       "<table border=\"1\" class=\"dataframe\">\n",
       "  <thead>\n",
       "    <tr style=\"text-align: right;\">\n",
       "      <th></th>\n",
       "      <th>AU_var</th>\n",
       "      <th>NEW_max</th>\n",
       "      <th>NEW_min</th>\n",
       "      <th>range</th>\n",
       "      <th>ERP_EAuThick</th>\n",
       "    </tr>\n",
       "  </thead>\n",
       "  <tbody>\n",
       "    <tr>\n",
       "      <th>103</th>\n",
       "      <td>12.846926</td>\n",
       "      <td>53.91068</td>\n",
       "      <td>44.93234</td>\n",
       "      <td>8.97834</td>\n",
       "      <td>50</td>\n",
       "    </tr>\n",
       "    <tr>\n",
       "      <th>226</th>\n",
       "      <td>17.316489</td>\n",
       "      <td>53.84276</td>\n",
       "      <td>42.66556</td>\n",
       "      <td>11.17720</td>\n",
       "      <td>50</td>\n",
       "    </tr>\n",
       "    <tr>\n",
       "      <th>253</th>\n",
       "      <td>13.351312</td>\n",
       "      <td>57.43798</td>\n",
       "      <td>48.14844</td>\n",
       "      <td>9.28954</td>\n",
       "      <td>50</td>\n",
       "    </tr>\n",
       "    <tr>\n",
       "      <th>274</th>\n",
       "      <td>15.746547</td>\n",
       "      <td>35.77117</td>\n",
       "      <td>25.17077</td>\n",
       "      <td>10.60040</td>\n",
       "      <td>30</td>\n",
       "    </tr>\n",
       "    <tr>\n",
       "      <th>315</th>\n",
       "      <td>13.095865</td>\n",
       "      <td>60.56390</td>\n",
       "      <td>52.16764</td>\n",
       "      <td>8.39626</td>\n",
       "      <td>50</td>\n",
       "    </tr>\n",
       "    <tr>\n",
       "      <th>531</th>\n",
       "      <td>7.171082</td>\n",
       "      <td>51.89239</td>\n",
       "      <td>44.85119</td>\n",
       "      <td>7.04120</td>\n",
       "      <td>50</td>\n",
       "    </tr>\n",
       "    <tr>\n",
       "      <th>556</th>\n",
       "      <td>10.924444</td>\n",
       "      <td>57.96216</td>\n",
       "      <td>49.42482</td>\n",
       "      <td>8.53734</td>\n",
       "      <td>50</td>\n",
       "    </tr>\n",
       "  </tbody>\n",
       "</table>\n",
       "</div>"
      ],
      "text/plain": [
       "        AU_var   NEW_max   NEW_min     range  ERP_EAuThick\n",
       "103  12.846926  53.91068  44.93234   8.97834            50\n",
       "226  17.316489  53.84276  42.66556  11.17720            50\n",
       "253  13.351312  57.43798  48.14844   9.28954            50\n",
       "274  15.746547  35.77117  25.17077  10.60040            30\n",
       "315  13.095865  60.56390  52.16764   8.39626            50\n",
       "531   7.171082  51.89239  44.85119   7.04120            50\n",
       "556  10.924444  57.96216  49.42482   8.53734            50"
      ]
     },
     "execution_count": 35,
     "metadata": {},
     "output_type": "execute_result"
    }
   ],
   "source": [
    "#\n",
    "df['TIME3132'].describe()\n",
    "#Check missing values in the dataset\n",
    "sum(df['range'].isnull()) \n",
    "\n",
    "sum(df['AU_var'].isnull()) \n",
    "df['AU_var'].dropna().describe()\n",
    "\n",
    "df[['TIME3132','PART_NUMBER','LOTNO','TIME2122','TIME2627','TEMPERATURE3132','HEATING2122','HEATING3132']][df.TIME3132 >= 3000]\n",
    "df[['AU_var','NEW_max','NEW_min','range','ERP_EAuThick']][df.range >= 7]\n"
   ]
  },
  {
   "cell_type": "code",
   "execution_count": 36,
   "metadata": {},
   "outputs": [
    {
     "name": "stderr",
     "output_type": "stream",
     "text": [
      "/anaconda/envs/py35/lib/python3.5/site-packages/ipykernel_launcher.py:3: SettingWithCopyWarning: \n",
      "A value is trying to be set on a copy of a slice from a DataFrame\n",
      "\n",
      "See the caveats in the documentation: http://pandas.pydata.org/pandas-docs/stable/indexing.html#indexing-view-versus-copy\n",
      "  This is separate from the ipykernel package so we can avoid doing imports until\n",
      "/anaconda/envs/py35/lib/python3.5/site-packages/ipykernel_launcher.py:4: SettingWithCopyWarning: \n",
      "A value is trying to be set on a copy of a slice from a DataFrame\n",
      "\n",
      "See the caveats in the documentation: http://pandas.pydata.org/pandas-docs/stable/indexing.html#indexing-view-versus-copy\n",
      "  after removing the cwd from sys.path.\n",
      "/anaconda/envs/py35/lib/python3.5/site-packages/ipykernel_launcher.py:5: SettingWithCopyWarning: \n",
      "A value is trying to be set on a copy of a slice from a DataFrame\n",
      "\n",
      "See the caveats in the documentation: http://pandas.pydata.org/pandas-docs/stable/indexing.html#indexing-view-versus-copy\n",
      "  \"\"\"\n",
      "/anaconda/envs/py35/lib/python3.5/site-packages/ipykernel_launcher.py:6: SettingWithCopyWarning: \n",
      "A value is trying to be set on a copy of a slice from a DataFrame\n",
      "\n",
      "See the caveats in the documentation: http://pandas.pydata.org/pandas-docs/stable/indexing.html#indexing-view-versus-copy\n",
      "  \n",
      "/anaconda/envs/py35/lib/python3.5/site-packages/ipykernel_launcher.py:7: SettingWithCopyWarning: \n",
      "A value is trying to be set on a copy of a slice from a DataFrame\n",
      "\n",
      "See the caveats in the documentation: http://pandas.pydata.org/pandas-docs/stable/indexing.html#indexing-view-versus-copy\n",
      "  import sys\n"
     ]
    },
    {
     "data": {
      "text/html": [
       "<div>\n",
       "<style>\n",
       "    .dataframe thead tr:only-child th {\n",
       "        text-align: right;\n",
       "    }\n",
       "\n",
       "    .dataframe thead th {\n",
       "        text-align: left;\n",
       "    }\n",
       "\n",
       "    .dataframe tbody tr th {\n",
       "        vertical-align: top;\n",
       "    }\n",
       "</style>\n",
       "<table border=\"1\" class=\"dataframe\">\n",
       "  <thead>\n",
       "    <tr style=\"text-align: right;\">\n",
       "      <th></th>\n",
       "      <th>New_AUTHICK_01</th>\n",
       "      <th>New_AUTHICK_02</th>\n",
       "      <th>New_AUTHICK_03</th>\n",
       "      <th>New_AUTHICK_04</th>\n",
       "      <th>New_AUTHICK_05</th>\n",
       "      <th>ERP_EAuThick</th>\n",
       "    </tr>\n",
       "  </thead>\n",
       "  <tbody>\n",
       "    <tr>\n",
       "      <th>90</th>\n",
       "      <td>50.17044</td>\n",
       "      <td>49.79344</td>\n",
       "      <td>50.86896</td>\n",
       "      <td>49.81123</td>\n",
       "      <td>50.11541</td>\n",
       "      <td>50</td>\n",
       "    </tr>\n",
       "    <tr>\n",
       "      <th>103</th>\n",
       "      <td>50.64745</td>\n",
       "      <td>44.93234</td>\n",
       "      <td>53.37122</td>\n",
       "      <td>49.79611</td>\n",
       "      <td>53.91068</td>\n",
       "      <td>50</td>\n",
       "    </tr>\n",
       "    <tr>\n",
       "      <th>109</th>\n",
       "      <td>51.31396</td>\n",
       "      <td>46.72974</td>\n",
       "      <td>49.56838</td>\n",
       "      <td>50.51305</td>\n",
       "      <td>50.21699</td>\n",
       "      <td>50</td>\n",
       "    </tr>\n",
       "    <tr>\n",
       "      <th>115</th>\n",
       "      <td>45.63928</td>\n",
       "      <td>45.72290</td>\n",
       "      <td>45.94615</td>\n",
       "      <td>45.59698</td>\n",
       "      <td>45.86181</td>\n",
       "      <td>50</td>\n",
       "    </tr>\n",
       "    <tr>\n",
       "      <th>158</th>\n",
       "      <td>45.90582</td>\n",
       "      <td>46.27489</td>\n",
       "      <td>46.24231</td>\n",
       "      <td>46.27098</td>\n",
       "      <td>46.48793</td>\n",
       "      <td>50</td>\n",
       "    </tr>\n",
       "  </tbody>\n",
       "</table>\n",
       "</div>"
      ],
      "text/plain": [
       "     New_AUTHICK_01  New_AUTHICK_02  New_AUTHICK_03  New_AUTHICK_04  \\\n",
       "90         50.17044        49.79344        50.86896        49.81123   \n",
       "103        50.64745        44.93234        53.37122        49.79611   \n",
       "109        51.31396        46.72974        49.56838        50.51305   \n",
       "115        45.63928        45.72290        45.94615        45.59698   \n",
       "158        45.90582        46.27489        46.24231        46.27098   \n",
       "\n",
       "     New_AUTHICK_05  ERP_EAuThick  \n",
       "90         50.11541            50  \n",
       "103        53.91068            50  \n",
       "109        50.21699            50  \n",
       "115        45.86181            50  \n",
       "158        46.48793            50  "
      ]
     },
     "execution_count": 36,
     "metadata": {},
     "output_type": "execute_result"
    }
   ],
   "source": [
    "#\n",
    "df['G_NG'] = 'G'\n",
    "df.G_NG[df.New_AUTHICK_01 <= df.ERP_EAuThick] = 'NG'\n",
    "df.G_NG[df.New_AUTHICK_02 <= df.ERP_EAuThick] = 'NG'\n",
    "df.G_NG[df.New_AUTHICK_03 <= df.ERP_EAuThick] = 'NG'\n",
    "df.G_NG[df.New_AUTHICK_04 <= df.ERP_EAuThick] = 'NG'\n",
    "df.G_NG[df.New_AUTHICK_05 <= df.ERP_EAuThick] = 'NG'\n",
    "df['G_NG'].value_counts()\n",
    "df[['New_AUTHICK_01','New_AUTHICK_02','New_AUTHICK_03','New_AUTHICK_04','New_AUTHICK_05','ERP_EAuThick']][df.G_NG == 'NG'].head()\n",
    "#"
   ]
  },
  {
   "cell_type": "code",
   "execution_count": 37,
   "metadata": {},
   "outputs": [
    {
     "data": {
      "text/plain": [
       "<matplotlib.axes._subplots.AxesSubplot at 0x11659feb8>"
      ]
     },
     "execution_count": 37,
     "metadata": {},
     "output_type": "execute_result"
    },
    {
     "data": {
      "image/png": "[encoded data removed]",
      "text/plain": [
       "<matplotlib.figure.Figure at 0x11648c550>"
      ]
     },
     "metadata": {},
     "output_type": "display_data"
    }
   ],
   "source": [
    "#\n",
    "df[['EVENTDATETIME','END_TIME','New_AUTHICK_01','New_AUTHICK_02','New_AUTHICK_03','New_AUTHICK_04','New_AUTHICK_05','ERP_EAuThick']][df.New_AUTHICK_01<df.ERP_EAuThick]\n",
    "#\n",
    "\n",
    "#\n",
    "df['AuThick_Average_log'] = np.log(df['AuThick_Average'])\n",
    "df['AuThick_Average_log'].hist(bins=20)\n"
   ]
  },
  {
   "cell_type": "code",
   "execution_count": null,
   "metadata": {
    "collapsed": true
   },
   "outputs": [],
   "source": []
  }
 ],
 "metadata": {
  "kernelspec": {
   "display_name": "Python 3",
   "language": "python",
   "name": "python3"
  },
  "language_info": {
   "codemirror_mode": {
    "name": "ipython",
    "version": 3
   },
   "file_extension": ".py",
   "mimetype": "text/x-python",
   "name": "python",
   "nbconvert_exporter": "python",
   "pygments_lexer": "ipython3",
   "version": "3.5.3"
  }
 },
 "nbformat": 4,
 "nbformat_minor": 2
}
