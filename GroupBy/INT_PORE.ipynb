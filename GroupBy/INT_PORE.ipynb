{
 "cells": [
  {
   "cell_type": "code",
   "execution_count": 1,
   "metadata": {
    "collapsed": true
   },
   "outputs": [],
   "source": [
    "from pandas import DataFrame\n",
    "import pandas as pd\n",
    "import numpy as np"
   ]
  },
  {
   "cell_type": "code",
   "execution_count": 2,
   "metadata": {},
   "outputs": [
    {
     "name": "stdout",
     "output_type": "stream",
     "text": [
      "/Users/cesare.chung/Downloads/AR\n"
     ]
    }
   ],
   "source": [
    "import os;\n",
    "os.chdir(\"/Users/cesare.chung/Downloads/AR/\")\n",
    "\n",
    "print (os.getcwd());"
   ]
  },
  {
   "cell_type": "code",
   "execution_count": 3,
   "metadata": {
    "collapsed": true
   },
   "outputs": [],
   "source": [
    "int_data  = pd.read_csv(\"PORE2.csv\")"
   ]
  },
  {
   "cell_type": "markdown",
   "metadata": {},
   "source": [
    "# Preprocess"
   ]
  },
  {
   "cell_type": "code",
   "execution_count": 5,
   "metadata": {},
   "outputs": [],
   "source": [
    "#int_data.head(6)"
   ]
  },
  {
   "cell_type": "code",
   "execution_count": 7,
   "metadata": {},
   "outputs": [],
   "source": [
    "#int_data2 = int_data[1:16] # Exclude HM1\n",
    "#int_data2 = int_data[0:16]\n",
    "int_data2 = int_data\n",
    "#int_data2.head(19)"
   ]
  },
  {
   "cell_type": "code",
   "execution_count": 8,
   "metadata": {},
   "outputs": [
    {
     "data": {
      "text/plain": [
       "Topics        10\n",
       "Name          10\n",
       "Score         11\n",
       "Strategy      11\n",
       "Innovation    11\n",
       "Report        11\n",
       "dtype: int64"
      ]
     },
     "execution_count": 8,
     "metadata": {},
     "output_type": "execute_result"
    }
   ],
   "source": [
    "int_data2.isnull().sum()"
   ]
  },
  {
   "cell_type": "code",
   "execution_count": 9,
   "metadata": {},
   "outputs": [
    {
     "data": {
      "text/plain": [
       "(26, 6)"
      ]
     },
     "execution_count": 9,
     "metadata": {},
     "output_type": "execute_result"
    }
   ],
   "source": [
    "int_data2.shape"
   ]
  },
  {
   "cell_type": "code",
   "execution_count": 10,
   "metadata": {
    "collapsed": true
   },
   "outputs": [],
   "source": [
    "int_data2.dropna(inplace=True)"
   ]
  },
  {
   "cell_type": "code",
   "execution_count": 11,
   "metadata": {},
   "outputs": [
    {
     "data": {
      "text/plain": [
       "(15, 6)"
      ]
     },
     "execution_count": 11,
     "metadata": {},
     "output_type": "execute_result"
    }
   ],
   "source": [
    "int_data2.shape"
   ]
  },
  {
   "cell_type": "code",
   "execution_count": 13,
   "metadata": {},
   "outputs": [],
   "source": [
    "#int_data2.sort_values('Strategy', ascending=False)"
   ]
  },
  {
   "cell_type": "markdown",
   "metadata": {},
   "source": [
    "# Mean"
   ]
  },
  {
   "cell_type": "code",
   "execution_count": 14,
   "metadata": {},
   "outputs": [
    {
     "data": {
      "text/plain": [
       "Score         68.164667\n",
       "Strategy      75.422000\n",
       "Innovation    49.122000\n",
       "Report         6.617333\n",
       "dtype: float64"
      ]
     },
     "execution_count": 14,
     "metadata": {},
     "output_type": "execute_result"
    }
   ],
   "source": [
    "int_data2.mean()"
   ]
  },
  {
   "cell_type": "markdown",
   "metadata": {},
   "source": [
    "# Groupby"
   ]
  },
  {
   "cell_type": "code",
   "execution_count": 16,
   "metadata": {},
   "outputs": [],
   "source": [
    "int_data2[\"Strategy_C\"] = 'A'\n",
    "#int_data2"
   ]
  },
  {
   "cell_type": "code",
   "execution_count": 18,
   "metadata": {},
   "outputs": [
    {
     "name": "stderr",
     "output_type": "stream",
     "text": [
      "/anaconda/envs/py35/lib/python3.5/site-packages/ipykernel_launcher.py:1: SettingWithCopyWarning: \n",
      "A value is trying to be set on a copy of a slice from a DataFrame\n",
      "\n",
      "See the caveats in the documentation: http://pandas.pydata.org/pandas-docs/stable/indexing.html#indexing-view-versus-copy\n",
      "  \"\"\"Entry point for launching an IPython kernel.\n",
      "/anaconda/envs/py35/lib/python3.5/site-packages/ipykernel_launcher.py:2: SettingWithCopyWarning: \n",
      "A value is trying to be set on a copy of a slice from a DataFrame\n",
      "\n",
      "See the caveats in the documentation: http://pandas.pydata.org/pandas-docs/stable/indexing.html#indexing-view-versus-copy\n",
      "  \n"
     ]
    }
   ],
   "source": [
    "int_data2['Strategy_C'][(int_data2.Strategy < 80) & (int_data2.Strategy >= 60)] = 'B'\n",
    "int_data2['Strategy_C'][(int_data2.Strategy < 60)] = 'C'\n",
    "#int_data2"
   ]
  },
  {
   "cell_type": "code",
   "execution_count": 19,
   "metadata": {},
   "outputs": [
    {
     "data": {
      "text/plain": [
       "A    7\n",
       "B    5\n",
       "C    3\n",
       "Name: Strategy_C, dtype: int64"
      ]
     },
     "execution_count": 19,
     "metadata": {},
     "output_type": "execute_result"
    }
   ],
   "source": [
    "int_data2['Strategy_C'].value_counts()"
   ]
  },
  {
   "cell_type": "code",
   "execution_count": 20,
   "metadata": {},
   "outputs": [
    {
     "data": {
      "text/html": [
       "<div>\n",
       "<style>\n",
       "    .dataframe thead tr:only-child th {\n",
       "        text-align: right;\n",
       "    }\n",
       "\n",
       "    .dataframe thead th {\n",
       "        text-align: left;\n",
       "    }\n",
       "\n",
       "    .dataframe tbody tr th {\n",
       "        vertical-align: top;\n",
       "    }\n",
       "</style>\n",
       "<table border=\"1\" class=\"dataframe\">\n",
       "  <thead>\n",
       "    <tr style=\"text-align: right;\">\n",
       "      <th></th>\n",
       "      <th>Strategy</th>\n",
       "      <th>Score</th>\n",
       "      <th>Innovation</th>\n",
       "      <th>Report</th>\n",
       "    </tr>\n",
       "    <tr>\n",
       "      <th>Strategy_C</th>\n",
       "      <th></th>\n",
       "      <th></th>\n",
       "      <th></th>\n",
       "      <th></th>\n",
       "    </tr>\n",
       "  </thead>\n",
       "  <tbody>\n",
       "    <tr>\n",
       "      <th>A</th>\n",
       "      <td>86.261429</td>\n",
       "      <td>77.287143</td>\n",
       "      <td>61.785714</td>\n",
       "      <td>7.022857</td>\n",
       "    </tr>\n",
       "    <tr>\n",
       "      <th>B</th>\n",
       "      <td>73.500000</td>\n",
       "      <td>62.698000</td>\n",
       "      <td>34.866000</td>\n",
       "      <td>6.126000</td>\n",
       "    </tr>\n",
       "    <tr>\n",
       "      <th>C</th>\n",
       "      <td>53.333333</td>\n",
       "      <td>55.990000</td>\n",
       "      <td>43.333333</td>\n",
       "      <td>6.490000</td>\n",
       "    </tr>\n",
       "  </tbody>\n",
       "</table>\n",
       "</div>"
      ],
      "text/plain": [
       "             Strategy      Score  Innovation    Report\n",
       "Strategy_C                                            \n",
       "A           86.261429  77.287143   61.785714  7.022857\n",
       "B           73.500000  62.698000   34.866000  6.126000\n",
       "C           53.333333  55.990000   43.333333  6.490000"
      ]
     },
     "execution_count": 20,
     "metadata": {},
     "output_type": "execute_result"
    }
   ],
   "source": [
    "grouped_ =int_data2.groupby(\"Strategy_C\")\n",
    "grouped_\n",
    "grouped_['Strategy','Score','Innovation','Report'].mean()"
   ]
  },
  {
   "cell_type": "code",
   "execution_count": 21,
   "metadata": {},
   "outputs": [
    {
     "data": {
      "text/html": [
       "<div>\n",
       "<style>\n",
       "    .dataframe thead tr:only-child th {\n",
       "        text-align: right;\n",
       "    }\n",
       "\n",
       "    .dataframe thead th {\n",
       "        text-align: left;\n",
       "    }\n",
       "\n",
       "    .dataframe tbody tr th {\n",
       "        vertical-align: top;\n",
       "    }\n",
       "</style>\n",
       "<table border=\"1\" class=\"dataframe\">\n",
       "  <thead>\n",
       "    <tr style=\"text-align: right;\">\n",
       "      <th></th>\n",
       "      <th>Score</th>\n",
       "      <th>Strategy</th>\n",
       "      <th>Innovation</th>\n",
       "      <th>Report</th>\n",
       "    </tr>\n",
       "    <tr>\n",
       "      <th>Strategy_C</th>\n",
       "      <th></th>\n",
       "      <th></th>\n",
       "      <th></th>\n",
       "      <th></th>\n",
       "    </tr>\n",
       "  </thead>\n",
       "  <tbody>\n",
       "    <tr>\n",
       "      <th>A</th>\n",
       "      <td>77.287143</td>\n",
       "      <td>86.261429</td>\n",
       "      <td>61.785714</td>\n",
       "      <td>7.022857</td>\n",
       "    </tr>\n",
       "    <tr>\n",
       "      <th>B</th>\n",
       "      <td>62.698000</td>\n",
       "      <td>73.500000</td>\n",
       "      <td>34.866000</td>\n",
       "      <td>6.126000</td>\n",
       "    </tr>\n",
       "    <tr>\n",
       "      <th>C</th>\n",
       "      <td>55.990000</td>\n",
       "      <td>53.333333</td>\n",
       "      <td>43.333333</td>\n",
       "      <td>6.490000</td>\n",
       "    </tr>\n",
       "  </tbody>\n",
       "</table>\n",
       "</div>"
      ],
      "text/plain": [
       "                Score   Strategy  Innovation    Report\n",
       "Strategy_C                                            \n",
       "A           77.287143  86.261429   61.785714  7.022857\n",
       "B           62.698000  73.500000   34.866000  6.126000\n",
       "C           55.990000  53.333333   43.333333  6.490000"
      ]
     },
     "execution_count": 21,
     "metadata": {},
     "output_type": "execute_result"
    }
   ],
   "source": [
    "grpagg = int_data2.groupby('Strategy_C').aggregate(np.mean)\n",
    "grpagg"
   ]
  },
  {
   "cell_type": "code",
   "execution_count": 22,
   "metadata": {},
   "outputs": [
    {
     "data": {
      "text/html": [
       "<div>\n",
       "<style>\n",
       "    .dataframe thead tr:only-child th {\n",
       "        text-align: right;\n",
       "    }\n",
       "\n",
       "    .dataframe thead th {\n",
       "        text-align: left;\n",
       "    }\n",
       "\n",
       "    .dataframe tbody tr th {\n",
       "        vertical-align: top;\n",
       "    }\n",
       "</style>\n",
       "<table border=\"1\" class=\"dataframe\">\n",
       "  <thead>\n",
       "    <tr style=\"text-align: right;\">\n",
       "      <th></th>\n",
       "      <th>Innovation</th>\n",
       "      <th>Report</th>\n",
       "      <th>Score</th>\n",
       "      <th>Strategy</th>\n",
       "    </tr>\n",
       "    <tr>\n",
       "      <th>Strategy_C</th>\n",
       "      <th></th>\n",
       "      <th></th>\n",
       "      <th></th>\n",
       "      <th></th>\n",
       "    </tr>\n",
       "  </thead>\n",
       "  <tbody>\n",
       "    <tr>\n",
       "      <th>A</th>\n",
       "      <td>61.785714</td>\n",
       "      <td>7.022857</td>\n",
       "      <td>77.287143</td>\n",
       "      <td>86.261429</td>\n",
       "    </tr>\n",
       "    <tr>\n",
       "      <th>B</th>\n",
       "      <td>34.866000</td>\n",
       "      <td>6.126000</td>\n",
       "      <td>62.698000</td>\n",
       "      <td>73.500000</td>\n",
       "    </tr>\n",
       "    <tr>\n",
       "      <th>C</th>\n",
       "      <td>43.333333</td>\n",
       "      <td>6.490000</td>\n",
       "      <td>55.990000</td>\n",
       "      <td>53.333333</td>\n",
       "    </tr>\n",
       "  </tbody>\n",
       "</table>\n",
       "</div>"
      ],
      "text/plain": [
       "            Innovation    Report      Score   Strategy\n",
       "Strategy_C                                            \n",
       "A            61.785714  7.022857  77.287143  86.261429\n",
       "B            34.866000  6.126000  62.698000  73.500000\n",
       "C            43.333333  6.490000  55.990000  53.333333"
      ]
     },
     "execution_count": 22,
     "metadata": {},
     "output_type": "execute_result"
    }
   ],
   "source": [
    "pd.pivot_table(int_data2, index=\"Strategy_C\")"
   ]
  },
  {
   "cell_type": "code",
   "execution_count": 23,
   "metadata": {},
   "outputs": [
    {
     "data": {
      "text/html": [
       "<div>\n",
       "<style>\n",
       "    .dataframe thead tr:only-child th {\n",
       "        text-align: right;\n",
       "    }\n",
       "\n",
       "    .dataframe thead th {\n",
       "        text-align: left;\n",
       "    }\n",
       "\n",
       "    .dataframe tbody tr th {\n",
       "        vertical-align: top;\n",
       "    }\n",
       "</style>\n",
       "<table border=\"1\" class=\"dataframe\">\n",
       "  <thead>\n",
       "    <tr style=\"text-align: right;\">\n",
       "      <th></th>\n",
       "      <th>Innovation</th>\n",
       "      <th>Report</th>\n",
       "      <th>Score</th>\n",
       "      <th>Strategy</th>\n",
       "    </tr>\n",
       "    <tr>\n",
       "      <th>Strategy_C</th>\n",
       "      <th></th>\n",
       "      <th></th>\n",
       "      <th></th>\n",
       "      <th></th>\n",
       "    </tr>\n",
       "  </thead>\n",
       "  <tbody>\n",
       "    <tr>\n",
       "      <th>A</th>\n",
       "      <td>61.785714</td>\n",
       "      <td>7.022857</td>\n",
       "      <td>77.287143</td>\n",
       "      <td>86.261429</td>\n",
       "    </tr>\n",
       "    <tr>\n",
       "      <th>B</th>\n",
       "      <td>34.866000</td>\n",
       "      <td>6.126000</td>\n",
       "      <td>62.698000</td>\n",
       "      <td>73.500000</td>\n",
       "    </tr>\n",
       "    <tr>\n",
       "      <th>C</th>\n",
       "      <td>43.333333</td>\n",
       "      <td>6.490000</td>\n",
       "      <td>55.990000</td>\n",
       "      <td>53.333333</td>\n",
       "    </tr>\n",
       "  </tbody>\n",
       "</table>\n",
       "</div>"
      ],
      "text/plain": [
       "            Innovation    Report      Score   Strategy\n",
       "Strategy_C                                            \n",
       "A            61.785714  7.022857  77.287143  86.261429\n",
       "B            34.866000  6.126000  62.698000  73.500000\n",
       "C            43.333333  6.490000  55.990000  53.333333"
      ]
     },
     "execution_count": 23,
     "metadata": {},
     "output_type": "execute_result"
    }
   ],
   "source": [
    "pd.pivot_table(int_data2, index=\"Strategy_C\", values=['Strategy','Score','Innovation','Report'], aggfunc=np.mean)"
   ]
  },
  {
   "cell_type": "code",
   "execution_count": 24,
   "metadata": {},
   "outputs": [
    {
     "data": {
      "text/html": [
       "<div>\n",
       "<style>\n",
       "    .dataframe thead tr:only-child th {\n",
       "        text-align: right;\n",
       "    }\n",
       "\n",
       "    .dataframe thead th {\n",
       "        text-align: left;\n",
       "    }\n",
       "\n",
       "    .dataframe tbody tr th {\n",
       "        vertical-align: top;\n",
       "    }\n",
       "</style>\n",
       "<table border=\"1\" class=\"dataframe\">\n",
       "  <thead>\n",
       "    <tr style=\"text-align: right;\">\n",
       "      <th></th>\n",
       "      <th></th>\n",
       "      <th>Innovation</th>\n",
       "      <th>Report</th>\n",
       "      <th>Score</th>\n",
       "      <th>Strategy</th>\n",
       "    </tr>\n",
       "    <tr>\n",
       "      <th>Strategy_C</th>\n",
       "      <th>Name</th>\n",
       "      <th></th>\n",
       "      <th></th>\n",
       "      <th></th>\n",
       "      <th></th>\n",
       "    </tr>\n",
       "  </thead>\n",
       "  <tbody>\n",
       "    <tr>\n",
       "      <th rowspan=\"7\" valign=\"top\">A</th>\n",
       "      <th>Catherine</th>\n",
       "      <td>61.67</td>\n",
       "      <td>6.78</td>\n",
       "      <td>76.14</td>\n",
       "      <td>85.83</td>\n",
       "    </tr>\n",
       "    <tr>\n",
       "      <th>James</th>\n",
       "      <td>51.67</td>\n",
       "      <td>6.79</td>\n",
       "      <td>72.03</td>\n",
       "      <td>83.33</td>\n",
       "    </tr>\n",
       "    <tr>\n",
       "      <th>Liam</th>\n",
       "      <td>52.50</td>\n",
       "      <td>7.34</td>\n",
       "      <td>79.34</td>\n",
       "      <td>88.83</td>\n",
       "    </tr>\n",
       "    <tr>\n",
       "      <th>Moro</th>\n",
       "      <td>62.50</td>\n",
       "      <td>6.08</td>\n",
       "      <td>74.96</td>\n",
       "      <td>85.83</td>\n",
       "    </tr>\n",
       "    <tr>\n",
       "      <th>YC</th>\n",
       "      <td>63.33</td>\n",
       "      <td>6.48</td>\n",
       "      <td>76.13</td>\n",
       "      <td>86.67</td>\n",
       "    </tr>\n",
       "    <tr>\n",
       "      <th>YT1</th>\n",
       "      <td>70.00</td>\n",
       "      <td>7.98</td>\n",
       "      <td>82.95</td>\n",
       "      <td>89.17</td>\n",
       "    </tr>\n",
       "    <tr>\n",
       "      <th>YT2</th>\n",
       "      <td>70.83</td>\n",
       "      <td>7.71</td>\n",
       "      <td>79.46</td>\n",
       "      <td>84.17</td>\n",
       "    </tr>\n",
       "    <tr>\n",
       "      <th rowspan=\"5\" valign=\"top\">B</th>\n",
       "      <th>Angela</th>\n",
       "      <td>56.00</td>\n",
       "      <td>6.65</td>\n",
       "      <td>68.46</td>\n",
       "      <td>77.50</td>\n",
       "    </tr>\n",
       "    <tr>\n",
       "      <th>Cesare</th>\n",
       "      <td>30.00</td>\n",
       "      <td>6.15</td>\n",
       "      <td>56.70</td>\n",
       "      <td>64.17</td>\n",
       "    </tr>\n",
       "    <tr>\n",
       "      <th>HM2</th>\n",
       "      <td>30.00</td>\n",
       "      <td>7.50</td>\n",
       "      <td>64.98</td>\n",
       "      <td>75.83</td>\n",
       "    </tr>\n",
       "    <tr>\n",
       "      <th>Hugh</th>\n",
       "      <td>23.33</td>\n",
       "      <td>5.00</td>\n",
       "      <td>61.02</td>\n",
       "      <td>75.83</td>\n",
       "    </tr>\n",
       "    <tr>\n",
       "      <th>SM</th>\n",
       "      <td>35.00</td>\n",
       "      <td>5.33</td>\n",
       "      <td>62.33</td>\n",
       "      <td>74.17</td>\n",
       "    </tr>\n",
       "    <tr>\n",
       "      <th rowspan=\"3\" valign=\"top\">C</th>\n",
       "      <th>JK</th>\n",
       "      <td>37.50</td>\n",
       "      <td>6.55</td>\n",
       "      <td>50.67</td>\n",
       "      <td>43.33</td>\n",
       "    </tr>\n",
       "    <tr>\n",
       "      <th>Javier</th>\n",
       "      <td>55.00</td>\n",
       "      <td>6.58</td>\n",
       "      <td>61.05</td>\n",
       "      <td>59.17</td>\n",
       "    </tr>\n",
       "    <tr>\n",
       "      <th>Killer</th>\n",
       "      <td>37.50</td>\n",
       "      <td>6.34</td>\n",
       "      <td>56.25</td>\n",
       "      <td>57.50</td>\n",
       "    </tr>\n",
       "  </tbody>\n",
       "</table>\n",
       "</div>"
      ],
      "text/plain": [
       "                      Innovation  Report  Score  Strategy\n",
       "Strategy_C Name                                          \n",
       "A          Catherine       61.67    6.78  76.14     85.83\n",
       "           James           51.67    6.79  72.03     83.33\n",
       "           Liam            52.50    7.34  79.34     88.83\n",
       "           Moro            62.50    6.08  74.96     85.83\n",
       "           YC              63.33    6.48  76.13     86.67\n",
       "           YT1             70.00    7.98  82.95     89.17\n",
       "           YT2             70.83    7.71  79.46     84.17\n",
       "B          Angela          56.00    6.65  68.46     77.50\n",
       "           Cesare          30.00    6.15  56.70     64.17\n",
       "           HM2             30.00    7.50  64.98     75.83\n",
       "           Hugh            23.33    5.00  61.02     75.83\n",
       "           SM              35.00    5.33  62.33     74.17\n",
       "C          JK              37.50    6.55  50.67     43.33\n",
       "           Javier          55.00    6.58  61.05     59.17\n",
       "           Killer          37.50    6.34  56.25     57.50"
      ]
     },
     "execution_count": 24,
     "metadata": {},
     "output_type": "execute_result"
    }
   ],
   "source": [
    "pd.pivot_table(int_data2, index=(\"Strategy_C\",\"Name\"), values=['Strategy','Score','Innovation','Report'], aggfunc=np.mean)"
   ]
  },
  {
   "cell_type": "code",
   "execution_count": 26,
   "metadata": {},
   "outputs": [
    {
     "data": {
      "text/html": [
       "<div>\n",
       "<style>\n",
       "    .dataframe thead tr:only-child th {\n",
       "        text-align: right;\n",
       "    }\n",
       "\n",
       "    .dataframe thead th {\n",
       "        text-align: left;\n",
       "    }\n",
       "\n",
       "    .dataframe tbody tr th {\n",
       "        vertical-align: top;\n",
       "    }\n",
       "</style>\n",
       "<table border=\"1\" class=\"dataframe\">\n",
       "  <thead>\n",
       "    <tr style=\"text-align: right;\">\n",
       "      <th></th>\n",
       "      <th></th>\n",
       "      <th>Innovation</th>\n",
       "      <th>Report</th>\n",
       "      <th>Score</th>\n",
       "      <th>Strategy</th>\n",
       "    </tr>\n",
       "    <tr>\n",
       "      <th>Strategy_C</th>\n",
       "      <th>Name</th>\n",
       "      <th></th>\n",
       "      <th></th>\n",
       "      <th></th>\n",
       "      <th></th>\n",
       "    </tr>\n",
       "  </thead>\n",
       "  <tbody>\n",
       "    <tr>\n",
       "      <th rowspan=\"7\" valign=\"top\">A</th>\n",
       "      <th>Catherine</th>\n",
       "      <td>61.67</td>\n",
       "      <td>6.78</td>\n",
       "      <td>76.14</td>\n",
       "      <td>85.83</td>\n",
       "    </tr>\n",
       "    <tr>\n",
       "      <th>James</th>\n",
       "      <td>51.67</td>\n",
       "      <td>6.79</td>\n",
       "      <td>72.03</td>\n",
       "      <td>83.33</td>\n",
       "    </tr>\n",
       "    <tr>\n",
       "      <th>Liam</th>\n",
       "      <td>52.50</td>\n",
       "      <td>7.34</td>\n",
       "      <td>79.34</td>\n",
       "      <td>88.83</td>\n",
       "    </tr>\n",
       "    <tr>\n",
       "      <th>Moro</th>\n",
       "      <td>62.50</td>\n",
       "      <td>6.08</td>\n",
       "      <td>74.96</td>\n",
       "      <td>85.83</td>\n",
       "    </tr>\n",
       "    <tr>\n",
       "      <th>YC</th>\n",
       "      <td>63.33</td>\n",
       "      <td>6.48</td>\n",
       "      <td>76.13</td>\n",
       "      <td>86.67</td>\n",
       "    </tr>\n",
       "    <tr>\n",
       "      <th>YT1</th>\n",
       "      <td>70.00</td>\n",
       "      <td>7.98</td>\n",
       "      <td>82.95</td>\n",
       "      <td>89.17</td>\n",
       "    </tr>\n",
       "    <tr>\n",
       "      <th>YT2</th>\n",
       "      <td>70.83</td>\n",
       "      <td>7.71</td>\n",
       "      <td>79.46</td>\n",
       "      <td>84.17</td>\n",
       "    </tr>\n",
       "    <tr>\n",
       "      <th rowspan=\"5\" valign=\"top\">B</th>\n",
       "      <th>Angela</th>\n",
       "      <td>56.00</td>\n",
       "      <td>6.65</td>\n",
       "      <td>68.46</td>\n",
       "      <td>77.50</td>\n",
       "    </tr>\n",
       "    <tr>\n",
       "      <th>Cesare</th>\n",
       "      <td>30.00</td>\n",
       "      <td>6.15</td>\n",
       "      <td>56.70</td>\n",
       "      <td>64.17</td>\n",
       "    </tr>\n",
       "    <tr>\n",
       "      <th>HM2</th>\n",
       "      <td>30.00</td>\n",
       "      <td>7.50</td>\n",
       "      <td>64.98</td>\n",
       "      <td>75.83</td>\n",
       "    </tr>\n",
       "    <tr>\n",
       "      <th>Hugh</th>\n",
       "      <td>23.33</td>\n",
       "      <td>5.00</td>\n",
       "      <td>61.02</td>\n",
       "      <td>75.83</td>\n",
       "    </tr>\n",
       "    <tr>\n",
       "      <th>SM</th>\n",
       "      <td>35.00</td>\n",
       "      <td>5.33</td>\n",
       "      <td>62.33</td>\n",
       "      <td>74.17</td>\n",
       "    </tr>\n",
       "    <tr>\n",
       "      <th rowspan=\"3\" valign=\"top\">C</th>\n",
       "      <th>JK</th>\n",
       "      <td>37.50</td>\n",
       "      <td>6.55</td>\n",
       "      <td>50.67</td>\n",
       "      <td>43.33</td>\n",
       "    </tr>\n",
       "    <tr>\n",
       "      <th>Javier</th>\n",
       "      <td>55.00</td>\n",
       "      <td>6.58</td>\n",
       "      <td>61.05</td>\n",
       "      <td>59.17</td>\n",
       "    </tr>\n",
       "    <tr>\n",
       "      <th>Killer</th>\n",
       "      <td>37.50</td>\n",
       "      <td>6.34</td>\n",
       "      <td>56.25</td>\n",
       "      <td>57.50</td>\n",
       "    </tr>\n",
       "  </tbody>\n",
       "</table>\n",
       "</div>"
      ],
      "text/plain": [
       "                      Innovation  Report  Score  Strategy\n",
       "Strategy_C Name                                          \n",
       "A          Catherine       61.67    6.78  76.14     85.83\n",
       "           James           51.67    6.79  72.03     83.33\n",
       "           Liam            52.50    7.34  79.34     88.83\n",
       "           Moro            62.50    6.08  74.96     85.83\n",
       "           YC              63.33    6.48  76.13     86.67\n",
       "           YT1             70.00    7.98  82.95     89.17\n",
       "           YT2             70.83    7.71  79.46     84.17\n",
       "B          Angela          56.00    6.65  68.46     77.50\n",
       "           Cesare          30.00    6.15  56.70     64.17\n",
       "           HM2             30.00    7.50  64.98     75.83\n",
       "           Hugh            23.33    5.00  61.02     75.83\n",
       "           SM              35.00    5.33  62.33     74.17\n",
       "C          JK              37.50    6.55  50.67     43.33\n",
       "           Javier          55.00    6.58  61.05     59.17\n",
       "           Killer          37.50    6.34  56.25     57.50"
      ]
     },
     "execution_count": 26,
     "metadata": {},
     "output_type": "execute_result"
    }
   ],
   "source": [
    "#pd.pivot_table(int_data2, index=(\"Strategy_C\",\"Name\",\"Topics\"), values=['Strategy','Score','Innovation','Report'])\n",
    "pd.pivot_table(int_data2, index=(\"Strategy_C\",\"Name\"), values=['Strategy','Score','Innovation','Report'])"
   ]
  },
  {
   "cell_type": "markdown",
   "metadata": {},
   "source": [
    "# Subset"
   ]
  },
  {
   "cell_type": "code",
   "execution_count": 28,
   "metadata": {},
   "outputs": [],
   "source": [
    "# Strategy > 75 Innovation > 60\n",
    "#\n",
    "int_data_Strategy = int_data2[(int_data2.Strategy >= 75) & (int_data2.Innovation >= 60 )]\n",
    "int_data_Strategy = int_data_Strategy.sort_values('Strategy', ascending=False)\n",
    "#int_data_Strategy"
   ]
  },
  {
   "cell_type": "code",
   "execution_count": 30,
   "metadata": {},
   "outputs": [],
   "source": [
    "# Strategy > 75 Report > 6\n",
    "#\n",
    "int_data_Strategy = int_data2[(int_data2.Strategy >= 75) & (int_data2.Report >= 6 )]\n",
    "int_data_Strategy = int_data_Strategy.sort_values('Strategy', ascending=False)\n",
    "#int_data_Strategy"
   ]
  },
  {
   "cell_type": "code",
   "execution_count": 32,
   "metadata": {},
   "outputs": [],
   "source": [
    "# Strategy > 75\n",
    "#\n",
    "int_data_Strategy = int_data2[(int_data2.Strategy >= 75)]\n",
    "int_data_Strategy = int_data_Strategy.sort_values('Strategy', ascending=False)\n",
    "#int_data_Strategy"
   ]
  },
  {
   "cell_type": "code",
   "execution_count": 33,
   "metadata": {
    "collapsed": true
   },
   "outputs": [],
   "source": [
    "#int_data_Strategy.to_csv(\"/Users/cesare.chung/Downloads/AR/PORE_Result.csv\", index=False,encoding=\"big5\")"
   ]
  },
  {
   "cell_type": "markdown",
   "metadata": {},
   "source": [
    "# Plotting"
   ]
  },
  {
   "cell_type": "code",
   "execution_count": 34,
   "metadata": {},
   "outputs": [
    {
     "data": {
      "image/png": "[encoded data removed]",
      "text/plain": [
       "<matplotlib.figure.Figure at 0x10b4ce940>"
      ]
     },
     "metadata": {},
     "output_type": "display_data"
    }
   ],
   "source": [
    "%matplotlib inline\n",
    "import matplotlib.pyplot as plt\n",
    "#int_data2.plot(kind = \"scatter\", x = \"Strategy\", y = \"Report\", s=[40, 120, 200])\n",
    "\n",
    "int_data2.plot(kind = \"scatter\", x = \"Strategy\", y = \"Score\")\n",
    "#int_data2.plot(kind = \"scatter\", x = \"Strategy\", y = \"Report\")\n",
    "#int_data2.plot(kind = \"scatter\", x = \"Strategy\", y = \"Innovation\")\n",
    "\n",
    "plt.show()"
   ]
  },
  {
   "cell_type": "code",
   "execution_count": 35,
   "metadata": {},
   "outputs": [
    {
     "data": {
      "image/png": "[encoded data removed]",
      "text/plain": [
       "<matplotlib.figure.Figure at 0x10f5d1ac8>"
      ]
     },
     "metadata": {},
     "output_type": "display_data"
    }
   ],
   "source": [
    "#int_data2.plot(kind=\"bar\")\n",
    "int_data2[['Score','Strategy','Innovation']].sort_values('Strategy', ascending=False).plot(kind=\"bar\")\n",
    "\n",
    "plt.grid(True)\n",
    "plt.show()"
   ]
  },
  {
   "cell_type": "code",
   "execution_count": 39,
   "metadata": {},
   "outputs": [
    {
     "data": {
      "text/html": [
       "<div>\n",
       "<style>\n",
       "    .dataframe thead tr:only-child th {\n",
       "        text-align: right;\n",
       "    }\n",
       "\n",
       "    .dataframe thead th {\n",
       "        text-align: left;\n",
       "    }\n",
       "\n",
       "    .dataframe tbody tr th {\n",
       "        vertical-align: top;\n",
       "    }\n",
       "</style>\n",
       "<table border=\"1\" class=\"dataframe\">\n",
       "  <thead>\n",
       "    <tr style=\"text-align: right;\">\n",
       "      <th></th>\n",
       "      <th>Name</th>\n",
       "      <th>Strategy</th>\n",
       "      <th>Score</th>\n",
       "      <th>Innovation</th>\n",
       "      <th>Report</th>\n",
       "      <th>Strategy_C</th>\n",
       "    </tr>\n",
       "  </thead>\n",
       "  <tbody>\n",
       "    <tr>\n",
       "      <th>5</th>\n",
       "      <td>YT1</td>\n",
       "      <td>89.17</td>\n",
       "      <td>82.95</td>\n",
       "      <td>70.00</td>\n",
       "      <td>7.98</td>\n",
       "      <td>A</td>\n",
       "    </tr>\n",
       "    <tr>\n",
       "      <th>1</th>\n",
       "      <td>Liam</td>\n",
       "      <td>88.83</td>\n",
       "      <td>79.34</td>\n",
       "      <td>52.50</td>\n",
       "      <td>7.34</td>\n",
       "      <td>A</td>\n",
       "    </tr>\n",
       "    <tr>\n",
       "      <th>9</th>\n",
       "      <td>YC</td>\n",
       "      <td>86.67</td>\n",
       "      <td>76.13</td>\n",
       "      <td>63.33</td>\n",
       "      <td>6.48</td>\n",
       "      <td>A</td>\n",
       "    </tr>\n",
       "    <tr>\n",
       "      <th>8</th>\n",
       "      <td>Catherine</td>\n",
       "      <td>85.83</td>\n",
       "      <td>76.14</td>\n",
       "      <td>61.67</td>\n",
       "      <td>6.78</td>\n",
       "      <td>A</td>\n",
       "    </tr>\n",
       "    <tr>\n",
       "      <th>10</th>\n",
       "      <td>Moro</td>\n",
       "      <td>85.83</td>\n",
       "      <td>74.96</td>\n",
       "      <td>62.50</td>\n",
       "      <td>6.08</td>\n",
       "      <td>A</td>\n",
       "    </tr>\n",
       "    <tr>\n",
       "      <th>15</th>\n",
       "      <td>YT2</td>\n",
       "      <td>84.17</td>\n",
       "      <td>79.46</td>\n",
       "      <td>70.83</td>\n",
       "      <td>7.71</td>\n",
       "      <td>A</td>\n",
       "    </tr>\n",
       "    <tr>\n",
       "      <th>14</th>\n",
       "      <td>James</td>\n",
       "      <td>83.33</td>\n",
       "      <td>72.03</td>\n",
       "      <td>51.67</td>\n",
       "      <td>6.79</td>\n",
       "      <td>A</td>\n",
       "    </tr>\n",
       "    <tr>\n",
       "      <th>13</th>\n",
       "      <td>Angela</td>\n",
       "      <td>77.50</td>\n",
       "      <td>68.46</td>\n",
       "      <td>56.00</td>\n",
       "      <td>6.65</td>\n",
       "      <td>B</td>\n",
       "    </tr>\n",
       "    <tr>\n",
       "      <th>6</th>\n",
       "      <td>Hugh</td>\n",
       "      <td>75.83</td>\n",
       "      <td>61.02</td>\n",
       "      <td>23.33</td>\n",
       "      <td>5.00</td>\n",
       "      <td>B</td>\n",
       "    </tr>\n",
       "    <tr>\n",
       "      <th>12</th>\n",
       "      <td>HM2</td>\n",
       "      <td>75.83</td>\n",
       "      <td>64.98</td>\n",
       "      <td>30.00</td>\n",
       "      <td>7.50</td>\n",
       "      <td>B</td>\n",
       "    </tr>\n",
       "    <tr>\n",
       "      <th>7</th>\n",
       "      <td>SM</td>\n",
       "      <td>74.17</td>\n",
       "      <td>62.33</td>\n",
       "      <td>35.00</td>\n",
       "      <td>5.33</td>\n",
       "      <td>B</td>\n",
       "    </tr>\n",
       "    <tr>\n",
       "      <th>11</th>\n",
       "      <td>Cesare</td>\n",
       "      <td>64.17</td>\n",
       "      <td>56.70</td>\n",
       "      <td>30.00</td>\n",
       "      <td>6.15</td>\n",
       "      <td>B</td>\n",
       "    </tr>\n",
       "    <tr>\n",
       "      <th>4</th>\n",
       "      <td>Javier</td>\n",
       "      <td>59.17</td>\n",
       "      <td>61.05</td>\n",
       "      <td>55.00</td>\n",
       "      <td>6.58</td>\n",
       "      <td>C</td>\n",
       "    </tr>\n",
       "    <tr>\n",
       "      <th>2</th>\n",
       "      <td>Killer</td>\n",
       "      <td>57.50</td>\n",
       "      <td>56.25</td>\n",
       "      <td>37.50</td>\n",
       "      <td>6.34</td>\n",
       "      <td>C</td>\n",
       "    </tr>\n",
       "    <tr>\n",
       "      <th>3</th>\n",
       "      <td>JK</td>\n",
       "      <td>43.33</td>\n",
       "      <td>50.67</td>\n",
       "      <td>37.50</td>\n",
       "      <td>6.55</td>\n",
       "      <td>C</td>\n",
       "    </tr>\n",
       "  </tbody>\n",
       "</table>\n",
       "</div>"
      ],
      "text/plain": [
       "         Name  Strategy  Score  Innovation  Report Strategy_C\n",
       "5         YT1     89.17  82.95       70.00    7.98          A\n",
       "1        Liam     88.83  79.34       52.50    7.34          A\n",
       "9          YC     86.67  76.13       63.33    6.48          A\n",
       "8   Catherine     85.83  76.14       61.67    6.78          A\n",
       "10       Moro     85.83  74.96       62.50    6.08          A\n",
       "15        YT2     84.17  79.46       70.83    7.71          A\n",
       "14      James     83.33  72.03       51.67    6.79          A\n",
       "13     Angela     77.50  68.46       56.00    6.65          B\n",
       "6        Hugh     75.83  61.02       23.33    5.00          B\n",
       "12        HM2     75.83  64.98       30.00    7.50          B\n",
       "7          SM     74.17  62.33       35.00    5.33          B\n",
       "11     Cesare     64.17  56.70       30.00    6.15          B\n",
       "4      Javier     59.17  61.05       55.00    6.58          C\n",
       "2      Killer     57.50  56.25       37.50    6.34          C\n",
       "3          JK     43.33  50.67       37.50    6.55          C"
      ]
     },
     "execution_count": 39,
     "metadata": {},
     "output_type": "execute_result"
    }
   ],
   "source": [
    "int_data2[['Name','Strategy','Score','Innovation','Report','Strategy_C']].sort_values('Strategy', ascending=False)"
   ]
  },
  {
   "cell_type": "code",
   "execution_count": 40,
   "metadata": {},
   "outputs": [
    {
     "data": {
      "image/png": "[encoded data removed]",
      "text/plain": [
       "<matplotlib.figure.Figure at 0x10f86bef0>"
      ]
     },
     "metadata": {},
     "output_type": "display_data"
    },
    {
     "data": {
      "image/png": "[encoded data removed]",
      "text/plain": [
       "<matplotlib.figure.Figure at 0x10f5bfbe0>"
      ]
     },
     "metadata": {},
     "output_type": "display_data"
    },
    {
     "data": {
      "image/png": "[encoded data removed]",
      "text/plain": [
       "<matplotlib.figure.Figure at 0x10f6379b0>"
      ]
     },
     "metadata": {},
     "output_type": "display_data"
    }
   ],
   "source": [
    "#h = int_data2.groupby(['Strategy_C'])\n",
    "h = int_data2.sort_values('Strategy', ascending=False).groupby(['Strategy_C'])\n",
    "h['Score','Strategy','Innovation'].plot(kind=\"bar\")\n",
    "#\n",
    "plt.grid(True)\n",
    "plt.show()"
   ]
  },
  {
   "cell_type": "code",
   "execution_count": 41,
   "metadata": {},
   "outputs": [
    {
     "data": {
      "text/plain": [
       "<matplotlib.axes._subplots.AxesSubplot at 0x10f627eb8>"
      ]
     },
     "execution_count": 41,
     "metadata": {},
     "output_type": "execute_result"
    },
    {
     "data": {
      "image/png": "[encoded data removed]",
      "text/plain": [
       "<matplotlib.figure.Figure at 0x10f786588>"
      ]
     },
     "metadata": {},
     "output_type": "display_data"
    }
   ],
   "source": [
    "int_data2['Strategy'].hist(bins=40)"
   ]
  },
  {
   "cell_type": "code",
   "execution_count": 42,
   "metadata": {},
   "outputs": [
    {
     "data": {
      "text/plain": [
       "Strategy_C\n",
       "A    Axes(0.125,0.125;0.775x0.755)\n",
       "B    Axes(0.125,0.125;0.775x0.755)\n",
       "C    Axes(0.125,0.125;0.775x0.755)\n",
       "Name: Innovation, dtype: object"
      ]
     },
     "execution_count": 42,
     "metadata": {},
     "output_type": "execute_result"
    },
    {
     "data": {
      "image/png": "[encoded data removed]",
      "text/plain": [
       "<matplotlib.figure.Figure at 0x10fb47208>"
      ]
     },
     "metadata": {},
     "output_type": "display_data"
    }
   ],
   "source": [
    "#\n",
    "h = int_data2.groupby(['Strategy_C'])\n",
    "#h['Score'].hist(bins=40)\n",
    "#h['Strategy'].hist(bins=40)\n",
    "#h['Report'].hist(bins=40)\n",
    "h['Innovation'].hist(bins=40)\n",
    "#"
   ]
  },
  {
   "cell_type": "code",
   "execution_count": null,
   "metadata": {
    "collapsed": true
   },
   "outputs": [],
   "source": []
  }
 ],
 "metadata": {
  "kernelspec": {
   "display_name": "Python 3",
   "language": "python",
   "name": "python3"
  },
  "language_info": {
   "codemirror_mode": {
    "name": "ipython",
    "version": 3
   },
   "file_extension": ".py",
   "mimetype": "text/x-python",
   "name": "python",
   "nbconvert_exporter": "python",
   "pygments_lexer": "ipython3",
   "version": "3.5.3"
  }
 },
 "nbformat": 4,
 "nbformat_minor": 2
}
