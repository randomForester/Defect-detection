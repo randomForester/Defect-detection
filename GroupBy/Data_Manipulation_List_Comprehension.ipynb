{
 "cells": [
  {
   "cell_type": "code",
   "execution_count": 1,
   "metadata": {},
   "outputs": [
    {
     "data": {
      "text/plain": [
       "[0, 1, 4, 9, 16, 25, 36, 49, 64, 81]"
      ]
     },
     "execution_count": 1,
     "metadata": {},
     "output_type": "execute_result"
    }
   ],
   "source": [
    "[x**2 for x in range(0,10)]"
   ]
  },
  {
   "cell_type": "code",
   "execution_count": 2,
   "metadata": {},
   "outputs": [
    {
     "data": {
      "text/plain": [
       "[2, 4, 6, 8, 10, 12, 14, 16, 18]"
      ]
     },
     "execution_count": 2,
     "metadata": {},
     "output_type": "execute_result"
    }
   ],
   "source": [
    "[x for x in range(1,20) if x%2==0 ]"
   ]
  },
  {
   "cell_type": "code",
   "execution_count": 3,
   "metadata": {},
   "outputs": [
    {
     "data": {
      "text/plain": [
       "['A', 'E', 'A', 'I']"
      ]
     },
     "execution_count": 3,
     "metadata": {},
     "output_type": "execute_result"
    }
   ],
   "source": [
    "[x for x in 'MATHEMATICS' if x in ['A','E','I','O','U']]"
   ]
  },
  {
   "cell_type": "code",
   "execution_count": 4,
   "metadata": {},
   "outputs": [
    {
     "name": "stdout",
     "output_type": "stream",
     "text": [
      "1\n",
      "4\n",
      "9\n",
      "16\n",
      "25\n",
      "36\n",
      "49\n",
      "64\n",
      "81\n",
      "100\n"
     ]
    },
    {
     "data": {
      "text/plain": [
       "[1, 4, 9, 16, 25, 36, 49, 64, 81, 100]"
      ]
     },
     "execution_count": 4,
     "metadata": {},
     "output_type": "execute_result"
    }
   ],
   "source": [
    "#\n",
    "for i in range(1,101):       #the iterator\n",
    "   if int(i**0.5)==i**0.5:   #conditional filtering\n",
    "     print (i)               #output-expression\n",
    "#\n",
    "[i for i in range(1,101) if int(i**0.5)==i**0.5]\n",
    "#"
   ]
  },
  {
   "cell_type": "code",
   "execution_count": 5,
   "metadata": {},
   "outputs": [
    {
     "data": {
      "text/plain": [
       "matrix([[1, 2],\n",
       "        [3, 4]])"
      ]
     },
     "execution_count": 5,
     "metadata": {},
     "output_type": "execute_result"
    }
   ],
   "source": [
    "import numpy\n",
    "\n",
    "numpy.matrix([[1, 2],[3, 4]])"
   ]
  },
  {
   "cell_type": "code",
   "execution_count": 6,
   "metadata": {
    "collapsed": true
   },
   "outputs": [],
   "source": [
    "def eg1_for(matrix):\n",
    "    flat = []\n",
    "    for row in matrix:\n",
    "        for x in row:\n",
    "            flat.append(x)\n",
    "    return flat\n",
    "\n",
    "def eg1_lc(matrix):\n",
    "    return [x for row in matrix for x in row ]"
   ]
  },
  {
   "cell_type": "code",
   "execution_count": 7,
   "metadata": {},
   "outputs": [
    {
     "name": "stdout",
     "output_type": "stream",
     "text": [
      "Original Matrix: [[0, 1, 2, 3, 4], [5, 6, 7, 8, 9], [10, 11, 12, 13, 14]]\n",
      "FOR-loop result: [0, 1, 2, 3, 4, 5, 6, 7, 8, 9, 10, 11, 12, 13, 14]\n",
      "LC result      : [0, 1, 2, 3, 4, 5, 6, 7, 8, 9, 10, 11, 12, 13, 14]\n"
     ]
    }
   ],
   "source": [
    "matrix = [ list(range(0,5)), list(range(5,10)), list(range(10,15)) ]\n",
    "print (\"Original Matrix: \" + str(matrix))\n",
    "print (\"FOR-loop result: \" + str(eg1_for(matrix)))\n",
    "print (\"LC result      : \" + str(eg1_lc(matrix)))"
   ]
  },
  {
   "cell_type": "code",
   "execution_count": 8,
   "metadata": {
    "collapsed": true
   },
   "outputs": [],
   "source": [
    "def eg2_for(sentence):\n",
    "    vowels = 'aeiou'\n",
    "    filtered_list = []\n",
    "    for l in sentence:\n",
    "        if l not in vowels:\n",
    "            filtered_list.append(l)\n",
    "    return ''.join(filtered_list)\n",
    "\n",
    "def eg2_lc(sentence):\n",
    "    vowels = 'aeiou'\n",
    "    return ''.join([ l for l in sentence if l not in vowels])"
   ]
  },
  {
   "cell_type": "code",
   "execution_count": 9,
   "metadata": {},
   "outputs": [
    {
     "name": "stdout",
     "output_type": "stream",
     "text": [
      "FOR-loop result: My nm s Arshy Jn!\n",
      "LC result      : My nm s Arshy Jn!\n"
     ]
    }
   ],
   "source": [
    "sentence = 'My name is Aarshay Jain!'\n",
    "print (\"FOR-loop result: \" + eg2_for(sentence))\n",
    "print (\"LC result      : \" + eg2_lc(sentence))"
   ]
  },
  {
   "cell_type": "code",
   "execution_count": 10,
   "metadata": {
    "collapsed": true
   },
   "outputs": [],
   "source": [
    "def eg3_for(keys, values):\n",
    "    dic = {}\n",
    "    for i in range(len(keys)):\n",
    "        dic[keys[i]] = values[i]\n",
    "    return dic\n",
    "\n",
    "def eg3_lc(keys, values):\n",
    "    return { keys[i] : values[i] for i in range(len(keys)) }"
   ]
  },
  {
   "cell_type": "code",
   "execution_count": 11,
   "metadata": {},
   "outputs": [
    {
     "name": "stdout",
     "output_type": "stream",
     "text": [
      "FOR-loop : {'India': 'New Delhi', 'China': 'Beijing', 'Pakistan': 'Islamabad', 'Nepal': 'Kathmandu'}\n",
      "LC       : {'India': 'New Delhi', 'China': 'Beijing', 'Pakistan': 'Islamabad', 'Nepal': 'Kathmandu'}\n"
     ]
    }
   ],
   "source": [
    "country = ['India', 'Pakistan', 'Nepal', 'China']\n",
    "capital = ['New Delhi', 'Islamabad','Kathmandu', 'Beijing']\n",
    "print (\"FOR-loop : \" + str(eg3_for(country, capital)))\n",
    "print (\"LC       : \" + str(eg3_lc(country, capital)))"
   ]
  },
  {
   "cell_type": "code",
   "execution_count": 12,
   "metadata": {
    "collapsed": true
   },
   "outputs": [],
   "source": [
    "##########################\n",
    "# Reading a list of list #\n",
    "##########################"
   ]
  },
  {
   "cell_type": "code",
   "execution_count": 13,
   "metadata": {},
   "outputs": [
    {
     "name": "stdout",
     "output_type": "stream",
     "text": [
      "    personID                            skills\n",
      "0          1      cricket;tabletennis;football\n",
      "1          2             tabletennis;badminton\n",
      "2          3                       tabletennis\n",
      "3          4    cricket;tabletennis;volleyball\n",
      "4          5               football;volleyball\n",
      "5          6              tabletennis;football\n",
      "6          7      cricket;volleyball;badminton\n",
      "7          8                  football;cricket\n",
      "8          9  badminton;tabletennis;volleyball\n",
      "9         10                cricket;volleyball\n",
      "10        11                football;badminton\n",
      "11        12       cricket;volleyball;football\n",
      "12        13               football;volleyball\n",
      "13        14                         badminton\n",
      "14        15      cricket;football;tabletennis\n"
     ]
    }
   ],
   "source": [
    "import pandas as pd\n",
    "\n",
    "data = pd.read_csv(\"/Users/cesare.chung/Downloads/skills.csv\")\n",
    "\n",
    "print (data)"
   ]
  },
  {
   "cell_type": "code",
   "execution_count": 14,
   "metadata": {},
   "outputs": [
    {
     "name": "stdout",
     "output_type": "stream",
     "text": [
      "0         [cricket, tabletennis, football]\n",
      "1                 [tabletennis, badminton]\n",
      "2                            [tabletennis]\n",
      "3       [cricket, tabletennis, volleyball]\n",
      "4                   [football, volleyball]\n",
      "5                  [tabletennis, football]\n",
      "6         [cricket, volleyball, badminton]\n",
      "7                      [football, cricket]\n",
      "8     [badminton, tabletennis, volleyball]\n",
      "9                    [cricket, volleyball]\n",
      "10                   [football, badminton]\n",
      "11         [cricket, volleyball, football]\n",
      "12                  [football, volleyball]\n",
      "13                             [badminton]\n",
      "14        [cricket, football, tabletennis]\n",
      "Name: skills_list, dtype: object\n"
     ]
    }
   ],
   "source": [
    "data['skills_list'] = data['skills'].apply(lambda x: x.split(';'))\n",
    "print (data['skills_list'])"
   ]
  },
  {
   "cell_type": "code",
   "execution_count": 15,
   "metadata": {},
   "outputs": [
    {
     "data": {
      "text/html": [
       "<div>\n",
       "<style>\n",
       "    .dataframe thead tr:only-child th {\n",
       "        text-align: right;\n",
       "    }\n",
       "\n",
       "    .dataframe thead th {\n",
       "        text-align: left;\n",
       "    }\n",
       "\n",
       "    .dataframe tbody tr th {\n",
       "        vertical-align: top;\n",
       "    }\n",
       "</style>\n",
       "<table border=\"1\" class=\"dataframe\">\n",
       "  <thead>\n",
       "    <tr style=\"text-align: right;\">\n",
       "      <th></th>\n",
       "      <th>personID</th>\n",
       "      <th>skills</th>\n",
       "      <th>skills_list</th>\n",
       "    </tr>\n",
       "  </thead>\n",
       "  <tbody>\n",
       "    <tr>\n",
       "      <th>0</th>\n",
       "      <td>1</td>\n",
       "      <td>cricket;tabletennis;football</td>\n",
       "      <td>[cricket, tabletennis, football]</td>\n",
       "    </tr>\n",
       "    <tr>\n",
       "      <th>1</th>\n",
       "      <td>2</td>\n",
       "      <td>tabletennis;badminton</td>\n",
       "      <td>[tabletennis, badminton]</td>\n",
       "    </tr>\n",
       "    <tr>\n",
       "      <th>2</th>\n",
       "      <td>3</td>\n",
       "      <td>tabletennis</td>\n",
       "      <td>[tabletennis]</td>\n",
       "    </tr>\n",
       "    <tr>\n",
       "      <th>3</th>\n",
       "      <td>4</td>\n",
       "      <td>cricket;tabletennis;volleyball</td>\n",
       "      <td>[cricket, tabletennis, volleyball]</td>\n",
       "    </tr>\n",
       "    <tr>\n",
       "      <th>4</th>\n",
       "      <td>5</td>\n",
       "      <td>football;volleyball</td>\n",
       "      <td>[football, volleyball]</td>\n",
       "    </tr>\n",
       "    <tr>\n",
       "      <th>5</th>\n",
       "      <td>6</td>\n",
       "      <td>tabletennis;football</td>\n",
       "      <td>[tabletennis, football]</td>\n",
       "    </tr>\n",
       "    <tr>\n",
       "      <th>6</th>\n",
       "      <td>7</td>\n",
       "      <td>cricket;volleyball;badminton</td>\n",
       "      <td>[cricket, volleyball, badminton]</td>\n",
       "    </tr>\n",
       "    <tr>\n",
       "      <th>7</th>\n",
       "      <td>8</td>\n",
       "      <td>football;cricket</td>\n",
       "      <td>[football, cricket]</td>\n",
       "    </tr>\n",
       "    <tr>\n",
       "      <th>8</th>\n",
       "      <td>9</td>\n",
       "      <td>badminton;tabletennis;volleyball</td>\n",
       "      <td>[badminton, tabletennis, volleyball]</td>\n",
       "    </tr>\n",
       "    <tr>\n",
       "      <th>9</th>\n",
       "      <td>10</td>\n",
       "      <td>cricket;volleyball</td>\n",
       "      <td>[cricket, volleyball]</td>\n",
       "    </tr>\n",
       "    <tr>\n",
       "      <th>10</th>\n",
       "      <td>11</td>\n",
       "      <td>football;badminton</td>\n",
       "      <td>[football, badminton]</td>\n",
       "    </tr>\n",
       "    <tr>\n",
       "      <th>11</th>\n",
       "      <td>12</td>\n",
       "      <td>cricket;volleyball;football</td>\n",
       "      <td>[cricket, volleyball, football]</td>\n",
       "    </tr>\n",
       "    <tr>\n",
       "      <th>12</th>\n",
       "      <td>13</td>\n",
       "      <td>football;volleyball</td>\n",
       "      <td>[football, volleyball]</td>\n",
       "    </tr>\n",
       "    <tr>\n",
       "      <th>13</th>\n",
       "      <td>14</td>\n",
       "      <td>badminton</td>\n",
       "      <td>[badminton]</td>\n",
       "    </tr>\n",
       "    <tr>\n",
       "      <th>14</th>\n",
       "      <td>15</td>\n",
       "      <td>cricket;football;tabletennis</td>\n",
       "      <td>[cricket, football, tabletennis]</td>\n",
       "    </tr>\n",
       "  </tbody>\n",
       "</table>\n",
       "</div>"
      ],
      "text/plain": [
       "    personID                            skills  \\\n",
       "0          1      cricket;tabletennis;football   \n",
       "1          2             tabletennis;badminton   \n",
       "2          3                       tabletennis   \n",
       "3          4    cricket;tabletennis;volleyball   \n",
       "4          5               football;volleyball   \n",
       "5          6              tabletennis;football   \n",
       "6          7      cricket;volleyball;badminton   \n",
       "7          8                  football;cricket   \n",
       "8          9  badminton;tabletennis;volleyball   \n",
       "9         10                cricket;volleyball   \n",
       "10        11                football;badminton   \n",
       "11        12       cricket;volleyball;football   \n",
       "12        13               football;volleyball   \n",
       "13        14                         badminton   \n",
       "14        15      cricket;football;tabletennis   \n",
       "\n",
       "                             skills_list  \n",
       "0       [cricket, tabletennis, football]  \n",
       "1               [tabletennis, badminton]  \n",
       "2                          [tabletennis]  \n",
       "3     [cricket, tabletennis, volleyball]  \n",
       "4                 [football, volleyball]  \n",
       "5                [tabletennis, football]  \n",
       "6       [cricket, volleyball, badminton]  \n",
       "7                    [football, cricket]  \n",
       "8   [badminton, tabletennis, volleyball]  \n",
       "9                  [cricket, volleyball]  \n",
       "10                 [football, badminton]  \n",
       "11       [cricket, volleyball, football]  \n",
       "12                [football, volleyball]  \n",
       "13                           [badminton]  \n",
       "14      [cricket, football, tabletennis]  "
      ]
     },
     "execution_count": 15,
     "metadata": {},
     "output_type": "execute_result"
    }
   ],
   "source": [
    "data"
   ]
  },
  {
   "cell_type": "code",
   "execution_count": 16,
   "metadata": {
    "collapsed": true
   },
   "outputs": [],
   "source": [
    "#Initialize the set\n",
    "skills_unq = set()\n",
    "\n",
    "#Update each entry into set. Since it takes only unique value, duplicates will be ignored automatically.\n",
    "skills_unq.update( (sport for l in data['skills_list'] for sport in l) )"
   ]
  },
  {
   "cell_type": "code",
   "execution_count": 17,
   "metadata": {},
   "outputs": [
    {
     "name": "stdout",
     "output_type": "stream",
     "text": [
      "{'cricket', 'volleyball', 'football', 'tabletennis', 'badminton'}\n"
     ]
    }
   ],
   "source": [
    "print (skills_unq)"
   ]
  },
  {
   "cell_type": "code",
   "execution_count": 18,
   "metadata": {
    "collapsed": true
   },
   "outputs": [],
   "source": [
    "#Convert set to list:\n",
    "\n",
    "skills_unq = list(skills_unq)\n",
    "sport_matrix = [ [1 if skill in row else 0 for skill in skills_unq] for row in data['skills_list']  ]\n"
   ]
  },
  {
   "cell_type": "code",
   "execution_count": 19,
   "metadata": {},
   "outputs": [
    {
     "name": "stdout",
     "output_type": "stream",
     "text": [
      "[[1, 0, 1, 1, 0], [0, 0, 0, 1, 1], [0, 0, 0, 1, 0], [1, 1, 0, 1, 0], [0, 1, 1, 0, 0], [0, 0, 1, 1, 0], [1, 1, 0, 0, 1], [1, 0, 1, 0, 0], [0, 1, 0, 1, 1], [1, 1, 0, 0, 0], [0, 0, 1, 0, 1], [1, 1, 1, 0, 0], [0, 1, 1, 0, 0], [0, 0, 0, 0, 1], [1, 0, 1, 1, 0]]\n"
     ]
    },
    {
     "data": {
      "text/plain": [
       "[[1, 0, 1, 1, 0],\n",
       " [0, 0, 0, 1, 1],\n",
       " [0, 0, 0, 1, 0],\n",
       " [1, 1, 0, 1, 0],\n",
       " [0, 1, 1, 0, 0],\n",
       " [0, 0, 1, 1, 0],\n",
       " [1, 1, 0, 0, 1],\n",
       " [1, 0, 1, 0, 0],\n",
       " [0, 1, 0, 1, 1],\n",
       " [1, 1, 0, 0, 0],\n",
       " [0, 0, 1, 0, 1],\n",
       " [1, 1, 1, 0, 0],\n",
       " [0, 1, 1, 0, 0],\n",
       " [0, 0, 0, 0, 1],\n",
       " [1, 0, 1, 1, 0]]"
      ]
     },
     "execution_count": 19,
     "metadata": {},
     "output_type": "execute_result"
    }
   ],
   "source": [
    "print (sport_matrix)\n",
    "sport_matrix"
   ]
  },
  {
   "cell_type": "code",
   "execution_count": 20,
   "metadata": {},
   "outputs": [
    {
     "data": {
      "text/plain": [
       "['cricket', 'volleyball', 'football', 'tabletennis', 'badminton']"
      ]
     },
     "execution_count": 20,
     "metadata": {},
     "output_type": "execute_result"
    }
   ],
   "source": [
    "skills_unq"
   ]
  },
  {
   "cell_type": "code",
   "execution_count": 21,
   "metadata": {},
   "outputs": [
    {
     "data": {
      "text/html": [
       "<div>\n",
       "<style>\n",
       "    .dataframe thead tr:only-child th {\n",
       "        text-align: right;\n",
       "    }\n",
       "\n",
       "    .dataframe thead th {\n",
       "        text-align: left;\n",
       "    }\n",
       "\n",
       "    .dataframe tbody tr th {\n",
       "        vertical-align: top;\n",
       "    }\n",
       "</style>\n",
       "<table border=\"1\" class=\"dataframe\">\n",
       "  <thead>\n",
       "    <tr style=\"text-align: right;\">\n",
       "      <th></th>\n",
       "      <th>personID</th>\n",
       "      <th>skills</th>\n",
       "      <th>skills_list</th>\n",
       "      <th>cricket</th>\n",
       "      <th>volleyball</th>\n",
       "      <th>football</th>\n",
       "      <th>tabletennis</th>\n",
       "      <th>badminton</th>\n",
       "    </tr>\n",
       "  </thead>\n",
       "  <tbody>\n",
       "    <tr>\n",
       "      <th>0</th>\n",
       "      <td>1</td>\n",
       "      <td>cricket;tabletennis;football</td>\n",
       "      <td>[cricket, tabletennis, football]</td>\n",
       "      <td>1</td>\n",
       "      <td>0</td>\n",
       "      <td>1</td>\n",
       "      <td>1</td>\n",
       "      <td>0</td>\n",
       "    </tr>\n",
       "    <tr>\n",
       "      <th>1</th>\n",
       "      <td>2</td>\n",
       "      <td>tabletennis;badminton</td>\n",
       "      <td>[tabletennis, badminton]</td>\n",
       "      <td>0</td>\n",
       "      <td>0</td>\n",
       "      <td>0</td>\n",
       "      <td>1</td>\n",
       "      <td>1</td>\n",
       "    </tr>\n",
       "    <tr>\n",
       "      <th>2</th>\n",
       "      <td>3</td>\n",
       "      <td>tabletennis</td>\n",
       "      <td>[tabletennis]</td>\n",
       "      <td>0</td>\n",
       "      <td>0</td>\n",
       "      <td>0</td>\n",
       "      <td>1</td>\n",
       "      <td>0</td>\n",
       "    </tr>\n",
       "    <tr>\n",
       "      <th>3</th>\n",
       "      <td>4</td>\n",
       "      <td>cricket;tabletennis;volleyball</td>\n",
       "      <td>[cricket, tabletennis, volleyball]</td>\n",
       "      <td>1</td>\n",
       "      <td>1</td>\n",
       "      <td>0</td>\n",
       "      <td>1</td>\n",
       "      <td>0</td>\n",
       "    </tr>\n",
       "    <tr>\n",
       "      <th>4</th>\n",
       "      <td>5</td>\n",
       "      <td>football;volleyball</td>\n",
       "      <td>[football, volleyball]</td>\n",
       "      <td>0</td>\n",
       "      <td>1</td>\n",
       "      <td>1</td>\n",
       "      <td>0</td>\n",
       "      <td>0</td>\n",
       "    </tr>\n",
       "    <tr>\n",
       "      <th>5</th>\n",
       "      <td>6</td>\n",
       "      <td>tabletennis;football</td>\n",
       "      <td>[tabletennis, football]</td>\n",
       "      <td>0</td>\n",
       "      <td>0</td>\n",
       "      <td>1</td>\n",
       "      <td>1</td>\n",
       "      <td>0</td>\n",
       "    </tr>\n",
       "    <tr>\n",
       "      <th>6</th>\n",
       "      <td>7</td>\n",
       "      <td>cricket;volleyball;badminton</td>\n",
       "      <td>[cricket, volleyball, badminton]</td>\n",
       "      <td>1</td>\n",
       "      <td>1</td>\n",
       "      <td>0</td>\n",
       "      <td>0</td>\n",
       "      <td>1</td>\n",
       "    </tr>\n",
       "    <tr>\n",
       "      <th>7</th>\n",
       "      <td>8</td>\n",
       "      <td>football;cricket</td>\n",
       "      <td>[football, cricket]</td>\n",
       "      <td>1</td>\n",
       "      <td>0</td>\n",
       "      <td>1</td>\n",
       "      <td>0</td>\n",
       "      <td>0</td>\n",
       "    </tr>\n",
       "    <tr>\n",
       "      <th>8</th>\n",
       "      <td>9</td>\n",
       "      <td>badminton;tabletennis;volleyball</td>\n",
       "      <td>[badminton, tabletennis, volleyball]</td>\n",
       "      <td>0</td>\n",
       "      <td>1</td>\n",
       "      <td>0</td>\n",
       "      <td>1</td>\n",
       "      <td>1</td>\n",
       "    </tr>\n",
       "    <tr>\n",
       "      <th>9</th>\n",
       "      <td>10</td>\n",
       "      <td>cricket;volleyball</td>\n",
       "      <td>[cricket, volleyball]</td>\n",
       "      <td>1</td>\n",
       "      <td>1</td>\n",
       "      <td>0</td>\n",
       "      <td>0</td>\n",
       "      <td>0</td>\n",
       "    </tr>\n",
       "    <tr>\n",
       "      <th>10</th>\n",
       "      <td>11</td>\n",
       "      <td>football;badminton</td>\n",
       "      <td>[football, badminton]</td>\n",
       "      <td>0</td>\n",
       "      <td>0</td>\n",
       "      <td>1</td>\n",
       "      <td>0</td>\n",
       "      <td>1</td>\n",
       "    </tr>\n",
       "    <tr>\n",
       "      <th>11</th>\n",
       "      <td>12</td>\n",
       "      <td>cricket;volleyball;football</td>\n",
       "      <td>[cricket, volleyball, football]</td>\n",
       "      <td>1</td>\n",
       "      <td>1</td>\n",
       "      <td>1</td>\n",
       "      <td>0</td>\n",
       "      <td>0</td>\n",
       "    </tr>\n",
       "    <tr>\n",
       "      <th>12</th>\n",
       "      <td>13</td>\n",
       "      <td>football;volleyball</td>\n",
       "      <td>[football, volleyball]</td>\n",
       "      <td>0</td>\n",
       "      <td>1</td>\n",
       "      <td>1</td>\n",
       "      <td>0</td>\n",
       "      <td>0</td>\n",
       "    </tr>\n",
       "    <tr>\n",
       "      <th>13</th>\n",
       "      <td>14</td>\n",
       "      <td>badminton</td>\n",
       "      <td>[badminton]</td>\n",
       "      <td>0</td>\n",
       "      <td>0</td>\n",
       "      <td>0</td>\n",
       "      <td>0</td>\n",
       "      <td>1</td>\n",
       "    </tr>\n",
       "    <tr>\n",
       "      <th>14</th>\n",
       "      <td>15</td>\n",
       "      <td>cricket;football;tabletennis</td>\n",
       "      <td>[cricket, football, tabletennis]</td>\n",
       "      <td>1</td>\n",
       "      <td>0</td>\n",
       "      <td>1</td>\n",
       "      <td>1</td>\n",
       "      <td>0</td>\n",
       "    </tr>\n",
       "  </tbody>\n",
       "</table>\n",
       "</div>"
      ],
      "text/plain": [
       "    personID                            skills  \\\n",
       "0          1      cricket;tabletennis;football   \n",
       "1          2             tabletennis;badminton   \n",
       "2          3                       tabletennis   \n",
       "3          4    cricket;tabletennis;volleyball   \n",
       "4          5               football;volleyball   \n",
       "5          6              tabletennis;football   \n",
       "6          7      cricket;volleyball;badminton   \n",
       "7          8                  football;cricket   \n",
       "8          9  badminton;tabletennis;volleyball   \n",
       "9         10                cricket;volleyball   \n",
       "10        11                football;badminton   \n",
       "11        12       cricket;volleyball;football   \n",
       "12        13               football;volleyball   \n",
       "13        14                         badminton   \n",
       "14        15      cricket;football;tabletennis   \n",
       "\n",
       "                             skills_list  cricket  volleyball  football  \\\n",
       "0       [cricket, tabletennis, football]        1           0         1   \n",
       "1               [tabletennis, badminton]        0           0         0   \n",
       "2                          [tabletennis]        0           0         0   \n",
       "3     [cricket, tabletennis, volleyball]        1           1         0   \n",
       "4                 [football, volleyball]        0           1         1   \n",
       "5                [tabletennis, football]        0           0         1   \n",
       "6       [cricket, volleyball, badminton]        1           1         0   \n",
       "7                    [football, cricket]        1           0         1   \n",
       "8   [badminton, tabletennis, volleyball]        0           1         0   \n",
       "9                  [cricket, volleyball]        1           1         0   \n",
       "10                 [football, badminton]        0           0         1   \n",
       "11       [cricket, volleyball, football]        1           1         1   \n",
       "12                [football, volleyball]        0           1         1   \n",
       "13                           [badminton]        0           0         0   \n",
       "14      [cricket, football, tabletennis]        1           0         1   \n",
       "\n",
       "    tabletennis  badminton  \n",
       "0             1          0  \n",
       "1             1          1  \n",
       "2             1          0  \n",
       "3             1          0  \n",
       "4             0          0  \n",
       "5             1          0  \n",
       "6             0          1  \n",
       "7             0          0  \n",
       "8             1          1  \n",
       "9             0          0  \n",
       "10            0          1  \n",
       "11            0          0  \n",
       "12            0          0  \n",
       "13            0          1  \n",
       "14            1          0  "
      ]
     },
     "execution_count": 21,
     "metadata": {},
     "output_type": "execute_result"
    }
   ],
   "source": [
    "data = pd.concat([data, pd.DataFrame(sport_matrix,columns=skills_unq)],axis=1)\n",
    "data"
   ]
  },
  {
   "cell_type": "code",
   "execution_count": 22,
   "metadata": {
    "collapsed": true
   },
   "outputs": [],
   "source": [
    "#################### \n",
    "# Creating powers  #\n",
    "####################"
   ]
  },
  {
   "cell_type": "code",
   "execution_count": 23,
   "metadata": {},
   "outputs": [
    {
     "data": {
      "text/html": [
       "<div>\n",
       "<style>\n",
       "    .dataframe thead tr:only-child th {\n",
       "        text-align: right;\n",
       "    }\n",
       "\n",
       "    .dataframe thead th {\n",
       "        text-align: left;\n",
       "    }\n",
       "\n",
       "    .dataframe tbody tr th {\n",
       "        vertical-align: top;\n",
       "    }\n",
       "</style>\n",
       "<table border=\"1\" class=\"dataframe\">\n",
       "  <thead>\n",
       "    <tr style=\"text-align: right;\">\n",
       "      <th></th>\n",
       "      <th>number</th>\n",
       "    </tr>\n",
       "  </thead>\n",
       "  <tbody>\n",
       "    <tr>\n",
       "      <th>0</th>\n",
       "      <td>1</td>\n",
       "    </tr>\n",
       "    <tr>\n",
       "      <th>1</th>\n",
       "      <td>2</td>\n",
       "    </tr>\n",
       "    <tr>\n",
       "      <th>2</th>\n",
       "      <td>3</td>\n",
       "    </tr>\n",
       "    <tr>\n",
       "      <th>3</th>\n",
       "      <td>4</td>\n",
       "    </tr>\n",
       "    <tr>\n",
       "      <th>4</th>\n",
       "      <td>5</td>\n",
       "    </tr>\n",
       "  </tbody>\n",
       "</table>\n",
       "</div>"
      ],
      "text/plain": [
       "   number\n",
       "0       1\n",
       "1       2\n",
       "2       3\n",
       "3       4\n",
       "4       5"
      ]
     },
     "execution_count": 23,
     "metadata": {},
     "output_type": "execute_result"
    }
   ],
   "source": [
    "data2 = pd.DataFrame([1,2,3,4,5], columns=['number'])\n",
    "data2"
   ]
  },
  {
   "cell_type": "code",
   "execution_count": 24,
   "metadata": {},
   "outputs": [
    {
     "data": {
      "text/plain": [
       "[[1, 1, 1, 1, 1],\n",
       " [4, 8, 16, 32, 64],\n",
       " [9, 27, 81, 243, 729],\n",
       " [16, 64, 256, 1024, 4096],\n",
       " [25, 125, 625, 3125, 15625]]"
      ]
     },
     "execution_count": 24,
     "metadata": {},
     "output_type": "execute_result"
    }
   ],
   "source": [
    "#Define the degree:\n",
    "deg=6\n",
    "#Create the matrix:\n",
    "power_matrix = [ [i**p for p in range(2,deg+1) ] for i in data2['number'] ]  \n",
    "power_matrix"
   ]
  },
  {
   "cell_type": "code",
   "execution_count": 25,
   "metadata": {},
   "outputs": [
    {
     "data": {
      "text/html": [
       "<div>\n",
       "<style>\n",
       "    .dataframe thead tr:only-child th {\n",
       "        text-align: right;\n",
       "    }\n",
       "\n",
       "    .dataframe thead th {\n",
       "        text-align: left;\n",
       "    }\n",
       "\n",
       "    .dataframe tbody tr th {\n",
       "        vertical-align: top;\n",
       "    }\n",
       "</style>\n",
       "<table border=\"1\" class=\"dataframe\">\n",
       "  <thead>\n",
       "    <tr style=\"text-align: right;\">\n",
       "      <th></th>\n",
       "      <th>number</th>\n",
       "      <th>power_2</th>\n",
       "      <th>power_3</th>\n",
       "      <th>power_4</th>\n",
       "      <th>power_5</th>\n",
       "      <th>power_6</th>\n",
       "    </tr>\n",
       "  </thead>\n",
       "  <tbody>\n",
       "    <tr>\n",
       "      <th>0</th>\n",
       "      <td>1</td>\n",
       "      <td>1</td>\n",
       "      <td>1</td>\n",
       "      <td>1</td>\n",
       "      <td>1</td>\n",
       "      <td>1</td>\n",
       "    </tr>\n",
       "    <tr>\n",
       "      <th>1</th>\n",
       "      <td>2</td>\n",
       "      <td>4</td>\n",
       "      <td>8</td>\n",
       "      <td>16</td>\n",
       "      <td>32</td>\n",
       "      <td>64</td>\n",
       "    </tr>\n",
       "    <tr>\n",
       "      <th>2</th>\n",
       "      <td>3</td>\n",
       "      <td>9</td>\n",
       "      <td>27</td>\n",
       "      <td>81</td>\n",
       "      <td>243</td>\n",
       "      <td>729</td>\n",
       "    </tr>\n",
       "    <tr>\n",
       "      <th>3</th>\n",
       "      <td>4</td>\n",
       "      <td>16</td>\n",
       "      <td>64</td>\n",
       "      <td>256</td>\n",
       "      <td>1024</td>\n",
       "      <td>4096</td>\n",
       "    </tr>\n",
       "    <tr>\n",
       "      <th>4</th>\n",
       "      <td>5</td>\n",
       "      <td>25</td>\n",
       "      <td>125</td>\n",
       "      <td>625</td>\n",
       "      <td>3125</td>\n",
       "      <td>15625</td>\n",
       "    </tr>\n",
       "  </tbody>\n",
       "</table>\n",
       "</div>"
      ],
      "text/plain": [
       "   number  power_2  power_3  power_4  power_5  power_6\n",
       "0       1        1        1        1        1        1\n",
       "1       2        4        8       16       32       64\n",
       "2       3        9       27       81      243      729\n",
       "3       4       16       64      256     1024     4096\n",
       "4       5       25      125      625     3125    15625"
      ]
     },
     "execution_count": 25,
     "metadata": {},
     "output_type": "execute_result"
    }
   ],
   "source": [
    "cols = ['power_%d'%i for i in range(2,deg+1)]\n",
    "data2 = pd.concat([data2, pd.DataFrame(power_matrix,columns=cols)],axis=1)\n",
    "data2"
   ]
  },
  {
   "cell_type": "code",
   "execution_count": 26,
   "metadata": {
    "collapsed": true
   },
   "outputs": [],
   "source": [
    "##########################\n",
    "# Filtering column names #\n",
    "##########################"
   ]
  },
  {
   "cell_type": "code",
   "execution_count": 27,
   "metadata": {
    "collapsed": true
   },
   "outputs": [],
   "source": [
    "cols = ['a','b','c','d','a_transform','b_transform','c_transform','d_power2','d_power3','d_power4','d_power5','temp1','temp2']"
   ]
  },
  {
   "cell_type": "code",
   "execution_count": 28,
   "metadata": {
    "collapsed": true
   },
   "outputs": [],
   "source": [
    "col_set1 = [x for x in cols if x.endswith('transform')]\n",
    "col_set2 = [x for x in cols if 'power' in x]\n",
    "col_set3 = [x for x in cols if (x.endswith('transform')) | ('power' in x)]\n",
    "col_set4 = [x for x in cols if x not in ['temp1','temp2']]\n"
   ]
  },
  {
   "cell_type": "code",
   "execution_count": 29,
   "metadata": {},
   "outputs": [
    {
     "name": "stdout",
     "output_type": "stream",
     "text": [
      "Set1:  ['a_transform', 'b_transform', 'c_transform']\n",
      "Set2:  ['d_power2', 'd_power3', 'd_power4', 'd_power5']\n",
      "Set3:  ['a_transform', 'b_transform', 'c_transform', 'd_power2', 'd_power3', 'd_power4', 'd_power5']\n",
      "Set4:  ['a', 'b', 'c', 'd', 'a_transform', 'b_transform', 'c_transform', 'd_power2', 'd_power3', 'd_power4', 'd_power5']\n"
     ]
    }
   ],
   "source": [
    "print ('Set1: ', col_set1)\n",
    "print ('Set2: ', col_set2)\n",
    "print ('Set3: ', col_set3)\n",
    "print ('Set4: ', col_set4)"
   ]
  },
  {
   "cell_type": "code",
   "execution_count": null,
   "metadata": {
    "collapsed": true
   },
   "outputs": [],
   "source": []
  }
 ],
 "metadata": {
  "kernelspec": {
   "display_name": "Python 3",
   "language": "python",
   "name": "python3"
  },
  "language_info": {
   "codemirror_mode": {
    "name": "ipython",
    "version": 3
   },
   "file_extension": ".py",
   "mimetype": "text/x-python",
   "name": "python",
   "nbconvert_exporter": "python",
   "pygments_lexer": "ipython3",
   "version": "3.5.3"
  }
 },
 "nbformat": 4,
 "nbformat_minor": 2
}
