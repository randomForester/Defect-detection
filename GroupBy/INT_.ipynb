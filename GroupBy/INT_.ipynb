{
 "cells": [
  {
   "cell_type": "code",
   "execution_count": 1,
   "metadata": {
    "collapsed": true
   },
   "outputs": [],
   "source": [
    "import pandas as pd\n",
    "import numpy as np"
   ]
  },
  {
   "cell_type": "code",
   "execution_count": 2,
   "metadata": {},
   "outputs": [
    {
     "name": "stdout",
     "output_type": "stream",
     "text": [
      "/Users/cesare.chung/Downloads/INT_Statistics2\n"
     ]
    }
   ],
   "source": [
    "import os;\n",
    "os.chdir(\"/Users/cesare.chung/Downloads/INT_Statistics2/\")\n",
    "\n",
    "print (os.getcwd());"
   ]
  },
  {
   "cell_type": "code",
   "execution_count": 3,
   "metadata": {
    "collapsed": true
   },
   "outputs": [],
   "source": [
    "int_data  = pd.read_csv(\"UHPD1102.csv\")"
   ]
  },
  {
   "cell_type": "code",
   "execution_count": 5,
   "metadata": {},
   "outputs": [],
   "source": [
    "#int_data.head()"
   ]
  },
  {
   "cell_type": "code",
   "execution_count": 6,
   "metadata": {
    "collapsed": true
   },
   "outputs": [],
   "source": [
    "int_data2 = int_data[[\"Project\",\"Domain\",\"Phase\",\"Milestone\",\"Items\",\"KPI\",\"End_Date\",\"End_Date_A\",\"Name\",\"Start_Date\"]]\n"
   ]
  },
  {
   "cell_type": "code",
   "execution_count": 10,
   "metadata": {},
   "outputs": [],
   "source": [
    "#int_data2.head()"
   ]
  },
  {
   "cell_type": "code",
   "execution_count": 11,
   "metadata": {
    "collapsed": true
   },
   "outputs": [],
   "source": [
    "int_data2=int_data2[(int_data2.Milestone == 'Y') | (int_data2.Milestone == 'K')]"
   ]
  },
  {
   "cell_type": "code",
   "execution_count": 12,
   "metadata": {},
   "outputs": [
    {
     "data": {
      "text/plain": [
       "(144, 10)"
      ]
     },
     "execution_count": 12,
     "metadata": {},
     "output_type": "execute_result"
    }
   ],
   "source": [
    "int_data2.shape"
   ]
  },
  {
   "cell_type": "code",
   "execution_count": 13,
   "metadata": {
    "collapsed": true
   },
   "outputs": [],
   "source": [
    "int_data2 = int_data2[[\"Project\",\"Domain\",\"Phase\",\"Milestone\",\"Items\",\"KPI\",\"End_Date\",\"End_Date_A\",\"Name\"]]\n"
   ]
  },
  {
   "cell_type": "code",
   "execution_count": 15,
   "metadata": {},
   "outputs": [],
   "source": [
    "#int_data2"
   ]
  },
  {
   "cell_type": "code",
   "execution_count": 16,
   "metadata": {
    "collapsed": true,
    "scrolled": true
   },
   "outputs": [],
   "source": [
    "int_data2=int_data2.rename(columns={'Project': '專案','Phase': '階段','Items': '項目',\n",
    "                          'End_Date': '完成時間','End_Date_A': '實際完成時間','Name': '備註'})"
   ]
  },
  {
   "cell_type": "code",
   "execution_count": 18,
   "metadata": {
    "scrolled": true
   },
   "outputs": [],
   "source": [
    "#int_data2.備註"
   ]
  },
  {
   "cell_type": "code",
   "execution_count": 20,
   "metadata": {},
   "outputs": [],
   "source": [
    "#int_data2[(int_data2.備註 == 'James') | (int_data2.備註 == 'Cesare/James')]\n",
    "#int_data2[(int_data2.備註 == 'Anna')  | (int_data2.備註 == 'Anna/Cesare')]"
   ]
  },
  {
   "cell_type": "code",
   "execution_count": 22,
   "metadata": {
    "scrolled": true
   },
   "outputs": [],
   "source": [
    "#int_data2['備註'].value_counts()"
   ]
  },
  {
   "cell_type": "code",
   "execution_count": 23,
   "metadata": {
    "collapsed": true
   },
   "outputs": [],
   "source": [
    "####################\n",
    "# Members          # (1)\n",
    "####################"
   ]
  },
  {
   "cell_type": "code",
   "execution_count": 24,
   "metadata": {},
   "outputs": [
    {
     "name": "stdout",
     "output_type": "stream",
     "text": [
      "There are 19 Killer\n"
     ]
    }
   ],
   "source": [
    "killer_count = int_data2['備註'].str.contains('Killer').sum()\n",
    "if killer_count > 0:\n",
    "    print (\"There are {m} Killer\".format(m=killer_count))"
   ]
  },
  {
   "cell_type": "code",
   "execution_count": 25,
   "metadata": {},
   "outputs": [
    {
     "name": "stdout",
     "output_type": "stream",
     "text": [
      "There are 7 Cesare\n"
     ]
    }
   ],
   "source": [
    "cesare_count = int_data2['備註'].str.contains('Cesare').sum()\n",
    "if cesare_count > 0:\n",
    "    print (\"There are {m} Cesare\".format(m=cesare_count))"
   ]
  },
  {
   "cell_type": "code",
   "execution_count": 26,
   "metadata": {},
   "outputs": [
    {
     "name": "stdout",
     "output_type": "stream",
     "text": [
      "There are 9 HM\n"
     ]
    }
   ],
   "source": [
    "hm_count = int_data2['備註'].str.contains('HM').sum()\n",
    "if hm_count > 0:\n",
    "    print (\"There are {m} HM\".format(m=hm_count))"
   ]
  },
  {
   "cell_type": "code",
   "execution_count": 27,
   "metadata": {
    "collapsed": true
   },
   "outputs": [],
   "source": [
    "####################\n",
    "# Members          # (2)\n",
    "####################"
   ]
  },
  {
   "cell_type": "code",
   "execution_count": 28,
   "metadata": {
    "collapsed": true
   },
   "outputs": [],
   "source": [
    "def match_results(r):\n",
    "    if 'Killer' in r['備註']:\n",
    "        return \"T\"\n",
    "    else:\n",
    "        return \"F\""
   ]
  },
  {
   "cell_type": "code",
   "execution_count": 29,
   "metadata": {
    "collapsed": true
   },
   "outputs": [],
   "source": [
    "int_data2['Match'] = int_data2.apply(match_results, axis=1)\n",
    "killer_df = int_data2[int_data2.Match == 'T']"
   ]
  },
  {
   "cell_type": "code",
   "execution_count": 30,
   "metadata": {
    "collapsed": true
   },
   "outputs": [],
   "source": [
    "####################\n",
    "# Members          # (3)\n",
    "####################"
   ]
  },
  {
   "cell_type": "code",
   "execution_count": 31,
   "metadata": {},
   "outputs": [
    {
     "data": {
      "text/plain": [
       "(19, 11)"
      ]
     },
     "execution_count": 31,
     "metadata": {},
     "output_type": "execute_result"
    }
   ],
   "source": [
    "int_data2[\"Match2\"]=int_data2['備註'].str.contains('Killer')\n",
    "killer_df = int_data2[int_data2.Match2 == True]\n",
    "killer_df.to_csv(\"/Users/cesare.chung/Downloads/INT_Statistics2/Temp/killer2.csv\", index=False,encoding=\"big5\")\n",
    "killer_df.shape"
   ]
  },
  {
   "cell_type": "code",
   "execution_count": 32,
   "metadata": {
    "collapsed": true
   },
   "outputs": [],
   "source": [
    "#int_data2.head()\n",
    "#int_data2[int_data2.Match2 == True]"
   ]
  },
  {
   "cell_type": "code",
   "execution_count": 33,
   "metadata": {
    "scrolled": true
   },
   "outputs": [
    {
     "data": {
      "text/plain": [
       "(7, 11)"
      ]
     },
     "execution_count": 33,
     "metadata": {},
     "output_type": "execute_result"
    }
   ],
   "source": [
    "int_data2[\"Match2\"]=int_data2['備註'].str.contains('George|立民')\n",
    "george_df = int_data2[int_data2.Match2 == True]\n",
    "george_df.to_csv(\"/Users/cesare.chung/Downloads/INT_Statistics2/Temp/george2.csv\", index=False,encoding=\"big5\")\n",
    "george_df.shape"
   ]
  },
  {
   "cell_type": "code",
   "execution_count": 34,
   "metadata": {},
   "outputs": [
    {
     "data": {
      "text/plain": [
       "7"
      ]
     },
     "execution_count": 34,
     "metadata": {},
     "output_type": "execute_result"
    }
   ],
   "source": [
    "int_data2['備註'].str.contains('George|立民').sum()"
   ]
  },
  {
   "cell_type": "code",
   "execution_count": null,
   "metadata": {
    "collapsed": true
   },
   "outputs": [],
   "source": []
  }
 ],
 "metadata": {
  "kernelspec": {
   "display_name": "Python 3",
   "language": "python",
   "name": "python3"
  },
  "language_info": {
   "codemirror_mode": {
    "name": "ipython",
    "version": 3
   },
   "file_extension": ".py",
   "mimetype": "text/x-python",
   "name": "python",
   "nbconvert_exporter": "python",
   "pygments_lexer": "ipython3",
   "version": "3.5.3"
  }
 },
 "nbformat": 4,
 "nbformat_minor": 2
}
