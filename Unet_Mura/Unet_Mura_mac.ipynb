{
 "cells": [
  {
   "cell_type": "code",
   "execution_count": 1,
   "metadata": {
    "collapsed": true
   },
   "outputs": [],
   "source": [
    "from tf_unet import unet, util, image_util\n",
    "import glob\n",
    "import cv2\n",
    "import matplotlib.pyplot as plt\n",
    "import numpy as np\n",
    "#import scipy\n",
    "from scipy import misc\n",
    "%matplotlib inline"
   ]
  },
  {
   "cell_type": "code",
   "execution_count": 2,
   "metadata": {
    "collapsed": true
   },
   "outputs": [],
   "source": [
    "DATA_ROOT = \"/Users/cesare.chung/int/01_CODE_UNET/NEW/\"\n",
    "\n",
    "#masks_dir = sorted(glob.glob(DATA_ROOT+\"/dataset/JPEGImages_used/resize/*_mask_viz_resized_mask_viz.png\"))\n",
    "masks_dir = sorted(glob.glob(DATA_ROOT+\"/dataset/JPEGImages_used/resize/*_mask_resized_mask.png\"))\n",
    "imgs_dir  = sorted(glob.glob(DATA_ROOT+\"/dataset/JPEGImages_used/resize/*_training_resized_training.png\"))"
   ]
  },
  {
   "cell_type": "code",
   "execution_count": 3,
   "metadata": {},
   "outputs": [
    {
     "data": {
      "image/png": "[encoded data removed]",
      "text/plain": [
       "<matplotlib.figure.Figure at 0x12548a8d0>"
      ]
     },
     "metadata": {},
     "output_type": "display_data"
    },
    {
     "data": {
      "image/png": "[encoded data removed]",
      "text/plain": [
       "<matplotlib.figure.Figure at 0x10f727ef0>"
      ]
     },
     "metadata": {},
     "output_type": "display_data"
    }
   ],
   "source": [
    "X_data=[]\n",
    "for index,entry in enumerate(imgs_dir):\n",
    "    img = misc.imread(entry)\n",
    "    X_data.append(img)\n",
    "\n",
    "Y_data=[]\n",
    "for index,entry in enumerate(masks_dir):\n",
    "    img = misc.imread(entry)\n",
    "    Y_data.append(img)\n",
    "\n",
    "X_data=np.array(X_data)\n",
    "Y_data=np.array(Y_data)\n",
    "\n",
    "plt.imshow(X_data[1,...,2], aspect=\"auto\")   # X_data[i,...,j]. i = 1,..., number of samples; j = 1,2,3\n",
    "plt.show()\n",
    "plt.imshow(Y_data[1,...,], aspect=\"auto\",cmap='gray')\n",
    "plt.show()"
   ]
  },
  {
   "cell_type": "code",
   "execution_count": 4,
   "metadata": {},
   "outputs": [
    {
     "name": "stdout",
     "output_type": "stream",
     "text": [
      "Number of files used: 10\n"
     ]
    }
   ],
   "source": [
    "data_provider = image_util.ImageDataProvider(DATA_ROOT+\"/dataset/JPEGImages_used/resize/*\",data_suffix=\"_training_resized_training.png\", mask_suffix=\"_mask_resized_mask.png\")"
   ]
  },
  {
   "cell_type": "code",
   "execution_count": 5,
   "metadata": {},
   "outputs": [
    {
     "data": {
      "image/png": "[encoded data removed]",
      "text/plain": [
       "<matplotlib.figure.Figure at 0x125482438>"
      ]
     },
     "metadata": {},
     "output_type": "display_data"
    }
   ],
   "source": [
    "x_test, y_test = data_provider(1)\n",
    "\n",
    "fig, ax = plt.subplots(1,2, sharey=True, figsize=(8,4))\n",
    "ax[0].imshow(x_test[0,...,0], aspect=\"auto\")\n",
    "ax[1].imshow(y_test[0,...,1], aspect=\"auto\",cmap='gray')\n",
    "plt.show()"
   ]
  },
  {
   "cell_type": "code",
   "execution_count": 6,
   "metadata": {},
   "outputs": [
    {
     "name": "stdout",
     "output_type": "stream",
     "text": [
      "(1, 550, 320, 3)\n",
      "(1, 550, 320, 2)\n",
      "3\n",
      "2\n"
     ]
    }
   ],
   "source": [
    "print(x_test.shape)\n",
    "print(y_test.shape)\n",
    "\n",
    "print(data_provider.channels)\n",
    "print(data_provider.n_class)"
   ]
  },
  {
   "cell_type": "code",
   "execution_count": 7,
   "metadata": {},
   "outputs": [
    {
     "name": "stderr",
     "output_type": "stream",
     "text": [
      "2017-11-06 21:09:11,062 Layers 3, features 64, filter size 3x3, pool size: 2x2\n"
     ]
    }
   ],
   "source": [
    "net = unet.Unet(channels=data_provider.channels, n_class=data_provider.n_class, layers=3, features_root=64)\n",
    "\n",
    "trainer = unet.Trainer(net, optimizer=\"adam\")\n"
   ]
  },
  {
   "cell_type": "code",
   "execution_count": 8,
   "metadata": {},
   "outputs": [
    {
     "name": "stderr",
     "output_type": "stream",
     "text": [
      "2017-11-06 21:09:28,654 Removing '/Users/cesare.chung/int/01_CODE_UNET/prediction'\n",
      "2017-11-06 21:09:28,656 Removing '/Users/cesare.chung/int/01_CODE_UNET/out'\n",
      "2017-11-06 21:09:28,658 Allocating '/Users/cesare.chung/int/01_CODE_UNET/prediction'\n",
      "2017-11-06 21:09:28,659 Allocating '/Users/cesare.chung/int/01_CODE_UNET/out'\n",
      "2017-11-06 21:10:13,302 Verification error= 6.1%, loss= 0.6531\n",
      "2017-11-06 21:10:18,015 Start optimization\n",
      "2017-11-06 21:10:56,099 Iter 0, Minibatch Loss= 0.5397, Training Accuracy= 0.9393, Minibatch error= 6.1%\n",
      "2017-11-06 21:11:52,544 Iter 2, Minibatch Loss= 0.6272, Training Accuracy= 0.9321, Minibatch error= 6.8%\n",
      "2017-11-06 21:12:46,230 Iter 4, Minibatch Loss= 0.3289, Training Accuracy= 0.9429, Minibatch error= 5.7%\n",
      "2017-11-06 21:13:39,735 Iter 6, Minibatch Loss= 0.4304, Training Accuracy= 0.9429, Minibatch error= 5.7%\n",
      "2017-11-06 21:14:35,913 Iter 8, Minibatch Loss= 0.4146, Training Accuracy= 0.9412, Minibatch error= 5.9%\n",
      "2017-11-06 21:15:31,209 Iter 10, Minibatch Loss= 0.3605, Training Accuracy= 0.9340, Minibatch error= 6.6%\n",
      "2017-11-06 21:20:19,686 Iter 12, Minibatch Loss= 0.2781, Training Accuracy= 0.9393, Minibatch error= 6.1%\n",
      "2017-11-06 21:21:16,942 Iter 14, Minibatch Loss= 0.2166, Training Accuracy= 0.9447, Minibatch error= 5.5%\n",
      "2017-11-06 21:22:12,637 Iter 16, Minibatch Loss= 0.2267, Training Accuracy= 0.9429, Minibatch error= 5.7%\n",
      "2017-11-06 21:23:09,343 Iter 18, Minibatch Loss= 0.2732, Training Accuracy= 0.9340, Minibatch error= 6.6%\n",
      "2017-11-06 21:24:04,744 Iter 20, Minibatch Loss= 0.2396, Training Accuracy= 0.9411, Minibatch error= 5.9%\n",
      "2017-11-06 21:24:58,488 Iter 22, Minibatch Loss= 0.2433, Training Accuracy= 0.9358, Minibatch error= 6.4%\n",
      "2017-11-06 21:25:54,363 Iter 24, Minibatch Loss= 0.2222, Training Accuracy= 0.9412, Minibatch error= 5.9%\n",
      "2017-11-06 21:26:50,722 Iter 26, Minibatch Loss= 0.2434, Training Accuracy= 0.9358, Minibatch error= 6.4%\n",
      "2017-11-06 21:27:47,528 Iter 28, Minibatch Loss= 0.2317, Training Accuracy= 0.9464, Minibatch error= 5.4%\n",
      "2017-11-06 21:28:40,826 Iter 30, Minibatch Loss= 0.2451, Training Accuracy= 0.9412, Minibatch error= 5.9%\n",
      "2017-11-06 21:29:06,689 Epoch 0, Average loss: 0.3259, learning rate: 0.0010\n",
      "2017-11-06 21:29:47,768 Verification error= 6.1%, loss= 0.2462\n",
      "2017-11-06 21:30:25,316 Iter 32, Minibatch Loss= 0.2342, Training Accuracy= 0.9429, Minibatch error= 5.7%\n",
      "2017-11-06 21:31:22,333 Iter 34, Minibatch Loss= 0.2202, Training Accuracy= 0.9447, Minibatch error= 5.5%\n",
      "2017-11-06 21:32:18,793 Iter 36, Minibatch Loss= 0.2168, Training Accuracy= 0.9429, Minibatch error= 5.7%\n",
      "2017-11-06 21:33:11,996 Iter 38, Minibatch Loss= 0.2145, Training Accuracy= 0.9429, Minibatch error= 5.7%\n",
      "2017-11-06 21:34:07,502 Iter 40, Minibatch Loss= 0.2038, Training Accuracy= 0.9464, Minibatch error= 5.4%\n",
      "2017-11-06 21:35:02,489 Iter 42, Minibatch Loss= 0.2389, Training Accuracy= 0.9340, Minibatch error= 6.6%\n",
      "2017-11-06 21:35:59,456 Iter 44, Minibatch Loss= 0.2184, Training Accuracy= 0.9411, Minibatch error= 5.9%\n",
      "2017-11-06 21:36:57,253 Iter 46, Minibatch Loss= 0.2095, Training Accuracy= 0.9447, Minibatch error= 5.5%\n",
      "2017-11-06 21:38:05,223 Iter 48, Minibatch Loss= 0.2167, Training Accuracy= 0.9429, Minibatch error= 5.7%\n",
      "2017-11-06 21:39:03,921 Iter 50, Minibatch Loss= 0.2299, Training Accuracy= 0.9393, Minibatch error= 6.1%\n",
      "2017-11-06 21:40:01,591 Iter 52, Minibatch Loss= 0.2115, Training Accuracy= 0.9464, Minibatch error= 5.4%\n",
      "2017-11-06 21:40:58,280 Iter 54, Minibatch Loss= 0.2160, Training Accuracy= 0.9429, Minibatch error= 5.7%\n",
      "2017-11-06 21:41:54,875 Iter 56, Minibatch Loss= 0.2356, Training Accuracy= 0.9340, Minibatch error= 6.6%\n",
      "2017-11-06 21:42:49,600 Iter 58, Minibatch Loss= 0.2210, Training Accuracy= 0.9393, Minibatch error= 6.1%\n",
      "2017-11-06 21:43:44,469 Iter 60, Minibatch Loss= 0.2142, Training Accuracy= 0.9411, Minibatch error= 5.9%\n",
      "2017-11-06 21:44:42,222 Iter 62, Minibatch Loss= 0.1993, Training Accuracy= 0.9464, Minibatch error= 5.4%\n",
      "2017-11-06 21:45:07,400 Epoch 1, Average loss: 0.2265, learning rate: 0.0010\n",
      "2017-11-06 21:45:45,442 Verification error= 6.1%, loss= 0.2176\n",
      "2017-11-06 21:46:19,829 Iter 64, Minibatch Loss= 0.2276, Training Accuracy= 0.9358, Minibatch error= 6.4%\n",
      "2017-11-06 21:47:13,215 Iter 66, Minibatch Loss= 0.2032, Training Accuracy= 0.9447, Minibatch error= 5.5%\n",
      "2017-11-06 21:48:06,602 Iter 68, Minibatch Loss= 0.2091, Training Accuracy= 0.9429, Minibatch error= 5.7%\n",
      "2017-11-06 21:49:03,099 Iter 70, Minibatch Loss= 0.2127, Training Accuracy= 0.9411, Minibatch error= 5.9%\n",
      "2017-11-06 21:50:01,621 Iter 72, Minibatch Loss= 0.2099, Training Accuracy= 0.9412, Minibatch error= 5.9%\n",
      "2017-11-06 21:50:56,194 Iter 74, Minibatch Loss= 0.2017, Training Accuracy= 0.9429, Minibatch error= 5.7%\n",
      "2017-11-06 21:51:55,554 Iter 76, Minibatch Loss= 0.2068, Training Accuracy= 0.9411, Minibatch error= 5.9%\n",
      "2017-11-06 21:52:58,136 Iter 78, Minibatch Loss= 0.2276, Training Accuracy= 0.9321, Minibatch error= 6.8%\n",
      "2017-11-06 21:53:58,202 Iter 80, Minibatch Loss= 0.1978, Training Accuracy= 0.9429, Minibatch error= 5.7%\n",
      "2017-11-06 21:54:55,112 Iter 82, Minibatch Loss= 0.1943, Training Accuracy= 0.9429, Minibatch error= 5.7%\n",
      "2017-11-06 21:55:50,387 Iter 84, Minibatch Loss= 0.2187, Training Accuracy= 0.9340, Minibatch error= 6.6%\n",
      "2017-11-06 21:56:45,501 Iter 86, Minibatch Loss= 0.1859, Training Accuracy= 0.9447, Minibatch error= 5.5%\n",
      "2017-11-06 21:57:38,400 Iter 88, Minibatch Loss= 0.1964, Training Accuracy= 0.9412, Minibatch error= 5.9%\n",
      "2017-11-06 21:58:32,568 Iter 90, Minibatch Loss= 0.2143, Training Accuracy= 0.9340, Minibatch error= 6.6%\n",
      "2017-11-06 21:59:29,548 Iter 92, Minibatch Loss= 0.1920, Training Accuracy= 0.9411, Minibatch error= 5.9%\n",
      "2017-11-06 22:00:28,059 Iter 94, Minibatch Loss= 0.1957, Training Accuracy= 0.9393, Minibatch error= 6.1%\n",
      "2017-11-06 22:00:57,543 Epoch 2, Average loss: 0.2126, learning rate: 0.0010\n",
      "2017-11-06 22:01:40,119 Verification error= 6.1%, loss= 0.1926\n",
      "2017-11-06 22:01:45,903 Optimization Finished!\n"
     ]
    }
   ],
   "source": [
    "path = trainer.train(data_provider, output_path=\"out\", training_iters=32, epochs=3,dropout=0.75, display_step=2)"
   ]
  },
  {
   "cell_type": "code",
   "execution_count": 9,
   "metadata": {
    "collapsed": true
   },
   "outputs": [],
   "source": [
    "x_test, y_test = data_provider(1)\n"
   ]
  },
  {
   "cell_type": "code",
   "execution_count": 10,
   "metadata": {},
   "outputs": [
    {
     "name": "stdout",
     "output_type": "stream",
     "text": [
      "INFO:tensorflow:Restoring parameters from ./out/model.cpkt\n"
     ]
    },
    {
     "name": "stderr",
     "output_type": "stream",
     "text": [
      "2017-11-06 22:03:01,519 Restoring parameters from ./out/model.cpkt\n",
      "2017-11-06 22:03:02,034 Model restored from file: ./out/model.cpkt\n"
     ]
    }
   ],
   "source": [
    "prediction = net.predict(\"./out/model.cpkt\", x_test)"
   ]
  },
  {
   "cell_type": "code",
   "execution_count": 11,
   "metadata": {},
   "outputs": [
    {
     "data": {
      "image/png": "[encoded data removed]",
      "text/plain": [
       "<matplotlib.figure.Figure at 0x12fd4bc18>"
      ]
     },
     "metadata": {},
     "output_type": "display_data"
    }
   ],
   "source": [
    "fig, ax = plt.subplots(1, 3, sharex=True, sharey=True, figsize=(12,5))\n",
    "ax[0].imshow(x_test[0,...,0], aspect=\"auto\")\n",
    "ax[1].imshow(y_test[0,...,1], aspect=\"auto\")\n",
    "mask = prediction[0,...,1] > 0.9\n",
    "ax[2].imshow(mask, aspect=\"auto\")\n",
    "ax[0].set_title(\"Input\")\n",
    "ax[1].set_title(\"Ground truth\")\n",
    "ax[2].set_title(\"Prediction\")\n",
    "fig.tight_layout()\n",
    "\n",
    "plt.show()"
   ]
  },
  {
   "cell_type": "code",
   "execution_count": 12,
   "metadata": {},
   "outputs": [
    {
     "data": {
      "text/plain": [
       "6.604330708661422"
      ]
     },
     "execution_count": 12,
     "metadata": {},
     "output_type": "execute_result"
    }
   ],
   "source": [
    "unet.error_rate(prediction, util.crop_to_shape(y_test, prediction.shape))\n"
   ]
  },
  {
   "cell_type": "code",
   "execution_count": 13,
   "metadata": {
    "collapsed": true
   },
   "outputs": [],
   "source": [
    "img = util.combine_img_prediction(x_test,y_test,prediction)\n",
    "util.save_image(img, \"/Users/cesare.chung/int/mura_problem.png\")\n"
   ]
  },
  {
   "cell_type": "code",
   "execution_count": null,
   "metadata": {
    "collapsed": true
   },
   "outputs": [],
   "source": []
  }
 ],
 "metadata": {
  "kernelspec": {
   "display_name": "Python 3",
   "language": "python",
   "name": "python3"
  },
  "language_info": {
   "codemirror_mode": {
    "name": "ipython",
    "version": 3
   },
   "file_extension": ".py",
   "mimetype": "text/x-python",
   "name": "python",
   "nbconvert_exporter": "python",
   "pygments_lexer": "ipython3",
   "version": "3.5.3"
  }
 },
 "nbformat": 4,
 "nbformat_minor": 2
}
