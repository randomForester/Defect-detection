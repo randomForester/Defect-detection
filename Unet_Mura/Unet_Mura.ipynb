{
 "cells": [
  {
   "cell_type": "code",
   "execution_count": 15,
   "metadata": {
    "collapsed": true
   },
   "outputs": [],
   "source": [
    "from tf_unet import unet, util, image_util\n",
    "import glob\n",
    "import cv2\n",
    "import matplotlib.pyplot as plt\n",
    "import numpy as np\n",
    "#import scipy\n",
    "from scipy import misc\n",
    "%matplotlib inline"
   ]
  },
  {
   "cell_type": "code",
   "execution_count": 16,
   "metadata": {
    "collapsed": true
   },
   "outputs": [],
   "source": [
    "DATA_ROOT = \"/Users/cesare.chung/int/01_CODE_UNET/NEW/\"\n",
    "\n",
    "#masks_dir = sorted(glob.glob(DATA_ROOT+\"/dataset/JPEGImages_used/resize/*_mask_viz_resized_mask_viz.png\"))\n",
    "masks_dir = sorted(glob.glob(DATA_ROOT+\"/dataset/JPEGImages_used/resize/*_mask_resized_mask.png\"))\n",
    "imgs_dir  = sorted(glob.glob(DATA_ROOT+\"/dataset/JPEGImages_used/resize/*_training_resized_training.png\"))"
   ]
  },
  {
   "cell_type": "code",
   "execution_count": 17,
   "metadata": {},
   "outputs": [
    {
     "data": {
      "image/png": "[encoded data removed]",
      "text/plain": [
       "<matplotlib.figure.Figure at 0x11a0314a8>"
      ]
     },
     "metadata": {},
     "output_type": "display_data"
    },
    {
     "data": {
      "image/png": "[encoded data removed]",
      "text/plain": [
       "<matplotlib.figure.Figure at 0x11989fd68>"
      ]
     },
     "metadata": {},
     "output_type": "display_data"
    }
   ],
   "source": [
    "X_data=[]\n",
    "for index,entry in enumerate(imgs_dir):\n",
    "    img = misc.imread(entry)\n",
    "    X_data.append(img)\n",
    "\n",
    "Y_data=[]\n",
    "for index,entry in enumerate(masks_dir):\n",
    "    img = misc.imread(entry)\n",
    "    Y_data.append(img)\n",
    "\n",
    "X_data=np.array(X_data)\n",
    "Y_data=np.array(Y_data)\n",
    "\n",
    "plt.imshow(X_data[1,...,2], aspect=\"auto\")   # X_data[i,...,j]. i = 1,..., number of samples; j = 1,2,3\n",
    "plt.show()\n",
    "plt.imshow(Y_data[1,...,], aspect=\"auto\",cmap='gray')\n",
    "plt.show()"
   ]
  },
  {
   "cell_type": "code",
   "execution_count": 20,
   "metadata": {},
   "outputs": [
    {
     "name": "stdout",
     "output_type": "stream",
     "text": [
      "Number of files used: 10\n"
     ]
    }
   ],
   "source": [
    "data_provider = image_util.ImageDataProvider(DATA_ROOT+\"/dataset/JPEGImages_used/resize/*\",data_suffix=\"_training_resized_training.png\", mask_suffix=\"_mask_resized_mask.png\")"
   ]
  },
  {
   "cell_type": "code",
   "execution_count": 22,
   "metadata": {},
   "outputs": [
    {
     "data": {
      "image/png": "[encoded data removed]",
      "text/plain": [
       "<matplotlib.figure.Figure at 0x11a031470>"
      ]
     },
     "metadata": {},
     "output_type": "display_data"
    }
   ],
   "source": [
    "x_test, y_test = data_provider(1)\n",
    "\n",
    "fig, ax = plt.subplots(1,2, sharey=True, figsize=(8,4))\n",
    "ax[0].imshow(x_test[0,...,0], aspect=\"auto\")\n",
    "ax[1].imshow(y_test[0,...,1], aspect=\"auto\",cmap='gray')\n",
    "plt.show()"
   ]
  },
  {
   "cell_type": "code",
   "execution_count": 23,
   "metadata": {},
   "outputs": [
    {
     "name": "stdout",
     "output_type": "stream",
     "text": [
      "(1, 550, 320, 3)\n",
      "(1, 550, 320, 2)\n",
      "3\n",
      "2\n"
     ]
    }
   ],
   "source": [
    "print(x_test.shape)\n",
    "print(y_test.shape)\n",
    "\n",
    "print(data_provider.channels)\n",
    "print(data_provider.n_class)"
   ]
  },
  {
   "cell_type": "code",
   "execution_count": 24,
   "metadata": {},
   "outputs": [
    {
     "name": "stderr",
     "output_type": "stream",
     "text": [
      "2017-11-06 13:42:48,534 Layers 3, features 64, filter size 3x3, pool size: 2x2\n"
     ]
    }
   ],
   "source": [
    "net = unet.Unet(channels=data_provider.channels, n_class=data_provider.n_class, layers=3, features_root=64)\n",
    "\n",
    "trainer = unet.Trainer(net, optimizer=\"adam\")\n"
   ]
  },
  {
   "cell_type": "code",
   "execution_count": 25,
   "metadata": {},
   "outputs": [
    {
     "name": "stderr",
     "output_type": "stream",
     "text": [
      "2017-11-06 13:43:39,055 Removing '/Users/cesare.chung/int/01_CODE_UNET/prediction'\n",
      "2017-11-06 13:43:39,057 Removing '/Users/cesare.chung/int/01_CODE_UNET/out'\n",
      "2017-11-06 13:43:39,058 Allocating '/Users/cesare.chung/int/01_CODE_UNET/prediction'\n",
      "2017-11-06 13:43:39,059 Allocating '/Users/cesare.chung/int/01_CODE_UNET/out'\n",
      "2017-11-06 13:44:23,224 Verification error= 5.6%, loss= 0.6549\n",
      "2017-11-06 13:44:27,735 Start optimization\n",
      "2017-11-06 13:45:01,728 Iter 0, Minibatch Loss= 0.5286, Training Accuracy= 0.9429, Minibatch error= 5.7%\n",
      "2017-11-06 13:45:59,348 Iter 2, Minibatch Loss= 0.6411, Training Accuracy= 0.9340, Minibatch error= 6.6%\n",
      "2017-11-06 13:46:55,829 Iter 4, Minibatch Loss= 0.3459, Training Accuracy= 0.9412, Minibatch error= 5.9%\n",
      "2017-11-06 13:48:00,966 Iter 6, Minibatch Loss= 0.4608, Training Accuracy= 0.9411, Minibatch error= 5.9%\n",
      "2017-11-06 13:48:57,120 Iter 8, Minibatch Loss= 0.4650, Training Accuracy= 0.9358, Minibatch error= 6.4%\n",
      "2017-11-06 13:50:01,968 Iter 10, Minibatch Loss= 0.4190, Training Accuracy= 0.9429, Minibatch error= 5.7%\n",
      "2017-11-06 13:51:04,520 Iter 12, Minibatch Loss= 0.3582, Training Accuracy= 0.9340, Minibatch error= 6.6%\n",
      "2017-11-06 13:52:08,690 Iter 14, Minibatch Loss= 0.2621, Training Accuracy= 0.9464, Minibatch error= 5.4%\n",
      "2017-11-06 13:53:04,738 Iter 16, Minibatch Loss= 0.2491, Training Accuracy= 0.9321, Minibatch error= 6.8%\n",
      "2017-11-06 13:54:04,201 Iter 18, Minibatch Loss= 0.2276, Training Accuracy= 0.9429, Minibatch error= 5.7%\n",
      "2017-11-06 13:55:06,091 Iter 20, Minibatch Loss= 0.2483, Training Accuracy= 0.9411, Minibatch error= 5.9%\n",
      "2017-11-06 13:56:07,232 Iter 22, Minibatch Loss= 0.2638, Training Accuracy= 0.9358, Minibatch error= 6.4%\n",
      "2017-11-06 13:57:09,604 Iter 24, Minibatch Loss= 0.2255, Training Accuracy= 0.9429, Minibatch error= 5.7%\n",
      "2017-11-06 13:58:09,004 Iter 26, Minibatch Loss= 0.2182, Training Accuracy= 0.9429, Minibatch error= 5.7%\n",
      "2017-11-06 13:59:05,570 Iter 28, Minibatch Loss= 0.2327, Training Accuracy= 0.9393, Minibatch error= 6.1%\n",
      "2017-11-06 14:00:03,246 Iter 30, Minibatch Loss= 0.2553, Training Accuracy= 0.9340, Minibatch error= 6.6%\n",
      "2017-11-06 14:00:30,714 Epoch 0, Average loss: 0.3468, learning rate: 0.0010\n",
      "2017-11-06 14:01:13,155 Verification error= 5.6%, loss= 0.2400\n",
      "2017-11-06 14:01:54,745 Iter 32, Minibatch Loss= 0.2488, Training Accuracy= 0.9412, Minibatch error= 5.9%\n",
      "2017-11-06 14:03:02,901 Iter 34, Minibatch Loss= 0.2433, Training Accuracy= 0.9429, Minibatch error= 5.7%\n",
      "2017-11-06 14:04:04,865 Iter 36, Minibatch Loss= 0.2371, Training Accuracy= 0.9429, Minibatch error= 5.7%\n",
      "2017-11-06 14:05:10,979 Iter 38, Minibatch Loss= 0.2188, Training Accuracy= 0.9464, Minibatch error= 5.4%\n",
      "2017-11-06 14:06:12,165 Iter 40, Minibatch Loss= 0.2456, Training Accuracy= 0.9321, Minibatch error= 6.8%\n",
      "2017-11-06 14:07:10,565 Iter 42, Minibatch Loss= 0.2400, Training Accuracy= 0.9340, Minibatch error= 6.6%\n",
      "2017-11-06 14:08:10,369 Iter 44, Minibatch Loss= 0.2055, Training Accuracy= 0.9464, Minibatch error= 5.4%\n",
      "2017-11-06 14:09:10,625 Iter 46, Minibatch Loss= 0.2395, Training Accuracy= 0.9340, Minibatch error= 6.6%\n",
      "2017-11-06 14:10:10,393 Iter 48, Minibatch Loss= 0.2154, Training Accuracy= 0.9429, Minibatch error= 5.7%\n",
      "2017-11-06 14:11:12,017 Iter 50, Minibatch Loss= 0.2118, Training Accuracy= 0.9447, Minibatch error= 5.5%\n",
      "2017-11-06 14:12:09,862 Iter 52, Minibatch Loss= 0.2184, Training Accuracy= 0.9429, Minibatch error= 5.7%\n",
      "2017-11-06 14:13:17,180 Iter 54, Minibatch Loss= 0.2306, Training Accuracy= 0.9393, Minibatch error= 6.1%\n",
      "2017-11-06 14:14:21,682 Iter 56, Minibatch Loss= 0.2424, Training Accuracy= 0.9340, Minibatch error= 6.6%\n",
      "2017-11-06 14:15:25,595 Iter 58, Minibatch Loss= 0.2149, Training Accuracy= 0.9447, Minibatch error= 5.5%\n",
      "2017-11-06 14:16:29,148 Iter 60, Minibatch Loss= 0.2174, Training Accuracy= 0.9429, Minibatch error= 5.7%\n",
      "2017-11-06 14:17:39,788 Iter 62, Minibatch Loss= 0.2209, Training Accuracy= 0.9411, Minibatch error= 5.9%\n",
      "2017-11-06 14:18:10,076 Epoch 1, Average loss: 0.2315, learning rate: 0.0010\n",
      "2017-11-06 14:18:56,434 Verification error= 5.6%, loss= 0.2123\n",
      "2017-11-06 14:19:40,367 Iter 64, Minibatch Loss= 0.2322, Training Accuracy= 0.9358, Minibatch error= 6.4%\n",
      "2017-11-06 14:20:52,489 Iter 66, Minibatch Loss= 0.2120, Training Accuracy= 0.9429, Minibatch error= 5.7%\n",
      "2017-11-06 14:22:00,849 Iter 68, Minibatch Loss= 0.2221, Training Accuracy= 0.9393, Minibatch error= 6.1%\n",
      "2017-11-06 14:23:05,975 Iter 70, Minibatch Loss= 0.2061, Training Accuracy= 0.9447, Minibatch error= 5.5%\n",
      "2017-11-06 14:24:07,950 Iter 72, Minibatch Loss= 0.2038, Training Accuracy= 0.9464, Minibatch error= 5.4%\n",
      "2017-11-06 14:25:12,388 Iter 74, Minibatch Loss= 0.2125, Training Accuracy= 0.9429, Minibatch error= 5.7%\n",
      "2017-11-06 14:26:13,033 Iter 76, Minibatch Loss= 0.2039, Training Accuracy= 0.9464, Minibatch error= 5.4%\n",
      "2017-11-06 14:27:14,574 Iter 78, Minibatch Loss= 0.2062, Training Accuracy= 0.9447, Minibatch error= 5.5%\n",
      "2017-11-06 14:28:14,490 Iter 80, Minibatch Loss= 0.2153, Training Accuracy= 0.9412, Minibatch error= 5.9%\n",
      "2017-11-06 14:29:15,314 Iter 82, Minibatch Loss= 0.2080, Training Accuracy= 0.9429, Minibatch error= 5.7%\n",
      "2017-11-06 14:30:19,642 Iter 84, Minibatch Loss= 0.2080, Training Accuracy= 0.9429, Minibatch error= 5.7%\n",
      "2017-11-06 14:31:27,975 Iter 86, Minibatch Loss= 0.2182, Training Accuracy= 0.9393, Minibatch error= 6.1%\n",
      "2017-11-06 14:32:31,786 Iter 88, Minibatch Loss= 0.2116, Training Accuracy= 0.9412, Minibatch error= 5.9%\n",
      "2017-11-06 14:33:34,028 Iter 90, Minibatch Loss= 0.2304, Training Accuracy= 0.9340, Minibatch error= 6.6%\n",
      "2017-11-06 14:34:39,371 Iter 92, Minibatch Loss= 0.1977, Training Accuracy= 0.9464, Minibatch error= 5.4%\n",
      "2017-11-06 14:35:42,749 Iter 94, Minibatch Loss= 0.2328, Training Accuracy= 0.9321, Minibatch error= 6.8%\n",
      "2017-11-06 14:36:10,568 Epoch 2, Average loss: 0.2222, learning rate: 0.0010\n",
      "2017-11-06 14:36:52,638 Verification error= 5.6%, loss= 0.2027\n",
      "2017-11-06 14:36:58,457 Optimization Finished!\n"
     ]
    }
   ],
   "source": [
    "path = trainer.train(data_provider, output_path=\"out\", training_iters=32, epochs=3,dropout=0.75, display_step=2)"
   ]
  },
  {
   "cell_type": "code",
   "execution_count": 26,
   "metadata": {
    "collapsed": true
   },
   "outputs": [],
   "source": [
    "x_test, y_test = data_provider(1)\n"
   ]
  },
  {
   "cell_type": "code",
   "execution_count": 27,
   "metadata": {},
   "outputs": [
    {
     "name": "stdout",
     "output_type": "stream",
     "text": [
      "INFO:tensorflow:Restoring parameters from ./out/model.cpkt\n"
     ]
    },
    {
     "name": "stderr",
     "output_type": "stream",
     "text": [
      "2017-11-06 14:46:33,785 Restoring parameters from ./out/model.cpkt\n",
      "2017-11-06 14:46:34,119 Model restored from file: ./out/model.cpkt\n"
     ]
    }
   ],
   "source": [
    "prediction = net.predict(\"./out/model.cpkt\", x_test)"
   ]
  },
  {
   "cell_type": "code",
   "execution_count": 28,
   "metadata": {},
   "outputs": [
    {
     "data": {
      "image/png": "[encoded data removed]",
      "text/plain": [
       "<matplotlib.figure.Figure at 0x11fdca400>"
      ]
     },
     "metadata": {},
     "output_type": "display_data"
    }
   ],
   "source": [
    "fig, ax = plt.subplots(1, 3, sharex=True, sharey=True, figsize=(12,5))\n",
    "ax[0].imshow(x_test[0,...,0], aspect=\"auto\")\n",
    "ax[1].imshow(y_test[0,...,1], aspect=\"auto\")\n",
    "mask = prediction[0,...,1] > 0.9\n",
    "ax[2].imshow(mask, aspect=\"auto\")\n",
    "ax[0].set_title(\"Input\")\n",
    "ax[1].set_title(\"Ground truth\")\n",
    "ax[2].set_title(\"Prediction\")\n",
    "fig.tight_layout()\n",
    "\n",
    "plt.show()"
   ]
  },
  {
   "cell_type": "code",
   "execution_count": 29,
   "metadata": {},
   "outputs": [
    {
     "data": {
      "text/plain": [
       "5.5336051743532124"
      ]
     },
     "execution_count": 29,
     "metadata": {},
     "output_type": "execute_result"
    }
   ],
   "source": [
    "unet.error_rate(prediction, util.crop_to_shape(y_test, prediction.shape))\n"
   ]
  },
  {
   "cell_type": "code",
   "execution_count": 30,
   "metadata": {
    "collapsed": true
   },
   "outputs": [],
   "source": [
    "img = util.combine_img_prediction(x_test,y_test,prediction)\n",
    "util.save_image(img, \"/Users/cesare.chung/int/mura_problem.png\")\n"
   ]
  },
  {
   "cell_type": "code",
   "execution_count": null,
   "metadata": {
    "collapsed": true
   },
   "outputs": [],
   "source": []
  }
 ],
 "metadata": {
  "kernelspec": {
   "display_name": "Python 3",
   "language": "python",
   "name": "python3"
  },
  "language_info": {
   "codemirror_mode": {
    "name": "ipython",
    "version": 3
   },
   "file_extension": ".py",
   "mimetype": "text/x-python",
   "name": "python",
   "nbconvert_exporter": "python",
   "pygments_lexer": "ipython3",
   "version": "3.5.3"
  }
 },
 "nbformat": 4,
 "nbformat_minor": 2
}
