{
 "cells": [
  {
   "cell_type": "code",
   "execution_count": 1,
   "metadata": {
    "collapsed": true
   },
   "outputs": [],
   "source": [
    "from tf_unet import unet, util, image_util\n",
    "import glob\n",
    "import cv2\n",
    "import matplotlib.pyplot as plt\n",
    "import numpy as np\n",
    "#import scipy\n",
    "from scipy import misc\n",
    "%matplotlib inline"
   ]
  },
  {
   "cell_type": "code",
   "execution_count": 2,
   "metadata": {},
   "outputs": [
    {
     "name": "stdout",
     "output_type": "stream",
     "text": [
      "/Users/cesare.chung/int/01_CODE_UNET\r\n"
     ]
    }
   ],
   "source": [
    "!pwd"
   ]
  },
  {
   "cell_type": "code",
   "execution_count": 3,
   "metadata": {},
   "outputs": [
    {
     "name": "stdout",
     "output_type": "stream",
     "text": [
      "Loading training dataset...\n",
      "\n"
     ]
    },
    {
     "data": {
      "image/png": "[encoded data removed]",
      "text/plain": [
       "<matplotlib.figure.Figure at 0x102604160>"
      ]
     },
     "metadata": {},
     "output_type": "display_data"
    },
    {
     "data": {
      "image/png": "[encoded data removed]",
      "text/plain": [
       "<matplotlib.figure.Figure at 0x102db3dd8>"
      ]
     },
     "metadata": {},
     "output_type": "display_data"
    }
   ],
   "source": [
    "DATA_ROOT = \"/Users/cesare.chung/int/01_CODE_UNET/NEW/\"\n",
    "#\n",
    "# Training\n",
    "#\n",
    "masks_dir = sorted(glob.glob(DATA_ROOT+\"/dataset/JPEGImages_used/resize/*_mask_resized_mask.png\"))\n",
    "imgs_dir  = sorted(glob.glob(DATA_ROOT+\"/dataset/JPEGImages_used/resize/*_training_resized_training.png\"))\n",
    "# Import data\n",
    "print('Loading training dataset...\\n')\n",
    "\n",
    "X_data=[]\n",
    "for index,entry in enumerate(imgs_dir):\n",
    "    img = misc.imread(entry)\n",
    "    X_data.append(img)\n",
    "\n",
    "Y_data=[]\n",
    "for index,entry in enumerate(masks_dir):\n",
    "    img = misc.imread(entry)\n",
    "    Y_data.append(img)\n",
    "\n",
    "#\n",
    "X_data=np.array(X_data)\n",
    "Y_data=np.array(Y_data)\n",
    "#\n",
    "plt.imshow(X_data[9,...,2], aspect=\"auto\")   # X_data[i,...,j]. i = 1,..., number of samples; j = 1,2,3\n",
    "plt.show()\n",
    "plt.imshow(Y_data[9,..., ], aspect=\"auto\",cmap='gray')\n",
    "plt.show()"
   ]
  },
  {
   "cell_type": "code",
   "execution_count": 4,
   "metadata": {},
   "outputs": [
    {
     "name": "stdout",
     "output_type": "stream",
     "text": [
      "Loading testing dataset...\n",
      "\n"
     ]
    },
    {
     "data": {
      "image/png": "[encoded data removed]",
      "text/plain": [
       "<matplotlib.figure.Figure at 0x118b2e828>"
      ]
     },
     "metadata": {},
     "output_type": "display_data"
    },
    {
     "data": {
      "image/png": "[encoded data removed]",
      "text/plain": [
       "<matplotlib.figure.Figure at 0x102e94f60>"
      ]
     },
     "metadata": {},
     "output_type": "display_data"
    }
   ],
   "source": [
    "#\n",
    "# Testing\n",
    "#\n",
    "masks_Testing = sorted(glob.glob(DATA_ROOT+\"/dataset/JPEGImages_used_test/resize/*_mask_resized_mask.png\"))\n",
    "imgs_Testing  = sorted(glob.glob(DATA_ROOT+\"/dataset/JPEGImages_used_test/resize/*_test_resized_testing.png\"))\n",
    "\n",
    "# Import data\n",
    "print('Loading testing dataset...\\n')\n",
    "\n",
    "X_test=[]\n",
    "for index,entry in enumerate(imgs_Testing):\n",
    "    img = misc.imread(entry)\n",
    "    X_test.append(img)\n",
    "\n",
    "Y_test=[]\n",
    "for index,entry in enumerate(masks_Testing):\n",
    "    img = misc.imread(entry)\n",
    "    Y_test.append(img)\n",
    "\n",
    "#\n",
    "X_test=np.array(X_test)\n",
    "Y_test=np.array(Y_test)\n",
    "#\n",
    "plt.imshow(X_test[9,...,2], aspect=\"auto\")   \n",
    "plt.show()\n",
    "plt.imshow(Y_test[9,..., ], aspect=\"auto\",cmap='gray')\n",
    "plt.show()"
   ]
  },
  {
   "cell_type": "code",
   "execution_count": 5,
   "metadata": {},
   "outputs": [
    {
     "name": "stdout",
     "output_type": "stream",
     "text": [
      "TRAIN data  shape: (10, 550, 320, 3)\n",
      "TRAIN label shape: (10, 550, 320)\n",
      "TEST  data  shape: (10, 550, 320, 3)\n",
      "TEST  label shape: (10, 550, 320)\n"
     ]
    }
   ],
   "source": [
    "print(\"TRAIN data  shape:\", X_data.shape)\n",
    "print(\"TRAIN label shape:\", Y_data.shape)\n",
    "\n",
    "print(\"TEST  data  shape:\", X_test.shape)\n",
    "print(\"TEST  label shape:\", Y_test.shape)"
   ]
  },
  {
   "cell_type": "code",
   "execution_count": 6,
   "metadata": {
    "collapsed": true
   },
   "outputs": [],
   "source": [
    "X_data = X_data.astype(np.float32)\n",
    "Y_data = Y_data.astype(np.bool)\n",
    "\n",
    "X_test = X_test.astype(np.float32)\n",
    "Y_test = Y_test.astype(np.bool)"
   ]
  },
  {
   "cell_type": "code",
   "execution_count": 7,
   "metadata": {
    "collapsed": true
   },
   "outputs": [],
   "source": [
    "training_iters = 32\n",
    "epochs = 100\n",
    "dropout = 0.75\n",
    "display_step = 5"
   ]
  },
  {
   "cell_type": "code",
   "execution_count": 8,
   "metadata": {
    "collapsed": true
   },
   "outputs": [],
   "source": [
    "data_provider = image_util.SimpleDataProvider(X_data, Y_data, channels=3, n_class=2)\n"
   ]
  },
  {
   "cell_type": "code",
   "execution_count": 9,
   "metadata": {},
   "outputs": [
    {
     "name": "stdout",
     "output_type": "stream",
     "text": [
      "3\n",
      "2\n"
     ]
    }
   ],
   "source": [
    "print(data_provider.channels)\n",
    "print(data_provider.n_class)"
   ]
  },
  {
   "cell_type": "code",
   "execution_count": 10,
   "metadata": {},
   "outputs": [
    {
     "name": "stderr",
     "output_type": "stream",
     "text": [
      "2017-11-09 12:36:53,643 Layers 3, features 64, filter size 3x3, pool size: 2x2\n"
     ]
    }
   ],
   "source": [
    "net = unet.Unet(channels=data_provider.channels, n_class=data_provider.n_class, layers=3, features_root=64)\n",
    "trainer = unet.Trainer(net, optimizer=\"adam\")"
   ]
  },
  {
   "cell_type": "code",
   "execution_count": 11,
   "metadata": {
    "collapsed": true
   },
   "outputs": [],
   "source": [
    "#path = trainer.train(data_provider, \"./out\", training_iters=training_iters, epochs=epochs, dropout=dropout, display_step=display_step)"
   ]
  },
  {
   "cell_type": "code",
   "execution_count": 12,
   "metadata": {
    "collapsed": true
   },
   "outputs": [],
   "source": [
    "####################\n",
    "# Testing result   #\n",
    "####################"
   ]
  },
  {
   "cell_type": "code",
   "execution_count": 13,
   "metadata": {
    "collapsed": true
   },
   "outputs": [],
   "source": [
    "test_generator =image_util.SimpleDataProvider(X_test, Y_test, channels=3, n_class=2)\n"
   ]
  },
  {
   "cell_type": "code",
   "execution_count": 14,
   "metadata": {
    "collapsed": true
   },
   "outputs": [],
   "source": [
    "X_test, Y_test = test_generator(1)\n"
   ]
  },
  {
   "cell_type": "code",
   "execution_count": 15,
   "metadata": {},
   "outputs": [
    {
     "name": "stdout",
     "output_type": "stream",
     "text": [
      "INFO:tensorflow:Restoring parameters from ./out20/model.cpkt\n"
     ]
    },
    {
     "name": "stderr",
     "output_type": "stream",
     "text": [
      "2017-11-09 12:37:07,091 Restoring parameters from ./out20/model.cpkt\n",
      "2017-11-09 12:37:07,232 Model restored from file: ./out20/model.cpkt\n"
     ]
    }
   ],
   "source": [
    "prediction = net.predict(\"./out20/model.cpkt\", X_test)\n"
   ]
  },
  {
   "cell_type": "code",
   "execution_count": 16,
   "metadata": {},
   "outputs": [
    {
     "data": {
      "image/png": "[encoded data removed]",
      "text/plain": [
       "<matplotlib.figure.Figure at 0x11e265358>"
      ]
     },
     "metadata": {},
     "output_type": "display_data"
    }
   ],
   "source": [
    "fig, ax = plt.subplots(1, 3, sharex=True, sharey=True, figsize=(12,5))\n",
    "ax[0].imshow(X_test[0,...,0], aspect=\"auto\")\n",
    "ax[1].imshow(Y_test[0,...,1], aspect=\"auto\")\n",
    "mask = prediction[0,...,1] > 0.9\n",
    "ax[2].imshow(mask, aspect=\"auto\")\n",
    "ax[0].set_title(\"Input\")\n",
    "ax[1].set_title(\"Ground truth\")\n",
    "ax[2].set_title(\"Prediction\")\n",
    "fig.tight_layout()\n",
    "\n",
    "plt.show()"
   ]
  },
  {
   "cell_type": "code",
   "execution_count": 17,
   "metadata": {},
   "outputs": [
    {
     "name": "stdout",
     "output_type": "stream",
     "text": [
      "PREDICTION (1, 508, 280, 2)\n"
     ]
    }
   ],
   "source": [
    "print(\"PREDICTION\",prediction.shape)\n"
   ]
  },
  {
   "cell_type": "code",
   "execution_count": 18,
   "metadata": {},
   "outputs": [
    {
     "name": "stdout",
     "output_type": "stream",
     "text": [
      "Testing error rate: 0.97%\n"
     ]
    }
   ],
   "source": [
    "print(\"Testing error rate: {:.2f}%\".format(unet.error_rate(prediction, util.crop_to_shape(Y_test, prediction.shape))))\n"
   ]
  },
  {
   "cell_type": "code",
   "execution_count": 19,
   "metadata": {
    "collapsed": true
   },
   "outputs": [],
   "source": [
    "img = util.combine_img_prediction(X_test,Y_test,prediction)\n",
    "util.save_image(img, \"/Users/cesare.chung/int/mura_problem_Testing.png\")"
   ]
  },
  {
   "cell_type": "code",
   "execution_count": null,
   "metadata": {
    "collapsed": true
   },
   "outputs": [],
   "source": []
  },
  {
   "cell_type": "code",
   "execution_count": 20,
   "metadata": {
    "collapsed": true
   },
   "outputs": [],
   "source": [
    "####################\n",
    "# Training result  #\n",
    "####################"
   ]
  },
  {
   "cell_type": "code",
   "execution_count": 21,
   "metadata": {},
   "outputs": [
    {
     "name": "stdout",
     "output_type": "stream",
     "text": [
      "INFO:tensorflow:Restoring parameters from ./out20/model.cpkt\n"
     ]
    },
    {
     "name": "stderr",
     "output_type": "stream",
     "text": [
      "2017-11-09 12:37:46,385 Restoring parameters from ./out20/model.cpkt\n",
      "2017-11-09 12:37:46,544 Model restored from file: ./out20/model.cpkt\n"
     ]
    }
   ],
   "source": [
    "X_test, Y_test = data_provider(1)\n",
    "\n",
    "prediction = net.predict(\"./out20/model.cpkt\", X_test)"
   ]
  },
  {
   "cell_type": "code",
   "execution_count": 22,
   "metadata": {},
   "outputs": [
    {
     "name": "stdout",
     "output_type": "stream",
     "text": [
      "Training error rate: 0.56%\n"
     ]
    }
   ],
   "source": [
    "print(\"Training error rate: {:.2f}%\".format(unet.error_rate(prediction, util.crop_to_shape(Y_test, prediction.shape))))\n"
   ]
  },
  {
   "cell_type": "code",
   "execution_count": 23,
   "metadata": {
    "collapsed": true
   },
   "outputs": [],
   "source": [
    "img = util.combine_img_prediction(X_test,Y_test,prediction)\n",
    "util.save_image(img, \"/Users/cesare.chung/int/mura_problem_Training.png\")"
   ]
  },
  {
   "cell_type": "code",
   "execution_count": 24,
   "metadata": {},
   "outputs": [
    {
     "data": {
      "image/png": "[encoded data removed]",
      "text/plain": [
       "<matplotlib.figure.Figure at 0x118dca860>"
      ]
     },
     "metadata": {},
     "output_type": "display_data"
    }
   ],
   "source": [
    "fig, ax = plt.subplots(1, 3, sharex=True, sharey=True, figsize=(12,5))\n",
    "ax[0].imshow(X_test[0,...,0], aspect=\"auto\")\n",
    "ax[1].imshow(Y_test[0,...,1], aspect=\"auto\")\n",
    "mask = prediction[0,...,1] > 0.9\n",
    "ax[2].imshow(mask, aspect=\"auto\")\n",
    "ax[0].set_title(\"Input\")\n",
    "ax[1].set_title(\"Ground truth\")\n",
    "ax[2].set_title(\"Prediction\")\n",
    "fig.tight_layout()\n",
    "\n",
    "plt.show()"
   ]
  },
  {
   "cell_type": "code",
   "execution_count": null,
   "metadata": {
    "collapsed": true
   },
   "outputs": [],
   "source": []
  }
 ],
 "metadata": {
  "kernelspec": {
   "display_name": "Python 3",
   "language": "python",
   "name": "python3"
  },
  "language_info": {
   "codemirror_mode": {
    "name": "ipython",
    "version": 3
   },
   "file_extension": ".py",
   "mimetype": "text/x-python",
   "name": "python",
   "nbconvert_exporter": "python",
   "pygments_lexer": "ipython3",
   "version": "3.5.3"
  }
 },
 "nbformat": 4,
 "nbformat_minor": 2
}
